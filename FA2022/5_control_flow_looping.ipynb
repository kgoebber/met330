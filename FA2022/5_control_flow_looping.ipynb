{
 "cells": [
  {
   "cell_type": "markdown",
   "id": "059f704a-f570-4f05-a16f-d3bad9308c7f",
   "metadata": {
    "editable": true,
    "slideshow": {
     "slide_type": ""
    },
    "tags": []
   },
   "source": [
    "# Control Flow - Looping\n",
    "There are many times when you'll want to do a repetative task (e.g., perform a calculation 100 or 1000 times) and using programming is a way to make that task more effecient. Iteration is a key component to any programming language due to the need to process data in a time effecient manner and Python offeres two different methods for looping (iterating) over a series of values: `for` loops and `while` loops.\n",
    "\n",
    "REF: DeCaria Section 5.3 and 5.4\n"
   ]
  },
  {
   "cell_type": "markdown",
   "id": "f4eec1b9-f71b-4a01-97dc-91e486abae17",
   "metadata": {},
   "source": [
    "## for loops\n",
    "\n",
    "In Python, the `for` loop is the most extensible method for iterating over an object. You are not relegated to just looping over a series of integer values, but can loop over a mixed list or other iterable object (e.g., dictionary keys). The construct of a `for` loop is:\n",
    "\n",
    "```python\n",
    "for var in iter_obj:\n",
    "    [code block]\n",
    "```\n",
    "\n",
    "Again, the syntatical structure of Python using the color at the end of the `for` loop line and everything that you want done with each cycle of the loop needs to be indented. \n",
    "\n",
    "Common Iterable Objects:\n",
    "* `range()` function\n",
    "* List\n",
    "* Tuple\n",
    "* Dictionary Keys\n",
    "\n",
    "So how does the loop work?\n",
    "\n",
    "For each element in the iterable object (e.g., `[0, 1, 2, 3, 4]`) the variable `var`, which is defined as the looping variable, assumes the values in sequence. So initially, `var` will have the value of `0`, it holds that while working through all of the code within the loop, then once you hit the end of the loop you go back to the beginning and `var` takes on the next value. This continues until all values in the iterable object are exhausted.\n",
    "\n",
    "Let's explore an example to see how it works...\n",
    "\n",
    "```python\n",
    "for var in [0, 1, 2, 3, 4]:\n",
    "    print(var)\n",
    "    if var < 1:\n",
    "        print(f'{var} is less than 1')\n",
    "    else:\n",
    "        print(f'{var} is greater than or equal to 1')\n",
    "print('Out of loop')\n",
    "```\n",
    "Output:\n",
    "```Linux\n",
    "0\n",
    "0 is less than 1\n",
    "1\n",
    "1 is greater than or equal to 1\n",
    "2\n",
    "2 is greater than or equal to 1\n",
    "3\n",
    "3 is greater than or equal to 1\n",
    "4\n",
    "4 is greater than or equal to 1\n",
    "Out of loop\n",
    "```"
   ]
  },
  {
   "cell_type": "markdown",
   "id": "723412ec-129a-43e4-8a94-970f8a59d252",
   "metadata": {},
   "source": [
    "### Exercise 1\n",
    "\n",
    "Create a loop that iterates over the following list\n",
    "\n",
    "`['Jan', 'Feb', 'Mar', 'Apr', 'May', 'Jun', 'Jul', 'Aug', 'Sep', 'Oct', 'Nov', 'Dec']`\n",
    "\n",
    "and print out the month to standard output."
   ]
  },
  {
   "cell_type": "code",
   "execution_count": null,
   "id": "9485877b-d347-4980-986e-107bf3a1e507",
   "metadata": {},
   "outputs": [],
   "source": [
    "# Simple For Loop Example\n"
   ]
  },
  {
   "cell_type": "markdown",
   "id": "00eba366-9e64-4361-841f-000c8fa93b53",
   "metadata": {},
   "source": [
    "### `range()` function\n",
    "A common loop technique is to use the built-in `range()` function to create a simple list of integers to loop over. This is especially useful when you are looking to pull elements out of an array. The `range()` function is an iterable object in Python 3, which acts like a list, but is not in fact a list object.\n",
    "\n",
    "`range(10)` creates an iterable object that would have the same values as the list `[0, 1, 2, 3, 4, 5, 6, 7, 8, 9]`\n",
    "\n",
    "The structure of the range function is as follows:\n",
    "`range(start, stop, step)`\n",
    "only the stop value is needed with an assumed start value of 0 and an assumed step value of 1. Note that the common Python behavior of being inclusive of the start value and exclusive of the stop value.\n",
    "\n",
    "For more information: https://realpython.com/python-range/"
   ]
  },
  {
   "cell_type": "code",
   "execution_count": null,
   "id": "8c30e308-4335-476e-adfd-bdeb20799417",
   "metadata": {},
   "outputs": [],
   "source": [
    "# Loop over 100 values and print the loop value out\n"
   ]
  },
  {
   "cell_type": "markdown",
   "id": "d1558205-7f72-4806-942a-0cf2242268c3",
   "metadata": {},
   "source": [
    "### Enumerate with a Loop\n",
    "\n",
    "Python has a built-in function called `enumerate` that will create a tuple object that contains two elements: a number (starting with zero) and the current iterable object value. This is especially useful when iterating over some list of values organized in a manner that would allow the number to represent an address for another list. We can unpack the tuple into its two pieces by putting two variable names (separated by a comma) after the `for` statement.\n",
    "\n",
    "```python\n",
    "for i, val in enumerate(['Bob', 'Sue', 'Jack', 'Diane', 'Michael', 'Mary']):\n",
    "    print(f'list value {i}')\n",
    "    print(val)\n",
    "```\n",
    "Output:\n",
    "```\n",
    "list value 0\n",
    "Bob\n",
    "list value 1\n",
    "Sue\n",
    "list value 2\n",
    "Jack\n",
    "list value 3\n",
    "Diane\n",
    "list value 4\n",
    "Michael\n",
    "list value 5\n",
    "Mary\n",
    "```\n",
    "\n",
    "For more information: https://realpython.com/python-enumerate/"
   ]
  },
  {
   "cell_type": "code",
   "execution_count": null,
   "id": "fc88bc4a-be60-4ce5-bc65-7b21a262f2f0",
   "metadata": {},
   "outputs": [],
   "source": [
    "for i, val in enumerate(['Bob', 'Sue', 'Jack', 'Diane', 'Michael', 'Mary']):\n",
    "    print(f'list value {i}')\n",
    "    print(val)"
   ]
  },
  {
   "cell_type": "code",
   "execution_count": null,
   "id": "a16d927a-ff67-4011-a485-b8b9740576ad",
   "metadata": {},
   "outputs": [],
   "source": []
  },
  {
   "cell_type": "markdown",
   "id": "8b9edc64-ee24-4bf2-b0b3-97dadeaade3e",
   "metadata": {},
   "source": [
    "### zip function\n",
    "\n",
    "If there are two (or more) iterable objects that you want to loop over, you can combine them using the `zip()` function. This function will create a tuple object that links the values in order for each object.\n",
    "\n",
    "```python\n",
    "firstnames = ['Kevin', 'Caleb']\n",
    "lastnames = ['Goebbert', 'Yurk']\n",
    "for first, last in zip(firstnames, lastnames):\n",
    "    print(first+' '+last)\n",
    "```\n",
    "Output:\n",
    "```\n",
    "Kevin Goebbert\n",
    "Caleb Yurk\n",
    "```\n",
    "\n",
    "For more information: https://realpython.com/python-zip-function/"
   ]
  },
  {
   "cell_type": "markdown",
   "id": "82c5c0aa-d1a5-429f-8cbd-4445d98b3801",
   "metadata": {},
   "source": [
    "## Nested Looping\n",
    "Just like we can have if-statements within if-statements, there may be a need to have a series of nested loops to work through your data. Starting at the outer loop, `var1` takes on the first value of the outer iterable object, then moving into the loop will execute any code contained in there. When the program hits the second loop, it will work through the entire second loop before continuing on and iterating on the outer loop. So in the end, the inner loop will be run as many times as there are iterations of the outer loop.\n",
    "\n",
    "```python\n",
    "for var1 in iter_obj1:\n",
    "    [code block1]\n",
    "    for var2 in iter_obj2:\n",
    "        [code block2]\n",
    "```"
   ]
  },
  {
   "cell_type": "code",
   "execution_count": null,
   "id": "7eb8caf6-f1d5-4e2f-8917-04bd5a4e89fa",
   "metadata": {},
   "outputs": [],
   "source": [
    "for i in range(5):\n",
    "    print(i)\n",
    "    print()\n",
    "    for letter in 'Valpo':\n",
    "        print(letter)\n",
    "    print()"
   ]
  },
  {
   "cell_type": "markdown",
   "id": "bc69cee7-1a7c-4503-a048-b1ecf43db751",
   "metadata": {},
   "source": [
    "## While Loops\n",
    "The while loop is a method for doing looping based on a condition that is evaluated as True or False to determine whether or not to keep looping. The loop is activiated as long as the condition remains True. This can be powerful if you need to do a loop through an indefinite number of times based on the value of something being computed within the loop.\n",
    "\n",
    "Here is a simple example of using a logical condition to loop over six values. Note that you need to have the iterable variable change within the loop. If you fail to do this, such that the condition in the while loop can never be False, then you have created an inifite loop that will never end.\n",
    "\n",
    "```python\n",
    "i = 0\n",
    "while i <= 5:\n",
    "    print(i)\n",
    "    i += 1\n",
    "```\n",
    "Output:\n",
    "```\n",
    "0\n",
    "1\n",
    "2\n",
    "3\n",
    "4\n",
    "5\n",
    "```"
   ]
  },
  {
   "cell_type": "code",
   "execution_count": null,
   "id": "97449db1-af65-494c-8553-5cb3a1ffd38e",
   "metadata": {},
   "outputs": [],
   "source": []
  }
 ],
 "metadata": {
  "kernelspec": {
   "display_name": "Python 3 (ipykernel)",
   "language": "python",
   "name": "python3"
  },
  "language_info": {
   "codemirror_mode": {
    "name": "ipython",
    "version": 3
   },
   "file_extension": ".py",
   "mimetype": "text/x-python",
   "name": "python",
   "nbconvert_exporter": "python",
   "pygments_lexer": "ipython3",
   "version": "3.10.11"
  }
 },
 "nbformat": 4,
 "nbformat_minor": 5
}
