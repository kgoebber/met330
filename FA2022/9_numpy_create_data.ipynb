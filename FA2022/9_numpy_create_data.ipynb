{
 "cells": [
  {
   "cell_type": "markdown",
   "id": "4abf58a4-5609-4b8a-9751-0ab68c407119",
   "metadata": {},
   "source": [
    "# Creating Arrays with Numpy\n",
    "There are many times when you might need to create some data to aid some analysis or do some idealized calculations. We'll cover a few of the most relevant array creation methods and a few more mathematical functions."
   ]
  },
  {
   "cell_type": "code",
   "execution_count": null,
   "id": "88eeed09-b5e7-4e56-8dac-ba677d451701",
   "metadata": {},
   "outputs": [],
   "source": [
    "import numpy as np"
   ]
  },
  {
   "cell_type": "markdown",
   "id": "b6fd0155-36d7-460f-8f8e-f980b5aa4434",
   "metadata": {},
   "source": [
    "## 1D Arrays\n",
    "There are two useful methods for creating 1D arrays that can be filled with sequential numbers.\n",
    "* `np.arange`\n",
    "   - This function is similar to the native Python `range()` function in that it creates a sequential set of values from the starting value to one less than the stopping value, by the step amount. The difference is that we get a Numpy array back instead of just an iterable object. Additionally, this function can give either integers or floating values in return. To get floating values, simply make at least one of the values (e.g., start, stop, step) as a floating point number.\n",
    "\n",
    "```python\n",
    "a = np.arange(1, 11, 1)\n",
    "print(a)\n",
    "```\n",
    "Output:\n",
    "```\n",
    "[1 2 3 4 5 6 7 8 9 10]\n",
    "```\n",
    "\n",
    "* `np.linspace`\n",
    "   - This function creates a sequential set of numbers, but instead of specifying a step value, you can specify how many points you want between the starting and ending points, inclusive of the end point values. Note: Here we are inclusive of the starting and ending points.\n",
    "   \n",
    "```python\n",
    "b = np.linspace(-5, 5, 10)\n",
    "print(b)\n",
    "```\n",
    "Output:\n",
    "```\n",
    "[-5.         -3.88888889 -2.77777778 -1.66666667 -0.55555556  0.55555556\n",
    "  1.66666667  2.77777778  3.88888889  5.        ]\n",
    "```"
   ]
  },
  {
   "cell_type": "code",
   "execution_count": null,
   "id": "1074a1b5-9e47-4ca6-90eb-00a67782cc8c",
   "metadata": {},
   "outputs": [],
   "source": [
    "# arange function\n"
   ]
  },
  {
   "cell_type": "code",
   "execution_count": null,
   "id": "5a8ae516-40b0-4925-b170-61b249bd3d91",
   "metadata": {},
   "outputs": [],
   "source": [
    "# linspace function\n"
   ]
  },
  {
   "cell_type": "markdown",
   "id": "46e97497-a117-4226-8c8f-8c6591903c87",
   "metadata": {},
   "source": [
    "## Uniform Arrays (multidimensional)\n",
    "* `np.zeros` and `np.zeros_like`\n",
    "   - This function will create an array filled with zeros given a certain shape (e.g., (3, 2)). Can set the dtype to be float64 or int64. The `zeros_like` function takes as input another array and will use its shape to create a new array that is the same shape, but filled with zeros.\n",
    "* `np.ones` and `np.ones_like`\n",
    "   - The same as the `zeros` and `zeros_like` function except that the array is filled with ones.\n",
    "   \n",
    "These types of array creation can be useful for performing calculations, or to fill in as you process some data.\n",
    "\n",
    "To assign new values to a part of an array, you only need to use the index address to set the value. For example,\n",
    "```python\n",
    "new_array = np.zeros((3, 4))\n",
    "\n",
    "# Assign a single value\n",
    "new_array[2, 3] = 5\n",
    "print(new_array)\n",
    "print()\n",
    "\n",
    "# Assign a value to a column\n",
    "new_array[:, 2] = 42\n",
    "print(new_array)\n",
    "```\n",
    "Output:\n",
    "```\n",
    "[[0. 0. 0. 0.]\n",
    " [0. 0. 0. 0.]\n",
    " [0. 0. 0. 5.]]\n",
    "\n",
    "[[ 0.  0. 42.  0.]\n",
    " [ 0.  0. 42.  0.]\n",
    " [ 0.  0. 42.  5.]]\n",
    "```"
   ]
  },
  {
   "cell_type": "code",
   "execution_count": null,
   "id": "815820d0-a456-42bf-b26e-0e68634327ef",
   "metadata": {},
   "outputs": [],
   "source": []
  },
  {
   "cell_type": "markdown",
   "id": "19d514d3-f0a7-4661-a632-e000ee5d413d",
   "metadata": {},
   "source": [
    "## Merging Two 1D Arrays into 2D Arrays\n",
    "* `np.meshgrid`\n",
    "   - Sometimes you have two 1D arrays that represent some coordinate values, such as latitude and longitude points, that we want to make into a 2D grid for analysis or plotting purposes. The `meshgrid` function takes two 1D arrays and generates two 2D arrays.\n",
    "\n",
    "```python\n",
    "x = np.arange(-5, 5)\n",
    "y = np.arange(0, 8)\n",
    "xx, yy = np.meshgrid(x, y)\n",
    "print(xx)\n",
    "print()\n",
    "print(yy)\n",
    "```\n",
    "Output:\n",
    "```\n",
    "[[-5 -4 -3 -2 -1  0  1  2  3  4]\n",
    " [-5 -4 -3 -2 -1  0  1  2  3  4]\n",
    " [-5 -4 -3 -2 -1  0  1  2  3  4]\n",
    " [-5 -4 -3 -2 -1  0  1  2  3  4]\n",
    " [-5 -4 -3 -2 -1  0  1  2  3  4]\n",
    " [-5 -4 -3 -2 -1  0  1  2  3  4]\n",
    " [-5 -4 -3 -2 -1  0  1  2  3  4]\n",
    " [-5 -4 -3 -2 -1  0  1  2  3  4]]\n",
    " \n",
    " [[0 0 0 0 0 0 0 0 0 0]\n",
    " [1 1 1 1 1 1 1 1 1 1]\n",
    " [2 2 2 2 2 2 2 2 2 2]\n",
    " [3 3 3 3 3 3 3 3 3 3]\n",
    " [4 4 4 4 4 4 4 4 4 4]\n",
    " [5 5 5 5 5 5 5 5 5 5]\n",
    " [6 6 6 6 6 6 6 6 6 6]\n",
    " [7 7 7 7 7 7 7 7 7 7]]\n",
    "```\n",
    "\n",
    "You can think of the x-values as longitudes, staying the same within a single column and the y-values as latitudes where they stay the same across a row."
   ]
  },
  {
   "cell_type": "code",
   "execution_count": null,
   "id": "873a3fff-95fd-479e-bb85-abbf2a15deb6",
   "metadata": {},
   "outputs": [],
   "source": [
    "# Lon/Lat Example\n"
   ]
  },
  {
   "cell_type": "markdown",
   "id": "70ca82df-3b2e-408d-a4cd-392aa0810b16",
   "metadata": {},
   "source": [
    "## Random Number Arrays\n",
    "There are any number of times when you might want/need to generate random values for choosing a sample of your data, or generating some synthetic data with the bounds of some fixed values. Other times you might want to have random values that you'll be able to compare to another set of data to determine if the populations are statistically different.\n",
    "\n",
    "* `np.random.randint`\n",
    "   - This function generates random integers over a low (inclusive) to high (exclusive) value. If only one value is given, then it will act as a high value and use a defualt low value of zero.\n",
    "* `np.random.rand`\n",
    "   - This function will take a shape as input and output an array of random value in the range of `[0, 1)` in the shape that was specified.\n",
    "* `np.random.randn`\n",
    "   - This function will take a shape as input and output an array of values from the standard normal distribution in the shape that was specified.\n",
    "* `np.random.random_sample`\n",
    "   - This function will take a size value (e.g., 5) or shape and output a float array of the specified size in the open range of `[0, 1)`.\n",
    "\n",
    "```python\n",
    "# Random Sample for generating values over a specified range\n",
    "north_lat = 50.0\n",
    "south_lat = 22.5\n",
    "random_lats = (north_lat - south_lat) * np.random.random_sample(5) + south_lat\n",
    "print(random_lats)\n",
    "```\n",
    "Output:\n",
    "```\n",
    "[31.04480726 40.90859657 35.90784107 31.7846562  42.29942737]\n",
    "```\n",
    "\n",
    "* `np.random.normal`\n",
    "   - This function will take a mean, standard deviation, and size/shape parameter to output a random sample from a Gaussian distribution based on the input mean and standard deviation for the size of the array given."
   ]
  },
  {
   "cell_type": "code",
   "execution_count": null,
   "id": "3becf928-1f79-471d-bc3f-5e9a29427390",
   "metadata": {},
   "outputs": [],
   "source": [
    "# Random Ints for subset lat array for five values\n"
   ]
  },
  {
   "cell_type": "code",
   "execution_count": null,
   "id": "09467f78-295b-4c0d-ab1e-a0c25133c5e8",
   "metadata": {},
   "outputs": [],
   "source": [
    "# Generate a Random Sample of 10 temperatures within the range of -10 to 90\n"
   ]
  },
  {
   "cell_type": "markdown",
   "id": "d1eb98c9-d18e-4344-870d-1a8dcd9ae5b2",
   "metadata": {},
   "source": [
    "## Other Numpy Functions\n",
    "There are many other mathematical functions that are available in Numpy and its closely related cousin, SciPy.  That work well for vectorized computation.\n",
    "\n",
    "Numpy Mathematical Functions: https://numpy.org/doc/stable/reference/routines.math.html\n",
    "\n",
    "Scipy Documentation: https://docs.scipy.org/doc/scipy-1.7.0/reference/\n",
    "\n",
    "Some common mathematical functions\n",
    "* `np.exp`\n",
    "* `np.sin`\n",
    "* `np.cos`\n",
    "* `np.tan`\n",
    "* `np.deg2rad`\n",
    "* `np.rad2deg`\n",
    "\n",
    "Some common constant values (https://numpy.org/doc/stable/reference/constants.html)\n",
    "* `np.pi`\n",
    "* `np.e`\n"
   ]
  },
  {
   "cell_type": "code",
   "execution_count": null,
   "id": "7a824b6f-528f-4e4a-a92c-c3a7711b4a47",
   "metadata": {},
   "outputs": [],
   "source": []
  },
  {
   "cell_type": "markdown",
   "id": "fb9c66f8-27aa-412b-81e9-a34e5e6e4e0e",
   "metadata": {},
   "source": [
    "## Exercise 1\n",
    "Create an array of equaly spaced points of degree values from zero to 360 with a total of 100 points. Convert the degree values to radian values and store in their own variable namespace. Use the computed radian values to then calculate the values of sine and cosine and store in separate variables. Print the original degree array, the computed radian array and the sine and cosine arrays to the screen."
   ]
  },
  {
   "cell_type": "code",
   "execution_count": null,
   "id": "d115d551-f9a4-4296-90cb-26484e797bc7",
   "metadata": {},
   "outputs": [],
   "source": []
  }
 ],
 "metadata": {
  "kernelspec": {
   "display_name": "Python 3 (ipykernel)",
   "language": "python",
   "name": "python3"
  },
  "language_info": {
   "codemirror_mode": {
    "name": "ipython",
    "version": 3
   },
   "file_extension": ".py",
   "mimetype": "text/x-python",
   "name": "python",
   "nbconvert_exporter": "python",
   "pygments_lexer": "ipython3",
   "version": "3.8.6"
  }
 },
 "nbformat": 4,
 "nbformat_minor": 5
}
