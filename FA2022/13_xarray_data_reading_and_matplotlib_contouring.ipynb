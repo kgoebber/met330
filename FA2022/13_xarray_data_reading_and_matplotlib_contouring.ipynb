{
 "cells": [
  {
   "cell_type": "code",
   "execution_count": null,
   "id": "06800fbb-d0d2-4d0d-8fac-20de6fb07545",
   "metadata": {},
   "outputs": [],
   "source": [
    "import matplotlib.pyplot as plt\n",
    "import numpy as np\n",
    "import xarray as xr"
   ]
  },
  {
   "cell_type": "markdown",
   "id": "f3c800d9-43c2-47d5-ab68-dddf6970b769",
   "metadata": {},
   "source": [
    "# Reading and Contouring Gridded Data\n",
    "One of the most common file types for gridded data in the Earth System Science domain is netCDF or network common data format. This is a binary style file that can't be read by just \"opening\" the file with word or excel. In order to read these files, which contain not only the data values, but additional data describing coordinate variables (like latitude and longitude) and other metadata (e.g., information about the data) like units of data variables and coordinate reference system information.\n",
    "\n",
    "There are a number of different Python modules that can read in netCDF files, but there is one that rises to the top for its ability to read and utilize the coordinate and attribute information to help us do our work. This module is called Xarray and is one of the most useful modules to learn if you are going to work in Python with multi-dimensional gridded datasets.\n",
    "\n",
    "Xarray Documentation: http://xarray.pydata.org/en/stable/\n",
    "\n",
    "Additionally, when plotting two dimensional data (e.g., those data files that have latitude and longitude coordinates associaed with them) we want to be able to produce contour plots that can give an indication of how those variables change over the domain space. Matplotlib has additional plotting functionality to that which we have previously discussed to be able to do contour and contour-filled plots.\n",
    "\n",
    "Matplotlib Contour Plots: https://matplotlib.org/stable/api/_as_gen/matplotlib.pyplot.contour.html\n",
    "\n",
    "In this notebook, we'll:\n",
    "* work to read in some topographic data using Xarray\n",
    "* learn how to find out more about our data\n",
    "* work to subset our data in meaningful ways\n",
    "* learn to plot contours of a 2D field"
   ]
  },
  {
   "cell_type": "markdown",
   "id": "45eecfbe-909b-4ec0-82fa-cc48d4fe4a63",
   "metadata": {},
   "source": [
    "## Xarray\n",
    "\n",
    "There is a Python module designed to work with multi-dimensional datasets, like model output, that captures not only the data arrays, but the associated data with it. For example, if we have temperature data from across the globe and for a number of forecast hours, we'll need a couple of arrays to help understand the coordinate variables (e.g., time, latitude, longitude). Xarray describes this set of arrays and coordinate variable arrays as a \"dataset\", where each variable is considered a \"dataarray\".\n",
    "\n",
    "**Dataset**\n",
    "\n",
    "Contains:\n",
    "- data variable arrays\n",
    "- coordinate variable arrays\n",
    "- attributes (other metadata)\n",
    "\n",
    "**DataArray**\n",
    "\n",
    "A variable with associated coordinate information (lat, lon)\n",
    "\n",
    "Temperature[times, lat, lon]\n",
    "> times for this variable\n",
    "\n",
    "> latitude for this variable\n",
    "\n",
    "> longitude for this variable\n",
    "\n",
    "http://xarray.pydata.org/en/stable/\n",
    "\n",
    "This module is built on top of Numpy, so underlying the data variable arrays and the coordinate variable arrays are Numpy arrays that can be subset in the same way as traditional Numpy arrays. Additionally, many of the same methods that you could perform on a Numpy Array you can perform on an Xarray DataArray. Xarray has also built additional methods for making subsetting and working with your data much more intuitive and user friendly (once you get to know how to use it)."
   ]
  },
  {
   "cell_type": "markdown",
   "id": "df02f01e-0567-48f7-98a0-415f5204ceec",
   "metadata": {},
   "source": [
    "## Reading Data\n",
    "\n",
    "There are a couple of different I/O functions available in Xarray, but the most commonly used and needed one for working with netCDF data is the `open_dataset` function. In general, properly formatted netCDF files will only require the name (and path) to the file you want to read. A typical read function should be formatted as:\n",
    "\n",
    "```python\n",
    "ds = xr.open_dataset('my_data_file.nc')\n",
    "```\n",
    "\n",
    "Where `my_data_file.nc` is a netCDF filename that is located in your current working directly. This works similar to the path/filename that you would use for `np.loadtxt`, which was covered in previous notebooks. Let's open the following file: /archive/courses/met290/ETOPO1_gdal.nc"
   ]
  },
  {
   "cell_type": "code",
   "execution_count": null,
   "id": "1f77af02-a8f9-410a-831a-026c8ac07b0e",
   "metadata": {},
   "outputs": [],
   "source": [
    "# Open our datafile\n"
   ]
  },
  {
   "cell_type": "markdown",
   "id": "4e3ba0cb-7f13-4d14-862b-26a2803fce7c",
   "metadata": {},
   "source": [
    "### What is in our Data Object?\n",
    "\n",
    "Reading our data in using Xarray gives us a new data object called the Xarray Dataset, which contains at least one Xarray DataArray. To get a glimpse of this data we can either print the variable or just type it into a cell and run that cell. The benefit of not using the print function here is that the Jupyter Notebook environment will give us a nicely formatted header information output that is easy to read. "
   ]
  },
  {
   "cell_type": "code",
   "execution_count": null,
   "id": "39e2d942-0050-4121-bc42-43723bb4c806",
   "metadata": {},
   "outputs": [],
   "source": []
  },
  {
   "cell_type": "markdown",
   "id": "e6c49542-a50e-452f-9eb4-8c7c0378181e",
   "metadata": {},
   "source": [
    "From this view of the data we get the information about our data variables that are contained within our dataset, the associated corrdinate variables and the dimensions (shape) of our dataset. Additionally, if there are any global attributes, they would also appear in this output."
   ]
  },
  {
   "cell_type": "markdown",
   "id": "ed45117b-28af-40f3-9ced-e29fef202f71",
   "metadata": {},
   "source": [
    "### Dataset Information\n",
    "How do we know/access the data contained in our Xarray data object?\n",
    "\n",
    "What Xarray gives us is a dictionary-like object that we can access the different pieces using dictionary-like calls, or through a method call (if the variable name is formatted in a manner that allows it). Let's first get a list of the data variable keys from our Dataset. The Python method call for a dictionary-like object to get the variable keys (the keys that are part of the key-value pairs in a dictionary) we would use the following:\n",
    "\n",
    "```python\n",
    "ds.keys()\n",
    "```\n",
    "\n",
    "To get a more succinct list of the keys we would want to use:\n",
    "\n",
    "```python\n",
    "list(ds.keys())\n",
    "```\n",
    "Of course, the `ds` variable would change to be whatever your Xarray Dataset variable you created when you read in your data."
   ]
  },
  {
   "cell_type": "code",
   "execution_count": null,
   "id": "22b52f98-f94a-4d5c-b90f-82b0506a5849",
   "metadata": {},
   "outputs": [],
   "source": []
  },
  {
   "cell_type": "markdown",
   "id": "64b9389f-ff07-4cae-82a5-4aa6ae9fe55f",
   "metadata": {},
   "source": [
    "So we have one data variable from our dataset called topography. We can access this variable through two different, but equivalent, methods:\n",
    "\n",
    "Dictionary-like call:\n",
    "```python\n",
    "ds['topography']\n",
    "```\n",
    "\n",
    "Xarray method call:\n",
    "```python\n",
    "ds.topography\n",
    "```"
   ]
  },
  {
   "cell_type": "code",
   "execution_count": null,
   "id": "f8abe725-3d71-4c30-944d-8a6567b2e03a",
   "metadata": {},
   "outputs": [],
   "source": []
  },
  {
   "cell_type": "markdown",
   "id": "09717e17-bf2c-4ca7-a1f9-4d6330b914ee",
   "metadata": {},
   "source": [
    "Let's work to save our variable off to its own object name"
   ]
  },
  {
   "cell_type": "code",
   "execution_count": null,
   "id": "69dc8d0a-c7a7-4ffd-9961-982c3544e400",
   "metadata": {},
   "outputs": [],
   "source": [
    "topo = \n",
    "print(type(topo))"
   ]
  },
  {
   "cell_type": "markdown",
   "id": "d81ce1a8-40ba-4b0d-9b9c-58aaae62abff",
   "metadata": {},
   "source": [
    "## Subset to particular area\n",
    "In our work with Numpy we were left to do all of the work ourselves for working to subset our data array by finding/using the proper index values to get back what we desire. Xarray has made this a much less painful process by giving us a selection method that works to subset by single values or a range of values to give use back just the data we need/want.\n",
    "\n",
    "The `.sel` method works on any Xarray DataArray variable and you may subset along any dimension variable that is associated with it. If we had a `temperature` variable with coordinate variables of `lat` and `lon`, we could subset the data for just the Continental United States (CONUS) by:\n",
    "```python\n",
    "ds.temperature.sel(lat=slice(20, 40), lon=slice(360-140, 360-55)\n",
    "```\n",
    "Note: The `slice()` function is the formal function for slicing. The following are equivalent `a[start:stop:step]` and `a[slice(start, stop, step)]`. The use of the `:` only works when making the direct slice on a Numpy array-like object.\n",
    "\n",
    "The above dataset assumed that the longitude values were in the format of 0 to 360, so I used a little math computation in the slice function to calculate what the appropriate value would be since I think more commonly in a degrees West mentality (e.g., negative longitude values over the CONUS).\n",
    "\n",
    "Let's slice out data to only use our topography data for the Big Island of Hawaii (18.5 to 20; -157 to -154E). One important note is that we have to know how our latitude and longitude coordinate variables are organized. Where do they start, are the longitude values from 0 to 360 or from -180 to 180, or some other range?\n",
    "\n",
    "Let's start by taking a look at those coordinate data variables to better understand them."
   ]
  },
  {
   "cell_type": "code",
   "execution_count": null,
   "id": "17e8884a-44e6-400a-8c56-6ea918805849",
   "metadata": {},
   "outputs": [],
   "source": []
  },
  {
   "cell_type": "code",
   "execution_count": null,
   "id": "24653a64-383e-4ff9-9eb1-4f08b8ca6c93",
   "metadata": {},
   "outputs": [],
   "source": []
  },
  {
   "cell_type": "markdown",
   "id": "7208c9f2-eabe-4bfa-88c5-774386050450",
   "metadata": {},
   "source": [
    "Now lets work to select only the subset of our topography data for the lat/lon ranges desired."
   ]
  },
  {
   "cell_type": "code",
   "execution_count": null,
   "id": "e078eea9-362b-464d-84fb-0079378cf7d4",
   "metadata": {},
   "outputs": [],
   "source": [
    "topo_hawaii = "
   ]
  },
  {
   "cell_type": "markdown",
   "id": "7a693efb-bb27-4bdb-93e3-2a8d383f4b7b",
   "metadata": {},
   "source": [
    "## Plotting Contours\n",
    "\n",
    "Since we have a two dimensional datasets, a commone way for visualizing the data is to plot contours of equal value. Since we have some topography data, we'll be able to plot the contours of the terrain height over the Big Island of Hawaii.\n",
    "\n",
    "```python\n",
    "ax.contour(x, y, Z, levels, colors='black')\n",
    "```\n",
    "\n",
    "There are typically a minimum of three data objects needed to contour your data correctly including the x-coordinate variable, the y-coordinate variable, and the contour variable (Z in the example above). There are a number of different keyword arguments that you can set to alter the contour plot:\n",
    "* `alpha`\n",
    "    - This attribute will make the contour lines more transparent the closer the alpha value is to zero (with 1 as completely opaque)\n",
    "* `linewidths`\n",
    "    - This attribute will set the linewidth value of the contour lines. Note this is similar to line plots, but is plural\n",
    "* `linestyles`\n",
    "    - This attribute will set the linestyle value of the contour lines. Note this is similar to line plots, but is plural\n",
    "* `colors`\n",
    "    - This attribute allows you to change the color of the contours\n",
    "\n",
    "Note: By default if a color is set, negative contours will use a dashed linestyle and the positive contours will use a solid linestyle."
   ]
  },
  {
   "cell_type": "code",
   "execution_count": null,
   "id": "fe29caca-23aa-4a38-8950-53a5143f72ea",
   "metadata": {},
   "outputs": [],
   "source": [
    "plt.figure(1, figsize=(15, 15))\n",
    "ax = plt.subplot(111)\n",
    "\n",
    "ax.contour()\n",
    "\n",
    "plt.show()"
   ]
  },
  {
   "cell_type": "markdown",
   "id": "20c87041-d1e6-400c-ad27-2b0664d31dcb",
   "metadata": {},
   "source": [
    "### Set Contour Levels and Label Contours\n",
    "We can set the contour values instead of having Matplotlib choose them for you by adding a list or array of contour values directly after the topographic values.\n",
    "\n",
    "To add contour labels, we first need to give our contours a variable name (e.g., `cs`) so that we can call that in the our `clabel` method for plotting.\n",
    "\n",
    "```python\n",
    "cs = ax.contour(x, y, Z, levels, colors='black')\n",
    "\n",
    "ax.clabel(cs, fmt='%d')\n",
    "```\n",
    "\n",
    "Additionally, we set the keyword `fmt` to `'%d'` to have our contour labels be integer values."
   ]
  },
  {
   "cell_type": "code",
   "execution_count": null,
   "id": "454a083e-e179-4d6b-a62d-1683cb97b15f",
   "metadata": {},
   "outputs": [],
   "source": [
    "plt.figure(1, figsize=(15, 15))\n",
    "ax = plt.subplot(111)\n",
    "\n",
    "cs = ax.contour(topo_hawaii.lon, topo_hawaii.lat, topo_hawaii,\n",
    "                np.arange(-4500, 4500, 500), colors=['black'],\n",
    "                linewidths=0.75)\n",
    "ax.clabel(cs, fmt='%d')\n",
    "\n",
    "plt.show()"
   ]
  },
  {
   "cell_type": "markdown",
   "id": "efd1f990-4726-4cbb-956a-9cbdfca5dce2",
   "metadata": {},
   "source": [
    "Use different colors (and colormaps) for different contours.\n",
    "\n",
    "* Use the `Blues` colormap for contours less than zero\n",
    "* Use black for the zero contour\n",
    "* Use the `copper_r` colormap for contours greater than or equal to 500\n",
    "\n",
    "Matplotlib Colormap Reference: https://matplotlib.org/stable/gallery/color/colormap_reference.html"
   ]
  },
  {
   "cell_type": "code",
   "execution_count": null,
   "id": "c5395883-b981-423d-bd8c-f134163f485a",
   "metadata": {},
   "outputs": [],
   "source": [
    "plt.figure(1, figsize=(15, 15))\n",
    "ax = plt.subplot(111)\n",
    "\n",
    "cs = ax.contour(topo_hawaii.lon, topo_hawaii.lat, topo_hawaii,\n",
    "                np.arange(-9000, 0, 500), cmap=plt.cm.Blues,\n",
    "                linewidths=0.75)\n",
    "plt.clabel(cs, fmt='%d')\n",
    "\n",
    "cs2 = ax.contour(topo_hawaii.lon, topo_hawaii.lat, topo_hawaii,\n",
    "                 0, colors='black',\n",
    "                 linewidths=1.25)\n",
    "plt.clabel(cs2, fmt='%d')\n",
    "\n",
    "cs3 = ax.contour(topo_hawaii.lon, topo_hawaii.lat, topo_hawaii,\n",
    "                 np.arange(500, 5000, 500), cmap=plt.cm.copper_r,\n",
    "                 linewidths=0.75)\n",
    "plt.clabel(cs3, fmt='%d')\n",
    "\n",
    "plt.show()"
   ]
  },
  {
   "cell_type": "markdown",
   "id": "20a32352-9597-4b2a-bba7-d69ffe3928f4",
   "metadata": {},
   "source": [
    "## Finding the Maximum Value\n",
    "\n",
    "An Xarray DataArray has a `where` method that works similar to the Numpy where function. The benefit of doing this through an Xarray DataArray is that you can get the coordinate values of the location of the maximum value right along with the actual maximum value of the data variable. Set the keyword `drop` to be `True` to get the desired result."
   ]
  },
  {
   "cell_type": "code",
   "execution_count": null,
   "id": "71dfb09e-e0ad-4a5c-a209-ccc84f08062a",
   "metadata": {},
   "outputs": [],
   "source": [
    "max_topo = "
   ]
  },
  {
   "cell_type": "code",
   "execution_count": null,
   "id": "b6c6569e-671b-4df9-99a2-3bc47bc745cf",
   "metadata": {},
   "outputs": [],
   "source": []
  },
  {
   "cell_type": "markdown",
   "id": "565cefed-4ce3-4d66-9248-15e4b0a75249",
   "metadata": {
    "tags": []
   },
   "source": [
    "## Plotting Max/Min Values - Scatter and Text Plotting\n",
    "\n",
    "To plot a marker at a given location we can use the `scatter` method:\n",
    "\n",
    "```python\n",
    "ax.scatter(x, y, s, marker='d')\n",
    "```\n",
    "Here x is the x-coordinate location, y is the y-coordinate location, s is the size of the marker, and the keyword marker can be set to any of the valid Matplotlib markers.\n",
    "\n",
    "Matplotlib Scatter Documentation: https://matplotlib.org/stable/api/_as_gen/matplotlib.pyplot.scatter.html\n",
    "\n",
    "Matplotlib Markers: https://matplotlib.org/stable/api/markers_api.html\n",
    "\n",
    "To plot text at a given location on the plot we can use the `text` method:\n",
    "\n",
    "```python\n",
    "ax.text(x, y, string)\n",
    "```\n",
    "Here x is the x-coordinate location, y is the y-coordinate location, and string is the text you wish to plot at the given point.\n",
    "\n",
    "Matplotlib Text Documentation: https://matplotlib.org/stable/api/_as_gen/matplotlib.pyplot.text.html\n",
    "\n",
    "Let's plot a black circle at the location of the maximum in topography and label it Mauna Loa (since that is the name of the Volcano that creates the highest point on the Big Island of Hawaii."
   ]
  },
  {
   "cell_type": "code",
   "execution_count": null,
   "id": "1252692a-c095-4a5c-a420-312c3a015538",
   "metadata": {},
   "outputs": [],
   "source": [
    "plt.figure(1, figsize=(15, 15))\n",
    "ax = plt.subplot(111)\n",
    "\n",
    "# Contours of Topography\n",
    "cs = ax.contour(topo_hawaii.lon, topo_hawaii.lat, topo_hawaii,\n",
    "                np.arange(-4500, 4500, 500), colors=['black'],\n",
    "                linewidths=0.75)\n",
    "ax.clabel(cs, fmt='%d')\n",
    "\n",
    "# Add maximum point marker and text\n",
    "ax.scatter()\n",
    "ax.text()\n",
    "\n",
    "plt.show()"
   ]
  },
  {
   "cell_type": "markdown",
   "id": "6242a8f4-9f05-4e8b-8ae1-e52e81554fea",
   "metadata": {},
   "source": [
    "## Exercise #1\n",
    "\n",
    "Plot a different geographic location of interest and find a feature of interest (e.g., a maximum or minimum point)"
   ]
  },
  {
   "cell_type": "code",
   "execution_count": null,
   "id": "b60e8107-6ab5-41f9-acbe-e75dc690f92c",
   "metadata": {},
   "outputs": [],
   "source": []
  }
 ],
 "metadata": {
  "kernelspec": {
   "display_name": "Python 3 (ipykernel)",
   "language": "python",
   "name": "python3"
  },
  "language_info": {
   "codemirror_mode": {
    "name": "ipython",
    "version": 3
   },
   "file_extension": ".py",
   "mimetype": "text/x-python",
   "name": "python",
   "nbconvert_exporter": "python",
   "pygments_lexer": "ipython3",
   "version": "3.8.12"
  }
 },
 "nbformat": 4,
 "nbformat_minor": 5
}
