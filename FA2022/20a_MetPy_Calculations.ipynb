{
 "cells": [
  {
   "cell_type": "code",
   "execution_count": null,
   "metadata": {},
   "outputs": [],
   "source": [
    "from datetime import datetime\n",
    "\n",
    "import matplotlib.pyplot as plt\n",
    "import metpy.calc as mpcalc\n",
    "from metpy.units import units, pandas_dataframe_to_unit_arrays\n",
    "from siphon.simplewebservice.wyoming import WyomingUpperAir"
   ]
  },
  {
   "cell_type": "markdown",
   "metadata": {},
   "source": [
    "## Thermodynamic Calculations\n",
    "\n",
    "MetPy has in increasing number of available calculations that can be performed on sounding data.\n",
    "\n",
    "* LCL\n",
    "* LFC\n",
    "* EL\n",
    "* CAPE\n",
    "* CIN\n",
    "\n",
    "Documentation of MetPy calculations at https://unidata.github.io/MetPy/latest/api/generated/metpy.calc.html\n",
    "\n"
   ]
  },
  {
   "cell_type": "code",
   "execution_count": null,
   "metadata": {},
   "outputs": [],
   "source": [
    "date = datetime(2011, 4, 27, 0)\n",
    "station = 'BMX'\n",
    "df = WyomingUpperAir.request_data(date, station)\n",
    "data_with_units = pandas_dataframe_to_unit_arrays(df)\n",
    "\n",
    "# Only want to pull in data up to 100 mb, we can \n",
    "# use a boolean array to choose on the desired values\n",
    "ip100 = data_with_units['pressure'] >= 100 * units.hPa\n",
    "\n",
    "# Subset pressure and read in other data to only 100 mb\n",
    "p = data_with_units['pressure'][ip100]\n"
   ]
  },
  {
   "cell_type": "markdown",
   "metadata": {},
   "source": [
    "## Compute the Potential Temperature\n",
    "\n",
    "The difficult part of using functions from modules to compute them is figuring out how they work and what you need to feed the function. Potential temperature is a valuable variable that takes a parcel at a given pressure level and brings it adiabatically to 1000-hPa. Mathematically it is\n",
    "\n",
    "$$\\theta = T \\big(\\frac{p}{p_0}\\big)^\\frac{R_d}{C_p}$$\n",
    "\n",
    "So to calculate the potential temperature you need the temperatre and pressure levels of those temperatures.\n",
    "\n",
    "https://unidata.github.io/MetPy/latest/api/generated/metpy.calc.potential_temperature.html"
   ]
  },
  {
   "cell_type": "code",
   "execution_count": null,
   "metadata": {},
   "outputs": [],
   "source": []
  },
  {
   "cell_type": "markdown",
   "metadata": {},
   "source": [
    "## Example Calculation Function from MetPy\n",
    "\n",
    "Calculating a parcel profile can also be done using MetPy.\n",
    "\n",
    "```python\n",
    "def parcel_profile(pressure, temperature, dewpt):\n",
    "\"\"\"Calculate the profile a parcel takes through the atmosphere.\n",
    "\n",
    "    The parcel starts at `temperature`, and `dewpt`, lifted up\n",
    "    dry adiabatically to the LCL, and then moist adiabatically from there.\n",
    "    `pressure` specifies the pressure levels for the profile.\n",
    "\n",
    "    Parameters\n",
    "    ----------\n",
    "    pressure : `pint.Quantity`\n",
    "        The atmospheric pressure level(s) of interest. This array must be from\n",
    "        high to low pressure.\n",
    "    temperature : `pint.Quantity`\n",
    "        The starting temperature\n",
    "    dewpt : `pint.Quantity`\n",
    "        The starting dewpoint\n",
    "\n",
    "    Returns\n",
    "    -------\n",
    "    `pint.Quantity`\n",
    "        The parcel temperatures at the specified pressure levels.\n",
    "\n",
    "    See Also\n",
    "    --------\n",
    "    lcl, moist_lapse, dry_lapse\n",
    "\n",
    "    \"\"\"\n",
    "    _, _, _, t_l, _, t_u = _parcel_profile_helper(pressure, temperature, dewpt)\n",
    "    return concatenate((t_l, t_u))\n",
    "```\n",
    "\n",
    "So the input is all of the pressures from the sounding you are calculating the profile for, with the temperature and dewpoint of the parcel that will be lifted to generate the parcel profile temperature."
   ]
  },
  {
   "cell_type": "code",
   "execution_count": null,
   "metadata": {},
   "outputs": [],
   "source": []
  },
  {
   "cell_type": "code",
   "execution_count": null,
   "metadata": {},
   "outputs": [],
   "source": []
  },
  {
   "cell_type": "markdown",
   "metadata": {},
   "source": [
    "## LCL Example Calculation\n",
    "\n",
    "With some functions we get more than one output (similar to the `np.where` function and so many others). For certain index calculations we'll have both a pressure level and a temperature returned from the function."
   ]
  },
  {
   "cell_type": "code",
   "execution_count": null,
   "metadata": {},
   "outputs": [],
   "source": []
  },
  {
   "cell_type": "markdown",
   "metadata": {},
   "source": [
    "These two can be immediately unpacked by having two variable names to the left of the equal sign. This makes things a little nice to work with for reporting and plotting purposes."
   ]
  },
  {
   "cell_type": "code",
   "execution_count": null,
   "metadata": {},
   "outputs": [],
   "source": []
  },
  {
   "cell_type": "code",
   "execution_count": null,
   "metadata": {},
   "outputs": [],
   "source": []
  }
 ],
 "metadata": {
  "kernelspec": {
   "display_name": "Python 3 (ipykernel)",
   "language": "python",
   "name": "python3"
  },
  "language_info": {
   "codemirror_mode": {
    "name": "ipython",
    "version": 3
   },
   "file_extension": ".py",
   "mimetype": "text/x-python",
   "name": "python",
   "nbconvert_exporter": "python",
   "pygments_lexer": "ipython3",
   "version": "3.10.5"
  }
 },
 "nbformat": 4,
 "nbformat_minor": 4
}
