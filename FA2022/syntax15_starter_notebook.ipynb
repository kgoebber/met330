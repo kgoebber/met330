{
 "cells": [
  {
   "cell_type": "code",
   "execution_count": null,
   "id": "e30ce39f-9014-49e5-b8ed-8dea32c43a4b",
   "metadata": {},
   "outputs": [],
   "source": [
    "from datetime import datetime\n",
    "\n",
    "import cartopy.crs as ccrs\n",
    "import cartopy.feature as cfeature\n",
    "import matplotlib.pyplot as plt\n",
    "import metpy.calc as mpcalc\n",
    "from metpy.interpolate import interpolate_to_grid\n",
    "from metpy.io import add_station_lat_lon\n",
    "from metpy.plots import StationPlot\n",
    "from metpy.units import units\n",
    "import numpy as np\n",
    "from siphon.simplewebservice.iastate import IAStateUpperAir \n",
    "import xarray as xr"
   ]
  },
  {
   "cell_type": "code",
   "execution_count": null,
   "id": "0db9e225-086d-4bb0-9191-b0bace4ca2d3",
   "metadata": {},
   "outputs": [],
   "source": [
    "# Set date to get observations from\n",
    "date = datetime(1978, 1, 26, 12)\n",
    "\n",
    "# Use Siphon Simple Web Service to get all UPA data from IA State archive\n",
    "df = IAStateUpperAir.request_all_data(date)\n",
    "\n",
    "data = add_station_lat_lon(df).dropna(subset=['latitude', 'longitude'])\n",
    "data = data[data.station != 'KVER']"
   ]
  },
  {
   "cell_type": "code",
   "execution_count": null,
   "id": "d3739e4f-6cac-43f5-8ca4-5753c8551183",
   "metadata": {},
   "outputs": [],
   "source": [
    "# Subset and isolate variables for 300-hPa here\n"
   ]
  },
  {
   "cell_type": "code",
   "execution_count": null,
   "id": "5a70d7bb-6b5b-49bd-8e0f-89aefbabba73",
   "metadata": {},
   "outputs": [],
   "source": [
    "# Interpolation Code Here\n"
   ]
  },
  {
   "cell_type": "code",
   "execution_count": null,
   "id": "766ae273-819c-4284-9051-1fac390599f1",
   "metadata": {},
   "outputs": [],
   "source": [
    "# Plot code\n",
    "plt.figure(1, figsize=(15, 13))\n",
    "ax = plt.subplot(111, projection=ccrs.LambertConformal(central_longitude=-100, central_latitude=40))\n",
    "ax.set_extent([-125, -65, 25, 55], ccrs.PlateCarree())\n",
    "\n",
    "# Add contours of interpolated geopotential heights\n",
    "\n",
    "\n",
    "\n",
    "# Add colorfill of windspeed\n",
    "\n",
    "\n",
    "# Start station plotting\n",
    "station = StationPlot(ax, data.longitude, data.latitude, transform=ccrs.PlateCarree(), clip_on=True)\n",
    "\n",
    "# Add more parameters for plotting a full station model\n",
    "station.plot_parameter('C', data.height)\n",
    "station.plot_text('S', data.station)\n",
    "\n",
    "\n",
    "# Add Geographic Features\n",
    "ax.add_feature(cfeature.COASTLINE.with_scale('50m'), edgecolor='grey')\n",
    "ax.add_feature(cfeature.BORDERS.with_scale('50m'), edgecolor='grey')\n",
    "ax.add_feature(cfeature.STATES.with_scale('50m'), edgecolor='grey')\n",
    "\n",
    "# Add titles\n",
    "plt.title(f'500-hPa Observations', loc='left')\n",
    "plt.title(f'Valid: {date}', loc='right')\n",
    "\n",
    "plt.show()"
   ]
  },
  {
   "cell_type": "code",
   "execution_count": null,
   "id": "b99bbdb6-f8a1-49a2-936d-585b3da99ef2",
   "metadata": {},
   "outputs": [],
   "source": []
  }
 ],
 "metadata": {
  "kernelspec": {
   "display_name": "Python 3 (ipykernel)",
   "language": "python",
   "name": "python3"
  },
  "language_info": {
   "codemirror_mode": {
    "name": "ipython",
    "version": 3
   },
   "file_extension": ".py",
   "mimetype": "text/x-python",
   "name": "python",
   "nbconvert_exporter": "python",
   "pygments_lexer": "ipython3",
   "version": "3.10.6"
  }
 },
 "nbformat": 4,
 "nbformat_minor": 5
}
