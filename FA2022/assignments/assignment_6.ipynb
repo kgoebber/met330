{
 "cells": [
  {
   "cell_type": "markdown",
   "id": "672684ea-1e2e-4b03-aa2a-7d2477fd29e7",
   "metadata": {},
   "source": [
    "# Assignment #6\n",
    "\n",
    "This assignment can be completed by adding code to this notebook for each question.\n",
    "\n",
    "Turn in a completed script, renamed as\n",
    "\n",
    "`assignment6_<username>.py`\n",
    "\n",
    "with your `<username>` being your DataVU login name (e.g., mine is `kgoebber`) to `/archive/courses/met330/assignment6` via the Linux computing system.\n",
    "\n",
    "**DUE DATE: 1 November 2022 at 4 pm.**\n",
    "\n",
    "Prior to turning in your script, please cleanup and comment your code for each problem. Be sure that your output is self-describing."
   ]
  },
  {
   "cell_type": "code",
   "execution_count": null,
   "id": "1c49a52b-c8a5-4ca3-ba96-ca874610b7c5",
   "metadata": {},
   "outputs": [],
   "source": [
    "from datetime import datetime\n",
    "\n",
    "import matplotlib.pyplot as plt\n",
    "import numpy as np\n",
    "import pandas as pd"
   ]
  },
  {
   "cell_type": "markdown",
   "id": "4a064837-c3fa-415d-93bc-ab31b2192056",
   "metadata": {},
   "source": [
    "## Question #1\n",
    "(50 points) Climo graph of maximum temperature and accumulated precipitation for San Fransisco, CA (`sfothr`), Chicago, IL (`ordthr`), and New York City, NY (`nycthr`).\n",
    "\n",
    "Data Link: http://data.rcc-acis.org/StnData?sid=ordthr&sdate=por&edate=por&elems=mint,avgt,maxt,pcpn,snow,snwd&output=csv\n",
    "\n",
    "Change the sid for each city...the above example is set for Chicago, IL with `sid=ordthr`.\n",
    "\n",
    "For each city...\n",
    "1. (5 points) Create a 30 year mean (using data from 1 January 1991 to 31 December 2020) for each day (using Pandas groupby method) for the maximum temperature and precipitation.\n",
    "2. (5 points) Tansform the 30-year mean accumulated precipitation into a cumulative sum of precipitation (e.g., adding all of the previous days of the year precipitation to the current day so that at the last day of the year reflects the total accumulated precipitation for that time period).\n",
    "3. (5 points) Subset and create a new variable that contains the temperature data for 2022.\n",
    "4. (5 points) Subset and create a new variable that contains the acuumulated precipitation data for 2022.\n",
    "5. (10 points) Plot the 30-year mean temperature average along with the data for 2022 on a single axes. Set your x-axis values to be Julian day of the year (e.g., 1-366, may need to be less for current year data)\n",
    "6. (10 points) Plot the 30-year mean accumulated precipitation along with the data for 2022 on a second axes. Again set your x-axis values to be Julian day of the year (e.g., 1-366, may need to be less for current year data).\n",
    "7. (10 points) Appropriately title, label, and have good plot aesthetics for your figure.\n",
    "8. Save your figure with an appropriate name.\n",
    "\n",
    "**Submit this assignment as a Python script called `assignment6_<username>.py`, which will be run to grade your assignment. Any script that runs with an error will be marked off 25%.**\n",
    "\n",
    "Notes:\n",
    "* You should have three separate figures at the end, one for each city. Each figure should have two axes, one plotting temperature data, the other plotting precipitation data.\n",
    "* Use appropriate colors for all plot characteristics."
   ]
  },
  {
   "cell_type": "code",
   "execution_count": null,
   "id": "c3ee5d1c-f908-456a-add0-9a4b96021374",
   "metadata": {},
   "outputs": [],
   "source": []
  },
  {
   "cell_type": "markdown",
   "id": "78d7a016-52c8-4db1-a968-3a923a03ae60",
   "metadata": {},
   "source": [
    "## Extra Credit (up to 10 points added to the assignments portion of the course)\n",
    "\n",
    "Create a notebook that reads and plots some shapefile that we did not read and display as part of lecture. The extra credit received will be commensurate with the effort to make a high-quality image using your shapefile and any other data that is also plotted. Making a plot and displaying the output of a single shapefile with nothing else (other than geographic boundaries) will earn at most two points of extra credit. Be creative and thoughtful to earn additional points.\n",
    "\n",
    "Natural Earth Webiste: https://www.naturalearthdata.com\n",
    "\n",
    "NWS Shapefiles Data: https://www.weather.gov/gis/NWS_Shapefile\n",
    "\n",
    "Census Data: https://www.census.gov/geographies/mapping-files/time-series/geo/tiger-line-file.html\n",
    "\n",
    "Turn in a completed extra credit notebook, renamed as\n",
    "\n",
    "`extracredit_<username>.ipynb`\n",
    "\n",
    "with your `<username>` being your DataVU login name (e.g., mine is `kgoebber`) to `/archive/courses/met330/extracredit` via the Linux computing system."
   ]
  },
  {
   "cell_type": "code",
   "execution_count": null,
   "id": "e01183c0-5e1c-4907-a1c7-ea04e5a469fb",
   "metadata": {},
   "outputs": [],
   "source": []
  }
 ],
 "metadata": {
  "kernelspec": {
   "display_name": "Python 3 (ipykernel)",
   "language": "python",
   "name": "python3"
  },
  "language_info": {
   "codemirror_mode": {
    "name": "ipython",
    "version": 3
   },
   "file_extension": ".py",
   "mimetype": "text/x-python",
   "name": "python",
   "nbconvert_exporter": "python",
   "pygments_lexer": "ipython3",
   "version": "3.10.6"
  }
 },
 "nbformat": 4,
 "nbformat_minor": 5
}
