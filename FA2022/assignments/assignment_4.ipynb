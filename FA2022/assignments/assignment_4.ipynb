{
 "cells": [
  {
   "cell_type": "markdown",
   "id": "672684ea-1e2e-4b03-aa2a-7d2477fd29e7",
   "metadata": {},
   "source": [
    "# Assignment #4\n",
    "\n",
    "This assignment can be completed by adding code to this notebook for each question.\n",
    "\n",
    "Turn in a completed notebook, renamed as\n",
    "\n",
    "`assignment4_<username>.ipynb`\n",
    "\n",
    "with your `<username>` being your DataVU login name (e.g., mine is `kgoebber`) to `/archive/courses/met330/assignment4` via the Linux computing system.\n",
    "\n",
    "**DUE DATE: 6 October 2022 at 10:30 am.**\n",
    "\n",
    "* Prior to turning in your notebook, please cleanup and comment your code for each problem. Be sure that your output is self-describing. All code to answer a question should appear in a single cell after the question.\n",
    "\n",
    "* Grades on questions will assess both the correctness of the output, but also the quality/efficiency of the code. I do not expect you to have the most efficient or highest quality of code, but I would like your best refined code."
   ]
  },
  {
   "cell_type": "markdown",
   "id": "4a064837-c3fa-415d-93bc-ab31b2192056",
   "metadata": {},
   "source": [
    "## Question #1\n",
    "(30 points total) The world population has been growing for a long time (a log plot for the y-axis would be useful here), but not evenly among different countries. You are given the task of analyzing this dataset by a UN Council working group on Environmental Sustaibability. They have tasked you with both some numeric analysis as well as providing some graphical representations of the data. The data you were given comes from the UN and contains the population data for a number of countries from 1950-2020 in the thousands (i.e., the total population can be found by multiplying the values by 1000). Here are the lists of tasks that you are required to perform:\n",
    "* (10 points) Plot the timeseries of the total population for all of the countries by continent (e.g., Americas, Europe, Asia, Oceania), making sure to label the figure with all approrpriate elements and save your figure as `<username>_HW4_plot1.png`\n",
    "* (5 points) Write code to determine the percent change in population for each five year period (note: you'll have one less column of data for percent differences than for the original dataset)\n",
    "* (10 points) Plot the percent change for the US, Germany, China, and India individually as a bar plot, making sure to label the figure with all appropriate elements and save your figure as `<username>_HW4_plot2_<country>.png`\n",
    "* (5 points) Write code to determine and print out which five countries had the **highest and lowest** population growth by raw increase in population between 1950 and 2020 and report how much their population grew.\n",
    "\n",
    "In addition to the code needed to perform the above tasks, you must include comments wtihin your code that describe what the code is doing. This doesn't have to be done for each line of code, but rather for blocks of code that are related to accomplishing a task.\n",
    "\n",
    "**Notes:**\n",
    "* When printing out results, make sure that it is clear and can easily be interpreted by someone with no coding experience.\n",
    "* When reading in a file, use the absolute path to the file on the Linux system\n",
    "* Sorting is a common asepect of coding and there are a few functions from Numpy that might be helpful including `np.sort` and `np.argsort`; the difficulty here is that you'll have country names in a separate array from your data, which make it slightly more difficult to keep everything aligned.\n",
    "* To calculate the percent change, subtract the new year from the old year and divide by the old year\n",
    "* For a better plot of all of the countries population through time, use the `semilogy` method for plotting instead of just `plot`\n",
    "* Counties by Continent\n",
    "   - Americas: USA, Canada, Mexico, Argentina, Brazil, Costa Rica\n",
    "   - Europe: Germany, United Kingdom, Norway\n",
    "   - Asia: China, India\n",
    "   - Africa: Namibia, South Africa, Nigeria, Kenya, Tanzania, Central African Republic, Egypt\n",
    "   - Oceania: Australia, New Zealand\n",
    "Data file is located in `/archive/courses/met330` and is called `world_population_data_1950_2020.csv`\n",
    "\n",
    "Example Text Output (fake data):\n",
    "\n",
    "```\n",
    "The top five population growth countries:\n",
    " 1. Legoland - population grew by 1000000\n",
    " 2. Linuxland - population grew by 984329\n",
    " 3. Pythonland - population grew by 67392\n",
    " .\n",
    " .\n",
    " .\n",
    "\n",
    "```"
   ]
  },
  {
   "cell_type": "code",
   "execution_count": null,
   "id": "190484a5-ab80-435c-bf3f-c7e57caf710c",
   "metadata": {},
   "outputs": [],
   "source": []
  },
  {
   "cell_type": "markdown",
   "id": "62bfeabc-7039-46a0-be00-c5465c37f6c8",
   "metadata": {},
   "source": [
    "## Question #2\n",
    "(20 points) You've done such great work for the UN that they have asked you to also study the variability of sea ice extent over the Northern Hemisphere for the past five years. You are tasked with generating an analysis figure that plots the most recent five individual years of data (e.g., January 2017 - Dec 2021) along with the 10%, 90%, and average sea ice extent between 1981-2010. To your benefit you have been given two separate files: 1) containing the daily sea ice extent from 1978-current and 2) the average sea extent by day for the period 1981-2010. The second file also contains other statistical values related to the sea ice extent over the period 1981-2010.\n",
    "* (15 points) Plot five separate lines of sea ice extent for the years 2017, 2018, 2019, 2020, and 2021 by Julian Day along with the 10%, 90%, and long term mean of sea ice extent.\n",
    "* (5 points) Use of proper subsetting to isolate all data\n",
    "\n",
    "**Notes:**\n",
    "* Each year should be plotted as its own line within the plot and labeled accordingly\n",
    "* Average sea ice extent has been scaled by `1e-6`, whereas the daily data has not been scaled at all - you'll need to scale all of the data in a singluar manner in order for a good plot to be produced.\n",
    "* Leap year days exist in the daily dataset and will require you to be more robust in how you plot your data as the shape will change (e.g., 2020 will be longer than the rest.\n",
    "* Use Julian Day of Year for dates for labelling the x-axis (bonus brownie points if you make them more generic with Months/Days)\n",
    "* To earn full credit you must go beyond the basics of plotting lines by using color, linestyles, and filling between lines (for etra bonus brownie points) to make the best possible graphic you can. Use the Matplotlib documentation and example gallery to help you add high quality elements to your figure.\n",
    "* Sea Ice Extent Data Source: https://daacdata.apps.nsidc.org/pub/DATASETS/nsidc0192_seaice_trends_climo_v3/total-ice-area-extent/nasateam/\n",
    "\n",
    "Data files are located in `/archive/courses/met330` and the daily file data is called `sea_ice_extent_daily.gsfs.nasateam.1978-2021.csv` and the long term mean and percentage data are called `avg_sea_ice_extent_modified.csv`."
   ]
  },
  {
   "cell_type": "code",
   "execution_count": null,
   "id": "8bc2f21e-2826-41dc-bfe0-14227834038a",
   "metadata": {},
   "outputs": [],
   "source": []
  }
 ],
 "metadata": {
  "kernelspec": {
   "display_name": "Python 3 (ipykernel)",
   "language": "python",
   "name": "python3"
  },
  "language_info": {
   "codemirror_mode": {
    "name": "ipython",
    "version": 3
   },
   "file_extension": ".py",
   "mimetype": "text/x-python",
   "name": "python",
   "nbconvert_exporter": "python",
   "pygments_lexer": "ipython3",
   "version": "3.10.5"
  }
 },
 "nbformat": 4,
 "nbformat_minor": 5
}
