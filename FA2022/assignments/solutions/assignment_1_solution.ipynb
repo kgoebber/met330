{
 "cells": [
  {
   "cell_type": "markdown",
   "id": "672684ea-1e2e-4b03-aa2a-7d2477fd29e7",
   "metadata": {},
   "source": [
    "# Assignment #1\n",
    "\n",
    "This assignment can be completed by adding code to this notebook for each question.\n",
    "\n",
    "Turn in a completed notebook, renamed as\n",
    "\n",
    "`assignment_1_<username>.ipynb`\n",
    "\n",
    "with your `<username>` being your DataVU login name (e.g., mine is `kgoebber`) to `/archive/courses/met330/assignment1` via the Linux computing system.\n",
    "\n",
    "This assignment is worth 50 points.\n",
    "\n",
    "**DUE DATE: 6 September 2022 at 10 am.**"
   ]
  },
  {
   "cell_type": "markdown",
   "id": "597f94ca-04cf-4f59-9ca9-872e1940d14f",
   "metadata": {},
   "source": [
    "## Question #1\n",
    "\n",
    "(2 points) Answer the following question by using the print function to send to standard output (i.e., the screen).\n",
    "\n",
    "What is your favorite snack food?"
   ]
  },
  {
   "cell_type": "code",
   "execution_count": 1,
   "id": "83c9e317-8beb-4ac9-9cf8-0b3ac36ad429",
   "metadata": {},
   "outputs": [
    {
     "name": "stdout",
     "output_type": "stream",
     "text": [
      "Potato chips are my favorite snack food.\n"
     ]
    }
   ],
   "source": [
    "print('Potato chips are my favorite snack food.')"
   ]
  },
  {
   "cell_type": "markdown",
   "id": "62bfeabc-7039-46a0-be00-c5465c37f6c8",
   "metadata": {},
   "source": [
    "## Question #2\n",
    "(3 points) Create a string variable called `firstname` and `lastname`, assign them with your firstname and lastname, respectively. Print them out using string concatentaion so that your full name prints out on one line with a space between your first and last name."
   ]
  },
  {
   "cell_type": "code",
   "execution_count": 2,
   "id": "9be85438-1451-4f44-9dc7-d9027ee3941b",
   "metadata": {},
   "outputs": [
    {
     "name": "stdout",
     "output_type": "stream",
     "text": [
      "Kevin Goebbert\n"
     ]
    }
   ],
   "source": [
    "firstname = 'Kevin'\n",
    "lastname = 'Goebbert'\n",
    "\n",
    "print(firstname+' '+lastname)"
   ]
  },
  {
   "cell_type": "markdown",
   "id": "e736bd8a-b277-4ce9-ad81-5f18c6c4298d",
   "metadata": {},
   "source": [
    "## Question #3\n",
    "(5 points) Using the same variables from Questions #2, use separate print statements to output the third letter from each of the variables."
   ]
  },
  {
   "cell_type": "code",
   "execution_count": 3,
   "id": "61496e1b-b18b-47de-a206-b3fd28beca11",
   "metadata": {},
   "outputs": [
    {
     "name": "stdout",
     "output_type": "stream",
     "text": [
      "v\n",
      "e\n"
     ]
    }
   ],
   "source": [
    "print(firstname[2])\n",
    "print(lastname[2])"
   ]
  },
  {
   "cell_type": "markdown",
   "id": "f2daa0f6-8ced-4f90-ba94-e36fc710f675",
   "metadata": {},
   "source": [
    "## Question #4\n",
    "(5 points) Write a mathematical equation to convert 72 F to Celsius and Kelvin using variables and print the result, with units, using a formatted string."
   ]
  },
  {
   "cell_type": "code",
   "execution_count": 7,
   "id": "0bd6b788-5093-4806-9058-9f27b5874d4b",
   "metadata": {},
   "outputs": [
    {
     "name": "stdout",
     "output_type": "stream",
     "text": [
      "The temperature is 72.0 degF\n",
      "The temperature is 22.2 degC\n",
      "The temperature is 295.4 K\n"
     ]
    }
   ],
   "source": [
    "tmpf = 72\n",
    "tmpc = (tmpf - 32)*(5/9)\n",
    "tmpk = tmpc + 273.15\n",
    "print(f'The temperature is {tmpf:.1f} degF')\n",
    "print(f'The temperature is {tmpc:.1f} degC')\n",
    "print(f'The temperature is {tmpk:.1f} K')"
   ]
  },
  {
   "cell_type": "markdown",
   "id": "47c664ab-6813-432f-b894-5b65727839bc",
   "metadata": {},
   "source": [
    "## Question #5\n",
    "(5 points) Given the following list, use a Python built-in function to determine how many elements it has and print it to the screen. Then print only the second and third elements of the list to the screen."
   ]
  },
  {
   "cell_type": "code",
   "execution_count": 13,
   "id": "db538159-ab69-4286-8b6e-0723fd62f270",
   "metadata": {},
   "outputs": [
    {
     "name": "stdout",
     "output_type": "stream",
     "text": [
      "6\n",
      "1859\n",
      "Beacons\n"
     ]
    }
   ],
   "source": [
    "values = ['Valparaiso University', 1859, 'Beacons', 987.4, 'Dunes National Park', 1e4]\n",
    "print(len(values))\n",
    "print(values[1])\n",
    "print(values[2])"
   ]
  },
  {
   "cell_type": "markdown",
   "id": "d09eea3b-e064-4888-b1e9-49fe97a9ffd1",
   "metadata": {},
   "source": [
    "## Question #6\n",
    "(5 points) Using the same initial list add two elements to the list 1) your hometown and state as a string and 2) your favorite number as a float or integer. Print the new list to the screen, then check to see if the number 42 appears in the list using the Python built-in `in` function."
   ]
  },
  {
   "cell_type": "code",
   "execution_count": 15,
   "id": "33139182-544c-4256-a0a2-72d5e2c75928",
   "metadata": {},
   "outputs": [
    {
     "name": "stdout",
     "output_type": "stream",
     "text": [
      "['Valparaiso University', 1859, 'Beacons', 987.4, 'Dunes National Park', 10000.0, 'Des Plaines, IL', 19, 'Des Plaines, IL', 19]\n",
      "False\n"
     ]
    }
   ],
   "source": [
    "values.append('Des Plaines, IL')\n",
    "values.append(19)\n",
    "print(values)\n",
    "print(42 in values)"
   ]
  },
  {
   "cell_type": "markdown",
   "id": "69a4ceb2-c357-4606-9287-b71e146aa0c1",
   "metadata": {},
   "source": [
    "## Question #7\n",
    "(5 points) Given the following tuple that describes the Valparaiso, IN latitude and longitude in degrees, minues, and seconds, convert that latitude and longitude value to be in decimal degrees and print the new values, with its north, south, east, or west direction, to the screen via standard output.\n",
    "\n",
    "Note: That one degree is one hour, there are 60 minutes in an hour, and 3600 seconds in an hour.\n",
    "\n",
    "`Decimal Degrees = degrees + (minutes/60) + (seconds/3600)`"
   ]
  },
  {
   "cell_type": "code",
   "execution_count": 16,
   "id": "53eeae86-2513-40da-83d5-2ec6471dec34",
   "metadata": {},
   "outputs": [],
   "source": [
    "valpo_latitude = (41, 28, 50, 'N')\n",
    "valpo_longitude = (-87, 3, 9, 'E')"
   ]
  },
  {
   "cell_type": "code",
   "execution_count": 19,
   "id": "e11f5ee0-a752-4e47-ba17-904413353888",
   "metadata": {},
   "outputs": [
    {
     "name": "stdout",
     "output_type": "stream",
     "text": [
      "The Valpo latitude is 41.48 N\n",
      "The Valpo longitude is -86.95 E\n"
     ]
    }
   ],
   "source": [
    "dd_lat = valpo_latitude[0] + valpo_latitude[1] / 60 + valpo_latitude[2] / 3600\n",
    "dd_lon = valpo_longitude[0] + valpo_longitude[1] / 60 + valpo_longitude[2] / 3600\n",
    "print(f'The Valpo latitude is {dd_lat:.2f} {valpo_latitude[3]}')\n",
    "print(f'The Valpo longitude is {dd_lon:.2f} {valpo_longitude[3]}')"
   ]
  },
  {
   "cell_type": "markdown",
   "id": "9de02d61-6b29-4007-a150-1f42c9a5a387",
   "metadata": {},
   "source": [
    "## Question #8\n",
    "(5 points) If you were to attempt to reassign one of the values in the valpo_latitude tuple from question #7, what would happen? Explain. Type your response below as a comment."
   ]
  },
  {
   "cell_type": "code",
   "execution_count": 20,
   "id": "a520684f-58be-47b9-a59a-40616e070260",
   "metadata": {},
   "outputs": [
    {
     "ename": "TypeError",
     "evalue": "'tuple' object does not support item assignment",
     "output_type": "error",
     "traceback": [
      "\u001b[0;31m---------------------------------------------------------------------------\u001b[0m",
      "\u001b[0;31mTypeError\u001b[0m                                 Traceback (most recent call last)",
      "Input \u001b[0;32mIn [20]\u001b[0m, in \u001b[0;36m<cell line: 2>\u001b[0;34m()\u001b[0m\n\u001b[1;32m      1\u001b[0m \u001b[38;5;66;03m# Reassignment of a tuple is not allowed in Python, so that action would fail and yield an error\u001b[39;00m\n\u001b[0;32m----> 2\u001b[0m \u001b[43mvalpo_latitude\u001b[49m\u001b[43m[\u001b[49m\u001b[38;5;241;43m1\u001b[39;49m\u001b[43m]\u001b[49m \u001b[38;5;241m=\u001b[39m \u001b[38;5;241m29\u001b[39m\n",
      "\u001b[0;31mTypeError\u001b[0m: 'tuple' object does not support item assignment"
     ]
    }
   ],
   "source": [
    "# Reassignment of a tuple is not allowed in Python, so that action would fail and yield an error\n",
    "valpo_latitude[1] = 29"
   ]
  },
  {
   "cell_type": "markdown",
   "id": "a59ebcba-12a1-40cd-b890-daee755be308",
   "metadata": {
    "tags": []
   },
   "source": [
    "## Question #9\n",
    "(5 points) Given the following dictionary, add the following wind speed values to the dictionary with a key of \"wind\", then print all of the keys of the dictionary to standard output.\n",
    "\n",
    "Wind speed values: 11, 4, 8, 14"
   ]
  },
  {
   "cell_type": "code",
   "execution_count": 21,
   "id": "7b993cb7-8ff1-4439-b981-0520deb7bdfe",
   "metadata": {},
   "outputs": [],
   "source": [
    "valpo_obs = {'times':[0, 6, 12, 18],\n",
    "             'tmpf':[78, 64, 61, 82],\n",
    "             'precip':[0, .1, 0, 0]}"
   ]
  },
  {
   "cell_type": "code",
   "execution_count": 22,
   "id": "b16c49e8-4133-466b-9bc9-795697d81060",
   "metadata": {},
   "outputs": [
    {
     "name": "stdout",
     "output_type": "stream",
     "text": [
      "dict_keys(['times', 'tmpf', 'precip', 'wind'])\n"
     ]
    }
   ],
   "source": [
    "valpo_obs['wind'] = [11, 4, 8, 14]\n",
    "print(valpo_obs.keys())"
   ]
  },
  {
   "cell_type": "markdown",
   "id": "9a1d9d67-2955-491c-8895-be52000108ca",
   "metadata": {},
   "source": [
    "## Question #10\n",
    "(10 points) There are a number of different calculations that meteorologists routinely encounter including potential temperature. Create Python code that will read an input of a temperature in Celsius and the pressure level in hPa, compute the potential temperature for the input data, and print the original temperature in Kelvin and pressure in hPa with the calculated potential temperature to standard output.\n",
    "\n",
    "Potential Temperature Equation:\n",
    "\n",
    "\\begin{equation}\n",
    "\\theta={T\\left(\\frac{p_0}{p}\\right)}^\\frac{R_d}{C_p}\n",
    "\\end{equation}\n",
    "\n",
    "Where `p0` is the reference pressure (typically 1000 hPa), `T` is the temperature in Kelvin at the given pressure level `p`, `Rd` is the dry gas constant (287 J kg-1) and `Cp` is the specific heat of air (1004 J kg-1).\n",
    "\n",
    "**Test Case 1**\n",
    "```\n",
    ">>>\n",
    "Enter a Temperature in Celsius:\n",
    "-15\n",
    "\n",
    "Enter a Pressure in hPa:\n",
    "850\n",
    "\n",
    "Temperature (K): 258.14999\n",
    "Pressure (hPa): 850.00000\n",
    "Pot. Temp. (K): 270.42584\n",
    ">>>\n",
    "```\n",
    "**Test Case 2**\n",
    "```\n",
    ">>>\n",
    "Enter a Temperature in Celsius:\n",
    "-25\n",
    "\n",
    "Enter a Pressure in hPa:\n",
    "500\n",
    "\n",
    "Temperature (K): 248.14999\n",
    "Pressure (hPa): 500.00000\n",
    "Pot. Temp. (K): 302.52805\n",
    ">>>\n",
    "```\n"
   ]
  },
  {
   "cell_type": "code",
   "execution_count": 26,
   "id": "8eb64189-4dd8-413e-9a06-2364010bdd68",
   "metadata": {},
   "outputs": [
    {
     "name": "stdin",
     "output_type": "stream",
     "text": [
      "Enter a Temperature in Celsius:  -25\n",
      "Enter a Pressure in hPa:  500\n"
     ]
    },
    {
     "name": "stdout",
     "output_type": "stream",
     "text": [
      "Temperature (K): 248.15\n",
      "Pressure (hPa): 500.00\n",
      "Pot. Temp. (K): 302.53\n"
     ]
    }
   ],
   "source": [
    "tmpc = float(input('Enter a Temperature in Celsius: '))\n",
    "pres = float(input('Enter a Pressure in hPa: '))\n",
    "# tmpc = -15\n",
    "# pres = 850\n",
    "\n",
    "tmpk = tmpc + 273.15\n",
    "\n",
    "theta = tmpk * (1000 / pres)**(287/1004)\n",
    "\n",
    "print(f'Temperature (K): {tmpk:.2f}')\n",
    "print(f'Pressure (hPa): {pres:.2f}')\n",
    "print(f'Pot. Temp. (K): {theta:.2f}')"
   ]
  },
  {
   "cell_type": "code",
   "execution_count": null,
   "id": "b0c384ee-4a51-47b8-bf0f-a558322c6d2e",
   "metadata": {},
   "outputs": [],
   "source": []
  }
 ],
 "metadata": {
  "kernelspec": {
   "display_name": "Python 3 (ipykernel)",
   "language": "python",
   "name": "python3"
  },
  "language_info": {
   "codemirror_mode": {
    "name": "ipython",
    "version": 3
   },
   "file_extension": ".py",
   "mimetype": "text/x-python",
   "name": "python",
   "nbconvert_exporter": "python",
   "pygments_lexer": "ipython3",
   "version": "3.10.5"
  }
 },
 "nbformat": 4,
 "nbformat_minor": 5
}
