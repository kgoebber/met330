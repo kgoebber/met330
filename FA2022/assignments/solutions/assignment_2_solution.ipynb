{
 "cells": [
  {
   "cell_type": "markdown",
   "id": "672684ea-1e2e-4b03-aa2a-7d2477fd29e7",
   "metadata": {},
   "source": [
    "# Assignment #2\n",
    "\n",
    "This assignment can be completed by adding code to this notebook for each question.\n",
    "\n",
    "Turn in a completed notebook, renamed as\n",
    "\n",
    "`assignment2_<username>.ipynb`\n",
    "\n",
    "with your `<username>` being your DataVU login name (e.g., mine is `kgoebber`) to `/archive/courses/met290/assignment2` via the Linux computing system.\n",
    "\n",
    "**DUE DATE: 24 September 2021 at 4 pm.**"
   ]
  },
  {
   "cell_type": "markdown",
   "id": "4a064837-c3fa-415d-93bc-ab31b2192056",
   "metadata": {},
   "source": [
    "## Question #1\n",
    "Numerical weather prediction models are typically run at least four times a day at 00, 06, 12, and 18 UTC. If you are writing code to analyze some model output you might need to choose the appropriate model run time so your code doesn't fail whenever it runs.\n",
    "\n",
    "Write Python code to choose an appropriate model run (00, 06, 12, 18 UTC) based on a given input hour\n",
    "* Choose 00 UTC model run if the current time is between 0300 – 0859 UTC\n",
    "* Choose 06 UTC model run if the current time is between 0900 – 1459 UTC\n",
    "* Choose 12 UTC model run if the current time is between 1500 – 2059 UTC\n",
    "* Choose 18 UTC model run otherwise\n",
    "\n",
    "Input of times should come from standard input. Be sure to prompt the user appropriately.\n",
    "\n",
    "Output the choice of model runs to standard output"
   ]
  },
  {
   "cell_type": "code",
   "execution_count": 4,
   "id": "f4f69fc4-1c75-4009-a8d6-bcdaf33dffac",
   "metadata": {},
   "outputs": [
    {
     "name": "stdin",
     "output_type": "stream",
     "text": [
      "What is the current time in UTC?  2200\n"
     ]
    },
    {
     "name": "stdout",
     "output_type": "stream",
     "text": [
      "Choose 18 UTC model run.\n"
     ]
    }
   ],
   "source": [
    "time = int(input('What is the current time in UTC? '))\n",
    "\n",
    "if time >= 300 and time < 900:\n",
    "    print('Choose 00 UTC model run.')\n",
    "elif time >= 900 and time < 1500:\n",
    "    print('Choose 06 UTC model run.')\n",
    "elif time >= 1500 and time < 2100:\n",
    "    print('Choose 12 UTC model run.')\n",
    "else:\n",
    "    print('Choose 18 UTC model run.')"
   ]
  },
  {
   "cell_type": "markdown",
   "id": "62bfeabc-7039-46a0-be00-c5465c37f6c8",
   "metadata": {},
   "source": [
    "## Question #2\n",
    "Write Python code to determine whether a given year is a leap year or not. Output both the year and whether or not it is a leap year.\n",
    "\n",
    "*Leap Year Definition*\n",
    "\n",
    "Add a leap day every four years when the year is divisible by 4, but not if the year is divisible by 100 unless it is also divisible by 400.\n",
    "\n",
    "Known leap year values:\n",
    "```\n",
    "1996 is a leap year\n",
    "2000 is a leap year\n",
    "1900 is not a leap year\n",
    "1994 is not a leap year\n",
    "```"
   ]
  },
  {
   "cell_type": "code",
   "execution_count": 8,
   "id": "9be85438-1451-4f44-9dc7-d9027ee3941b",
   "metadata": {},
   "outputs": [
    {
     "name": "stdout",
     "output_type": "stream",
     "text": [
      "The year 1963 is not a leap year.\n"
     ]
    }
   ],
   "source": [
    "year = 1963\n",
    "\n",
    "if (year%4 == 0 and year%100 !=0) or (year%400 == 0):\n",
    "    print(f'The year {year} is a leap year.')\n",
    "else:\n",
    "    print(f'The year {year} is not a leap year.')"
   ]
  },
  {
   "cell_type": "markdown",
   "id": "e736bd8a-b277-4ce9-ad81-5f18c6c4298d",
   "metadata": {},
   "source": [
    "## Question #3\n",
    "Write a definition to convert a tuple containing four elements describing a location in degrees, minutes, seconds, and direction (e.g., N, S, E, W) to a value in decimal degrees. Make the defenition work for both northern and southern hemispheric locations and east and west longitude designations (e.g., south and west are negative decimal degree values). Call the function `dms_decimal_degrees`.\n",
    "\n",
    "Example Tuples:\n",
    "```\n",
    "lat_loc = (54, 24, 33, 'N')\n",
    "lon_loc = (101, 12, 3, 'W')\n",
    "```\n",
    "\n",
    "Test your definition with one location tuple of your choosing."
   ]
  },
  {
   "cell_type": "code",
   "execution_count": 21,
   "id": "61496e1b-b18b-47de-a206-b3fd28beca11",
   "metadata": {},
   "outputs": [],
   "source": [
    "# Write your definition here (Best Answer)\n",
    "def dms_decimal_degrees(deg_loc):\n",
    "    '''This function converts a tuple containing the degrees, minutes, seconds, and cardinal direction of a location to a\n",
    "    value in decimal degrees.\n",
    "    \n",
    "    Input: tuple (deg, min, sec, dir)\n",
    "    \n",
    "    Output: value (decimal degrees)\n",
    "    '''\n",
    "    \n",
    "    if deg_loc[3] in ['S', 'W']:\n",
    "        dms = -deg_loc[0] - deg_loc[1]/60 - deg_loc[2]/3600\n",
    "    else:\n",
    "        dms = deg_loc[0] + deg_loc[1]/60 + deg_loc[2]/3600\n",
    "    return dms"
   ]
  },
  {
   "cell_type": "code",
   "execution_count": 23,
   "id": "333132bf-afd9-44df-9a50-9c98020530c2",
   "metadata": {},
   "outputs": [],
   "source": [
    "# Write your definition here (Acceptable Answer)\n",
    "def dms_decimal_degrees(deg_loc):\n",
    "    '''This function converts a tuple containing the degrees, minutes, seconds, and cardinal direction of a location to a\n",
    "    value in decimal degrees.\n",
    "    \n",
    "    Input: tuple (deg, min, sec, dir)\n",
    "    \n",
    "    Output: value (decimal degrees)\n",
    "    '''\n",
    "    dms = deg_loc[0] + deg_loc[1]/60 + deg_loc[2]/3600\n",
    "    if deg_loc[3] == 'S' or deg_loc[3] == 'W':\n",
    "        dms = -dms\n",
    "    \n",
    "    return dms"
   ]
  },
  {
   "cell_type": "code",
   "execution_count": 24,
   "id": "34178e7e-e628-4e71-9570-d9547af374ce",
   "metadata": {},
   "outputs": [
    {
     "data": {
      "text/plain": [
       "-54.409166666666664"
      ]
     },
     "execution_count": 24,
     "metadata": {},
     "output_type": "execute_result"
    }
   ],
   "source": [
    "# Test your definition here\n",
    "lat_loc = (54, 24, 33, 'S')\n",
    "dms_decimal_degrees(lat_loc)"
   ]
  },
  {
   "cell_type": "markdown",
   "id": "f2daa0f6-8ced-4f90-ba94-e36fc710f675",
   "metadata": {},
   "source": [
    "## Question #4\n",
    "Write a loop to convert the list of tuple locations using the definition you created for question #3.\n",
    "\n",
    "```\n",
    "locations = [(22, 6, 30, 'N'),\n",
    "             (159, 29, 48, 'W'),\n",
    "             (45, 54, 1, 'N'),\n",
    "             (89, 28, 56, 'W'),\n",
    "             (33, 51, 54, 'S'),\n",
    "             (151, 12, 36, 'E')]\n",
    "```"
   ]
  },
  {
   "cell_type": "code",
   "execution_count": 20,
   "id": "0bd6b788-5093-4806-9058-9f27b5874d4b",
   "metadata": {},
   "outputs": [
    {
     "name": "stdout",
     "output_type": "stream",
     "text": [
      "22.108333333333334\n",
      "-159.49666666666664\n",
      "45.900277777777774\n",
      "-89.48222222222222\n",
      "-33.865\n",
      "151.20999999999998\n"
     ]
    }
   ],
   "source": [
    "locations = [(22, 6, 30, 'N'),\n",
    "             (159, 29, 48, 'W'),\n",
    "             (45, 54, 1, 'N'),\n",
    "             (89, 28, 56, 'W'),\n",
    "             (33, 51, 54, 'S'),\n",
    "             (151, 12, 36, 'E')]\n",
    "\n",
    "for location in locations:\n",
    "    print(dms_decimal_degrees(location))"
   ]
  },
  {
   "cell_type": "markdown",
   "id": "47c664ab-6813-432f-b894-5b65727839bc",
   "metadata": {},
   "source": [
    "## Question #5\n",
    "\n",
    "Around volcanoes one particular emmision to be concerned about is the amount of sulpher dioxide (SO2). Exposure to high levels of SO2 produces adverse respitory and eye irritation. Prolonged exposure could even result in death.\n",
    "\n",
    "Given the following list of SO2 levels in ppm (parts per million), issue a warning based on the following conditions:\n",
    "* SO2 < 0.2 ppm: No warning, low background SO2 levels\n",
    "* SO2 between .2 and 1 ppm: Hazard Warning for those suffering from asthma\n",
    "* SO2 between 1 and 5 ppm: Hazard Warning (Respitory) for all individuals\n",
    "* SO2 between 5 and 10 ppm: Hazard Warning (Exceptional Lung and Eye Irritation) for all individuals\n",
    "* SO2 greater than 10 ppm: Extreme Hazard Warning - Leave Area Immediately.\n",
    "\n",
    "```\n",
    "so2_levels = [15, 0.003, 0.2, 3, 10, .5, 1.1]\n",
    "```"
   ]
  },
  {
   "cell_type": "code",
   "execution_count": 17,
   "id": "db538159-ab69-4286-8b6e-0723fd62f270",
   "metadata": {},
   "outputs": [
    {
     "name": "stdout",
     "output_type": "stream",
     "text": [
      "Extreme Hazard Warning - Leave Area Immediately\n",
      "No warning, low background SO2 levels\n",
      "Hazard Warning for those suffering from asthma\n",
      "Hazard Warning (Respitory) for all individuals\n",
      "Extreme Hazard Warning - Leave Area Immediately\n",
      "Hazard Warning for those suffering from asthma\n",
      "Hazard Warning (Respitory) for all individuals\n"
     ]
    }
   ],
   "source": [
    "so2_levels = [15, 0.003, 0.2, 3, 10, .5, 1.1]\n",
    "\n",
    "for so2 in so2_levels:\n",
    "    if so2 < .2:\n",
    "        print('No warning, low background SO2 levels')\n",
    "    elif so2 >= .2 and so2 < 1:\n",
    "        print('Hazard Warning for those suffering from asthma')\n",
    "    elif so2 >= 1 and so2 < 5:\n",
    "        print('Hazard Warning (Respitory) for all individuals')\n",
    "    elif so2 >= 5 and so2 < 10:\n",
    "        print('Hazard Warning (Exceptional Lung and Eye Irritation) for all individuals')\n",
    "    elif so2 >= 10:\n",
    "        print('Extreme Hazard Warning - Leave Area Immediately')"
   ]
  },
  {
   "cell_type": "code",
   "execution_count": null,
   "id": "e387d8c7-a52d-41c7-b142-c45b4f1761b6",
   "metadata": {},
   "outputs": [],
   "source": []
  }
 ],
 "metadata": {
  "kernelspec": {
   "display_name": "Python 3 (ipykernel)",
   "language": "python",
   "name": "python3"
  },
  "language_info": {
   "codemirror_mode": {
    "name": "ipython",
    "version": 3
   },
   "file_extension": ".py",
   "mimetype": "text/x-python",
   "name": "python",
   "nbconvert_exporter": "python",
   "pygments_lexer": "ipython3",
   "version": "3.8.6"
  }
 },
 "nbformat": 4,
 "nbformat_minor": 5
}
