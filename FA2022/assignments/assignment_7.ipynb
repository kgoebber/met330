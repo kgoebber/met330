{
 "cells": [
  {
   "cell_type": "markdown",
   "id": "672684ea-1e2e-4b03-aa2a-7d2477fd29e7",
   "metadata": {},
   "source": [
    "# Assignment #7\n",
    "\n",
    "This assignment can be completed by adding code to this notebook for each question.\n",
    "\n",
    "Turn in a completed script, renamed as\n",
    "\n",
    "`assignment7_<username>.py`\n",
    "\n",
    "with your `<username>` being your DataVU login name (e.g., mine is `kgoebber`) to `/archive/courses/met330/assignment7` via the Linux computing system.\n",
    "\n",
    "**DUE DATE: 10 November 2022 at 10:30 am.**\n",
    "\n",
    "Prior to turning in your script, please cleanup and comment your code for each problem. Be sure that your output is self-describing."
   ]
  },
  {
   "cell_type": "markdown",
   "id": "7e022219-4618-411e-8ce7-295441c5d57e",
   "metadata": {},
   "source": [
    "**Background**\n",
    "\n",
    "Soundings and the parameters that can be calculated from them are\n",
    "essential tools that meteorologists use on a daily basis. While it is\n",
    "relatively easy to calculate some of these parameters by hand, it is\n",
    "helpful to have predefined functions that can make easy work of doing\n",
    "these calculations for any number of soundings. Additionally, it is\n",
    "useful to automate the plotting of temperature, dewpoint, and wind speed\n",
    "and direction on a skew-T diagram, so that a high-quality visualization\n",
    "can be produced quickly and on-demand. This assignment will slowly build\n",
    "a single program to calculate a number of variables and produce\n",
    "high-quality output to an end user."
   ]
  },
  {
   "cell_type": "markdown",
   "id": "e7b042d5-7030-4daa-a6d1-75e5d91592dd",
   "metadata": {},
   "source": [
    "Commandline Input Example:\n",
    "```\n",
    ">>> Input Location: SGF\n",
    ">>> Input Date/Time (YYYYMMDDHH): 2004061212\n",
    "```\n",
    "Text Output From Program:\n",
    "```\n",
    "SGF Observations at 12Z 12 Jun 2004\n",
    "---------------------------------------------------\n",
    " PRES    TEMP  DWPT  RELH   MIXR  DRCT  SKNT  THTA\n",
    " hPa      C     C     %     g/kg  deg   knot   K\n",
    "---------------------------------------------------\n",
    "986.0   22.4   21.2  92.9  16.60  200     5   298.3\n",
    "948.0   23.6   21.1  85.9  16.85  229    23   301.3\n",
    "\n",
    ".\n",
    ".\n",
    ".\n",
    ".\n",
    ".\n",
    ".\n",
    "\n",
    "  4.8  -23.3  -57.3   2.8   3.46   63    35  1148.1\n",
    "  4.7  -24.0  -57.6   2.9   3.41   59    35  1151.8\n",
    "\n",
    "Station Information and sounding indices\n",
    "\n",
    "Station identifier: SGF\n",
    "Observation time: 040612/1200\n",
    "Lifted Index: -5.77 C\n",
    "Total Totals Index: 54.2\n",
    "SBCAPE: 1883.7 J/kg\n",
    "SBCIN: -87.1 J/kg\n",
    "LCL: 951 hPa\n",
    "LFC: 801 hPa\n",
    "EL: 207 hPa\n",
    "\n",
    "WARNING: SEVERE THUNDERSTORMS ARE POSSIBLE!\n",
    "\n",
    ">>>\n",
    "```"
   ]
  },
  {
   "cell_type": "code",
   "execution_count": null,
   "id": "1c49a52b-c8a5-4ca3-ba96-ca874610b7c5",
   "metadata": {},
   "outputs": [],
   "source": [
    "# add all imports needed to this cell\n",
    "from datetime import datetime\n",
    "\n"
   ]
  },
  {
   "cell_type": "markdown",
   "id": "4b62228b-7e8e-420f-8a25-9669f3787f6a",
   "metadata": {},
   "source": [
    "## Question #1\n",
    "\n",
    "Write a Python program that reads (5 points) in a sounding data file from the\n",
    "Wyoming sounding archive and print the raw data to standard output.\n",
    "The program input should be the sounding location (three-letter\n",
    "identifier) and date/time in YYYYMMDDHH.\n",
    "\n",
    "Program Name: **soundings.py**\n",
    "\n",
    "Program Input: Sounding Location and Date/Time\n",
    "\n",
    "Program Output: Sounding Text File **(\\<station\n",
    "ID\\>\\_YYYYMMDD\\_HH.txt**) and Skew-T Image **(\\<station\n",
    "ID\\>\\_YYYYMMDD\\_HH.png**)\n",
    "\n",
    "Test Sounding Location: SGF\n",
    "\n",
    "Test Sounding Date/Time: 2004061212"
   ]
  },
  {
   "cell_type": "code",
   "execution_count": null,
   "id": "e6973740-1052-4b6a-bd62-f7233ea1694a",
   "metadata": {},
   "outputs": [],
   "source": []
  },
  {
   "cell_type": "markdown",
   "id": "61df7fa0-c105-44b6-8f0b-ba3c179f644d",
   "metadata": {},
   "source": [
    "## Question #2\n",
    "Calculate (5 points) the following variables for each level in the sounding and\n",
    "create well formatted output saved to a file (10 points) similar in style to that of the Wyoming\n",
    "site including all appropriate variables:\n",
    "\n",
    "- Potential Temperature\n",
    "- Mixing Ratio\n",
    "- Relative Humidity\n",
    "- Wind Speed\n",
    "- Wind Direction\n",
    "\n",
    "> Note: Utilize your resources well. These can all be calculated easily\n",
    "> using the MetPy module."
   ]
  },
  {
   "cell_type": "code",
   "execution_count": null,
   "id": "d5af62ca-0193-4945-bb52-4f6f9ee8c276",
   "metadata": {},
   "outputs": [],
   "source": []
  },
  {
   "cell_type": "markdown",
   "id": "0d76dbdb-144f-4b18-9d69-b5e057c3da2c",
   "metadata": {},
   "source": [
    "## Question #3\n",
    "Calculate the following levels for a surface-based parcel path and\n",
    "add to the text output of problem 2 (5 points):\n",
    "- Lifting Condensation Level\n",
    "- Level of Free Convection\n",
    "- Equilibrium Level\n",
    "- Lifted Index\n",
    "- Total Totals Index\n",
    "- SBCAPE\n",
    "- SBCIN\n",
    "\n",
    "> Note: Utilize your resources well. These can all be calculated easily using the MetPy module."
   ]
  },
  {
   "cell_type": "code",
   "execution_count": null,
   "id": "e2d0be87-7d27-4dd5-845f-111489c0a8df",
   "metadata": {},
   "outputs": [],
   "source": []
  },
  {
   "cell_type": "markdown",
   "id": "444d146b-dece-43f5-8ede-c89929d317c6",
   "metadata": {},
   "source": [
    "## Question #4\n",
    "Plot the sounding on a skew-T using Python and include the\n",
    "surfaced-based parcel profile (10 points).\n",
    "- Plot an appropriate title on the skew-T with the station ID, date and time of the launch\n",
    "- Plot markers and text to identify the location of the LCL, LFC, and EL.\n",
    "    \n",
    "> Note: Utilize the temperature and pressure values from finding the levels to help you plot the marker and text in the correct location.\n",
    "    "
   ]
  },
  {
   "cell_type": "code",
   "execution_count": null,
   "id": "af662948-3d55-4781-98c3-4deef58d1ba3",
   "metadata": {},
   "outputs": [],
   "source": []
  },
  {
   "cell_type": "markdown",
   "id": "b5c9bd4f-b37c-4abf-b11b-fcd0892ea754",
   "metadata": {},
   "source": [
    "## Question #5\n",
    "Shade the CAPE and CIN area on the plot you created in question #4 (5 points)."
   ]
  },
  {
   "cell_type": "markdown",
   "id": "ed0e8ca2-eca5-4968-a680-a16b6b56eb79",
   "metadata": {},
   "source": [
    "## Question #6\n",
    "Plot a hodograph of the lowest 6 km of the atmosphere somewhere on your skew-T diagram that you created in question #4 (5 points)."
   ]
  },
  {
   "cell_type": "markdown",
   "id": "c674a0b2-4dbe-4993-8fa5-c3077651441c",
   "metadata": {},
   "source": [
    "## Question #7\n",
    "Have the program assess the likelihood of severe weather happening\n",
    "as a result of a given sounding. Use the following critical values\n",
    "for skew-T parameters to have the program make the determination if\n",
    "severe weather is likely to occur or not. If at least two of the\n",
    "parameters outlined below are satisfied, then severe weather is more\n",
    "likely than not to occur if thunderstorms develop issue the\n",
    "following statement, \"WARNING: SEVERE THUNDERSTORMS ARE POSSIBLE!\",\n",
    "otherwise issue the following statement, \"NOTE: Severe Thunderstorms\n",
    "Not Likely To Occur.\" (5 points)\n",
    "\n",
    "- CAPE >= 1500 J/kg\n",
    "- CIN >= -125 J/kg\n",
    "- LI <= -2 delta_degC"
   ]
  },
  {
   "cell_type": "code",
   "execution_count": null,
   "id": "c3ee5d1c-f908-456a-add0-9a4b96021374",
   "metadata": {},
   "outputs": [],
   "source": []
  },
  {
   "cell_type": "code",
   "execution_count": null,
   "id": "e01183c0-5e1c-4907-a1c7-ea04e5a469fb",
   "metadata": {},
   "outputs": [],
   "source": []
  }
 ],
 "metadata": {
  "kernelspec": {
   "display_name": "Python 3 (ipykernel)",
   "language": "python",
   "name": "python3"
  },
  "language_info": {
   "codemirror_mode": {
    "name": "ipython",
    "version": 3
   },
   "file_extension": ".py",
   "mimetype": "text/x-python",
   "name": "python",
   "nbconvert_exporter": "python",
   "pygments_lexer": "ipython3",
   "version": "3.10.5"
  }
 },
 "nbformat": 4,
 "nbformat_minor": 5
}
