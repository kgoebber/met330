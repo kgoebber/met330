{
 "cells": [
  {
   "cell_type": "markdown",
   "id": "672684ea-1e2e-4b03-aa2a-7d2477fd29e7",
   "metadata": {},
   "source": [
    "# Assignment #5\n",
    "\n",
    "This assignment can be completed by adding code to this notebook for each question.\n",
    "\n",
    "Turn in a completed notebook, renamed as\n",
    "\n",
    "`assignment5_<username>.ipynb`\n",
    "\n",
    "with your `<username>` being your DataVU login name (e.g., mine is `kgoebber`) to `/archive/courses/met330/assignment5` via the Linux computing system.\n",
    "\n",
    "**DUE DATE: 20 October 2022 at 10:30 am.**\n",
    "\n",
    "Prior to turning in your notebook, please cleanup and comment your code for each problem. Be sure that your output is self-describing"
   ]
  },
  {
   "cell_type": "code",
   "execution_count": 1,
   "id": "1c49a52b-c8a5-4ca3-ba96-ca874610b7c5",
   "metadata": {},
   "outputs": [],
   "source": [
    "from datetime import datetime\n",
    "\n",
    "import cartopy.crs as ccrs\n",
    "import cartopy.feature as cfeature\n",
    "import cftime\n",
    "import matplotlib.pyplot as plt\n",
    "import numpy as np\n",
    "import xarray as xr"
   ]
  },
  {
   "cell_type": "markdown",
   "id": "4a064837-c3fa-415d-93bc-ab31b2192056",
   "metadata": {},
   "source": [
    "## Question #1\n",
    "(30 points) Studying the terrain of a region is important to understanding the flow of water and topographic influences to rising and sinking motion within the atmopshere. In this problem you'll be investigating the terrain for the state of Colorado.\n",
    "\n",
    "1. (1 point) Use the `ETOPO1_gdal.nc` file, which is a netCDF version of a Digital Elevation Model with terrain in units of meters.\n",
    "2. (4 point) Subset your domain to be over the Western U.S. (approximately from the Pacific Ocean to the Missippii River between the Canadian and Mexican border).\n",
    "3. (10 points) Plot the terrain in units of feet as contours or color-filled contours on a map, which includes at least the state borders with the extent focused on just the state of Colorado\n",
    "4. (5 points) Add the following cities to your figure as a star marker and add the city name as text near the marker\n",
    "   - Denver, CO\n",
    "   - Ft. Collins, CO\n",
    "   - Grand Lake, CO\n",
    "   - Aspen, CO\n",
    "   - Steamboat Springs, CO\n",
    "   - Grand Junction, CO\n",
    "   - Pueblo, CO\n",
    "   - Limon, CO\n",
    "   - Colorado Springs, CO\n",
    "5. (5 points) Determine the highest and lowest elevations within the following bounding box (-102 to -109 E; 37 to 41 N; roughly the state of Colorado) and plot a marker at the highest and lowest elevation latitude/longitude points and plot the text giving the elevation values for each point.\n",
    "6. (5 points) Appropriately title and label your plot. The figure asthetics (e.g., use of color, linesize, linetype, linewidths, colormaps, etc.) will factor into the grading of the final figure.\n",
    "\n",
    "Input:\n",
    "   - Global Digital Elevation Model data; `ETOPO1_gdal.nc` (located in `/archive/courses/met330`)\n",
    "\n",
    "Output:\n",
    "   - Figure 1: Terrain Contour plot in units of feet with the nine city locations identified and labeled, along with the highest and lowest points.\n",
    "   \n",
    "Note: The original data file contains the terrain in units of meters above sea level."
   ]
  },
  {
   "cell_type": "code",
   "execution_count": null,
   "id": "d7596ad9-fd3e-4524-ba56-db61378a9a89",
   "metadata": {},
   "outputs": [],
   "source": []
  },
  {
   "cell_type": "markdown",
   "id": "62bfeabc-7039-46a0-be00-c5465c37f6c8",
   "metadata": {},
   "source": [
    "## Question #2\n",
    "(30 points) Sea surface temperatures (SSTs) are an important feature that explains much about the distribution of temperature, precipitation, and thus vegetation around the globe. Owing to parts of the global circulation, a prominent variation in SSTs occurs in the Eastern Pacific Ocean (off the coast of Peru) that are related to changes in the Southern Oscillation Index and the phenomenon we call El Nino and La Nina. El Nino patterns are associated with warmer than normal (a warm anomaly) within the central or eastern Pacific Ocean along the equator. Your task is in evaluating the development of the warm SST anomalies associated with a significant El Nino event in 1997 by creating some graphics detailed below.\n",
    "\n",
    "1. (2 points) Read in OISST daily mean data for 1997 (version 2) and the OISST daily long term mean (LTM) netCDF files.\n",
    "2. (5 points) Plot the global SST daily mean values for the first day of Fall in 1997 (22 September 1997).\n",
    "3. (5 points) Compute the anomaly values for the Eastern Pacific Ocean (25N to 25S; 130E to 70W) for\n",
    "   - 1 February 1997\n",
    "   - 1 April 1997\n",
    "   - 1 June 1997\n",
    "   - 1 August 1997\n",
    "   - 1 October 1997\n",
    "   - 1 December 1997\n",
    "   \n",
    "4. (10 points) Plot each day of the anomaly values on a separate axes on one figure (e.g., you should have six subplots) to demonstrate the evolution of the SST anomalies over the course of the year.\n",
    "5. (3 points) Choose an appropriate colormap for viewing anomaly values (a diverging colormap would be most appropriate)\n",
    "6. (5 points) Determine the maximum anomaly for the Eastern Pacific region for each month identified above and report the maximum value for each subplot in its title.\n",
    "\n",
    "Input Data:\n",
    "  - OISST (Optimum Interpolation SST v2; https://psl.noaa.gov/thredds/catalog/Datasets/noaa.oisst.v2.highres/catalog.html\n",
    "     - Daily Means for 1997: https://psl.noaa.gov/thredds/dodsC/Datasets/noaa.oisst.v2.highres/sst.day.mean.1997.v2.nc\n",
    "     - Daily LTM 1971-1990: https://psl.noaa.gov/thredds/dodsC/Datasets/noaa.oisst.v2.highres/sst.day.mean.ltm.nc\n",
    "     \n",
    "Output:\n",
    "  - Figure 1: Global SST for the first day of fall 1997\n",
    "  - Figure 2: A multipanel plot containing the six monthly SST anomalies\n",
    "  \n",
    "Notes:\n",
    "* For plotting the anomalies over the Eastern Pacific Ocean, you'll likely want to modify your plot projection to be centered over the international date line (180 degree).\n",
    "* You do NOT have to compute all of the anomaly values before plotting. Make good use of looping and/or definitions to help you be effecient in coding your answer. Part of your score on this question will relate to how effecient your code is in accomplishing the task."
   ]
  },
  {
   "cell_type": "code",
   "execution_count": null,
   "id": "e2f777e6-22c9-4258-9ac5-fe2299be18ce",
   "metadata": {},
   "outputs": [],
   "source": []
  }
 ],
 "metadata": {
  "kernelspec": {
   "display_name": "Python 3 (ipykernel)",
   "language": "python",
   "name": "python3"
  },
  "language_info": {
   "codemirror_mode": {
    "name": "ipython",
    "version": 3
   },
   "file_extension": ".py",
   "mimetype": "text/x-python",
   "name": "python",
   "nbconvert_exporter": "python",
   "pygments_lexer": "ipython3",
   "version": "3.10.5"
  }
 },
 "nbformat": 4,
 "nbformat_minor": 5
}
