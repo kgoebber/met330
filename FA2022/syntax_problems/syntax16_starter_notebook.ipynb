{
 "cells": [
  {
   "cell_type": "code",
   "execution_count": null,
   "id": "f2b90f42-479d-4291-91c6-67e8aac2be46",
   "metadata": {},
   "outputs": [],
   "source": [
    "from datetime import datetime\n",
    "\n",
    "import cartopy.crs as ccrs\n",
    "import cartopy.feature as cfeature\n",
    "import matplotlib.pyplot as plt\n",
    "from metpy.plots import colortables\n",
    "from metpy.units import units\n",
    "from siphon.catalog import TDSCatalog\n",
    "import numpy as np\n",
    "import xarray as xr"
   ]
  },
  {
   "cell_type": "code",
   "execution_count": null,
   "id": "76dd2c3f-f573-4529-89c8-cd1d7968f0a1",
   "metadata": {},
   "outputs": [],
   "source": [
    "def get_satellite_data(date, region='CONUS', channel=2, satellite='east'):\n",
    "    '''\n",
    "    This function helps to obtain GOES satellite data by channel from the UCAR THREDDS server.\n",
    "    \n",
    "    Input:\n",
    "      * date - a datetime object specifying the desired time\n",
    "      * region - the portion of satellite data wanted\n",
    "        - CONUS (default)\n",
    "        - fulldisk\n",
    "      * channel (int value 1 - 16; default is 2)\n",
    "      * satellite ('east' or 'west'; default is 'east')\n",
    "    \n",
    "    Output:\n",
    "      * xarray DataArray containing the nearest time requested satellite data for the region, channel, and satellite.\n",
    "    '''\n",
    "    # We want to match something like:\n",
    "    # https://thredds-test.unidata.ucar.edu/thredds/catalog/satellite/goes16/GOES16/Mesoscale-1/Channel08/20181113/catalog.html\n",
    "\n",
    "    # Construct the data_url string\n",
    "    data_url = (f'https://thredds.ucar.edu/thredds/catalog/satellite/goes/{satellite}/products/'\n",
    "                f'CloudAndMoistureImagery/{region}/Channel{channel:02d}/'\n",
    "                f'{date:%Y%m%d}/catalog.xml')\n",
    "\n",
    "    # Get list of files available for particular day\n",
    "    cat = TDSCatalog(data_url)\n",
    "\n",
    "    # Grab dataset for desired time\n",
    "    dataset = cat.datasets.filter_time_nearest(date, regex=r'_s(?P<strptime>\\d{13})', strptime='%Y%j%H%M%S')\n",
    "\n",
    "    # Open most recent file available\n",
    "    ds = dataset.remote_access(use_xarray=True).metpy.parse_cf()\n",
    "    \n",
    "    return ds"
   ]
  },
  {
   "cell_type": "code",
   "execution_count": null,
   "id": "1fb9c32f-9755-4418-b7c9-cc519092692c",
   "metadata": {},
   "outputs": [],
   "source": [
    "# Set up colortable\n",
    "cmap = colortables.get_colortable('WVCIMSS_r')"
   ]
  },
  {
   "cell_type": "code",
   "execution_count": null,
   "id": "e412d284-0482-4844-a39a-8c7a9a186627",
   "metadata": {},
   "outputs": [],
   "source": []
  }
 ],
 "metadata": {
  "kernelspec": {
   "display_name": "Python 3 (ipykernel)",
   "language": "python",
   "name": "python3"
  },
  "language_info": {
   "codemirror_mode": {
    "name": "ipython",
    "version": 3
   },
   "file_extension": ".py",
   "mimetype": "text/x-python",
   "name": "python",
   "nbconvert_exporter": "python",
   "pygments_lexer": "ipython3",
   "version": "3.10.6"
  }
 },
 "nbformat": 4,
 "nbformat_minor": 5
}
