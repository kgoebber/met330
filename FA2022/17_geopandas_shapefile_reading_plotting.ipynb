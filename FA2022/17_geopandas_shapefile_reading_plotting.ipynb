{
 "cells": [
  {
   "cell_type": "code",
   "execution_count": null,
   "id": "1850dbee-6ed2-450d-80e1-2e05f950dd59",
   "metadata": {},
   "outputs": [],
   "source": [
    "from datetime import datetime\n",
    "\n",
    "import cartopy.crs as ccrs\n",
    "import cartopy.feature as cfeature\n",
    "import geopandas as gpd\n",
    "import matplotlib.pyplot as plt\n",
    "from shapely.geometry import Polygon"
   ]
  },
  {
   "cell_type": "markdown",
   "id": "80091fc1-b6d2-42f1-bebd-69e43a4ecd73",
   "metadata": {},
   "source": [
    "# Reading and Plotting Shapefiles\n",
    "When we plot state borders, coastlines, rivers, etc. on a map, we are plotting data that is stored in a shapefile. A shapefile can contain any combination of the following geometry: Point, MultiPoint, Line, MultiLine, Polygon, and MultiPolygon. These geo-referenced data objects are widely used in GIS applications. A common source of shapefiles come from the decenial census and are commonly referred to as Tiger Files. Increasingly there are other data being distributed in this same format including projects from the National Weather Service.\n",
    "\n",
    "Natural Earth Webiste: https://www.naturalearthdata.com\n",
    "\n",
    "NWS Shapefiles Data: https://www.weather.gov/gis/NWS_Shapefile\n",
    "\n",
    "Census Data: https://www.census.gov/geographies/mapping-files/time-series/geo/tiger-line-file.html\n",
    "\n",
    "In this notebook we'll demonstrate how to:\n",
    "* Download shapefiles from Natural Earth Data (since you cannot load them remotely)\n",
    "* Investigate the GeoDataFrame, its similarities and differences to a Pandas DataFrame\n",
    "* Plot Point, Line, and Polygon data\n",
    "* Clip our Shapfile data based on a Polygon of our own creation\n",
    "* Read a remote shapefile and plot some Polygons"
   ]
  },
  {
   "cell_type": "markdown",
   "id": "ac49a583-6476-4430-b5a0-ced1a7f055e7",
   "metadata": {},
   "source": [
    "## wget\n",
    "\n",
    "Wget is a Linux command that will download a file from the world wide web provided you give the full web address to the file. To run a Linux command from within a Jupyter Notebook, simply add an exclamation point (!) to the beginning of the command.\n",
    "\n",
    "```python\n",
    "!wget https://www.naturalearthdata.com/http//www.naturalearthdata.com/download/10m/cultural/ne_10m_parks_and_protected_lands.zip\n",
    "```\n",
    "\n",
    "Let's go to the Natural Earth Data website and find a file to download. Data are located under the \"Download\" tab and there is different data available in the three scales of 1:10 million, 1:50 million, and 1:100 million. Let's take a look at the data available for the scale of 1:10 million.\n",
    "\n",
    "Let's find roads under the Cultural grouping of files..."
   ]
  },
  {
   "cell_type": "code",
   "execution_count": null,
   "id": "7ee36b51-f52d-4a20-9413-b04771aeab4f",
   "metadata": {},
   "outputs": [],
   "source": []
  },
  {
   "cell_type": "markdown",
   "id": "bfd0dac4-a8cc-4101-92c5-dca8d81c50a3",
   "metadata": {},
   "source": [
    "## Reading Shapefiles\n",
    "\n",
    "There is a nice package called GeoPandas, which can allow us to easily read in, work with, and manipulate our shapefile data. What lies at the heart of these shapefiles are tabular data (hence why using a Pandas base is logical) and the addition to a traditional Pandas DataFrame are one or more columns that contain the geometry (Point, Line, Polygon) of our data.\n",
    "\n",
    "GeoPandas Documentation: https://geopandas.org/docs/user_guide.html\n",
    "\n",
    "These geometries are Shapely base objects, which are Python implementations of PostGIS patial extension for the PostgreSQL RDBMS. Essentially what this means is that this is the Pythonic way of reading and maniuplating the same objects that are used in all common GIS platforms. To read more about Shapely and how we can work with these Point, Line, and Polygon objects, visit the Shapely documentation at: https://shapely.readthedocs.io/en/stable/manual.html#geometric-objects\n",
    "\n",
    "But for now, let's read in our data that we downloaded using GeoPandas `read_file()` method.\n",
    "\n",
    "```python\n",
    "gdf = gpd.read_file(<filename>)\n",
    "```\n",
    "\n",
    "Since we have downloaded the file from within our notebook, that will have placed the file in the working directory that the notebook resides in, so we'll just have to provide the name of the file."
   ]
  },
  {
   "cell_type": "code",
   "execution_count": null,
   "id": "24dbd675-3e88-42f5-8e7c-0d79f372757e",
   "metadata": {},
   "outputs": [],
   "source": []
  },
  {
   "cell_type": "markdown",
   "id": "ea697bba-82ed-459d-a7c8-fd96149c0a73",
   "metadata": {},
   "source": [
    "There is a lot of data contained within this file. Let's first see what types of roads that we have within the GeoDataFrame."
   ]
  },
  {
   "cell_type": "code",
   "execution_count": null,
   "id": "f0097676-76ee-4fb7-abe7-4cf5ec01047c",
   "metadata": {},
   "outputs": [],
   "source": []
  },
  {
   "cell_type": "markdown",
   "id": "30e3126e-b15d-4e71-9907-d8665e5c87ea",
   "metadata": {},
   "source": [
    "We also have data from many different continents."
   ]
  },
  {
   "cell_type": "code",
   "execution_count": null,
   "id": "0ab6cf07-ffae-4426-b226-db3318624fda",
   "metadata": {},
   "outputs": [],
   "source": []
  },
  {
   "cell_type": "markdown",
   "id": "80a49fa0-eeca-45ef-afc7-70d1351b93ab",
   "metadata": {},
   "source": [
    "Let's subset our data for just Interstate in USA."
   ]
  },
  {
   "cell_type": "code",
   "execution_count": null,
   "id": "4b98063a-2b30-4bf8-9643-dc7e854287e9",
   "metadata": {},
   "outputs": [],
   "source": []
  },
  {
   "cell_type": "markdown",
   "id": "c70f787a-c1fc-48da-aec5-307571238453",
   "metadata": {},
   "source": [
    "## Plotting Shapefile\n",
    "\n",
    "Let's work to plot the North American Major Highways. To do this we'll need the `.add_geometries()` method, which comes with our projected axes.\n",
    "\n",
    "The key to adding geometries is that you are looking to feed in the column of data that contains the geometry you wish to plot, whether a Point, a Line, or a Polygon.\n",
    "\n",
    "```python\n",
    "ax.add_geometries(<geometry column>, crs, **kwargs)\n",
    "```"
   ]
  },
  {
   "cell_type": "code",
   "execution_count": null,
   "id": "5c10aed0-2ee9-4f13-aa78-2558bcd85bb3",
   "metadata": {},
   "outputs": [],
   "source": [
    "plt.figure(figsize=(12, 12))\n",
    "ax = plt.subplot(111, projection=ccrs.LambertConformal(central_longitude=-88.75))\n",
    "\n",
    "ax.set_extent([-89, -86, 39, 43], ccrs.PlateCarree())\n",
    "\n",
    "ax.add_feature(cfeature.STATES.with_scale('10m'), edgecolor='black')\n",
    "ax.add_feature(cfeature.COASTLINE.with_scale('50m'))\n",
    "\n",
    "ax.add_geometries()\n",
    "\n",
    "plt.show()"
   ]
  },
  {
   "cell_type": "markdown",
   "id": "20dca005-fe10-4220-822b-f8f19a3256d0",
   "metadata": {},
   "source": [
    "## Plotting Forecast Shapefiles\n",
    "The NWS has a number of different shapefiles that contain forecasts or other elements. These files we can read in remotely from the website, which is nice, because these change with some forecast frequency."
   ]
  },
  {
   "cell_type": "markdown",
   "id": "88b40167-3e34-4ad0-8398-8e43e2cd0165",
   "metadata": {},
   "source": [
    "https://www.cpc.ncep.noaa.gov/products/GIS/GIS_DATA/\n",
    "\n",
    "From the CPC website, let's read in the 6-10 day forecast for the temperature. It will be best to use the \"latest\" link, so that whenever you pull this data, you'll always get the most recent forecast!"
   ]
  },
  {
   "cell_type": "code",
   "execution_count": null,
   "id": "9c1d36f9-23a7-40ef-9492-eeaf0ba64567",
   "metadata": {},
   "outputs": [],
   "source": [
    "outlook = "
   ]
  },
  {
   "cell_type": "markdown",
   "id": "899ec8a1-ba71-40e9-a29d-ed244fe19286",
   "metadata": {},
   "source": [
    "Take a quick look at the data."
   ]
  },
  {
   "cell_type": "code",
   "execution_count": null,
   "id": "001f4880-06c6-4bc5-b560-ddadb1fbae08",
   "metadata": {},
   "outputs": [],
   "source": [
    "outlook.plot()"
   ]
  },
  {
   "cell_type": "markdown",
   "id": "eb11967c-9656-4965-b12e-47438b32e9a7",
   "metadata": {},
   "source": [
    "This data contains forecasts for not only the CONUS, but Alaska and Hawaii as well. To simpify the plotting, I just want to plot the CONUS, so in order to subset our GeoDataFrame, we'll need to clip our data. To do this we'll need to set up a Polygon that is slightly bigger than the CONUS area. \n",
    "\n",
    "To set a Polygon, we'll use the Shapely Geometry object, Polygon, and set a series of five points where the first and the last point are the same, so define four line segments that will be connected and allow Python to determine what is within and what is outside of that particular Polygon for subsetting purposes.\n",
    "\n",
    "Our five points:\n",
    "* Lower Left Point: -130E, 20N\n",
    "* Upper Left Point: -130E, 50N\n",
    "* Upper Right Point: -60E, 50N\n",
    "* Lower Right Point: -60E, 20N\n",
    "* Original Point: -130E, 20N\n",
    "\n",
    "Each point is entered as a tuple pair value within a simple list\n",
    "\n",
    "```python\n",
    "clip_polygon = Polygon([(-130, 20), (-130, 50), (-60, 50), (-60, 20), (-130, 20)])\n",
    "```\n",
    "\n",
    "Then we use the `.clip()` method available through our GeoDataFrame, feeding it the clip Polygon that we just defined.\n",
    "\n",
    "```python\n",
    "subset = gdf.clip(clip_polygon)\n",
    "```"
   ]
  },
  {
   "cell_type": "code",
   "execution_count": null,
   "id": "8f3c3777-36d1-4cba-93d0-21b87a56c571",
   "metadata": {},
   "outputs": [],
   "source": [
    "# Create a custom polygon\n",
    "US_clip_polygon = Polygon([(-130, 20), (-130, 50), (-60, 50), (-60, 20), (-130, 20)])\n",
    "\n",
    "outlook = "
   ]
  },
  {
   "cell_type": "markdown",
   "id": "7d1ab05f-74aa-4fa1-af56-fe85461969ff",
   "metadata": {},
   "source": [
    "Now how do we go about plotting these forecasts?\n",
    "\n",
    "Each discrete Polygon is on its own line, so we can plot one at a time and add some color based on the the probability. To do this we'll need to employ some looping and pulling colors from a colormap."
   ]
  },
  {
   "cell_type": "code",
   "execution_count": null,
   "id": "4264fbc5-f9f6-4552-ab5f-193bd513ea0b",
   "metadata": {},
   "outputs": [],
   "source": [
    "plt.figure(figsize=(15, 10))\n",
    "ax = plt.subplot(111, projection=ccrs.LambertConformal())\n",
    "\n",
    "ax.set_extent([-124, -65, 22, 50], ccrs.PlateCarree())\n",
    "\n",
    "# Plot Above Average\n",
    "    # First ID just the above normal forecast polygons\n",
    "above = outlook[outlook.Cat == 'Above']\n",
    "    # Grab a warm color colormap that we'll be able to pull colors from\n",
    "    # later based on the probablility of the forecast\n",
    "above_cmap = plt.cm.get_cmap('YlOrRd')\n",
    "    # Now loop over all of the rows from the GeoDataFrame\n",
    "    # Add the geometries as we go along, choosing the color from our\n",
    "    # colormap based on the fraction probability\n",
    "for _, poly in above.iterrows():\n",
    "    ax.add_geometries([poly['geometry']], facecolor = above_cmap(poly['Prob']/100),\n",
    "                      edgecolor='black', crs=ccrs.PlateCarree())\n",
    "    # If the probability is a maximum value, find the centroid point and plot\n",
    "    # ABOVE at that point.\n",
    "    if poly.Prob == above.Prob.max():\n",
    "        lon, lat = poly.geometry.centroid.coords[0]\n",
    "        ax.text(lon, lat, 'Above', fontdict = {'fontsize': 16, 'fontweight':'bold'},\n",
    "                ha='center', transform=ccrs.PlateCarree())\n",
    "\n",
    "# Plot Below Average\n",
    "    # First ID just the below normal forecast polygons\n",
    "\n",
    "    # Grab a cold color colormap that we'll be able to pull colors from\n",
    "    # later based on the probablility of the forecast\n",
    "\n",
    "    # Now loop over all of the rows from the GeoDataFrame\n",
    "    # Add the geometries as we go along, choosing the color from our\n",
    "    # colormap based on the fraction probability\n",
    "\n",
    "    # If the probability is a maximum value, find the centroid point and plot\n",
    "    # BELOW at that point.\n",
    "\n",
    "\n",
    "# Plot Near Normal\n",
    "normal = outlook[outlook.Cat == 'Normal']\n",
    "for _, poly in normal.iterrows():\n",
    "    ax.add_geometries(poly.geometry, facecolor = 'lightgrey',\n",
    "                      crs = ccrs.PlateCarree())\n",
    "    # Here we plot just a representative point within the region of Normal values\n",
    "    lon, lat = poly.geometry.representative_point().coords[0]\n",
    "    ax.text(lon, lat, 'Near\\nNormal', fontdict = {'fontsize': 16, 'fontweight':'bold'},\n",
    "            ha='center', transform=ccrs.PlateCarree())\n",
    "\n",
    "# Add state and coastline boundaries\n",
    "ax.add_feature(cfeature.STATES.with_scale('50m'), edgecolor='grey')\n",
    "ax.add_feature(cfeature.COASTLINE.with_scale('50m'), edgecolor='grey')\n",
    "\n",
    "# Use the date/times from the file to set some appropriate titles\n",
    "sdate = datetime.strptime(outlook.Start_Date.values[0], '%Y-%m-%d')\n",
    "edate = datetime.strptime(outlook.End_Date.values[0], '%Y-%m-%d')\n",
    "idate = datetime.strptime(outlook.Fcst_Date.values[0], '%Y-%m-%d')\n",
    "ax.set_title(f'CPC 6-10 Day Temperature Outlook\\nValid: {sdate:%d %B %Y} - {edate:%d %B %Y}', loc='left')\n",
    "ax.set_title(f'\\nIssued: {idate: %d %B %Y}', loc='right')\n",
    "\n",
    "plt.show()"
   ]
  },
  {
   "cell_type": "code",
   "execution_count": null,
   "id": "c20bca97-6e21-46df-a39b-a7db03969bac",
   "metadata": {},
   "outputs": [],
   "source": []
  }
 ],
 "metadata": {
  "kernelspec": {
   "display_name": "Python 3 (ipykernel)",
   "language": "python",
   "name": "python3"
  },
  "language_info": {
   "codemirror_mode": {
    "name": "ipython",
    "version": 3
   },
   "file_extension": ".py",
   "mimetype": "text/x-python",
   "name": "python",
   "nbconvert_exporter": "python",
   "pygments_lexer": "ipython3",
   "version": "3.10.5"
  }
 },
 "nbformat": 4,
 "nbformat_minor": 5
}
