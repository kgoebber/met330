{
 "cells": [
  {
   "cell_type": "markdown",
   "id": "7001d771-1bb4-4e9e-8e3c-8d1c57adf9a5",
   "metadata": {
    "editable": true,
    "slideshow": {
     "slide_type": ""
    },
    "tags": []
   },
   "source": [
    "# Control Flow - If Statements\n",
    "\n",
    "So far we have learned computer programming that only works in a linear fashion. There will be times when we only want to do things only when certain conditions are met. In order to facilitate this within a programming language we need a way for the program to know the \"truthiness\" of a statement.\n",
    "\n",
    "REF: DeCaria Section 5.3"
   ]
  },
  {
   "cell_type": "markdown",
   "id": "5871c9cb-8fc7-4d2e-bb63-d0e21548ba09",
   "metadata": {
    "nbpresent": {
     "id": "e5deb65e-b5b2-4533-b5e3-78afbed4df6d"
    },
    "slideshow": {
     "slide_type": "slide"
    },
    "tags": []
   },
   "source": [
    "## Logical Operators\n",
    "\n",
    "In order test values we need a set of operators that can help the computer determine the \"truthiness\". Here are the list of the most common logical operators used in Python.\n",
    "\n",
    "| symbol | meaning|\n",
    "| :-: | :-: |\n",
    "| < | less than |\n",
    "| <= | less than or equal |\n",
    "| > | greater than |\n",
    "| >= | greater than or equal |\n",
    "| == | equal to |\n",
    "| != | not equal to |\n",
    "| `and` | |\n",
    "| `or` | |\n",
    "| `not` | |\n",
    "| \\| | bitwise or |\n",
    "| & | bitwise and |\n",
    "\n",
    "The non-bitwise `and`, `or`, and `not` evaluate the truthiness of the statements it is comparing, whereas the `&` and `|` operators work on the byte representations of any value to assess its truthiness. More likely than not, it will be best to use the non-bitwise versions.\n",
    "\n",
    "**NOTE: zero or empty objects are `False`, all other values and non-empty objects are `True`)**\n",
    "\n",
    "Let's test out the operators..."
   ]
  },
  {
   "cell_type": "code",
   "execution_count": null,
   "id": "ddd13e2b-0eff-415b-81f0-2a6b15b6465c",
   "metadata": {},
   "outputs": [],
   "source": [
    "# Test common logical operators\n",
    "print(5 < 10)"
   ]
  },
  {
   "cell_type": "code",
   "execution_count": null,
   "id": "0506d172-6998-447d-bca4-848797671a94",
   "metadata": {},
   "outputs": [],
   "source": [
    "# Test and, or logical operators\n",
    "mylist = []\n",
    "yourlist = [0, 5, 10, 15, 20, 25]\n",
    "print(bool(mylist))"
   ]
  },
  {
   "cell_type": "markdown",
   "id": "f4360005-18a0-4c8e-86f5-8fddd0ed18e9",
   "metadata": {
    "nbpresent": {
     "id": "d0d797b9-5088-43e9-bd2d-d847a069ad0a"
    },
    "slideshow": {
     "slide_type": "slide"
    }
   },
   "source": [
    "## If, Else If, Else Statements\n",
    "\n",
    "At a minimum you must include a single `if` call, but can then include any number of `elif` statements to check other possibilities, and then a single concluding `else` statement can be used as a catch-all for the if statement (with no need to have any `elif`s to have an `else`). Here is a full example of using `if`, `elif`, and `else` in a single if statement. Notice that at the end of each line contain a part of the if construct there is a colon (`:`), that is the important character for the Python interpreter to know it has reached the end of the logical statment and it should be evaluted to determine its truithiness. Also note that the `else` statement does not contain any logical condition as it only gets executed if each test before it results in a `False` designation.\n",
    "\n",
    "\n",
    "```python\n",
    "a = 5\n",
    "b = 10\n",
    "\n",
    "if a < b:\n",
    "    print(a)\n",
    "elif a == b:\n",
    "    print('a and b are equal')\n",
    "else:\n",
    "    print(b)\n",
    "```\n",
    "Output:\n",
    "```\n",
    "5\n",
    "```\n",
    "\n",
    "**NOTE:** Another key element of Python is that is is an indented language, so everything within the `if` statment and any `elif` or `else` statments must be indented the same amount. The standard indent is four spaces long.\n",
    "\n",
    "Let's test some if statements..."
   ]
  },
  {
   "cell_type": "markdown",
   "id": "2b9cee34-1505-4859-ad1a-1342b9e964d2",
   "metadata": {},
   "source": [
    "### if statment construct - stand alone\n",
    "\n",
    "Here is the construct of a simple if statment where you are looking to test a single conditional element (e.g., 5 < 10) to then choose to take a specific action (whatever is in the code block indented with the if statement) if it is `True`.\n",
    "```python\n",
    "if condition:\n",
    "    [code block]\n",
    "```"
   ]
  },
  {
   "cell_type": "code",
   "execution_count": null,
   "id": "620a29c1-7cac-446b-b060-c96279f03b69",
   "metadata": {
    "nbpresent": {
     "id": "16f55919-781c-46f4-9de6-2d683e8a485c"
    },
    "slideshow": {
     "slide_type": "subslide"
    }
   },
   "outputs": [],
   "source": [
    "# Simple stand alone if statement\n"
   ]
  },
  {
   "cell_type": "markdown",
   "id": "4484bdeb-5d72-412b-bdae-24d527364c1c",
   "metadata": {},
   "source": [
    "### if-else construct\n",
    "If you want to test one conditional, but if it is `False`, always do something else, then the `if`-`else` construct is for you! Note that in the `else` there is no conditional statement as it is a catch-all and will always be executed if the initial conditional is `False`.\n",
    "\n",
    "```python\n",
    "if condition:\n",
    "    [code block]\n",
    "else:\n",
    "    [default code block]\n",
    "```"
   ]
  },
  {
   "cell_type": "code",
   "execution_count": null,
   "id": "05686390-a609-429c-95d2-05342e018e90",
   "metadata": {},
   "outputs": [],
   "source": [
    "# If-else Construct\n"
   ]
  },
  {
   "cell_type": "markdown",
   "id": "cfeaec00-c90a-4b66-9ab8-87443936b694",
   "metadata": {},
   "source": [
    "### if-elif construct\n",
    "If there are multiple conditions you would like to check, then you can combine the traditional if statment with elif (else if) statements that check other conditions. Note that as soon as a `True` condition is found it will not check any of the other conditional statments left within the if-elif structure. Once the `True` condition is found it will run the code block associated with that condition and then move on in the program after the if statment.\n",
    "\n",
    "```python\n",
    "if condition1:\n",
    "    [code block one]\n",
    "elif condition2:\n",
    "    [code block two]\n",
    "elif condition3:\n",
    "    [code block three]\n",
    "```"
   ]
  },
  {
   "cell_type": "code",
   "execution_count": null,
   "id": "0a91a695-e75c-42c1-ac96-4847effc4c4b",
   "metadata": {},
   "outputs": [],
   "source": [
    "# If-elif Construct\n"
   ]
  },
  {
   "cell_type": "markdown",
   "id": "bf965d4c-31d2-4d74-87cf-56680fc97ac4",
   "metadata": {},
   "source": [
    "### if-elif-else construct\n",
    "The full complement of an if statement can contain one `if`, any number of `elif`s, and an `else` statment. Again, once a `True` condition is found it will run the code block associated with that condition and then move on in the program after the if statment.\n",
    "\n",
    "```python\n",
    "if condition1:\n",
    "    [code block one]\n",
    "elif condition2:\n",
    "    [code block two]\n",
    "elif condition3:\n",
    "    [code block three]\n",
    "else:\n",
    "    [default code block]\n",
    "```"
   ]
  },
  {
   "cell_type": "code",
   "execution_count": null,
   "id": "c055b3e8-4f70-4f46-bdac-cd025bafa9e9",
   "metadata": {},
   "outputs": [],
   "source": [
    "# If-elif-elif-else Construct\n"
   ]
  }
 ],
 "metadata": {
  "kernelspec": {
   "display_name": "Python 3 (ipykernel)",
   "language": "python",
   "name": "python3"
  },
  "language_info": {
   "codemirror_mode": {
    "name": "ipython",
    "version": 3
   },
   "file_extension": ".py",
   "mimetype": "text/x-python",
   "name": "python",
   "nbconvert_exporter": "python",
   "pygments_lexer": "ipython3",
   "version": "3.10.11"
  }
 },
 "nbformat": 4,
 "nbformat_minor": 5
}
