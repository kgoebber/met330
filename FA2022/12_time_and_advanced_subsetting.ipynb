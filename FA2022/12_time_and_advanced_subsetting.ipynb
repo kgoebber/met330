{
 "cells": [
  {
   "cell_type": "markdown",
   "id": "f21e1180-0520-47eb-82fc-6f28ee9f4bbf",
   "metadata": {},
   "source": [
    "# Time in Python\n",
    "\n",
    "Dealing with dates and times are not always the easiest thing. One of the built-in modules to Python is the datetime package, which has robust methods for dealing with all sorts of date related needs. This notebook will hit some of the main highlights of working with dates in Python.\n",
    "\n",
    "For full information on the datetime module visit the documentation pages: https://docs.python.org/3/library/datetime.html"
   ]
  },
  {
   "cell_type": "markdown",
   "id": "ea79101f-64a8-4433-bea9-6e734d4cd39a",
   "metadata": {},
   "source": [
    "## Importing Datetime Module\n",
    "\n",
    "The import statement is a little different from most of the imports that we do for Python modules as the name of the specific module we want to import is the same as the package itself.\n",
    "\n",
    "Documentation Page: https://docs.python.org/3/library/datetime.html#datetime-objects\n",
    "\n",
    "Examples of Datetime Usage: https://docs.python.org/3/library/datetime.html#examples-of-usage-datetime"
   ]
  },
  {
   "cell_type": "code",
   "execution_count": null,
   "id": "5c743275-d82d-4718-a924-f0149ecc3b4a",
   "metadata": {},
   "outputs": [],
   "source": [
    "from datetime import datetime\n",
    "\n",
    "import matplotlib.pyplot as plt\n",
    "import numpy as np"
   ]
  },
  {
   "cell_type": "code",
   "execution_count": null,
   "id": "c166ebce-6d3e-42e6-88a9-65f1c4544e60",
   "metadata": {},
   "outputs": [],
   "source": [
    "# Pull time from computer\n",
    "d = datetime.utcnow()\n",
    "print(d)\n"
   ]
  },
  {
   "cell_type": "markdown",
   "id": "9c829371-7e19-4301-a047-826a8e0783cb",
   "metadata": {},
   "source": [
    "## Construct Datetime Object\n",
    "\n",
    "You can make any date/time into a datetime object\n",
    "\n",
    "Format of datetime function call: `datetime(<year>, <month>, <day>, <hour>, <minute>)`\n"
   ]
  },
  {
   "cell_type": "code",
   "execution_count": null,
   "id": "7c397205-9cdc-458a-bf24-56f5e8ff9a54",
   "metadata": {},
   "outputs": [],
   "source": [
    "# Construct a datetime object\n",
    "# Format of datetime function call: datetime(<year>, <month>, <day>, <hour>, <minute>)\n"
   ]
  },
  {
   "cell_type": "markdown",
   "id": "4030f8fe-09da-4e02-a93a-b8a3db8db088",
   "metadata": {},
   "source": [
    "## Get pieces of date out\n",
    "\n",
    "Year: ```date.year```\n",
    "\n",
    "Month: ```date.month```\n",
    "\n",
    "Day: ```date.day```\n",
    "\n",
    "Hour: ```date.hour```\n",
    "\n",
    "Minute: ```date.minute```\n",
    "\n",
    "Second: ```date.second```\n",
    "\n",
    "These methods will give you the numeric value of each part of the datetime object."
   ]
  },
  {
   "cell_type": "code",
   "execution_count": null,
   "id": "0b32fc7e-ea6a-4e1d-9c1c-2b2caac6653d",
   "metadata": {},
   "outputs": [],
   "source": []
  },
  {
   "cell_type": "markdown",
   "id": "6c25305d-e0e1-4bc5-8e00-ce1c7908b948",
   "metadata": {},
   "source": [
    "## Create Datetime Object from String Value\n",
    "\n",
    "Maybe you get a a date as a string, say from an ```input()``` function call, you can use a function from datetime to make that into a datetime object."
   ]
  },
  {
   "cell_type": "code",
   "execution_count": null,
   "id": "21eacefc-e8e1-4a65-adc8-ae21863f75f0",
   "metadata": {},
   "outputs": [],
   "source": []
  },
  {
   "cell_type": "markdown",
   "id": "f7cf6c80-26bc-4a09-a14c-6f6f82a296b2",
   "metadata": {},
   "source": [
    "## Date Calculations\n",
    "\n",
    "What was the date five days ago?\n",
    "\n",
    "What will the date be five days from now?\n",
    "\n",
    "The timedelta module, part of the datetime package, can be used to perform simple date calculations"
   ]
  },
  {
   "cell_type": "code",
   "execution_count": null,
   "id": "ccd9b9fd-8e0e-4d63-b3b8-d6fa6a54e3d7",
   "metadata": {},
   "outputs": [],
   "source": [
    "from datetime import timedelta\n",
    "\n",
    "# What was the day/month/year of four days ago\n"
   ]
  },
  {
   "cell_type": "markdown",
   "id": "f4def542-9317-45be-a1d7-660c8cd4e0ac",
   "metadata": {},
   "source": [
    "## Advanced Subsetting\n",
    "\n",
    "Working with time series data can be difficult because of dates. Dates are a unique format that are not integers, strings, or floating point numbers. Some motivating questions as we work with data that includes dates:\n",
    "* So how do we successfully read in a column that contains dates?\n",
    "* How can we subset using dates?\n",
    "\n",
    "Let's begin by reading in our ORD data that we have been working with and we'll need to use two separate read statements because of the different formats of our dates from the rest of our data.\n",
    "\n",
    "In Numpy, the data type (dtype) for our dates is `np.datetime64`. We'll have to specify that data type when we read in our data using the `dtype` keyword argument.\n",
    "\n",
    "More information about Numpy datetime64: https://numpy.org/doc/stable/reference/arrays.datetime.html\n"
   ]
  },
  {
   "cell_type": "code",
   "execution_count": null,
   "id": "60864582-6017-4f9a-b0f3-10e83cd46f4c",
   "metadata": {},
   "outputs": [],
   "source": [
    "# First read in our data only bringing in the precipitation column (4)\n"
   ]
  },
  {
   "cell_type": "markdown",
   "id": "558554fd-18d9-4a81-a7b2-5779c0940de1",
   "metadata": {},
   "source": [
    "While the Numpy datetime64 data type is just fine, I prefer working with native Python datetime objects. We can convert the dates Numpy array to an array containing datetime objects by converting the types. It's a little wonky because you first have to convert to a `datetime64[ms]`, which is a millisecond format, then to the datetime object or `'O'`."
   ]
  },
  {
   "cell_type": "code",
   "execution_count": null,
   "id": "e6cdb07c-6a51-4499-a75e-82e245d835a6",
   "metadata": {},
   "outputs": [],
   "source": [
    "# Convert to Datetime Objects\n"
   ]
  },
  {
   "cell_type": "markdown",
   "id": "24d5ee56-33f9-4432-bbd5-c59461f4ea3e",
   "metadata": {},
   "source": [
    "Now we can work to subset our arrays based on datetime objects that are a bit easier to use than trying to figure out what index value would correspond to the Julian day.\n",
    "\n",
    "Let's grab all of the data for summer, which would be all of the dates between June 21 and September 22. We'll need check our dates based on the dates array, then use the result (which would be a boolean array) to then subset the array containing our data. We'll also subset our dates array to use that for plotting purposes."
   ]
  },
  {
   "cell_type": "code",
   "execution_count": null,
   "id": "ac6b560b-b8e5-4c83-9ff3-0249577e3da6",
   "metadata": {},
   "outputs": [],
   "source": [
    "# Set the start and end date that we want to subset for\n",
    "start_date = \n",
    "end_date = \n",
    "\n",
    "# Set a subset boolean array based on the combination of wanting the dates on and after our start date\n",
    "# to on or before the end date. This means we'll need an & to find that intersection of data\n",
    "subset = (dates >= start_date)&(dates <= end_date)\n",
    "#print(subset)\n",
    "\n",
    "# Subset our data array\n",
    "\n",
    "# Subset the dates using the same method\n"
   ]
  },
  {
   "cell_type": "markdown",
   "id": "4e70fd59-3b98-442a-9349-f3945978f5d6",
   "metadata": {},
   "source": [
    "Now let's plot all of the summer maximum temperatures that we previously subset, knowing that the maximum temperature is in the third column (index = 2)."
   ]
  },
  {
   "cell_type": "code",
   "execution_count": null,
   "id": "6ed3d7e0-17f9-426d-afe0-0bf51cb19993",
   "metadata": {},
   "outputs": [],
   "source": []
  },
  {
   "cell_type": "markdown",
   "id": "42f4fbc9-7135-491c-b633-79807d232f6e",
   "metadata": {},
   "source": [
    "## Exercise #1\n",
    "\n",
    "Plot the max, min, and average temperature for spring (March 20 to June 20) all on the same plot. Be sure to properly label all elements of your plot including acis labels, title, and legend."
   ]
  },
  {
   "cell_type": "code",
   "execution_count": null,
   "id": "5b7e7fd2-5389-4690-8956-ceee1dc3633f",
   "metadata": {},
   "outputs": [],
   "source": []
  },
  {
   "cell_type": "markdown",
   "id": "17442296-aa93-4d61-ae52-7288db57b51c",
   "metadata": {},
   "source": [
    "## Exercise #2\n",
    "\n",
    "Create one figure that contains three different axes for the max, average, and min temperature for spring, summer, and fall. Each axes should have the separate season."
   ]
  },
  {
   "cell_type": "code",
   "execution_count": null,
   "id": "468cf7d4-f2ee-4821-919c-0035c0a8bf54",
   "metadata": {},
   "outputs": [],
   "source": []
  }
 ],
 "metadata": {
  "kernelspec": {
   "display_name": "Python 3 (ipykernel)",
   "language": "python",
   "name": "python3"
  },
  "language_info": {
   "codemirror_mode": {
    "name": "ipython",
    "version": 3
   },
   "file_extension": ".py",
   "mimetype": "text/x-python",
   "name": "python",
   "nbconvert_exporter": "python",
   "pygments_lexer": "ipython3",
   "version": "3.10.5"
  }
 },
 "nbformat": 4,
 "nbformat_minor": 5
}
