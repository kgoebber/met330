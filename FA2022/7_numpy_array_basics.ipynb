{
 "cells": [
  {
   "cell_type": "markdown",
   "id": "55eb8607-07e5-4118-b910-5b40111a1f15",
   "metadata": {},
   "source": [
    "# Scientific Python\n",
    "\n",
    "Base Python is great and has been around nearly 30 years. The power of python lies within the use of community built modules that lay on top of the core python programming language. These modules are abstract code designed to maximize the usefulness of OOP tools by providing advanced functions and methods to the objects in a program. What makes it powerful for scientific applications are the various libararies that have been written to work with scientific (and other) datasets. There is a great [graphic](https://fabienmaussion.info/acinn_python_workshop/figures/scipy_ecosystem.png) developed by Jake Vanderplas in 2015 and reproduced below to illustrate the structure of scientific Python libraries. At the base is the language itself, then the first tier libraries that are built off of the language, then packages that build upon both the language and the first tier libraries, and so on.\n",
    "\n",
    "![scientific python](https://fabienmaussion.info/acinn_python_workshop/figures/scipy_ecosystem.png)"
   ]
  },
  {
   "cell_type": "markdown",
   "id": "d63b75d6-ed65-4ff9-af05-27e620ee5ad0",
   "metadata": {},
   "source": [
    "## Arrays in Python using the Numpy Library\n",
    "\n",
    "Numpy is a key library used in meteorology as it deals well (and quickly) with array manipulations and these arrays work similarly to those we discussed in the Fortran language. This notebook will introduce you to the numpy module and many of its useful functions, as well as continuing to develop your Python language skills."
   ]
  },
  {
   "cell_type": "markdown",
   "id": "ca5f850a-6ff2-49c9-a775-387c6623a689",
   "metadata": {},
   "source": [
    "## Importing Libraries/Modules\n",
    "In order to use a librbary/module within your program you need to first tell the computer to bring it in! The way that this happens is with an import statement. However, it is common to give the module a handle, so that any similar named functions (e.g., a maximum function) that are in different modules, don't overlap!\n",
    "\n",
    "An example of an import statement for numpy is below. The common practice is to call the handle for the numpy module 'np'.\n",
    "\n",
    "Numpy Quickstart: https://numpy.org/doc/stable/user/quickstart.html"
   ]
  },
  {
   "cell_type": "code",
   "execution_count": null,
   "id": "5e9b2347-e045-4e47-ae41-bdf318a7596e",
   "metadata": {},
   "outputs": [],
   "source": [
    "import numpy as np"
   ]
  },
  {
   "cell_type": "markdown",
   "id": "b81217f1-b53e-4b31-a63f-0ef4937ec3b1",
   "metadata": {},
   "source": [
    "If you have run the above cell, it appears that nothing has happened, but actually a lot has. You have just imported all of the functions that are contained within the numpy module, sitting in the background ready for you to get to work on some data!"
   ]
  },
  {
   "cell_type": "markdown",
   "id": "a04d969b-6e59-4433-b494-702ddbe5e2b9",
   "metadata": {},
   "source": [
    "## Creating Arrays\n",
    "The ndarray object is general array object that works for 1D, 2D, and higher dimensional arrays. The most common arrays are 1D (time series), 2D (table), 3D (cube), 4D (series of cubes).\n",
    "\n",
    "How can we make a Numpy array?"
   ]
  },
  {
   "cell_type": "code",
   "execution_count": null,
   "id": "6f2061ce-cb48-445c-942f-a3f5ba35d0fb",
   "metadata": {},
   "outputs": [],
   "source": [
    "dist = [10, 20, 30, 40, 50]\n"
   ]
  },
  {
   "cell_type": "markdown",
   "id": "94c99fe1-71bc-4070-8c1e-7cf9fe4386fe",
   "metadata": {},
   "source": [
    "Making a 2D array from a nested list."
   ]
  },
  {
   "cell_type": "code",
   "execution_count": null,
   "id": "918f2fa7-da85-481e-b9ff-29a06134807e",
   "metadata": {},
   "outputs": [],
   "source": [
    "list2d = [[41.5, -88.1],\n",
    "          [42, -101.5],\n",
    "          [55, -91.3],\n",
    "          [22.5, -142.2]]\n"
   ]
  },
  {
   "cell_type": "code",
   "execution_count": null,
   "id": "12039013-19be-40f0-b85e-8f27f911a6cd",
   "metadata": {},
   "outputs": [],
   "source": []
  },
  {
   "cell_type": "markdown",
   "id": "dc832d23-c332-4f2b-9d01-1e0a8e97d5dd",
   "metadata": {},
   "source": [
    "## Numpy Object\n",
    "Must all be the same type - no mixing list ordinary Python lists. This is what allows Numpy to be fast and allow mathematical operations to work on every array element at once.\n",
    "\n",
    "Valid Object Types:\n",
    "* `np.float64` - floating point number\n",
    "* `np.int64` - integer number\n",
    "* `np.complex` - complex number\n",
    "* `np.bool` - boolean (True/False)\n",
    "\n",
    "You can change the type of an array with a simple method call, `.astype()`.\n",
    "\n",
    "```python\n",
    "e = d.astype('float64')\n",
    "```"
   ]
  },
  {
   "cell_type": "code",
   "execution_count": null,
   "id": "2365c108-a847-48af-b91f-e13bc5f45919",
   "metadata": {},
   "outputs": [],
   "source": []
  },
  {
   "cell_type": "markdown",
   "id": "60d5df55-8c8c-4e0d-abd3-031b343157d2",
   "metadata": {},
   "source": [
    "## Working with Data with Numpy helps\n",
    "\n",
    "While seeing the data printed out is great, its hard to determine how the data is actually stored. Luckily for us, numpy has some great functions that we can use to investigate the arrays. One of the most helpful is attribute attached to a numpy array called [`shape`](https://docs.scipy.org/doc/numpy/reference/generated/numpy.ndarray.shape.html). Execute the following link to see what the command yields.\n",
    "\n",
    "REF: DeCaria Chapter 7"
   ]
  },
  {
   "cell_type": "code",
   "execution_count": null,
   "id": "09fc5923-d528-4e73-87e4-3afe4c319be9",
   "metadata": {},
   "outputs": [],
   "source": [
    "# Print object shape attribute\n"
   ]
  },
  {
   "cell_type": "markdown",
   "id": "9907053c-95dc-484d-919f-4e13695c2ec2",
   "metadata": {},
   "source": [
    "The <span style=\"font-family:Courier\">**shape**</span> attribute gives us a tuple value that tells us about the shape of the array `[row, col]` (or the number of index values for each element of the array). In this case how many rows and columns. So similar to Fortran, numpy reads the data into an array where the first element is the row index and the second is the column index.\n",
    "\n",
    "But we don't have to print out the whole array at one time. We can slice and dice the data any way that we desire using an array call and telling the program what element(s) we want out of our array.\n",
    "\n",
    "### NOTE: Python uses zero-based arrays\n",
    "This is done because the number line actually goes from zero to nine [0,1,2,3,4,5,6,7,8,9] and **_not_** [1,2,3,4,5,6,7,8,9,10]\n",
    "\n",
    "So.... <br> <span style=\"font-family:Courier\">\n",
    "1st element -> 0 <br>\n",
    "2nd element -> 1 <br>\n",
    "3rd element -> 2 <br>\n",
    ". <br>\n",
    ". <br>\n",
    ". <br>\n",
    "nth element -> n-1 <br> </span>\n",
    "\n",
    "REF: DeCaria Section 7.7"
   ]
  },
  {
   "cell_type": "code",
   "execution_count": null,
   "id": "1dc7b583-90d9-4cc7-91d0-51d4be2b8488",
   "metadata": {},
   "outputs": [],
   "source": [
    "temps = np.array([80, 74, 72, 71, 69, 62, 58, 55, 61, 62, 64, 63])\n",
    "\n",
    "# Given the temps array, print the temperature that is 62.\n"
   ]
  },
  {
   "cell_type": "code",
   "execution_count": null,
   "id": "d598beaf-43e7-4322-9e85-e82f0a5caeb9",
   "metadata": {},
   "outputs": [],
   "source": [
    "# Update the temperature at the 6th element of the temp array to be 60\n"
   ]
  },
  {
   "cell_type": "code",
   "execution_count": null,
   "id": "eaa06ee3-6887-47df-a569-49d4f02e02f8",
   "metadata": {},
   "outputs": [],
   "source": [
    "locations = [[41.5, -88.1],\n",
    "             [42, -101.5],\n",
    "             [55, -91.3],\n",
    "             [22.5, -142.2]]\n",
    "city_locations = np.array(locations)\n",
    "\n",
    "# Given the 2D array, where each row contains a lat/lon location of a city, print the longitude of the third city in the array.\n"
   ]
  },
  {
   "cell_type": "markdown",
   "id": "3b417c0b-5e0e-4728-b4e8-5b0cfb668230",
   "metadata": {},
   "source": [
    "## Array range operation\n",
    "We can also specify a range of values to use, instead of all or just a single element. However, we must note the Python behavior for this action (which we already saw in a previous lecture with the range function. To summarize:\n",
    "\n",
    "<span style=\"font-family:Courier\">\n",
    "[0:2] is 0, 1    ->  mathematically we would write the set of numbers as [0,2) <br>\n",
    "[0:3] is 0, 1, 2 ->  mathematically we would write the set of numbers as [0,3) <br>\n",
    "[1:4] is 1, 2, 3 ->  mathematically we would write the set of numbers as [1,4) <br>\n",
    "</span>\n",
    "\n",
    "This can be used in one or both (or for however many elements) that the array contains.\n",
    "\n",
    "So lets construct an array call that looks for the months June, July, and August for 1960 - 1980"
   ]
  },
  {
   "cell_type": "code",
   "execution_count": null,
   "id": "5bec7895-f4cf-4c2a-9b4a-30699dd385f4",
   "metadata": {},
   "outputs": [],
   "source": [
    "# Print the first five values from the temps array\n"
   ]
  },
  {
   "cell_type": "code",
   "execution_count": null,
   "id": "b5fb1c27-9aa3-48f8-a1a2-7171510613df",
   "metadata": {},
   "outputs": [],
   "source": [
    "# Print the lat/lon locations for the second and third cities from the city_locations array\n"
   ]
  },
  {
   "cell_type": "markdown",
   "id": "d25e69a2-9046-401e-9e18-0bd0f2bab99a",
   "metadata": {},
   "source": [
    "## Mathematical Operations with Arrays\n",
    "\n",
    "The power of Numpy arrays is in the ability to do vectoried mathematical operations. This idea of vectorized operations means that we don't have to loop over each element of a list separately to compute new values, but rather that Numpy will do that implicitly in the background and appear to operate on all elements simultaneously. For example,\n",
    "\n",
    "Traditional program looping:\n",
    "```python\n",
    "%%timeit\n",
    "n = 1000000\n",
    "d = 1000*np.random.random(n) - 500\n",
    "diff = np.zeros(n-1)\n",
    "\n",
    "for i in range(0, len(diff)):\n",
    "    diff[i] = d[i+1] - d[i]\n",
    "```\n",
    "```\n",
    "300 ms ± 10.4 ms per loop (mean ± std. dev. of 7 runs, 1 loop each)\n",
    "```\n",
    "Python Vectorized Calculation (implicit looping)\n",
    "```python\n",
    "%%timeit\n",
    "diff[0:n-1] = d[1:n] - d[0:n-1]\n",
    "```\n",
    "```\n",
    "3.14 ms ± 35.4 µs per loop (mean ± std. dev. of 7 runs, 100 loops each)\n",
    "```\n",
    "The implicit looping with Numpy is 100 time faster than running a loop!\n",
    "\n",
    "\n",
    "All of the common mathematical operations from Python work on Numpy arrays for addition, subtraction, multiplication, division, exponentiation, etc.\n",
    "\n",
    "```python\n",
    "x = np.array(list(range(-5, 6)))\n",
    "y = x**2\n",
    "print(y)\n",
    "```\n",
    "Output:\n",
    "```\n",
    "[25 16 9 4 1 0 1 4 9 16 25]\n",
    "```"
   ]
  },
  {
   "cell_type": "code",
   "execution_count": null,
   "id": "3cb0af4f-91d9-408c-9fd3-eada71e8fa9b",
   "metadata": {},
   "outputs": [],
   "source": [
    "# Add 10 to the temps array and print array to screen\n"
   ]
  },
  {
   "cell_type": "code",
   "execution_count": null,
   "id": "87327ff6-f732-4193-8dbb-d6ff9b7c4ddd",
   "metadata": {},
   "outputs": [],
   "source": [
    "# Divide the temps array by 2 and print array to screen\n"
   ]
  },
  {
   "cell_type": "code",
   "execution_count": null,
   "id": "ed394a94-9b70-48f0-8a48-af309cd72958",
   "metadata": {},
   "outputs": [],
   "source": [
    "# Multiply the 3rd element of the temps array by 1.25 and print array to screen\n"
   ]
  },
  {
   "cell_type": "code",
   "execution_count": null,
   "id": "7e51cef9-5573-44c2-89b2-c0544f25357d",
   "metadata": {},
   "outputs": [],
   "source": [
    "# Subtract 12.2 from the temps array and print array to screen\n"
   ]
  },
  {
   "cell_type": "code",
   "execution_count": null,
   "id": "ab64cade-e173-49db-8a3b-1018a24078fa",
   "metadata": {},
   "outputs": [],
   "source": [
    "# Add one degree of latitude to the city_locations array and print array to screen\n"
   ]
  },
  {
   "cell_type": "markdown",
   "id": "39e27822-c003-49e0-b4d8-2b59b750ad46",
   "metadata": {
    "tags": []
   },
   "source": [
    "## Exercise\n",
    "Create a Numpy array from a list of values representing five exam grades of 78, 83, and 92. After you have created the array, add a five point curve to the first grade, add a two point curve to the second grade, and calculate the average exam grade after the curves were applied."
   ]
  },
  {
   "cell_type": "code",
   "execution_count": null,
   "id": "9a38198c-e244-4ffd-a6b1-434752c4d801",
   "metadata": {},
   "outputs": [],
   "source": []
  },
  {
   "cell_type": "code",
   "execution_count": null,
   "id": "46211d64-f3ab-4d97-9a8f-bad685994656",
   "metadata": {},
   "outputs": [],
   "source": []
  }
 ],
 "metadata": {
  "kernelspec": {
   "display_name": "Python 3 (ipykernel)",
   "language": "python",
   "name": "python3"
  },
  "language_info": {
   "codemirror_mode": {
    "name": "ipython",
    "version": 3
   },
   "file_extension": ".py",
   "mimetype": "text/x-python",
   "name": "python",
   "nbconvert_exporter": "python",
   "pygments_lexer": "ipython3",
   "version": "3.8.6"
  }
 },
 "nbformat": 4,
 "nbformat_minor": 5
}
