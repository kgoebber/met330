{
 "cells": [
  {
   "cell_type": "code",
   "execution_count": null,
   "id": "cfe1b257-0c45-4bcb-8fb3-10f79f851e8f",
   "metadata": {},
   "outputs": [],
   "source": [
    "from datetime import datetime\n",
    "\n",
    "import cartopy.crs as ccrs\n",
    "import cartopy.feature as cfeature\n",
    "import matplotlib.pyplot as plt\n",
    "import numpy as np\n",
    "import xarray as xr"
   ]
  },
  {
   "cell_type": "markdown",
   "id": "4054e21d-1a7e-46c7-805e-eda07a8eae64",
   "metadata": {
    "tags": []
   },
   "source": [
    "## Using Cartopy to Plot Maps\n",
    "\n",
    "To create mapped output we need another module, Cartopy. It was originally developed out of the UK Met office and now Unidata partially helps to maintain the code base. It is currently the only viable option of plotting data on a map in Python. There are other options, but they are either no longer maintained or are not yet ready for \"prime time\".\n",
    "- Cartopy: Projections, Geopolitical reference lines\n",
    "\n",
    "https://scitools.org.uk/cartopy/docs/latest/index.html\n",
    "\n",
    "Let's start by making some maps and plotting some map basics on them.\n",
    "\n",
    "List of Common Projections:\n",
    "- PlateCarree\n",
    "- LambertConformal\n",
    "- Mercator\n",
    "- Robinson\n",
    "\n",
    "Cartopy Projections: https://scitools.org.uk/cartopy/docs/latest/reference/crs.html#list-of-projections"
   ]
  },
  {
   "cell_type": "markdown",
   "id": "1bd31a2b-56a3-43ea-a7ed-1235e6e9b327",
   "metadata": {},
   "source": [
    "### PlateCarree\n",
    "\n",
    "To set a map projection we use a keyword argument on the `plt.subplot()` call called `projection`. In setting this projection we are telling our code what projection we want out output to be in.\n",
    "\n",
    "```python\n",
    "ax = plt.subplot(111, projection=ccrs.PlateCarree())\n",
    "```\n",
    "\n",
    "The projection from Cartopy is accessed using the alias (`ccrs`) we created when we imported that part of the module. Then each projection is a function where you can make some modifications to how the map is plotted. For example, with the `PlateCarree()` projection, you can move the central longitude to some value other than 0E, which is the default, by setting the `central_longitude` keyword.\n",
    "\n",
    "PlateCarree Projection: https://scitools.org.uk/cartopy/docs/latest/reference/projections.html#platecarree"
   ]
  },
  {
   "cell_type": "code",
   "execution_count": null,
   "id": "375213e4-2283-4bc0-bf31-aef645270f47",
   "metadata": {},
   "outputs": [],
   "source": [
    "# Set a map coordinate reference\n",
    "# Standard plot map for lat/lon data is PlateCarree\n",
    "mapcrs = \n",
    "\n",
    "fig = plt.figure(figsize=(10, 8))\n",
    "ax = plt.subplot(111, projection=mapcrs)\n",
    "\n",
    "# Simple method to add coastlines\n",
    "\n",
    "\n",
    "ax.set_title('Plate Carree Projection')\n",
    "\n",
    "plt.show()"
   ]
  },
  {
   "cell_type": "markdown",
   "id": "2e870852-bb2e-463f-a84c-4cbed05cdd17",
   "metadata": {},
   "source": [
    "### Lambert Conformal\n",
    "\n",
    "Let's plot only the CONUS using a Lambert Conformal projection and add some rivers and lake features to our plot.\n",
    "\n",
    "Lambert Conformal Projection\n",
    "```python\n",
    "ccrs.LambertConformal(central_longitude=-95, central_latitude=40, standard_parallels=[25, 60])\n",
    "```\n",
    "\n",
    "\n",
    "\n",
    "Setting the extent is accomplished with the following code:\n",
    "```python\n",
    "ax.set_extent([LLLon, LLLat, URLon, URLat], ccrs.PlateCarree())\n",
    "```\n",
    "The above extent is set by defining the lower-left longitude, latitude coordinate and an upper-right longitude latitude coordinate in degrees."
   ]
  },
  {
   "cell_type": "markdown",
   "id": "d14a2b65-6552-4aa4-9b59-3f5f32bc0392",
   "metadata": {},
   "source": [
    "### Adding Map Features\n",
    "\n",
    "The cfeature portion of the Cartopy library is a convenient tool to add some of the most common geo-political lines to provide some geographic reference to the data being plotted. These are shapefiles that are provided by Natural Earth Data (https://www.naturalearthdata.com) and you can access different scales (1:100 million, 1:50 million, and 1:10 million). For example, to get the coastlines for the scale 1:50 million you would use:\n",
    "\n",
    "```python\n",
    "cfeature.COASTLINE.with_scale('50m')\n",
    "```\n",
    "\n",
    "This is then paired with the axis method `add_feature` to then plot the shapefile on the particular axes, where you can modify aspects of the shapefiles like the color, facecolor, etc.). For example, adding Rivers with the 1:10 million scale and coloring them blue:\n",
    "\n",
    "```python\n",
    "ax.add_feature(cfeature.RIVERS.with_scale('10m'), color='tab:blue')\n",
    "```\n",
    "\n",
    "Here is the list of Natural Earth Features that have easy access methods via Cartopy (note the capitalization is important here):\n",
    "* COASTLINE\n",
    "* BORDERS\n",
    "* STATES (US and Canada and just a few others)\n",
    "* RIVERS\n",
    "* LAKES\n",
    "* OCEAN\n",
    "* LAND\n",
    "\n",
    "https://scitools.org.uk/cartopy/docs/latest/reference/feature.html"
   ]
  },
  {
   "cell_type": "code",
   "execution_count": null,
   "id": "53b9831e-0e00-4961-b674-df84cf768d67",
   "metadata": {},
   "outputs": [],
   "source": [
    "# Create the same map as above, but for a Lambert Conformal Projection\n",
    "# Centered on -100E Longitude, 40N latitude\n",
    "\n",
    "mapcrs = \n",
    "\n",
    "fig = plt.figure(figsize=(15, 12))\n",
    "ax = fig.add_subplot(111, projection=mapcrs)\n",
    "\n",
    "ax.set_extent([-130, -65, 20, 55], ccrs.PlateCarree())\n",
    "\n",
    "ax.add_feature(cfeature.COASTLINE.with_scale('50m'))\n",
    "\n",
    "\n",
    "plt.title('Lambert Conformal Projection')\n",
    "plt.show()"
   ]
  },
  {
   "cell_type": "markdown",
   "id": "9ede4636-83bf-413f-a102-23810492179b",
   "metadata": {},
   "source": [
    "## Read Gridded Data and Plot on a Map\n",
    "\n",
    "Now let's plot some data on our maps!\n",
    "\n",
    "Let's bring in some atmospheric pressure level data for air temperature (and eventually geopotential heights) from NCEP/NCAR Reanalysis data. These files are available in a manner which makes them accessible remotely, meaning we can put in the link to the data and not have to have he files locally. This can happen because of the OPeNDAP protocal available through THREDDS, which hosts many Earth System Science datasets.\n",
    "\n",
    "Here is a link to a THREDDS server hosted by NOAA that contains a number of different types of datasets.\n",
    "\n",
    "https://psl.noaa.gov/thredds/catalog/Datasets/catalog.html\n",
    "\n",
    "Navigate to the `ncep.reanalysis` folder, then to the `pressure` folder and select the `air.2021.nc` file. There are four different methods to access this data file and we want to use OPENDAP. Click that link and you'll be brought to a page that describes what is contained in the data file. What we are most interested in is the link at the top of the page in the box labeled Data URL. Copy that link to be able to use Xarray to read this data file remotely. "
   ]
  },
  {
   "cell_type": "code",
   "execution_count": null,
   "id": "1551eb98-9631-476f-83ec-45bf9d7647fd",
   "metadata": {},
   "outputs": [],
   "source": [
    "ds_air = xr.open_dataset('')"
   ]
  },
  {
   "cell_type": "markdown",
   "id": "9d2837b1-34fb-40b2-a661-3d147729d16c",
   "metadata": {},
   "source": [
    "Let's take a look at the data file now that we have gained access to it. Note that we have not actually read all of the data from this file, only enough (e.g., the metadata) that we can know what data is in the file and some basic information about the file. Not until we do something (like plotting or doing a calculation) will the data actually be downloaded."
   ]
  },
  {
   "cell_type": "code",
   "execution_count": null,
   "id": "02a56478-d76e-4bb4-8034-4e4bdfa6c3a3",
   "metadata": {},
   "outputs": [],
   "source": []
  },
  {
   "cell_type": "markdown",
   "id": "446ad149-adda-417a-9a4c-2b9e6004600b",
   "metadata": {},
   "source": [
    "Wow, that is a lot of times available. We definitely don't need all of those. Let's subset via the time variable using the Xarray `.sel` method. Additionally, let's also select for just the 850 hPa pressure level. We can do both selections at the same time."
   ]
  },
  {
   "cell_type": "code",
   "execution_count": null,
   "id": "10e37404-4678-4eb2-a6c9-cac05638eb4c",
   "metadata": {},
   "outputs": [],
   "source": [
    "date = datetime(2021, 3, 8, 12)\n",
    "\n",
    "ds_air = ds_air.sel()"
   ]
  },
  {
   "cell_type": "markdown",
   "id": "bd4d1f74-abd9-470c-972d-5d3882f72445",
   "metadata": {},
   "source": [
    "Note that the name of our data variable in the file is called `air`, so let's take a look at that data after our successful subsetting."
   ]
  },
  {
   "cell_type": "code",
   "execution_count": null,
   "id": "720303e8-d153-47fd-932a-ca196e14d945",
   "metadata": {},
   "outputs": [],
   "source": []
  },
  {
   "cell_type": "markdown",
   "id": "09547330-d10b-4bf7-a828-94ba38f4cfbb",
   "metadata": {},
   "source": [
    "## Color-filled Contours\n",
    "Alright, so now we have some data (that spans the whole globe) and now we want to plot it on a map using Cartopy!\n",
    "\n",
    "Matplotlib color-filled contours work in the exact same manner as the contours except the name of the color-filled contours function is `contourf`, short for contour-filled.\n",
    "\n",
    "At plot time we will convert the air temperatures from Kelvin (the unit of the data in the file) to Celisus by subtracting 273.15. Additionally, since we are now colorfilling our plot we need a method to place a colorbar on our figure so anyone looking at our figure would be able to determine what the values of our color-fill represent.\n",
    "\n",
    "```python\n",
    "cf = ax.contourf(ds_air.lon, ds_air.lat, ds_air.air-273.15)\n",
    "\n",
    "plt.colorbar(cf, ax=ax, orientation='horizontal', pad=0, aspect=50)\n",
    "```\n",
    "Some key things in the above code. We first give a variable name to our color-filled contours, this is similar to what we did with contours as we need information from the plotting for making our colorbar (or adding labels for our regular contours). There is nothing special about what we use for the name, however, commonly `cs` is used for regular contours and `cf` is used for color-filled contours.\n"
   ]
  },
  {
   "cell_type": "code",
   "execution_count": null,
   "id": "dcd8a066-890b-4d97-9de3-eb571374a6c4",
   "metadata": {},
   "outputs": [],
   "source": [
    "plt.figure(1, figsize=(15, 15))\n",
    "ax = plt.subplot(111, projection=ccrs.PlateCarree())\n",
    "\n",
    "cf = ax.contourf()\n",
    "\n",
    "ax.coastlines()\n",
    "\n",
    "plt.show()"
   ]
  },
  {
   "cell_type": "markdown",
   "id": "f4b86bda-3fcb-439a-a0f8-e5656c85b6fa",
   "metadata": {},
   "source": [
    "### Shifting Our Plot\n",
    "Why is there a white line in the middle of our plot?\n",
    "\n",
    "Our data are organized from 0E Longitude to 357.5 Longitude, so we can't contour across that boundary natively. Cartopy does offer a function to add a cyclic point, but that goes beyond the scope of what we wish to do today. Instead we can shift our map to plot from 0E to 360E instead of -180E to 180E, which is the Cartopy default. This can be accomplished by changing the projection of the access and adding a `transform` keyword argument to our filled-contours to plot on the altered projection."
   ]
  },
  {
   "cell_type": "code",
   "execution_count": null,
   "id": "5451c951-dc3d-472b-9f33-c4f2964a6294",
   "metadata": {},
   "outputs": [],
   "source": []
  },
  {
   "cell_type": "markdown",
   "id": "a9b9e6f3-7878-440b-bebd-c4dbb9fca465",
   "metadata": {},
   "source": [
    "## Color-filled and Regular Contours\n",
    "\n",
    "Now let's combine our air temperature with some geopotential height contours. To do so, we need to bring in the height data, which is in a different file from the same source as our air temperature data."
   ]
  },
  {
   "cell_type": "code",
   "execution_count": null,
   "id": "c42dcf32-3d16-4556-bb52-69829b3997fd",
   "metadata": {},
   "outputs": [],
   "source": [
    "ds_hght = xr.open_dataset('https://psl.noaa.gov/thredds/dodsC/Datasets/ncep.reanalysis/pressure/hgt.2021.nc')\n",
    "ds_hght = ds_hght.sel(time=date, level=850)"
   ]
  },
  {
   "cell_type": "markdown",
   "id": "8ef6688f-8a57-44bb-9ffa-2eab3b15cb3e",
   "metadata": {},
   "source": [
    "Now just like having multiple lines on a line plot we simple add more plots to the axes we wish to plot on. Let's keep our color-filled contours for air temperature and add black contours of geopotential height with the following levels: `np.arange(0, 100000, 30)`."
   ]
  },
  {
   "cell_type": "code",
   "execution_count": null,
   "id": "5720fb3f-451b-4f01-ac90-7394865f8aab",
   "metadata": {},
   "outputs": [],
   "source": [
    "plt.figure(2, figsize=(20, 20))\n",
    "ax = plt.subplot(111, projection=ccrs.PlateCarree())\n",
    "\n",
    "cf = ax.contourf(ds_air.lon, ds_air.lat, ds_air.air-273.15,\n",
    "                np.arange(-50, 50, 1), cmap=plt.cm.coolwarm)\n",
    "plt.colorbar(cf, ax=ax, orientation='horizontal', pad=0, aspect=50)\n",
    "\n",
    "# Add Contours\n",
    "\n",
    "ax.coastlines(color='grey')\n",
    "\n",
    "plt.show()"
   ]
  },
  {
   "cell_type": "markdown",
   "id": "64200b09-1b18-4962-b72d-7173bc62f3cb",
   "metadata": {},
   "source": [
    "## Change Projections\n",
    "\n",
    "Even though we have global data, maybe we only want to plot the data from over the CONUS and plot is on a differen projection.\n",
    "\n",
    "Let's work to subset our data to only be from 15 to 60N and from -140 to -55E for both the air temperature and geopotential heights.\n",
    "\n",
    "Note: When performing the slicing of our lat and lon variables, it is important to know how they are structured (e.g., are the higher or lower values first) and what the range of values are (e.g., are longitudes in -180 to 180 or 0 to 360)."
   ]
  },
  {
   "cell_type": "code",
   "execution_count": null,
   "id": "eeffb09e-bfab-425f-936e-a4bd785f4173",
   "metadata": {},
   "outputs": [],
   "source": [
    "ds_air_US = ds_air.sel(lat=slice(), lon=slice())\n",
    "ds_hght_US = ds_hght.sel()"
   ]
  },
  {
   "cell_type": "markdown",
   "id": "33f2fbb2-bd9a-4514-870b-30858eea2626",
   "metadata": {},
   "source": [
    "Now that we have subset our data, let's plot on a Lambert Conformal projection with a central_longitude of -100 and a central_latitude of 40.\n",
    "\n",
    "Begin by seting up the new map projection coordinate reference system, and don't forget to add the `transform` keywork argument to any data that you wish to plot. The data format remains `ccrs.PlateCarree()`."
   ]
  },
  {
   "cell_type": "code",
   "execution_count": null,
   "id": "cbbfba34-264e-4596-853e-7f5d30cc4bfa",
   "metadata": {},
   "outputs": [],
   "source": [
    "mapcrs = ccrs.LambertConformal(central_longitude=-100, central_latitude=40)\n",
    "\n",
    "fig = plt.figure(figsize=(12, 10))\n",
    "ax = fig.add_subplot(111, projection=mapcrs)\n",
    "\n",
    "ax.set_extent([-124, -70, 20, 52], ccrs.PlateCarree())\n",
    "\n",
    "# Add Colorfilled Contours of Air Temperature\n",
    "cf = \n",
    "\n",
    "# Add Contours of Geopotential Height\n",
    "cs = \n",
    "\n",
    "ax.add_feature(cfeature.COASTLINE.with_scale('50m'))\n",
    "ax.add_feature(cfeature.STATES.with_scale('50m'))\n",
    "\n",
    "ax.set_title(f'850-hPa Temperature (\\u00b0C), Geopotential Height (m)', loc='left')\n",
    "ax.set_title(f'Valid: {date} UTC', loc='right')\n",
    "\n",
    "plt.show()"
   ]
  },
  {
   "cell_type": "markdown",
   "id": "f01bf97c-31c7-4fbc-a2db-8d7ca61a0bb8",
   "metadata": {},
   "source": [
    "## Exercise #1\n",
    "Plot the global data on a different projection that is still appropriate for global data (e.g., a Robinson projection)."
   ]
  },
  {
   "cell_type": "code",
   "execution_count": null,
   "id": "595816eb-f5a3-4fb1-b27c-af4e83e37c4e",
   "metadata": {},
   "outputs": [],
   "source": []
  },
  {
   "cell_type": "markdown",
   "id": "75745546-42d9-413a-9285-778bc68ee5d8",
   "metadata": {},
   "source": [
    "## Exercise #2\n",
    "Choose a different day and time to plot from 2020 (you'll need to pull in a different data file).\n",
    "\n",
    "Potential Data Files: https://psl.noaa.gov/thredds/catalog/Datasets/ncep.reanalysis/pressure/catalog.html"
   ]
  },
  {
   "cell_type": "code",
   "execution_count": null,
   "id": "180defbf-c287-4509-b11f-63bea89927c7",
   "metadata": {},
   "outputs": [],
   "source": []
  }
 ],
 "metadata": {
  "kernelspec": {
   "display_name": "Python 3 (ipykernel)",
   "language": "python",
   "name": "python3"
  },
  "language_info": {
   "codemirror_mode": {
    "name": "ipython",
    "version": 3
   },
   "file_extension": ".py",
   "mimetype": "text/x-python",
   "name": "python",
   "nbconvert_exporter": "python",
   "pygments_lexer": "ipython3",
   "version": "3.8.12"
  }
 },
 "nbformat": 4,
 "nbformat_minor": 5
}
