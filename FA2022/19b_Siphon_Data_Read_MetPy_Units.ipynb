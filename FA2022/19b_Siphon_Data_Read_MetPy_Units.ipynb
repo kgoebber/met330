{
 "cells": [
  {
   "cell_type": "markdown",
   "metadata": {},
   "source": [
    "# Remote Data Access and Units\n",
    "Ultimately we want to make a Skew-T plot in Python using MetPy, but we'll need to learn a bit about a few modules including siphon, numpy, matplotlib, and MetPy to get us to that end. This notebook will start with reading data from a remote web server and talking about units with arrays.\n",
    "\n",
    "We will read in data generated from the University of Wyoming and slightly modified\n",
    "\n",
    "http://weather.uwyo.edu/upperair/sounding.html\n",
    "\n",
    "The main difference between the output from this site and reading them in below is removing/modifying lines that have missing data. Remove lines at pressures below 100 mb that contain missing data; put in a missing value for levels below 100 mb (e.g., -999)."
   ]
  },
  {
   "cell_type": "code",
   "execution_count": null,
   "metadata": {},
   "outputs": [],
   "source": [
    "from datetime import datetime\n",
    "\n",
    "import matplotlib.pyplot as plt\n",
    "from metpy.units import units, pandas_dataframe_to_unit_arrays\n",
    "from siphon.simplewebservice.wyoming import WyomingUpperAir"
   ]
  },
  {
   "cell_type": "markdown",
   "metadata": {},
   "source": [
    "Siphon (another Unidata Python package) has a remote data access function to retrieve data from different types of archive data sources including soundings, National Data Bouy Center, and the ACIS station data archive. The example we'll do below uses the Wyoming sounding archive to retrieve a radiosonde launch data set.\n",
    "\n"
   ]
  },
  {
   "cell_type": "markdown",
   "metadata": {},
   "source": [
    "## Get Station Data\n",
    "\n",
    "Use siphon to access Wyoming Sounding archive:\n",
    "\n",
    "Siphon Documentation: https://unidata.github.io/siphon/latest/api/simplewebservice.html#module-siphon.simplewebservice.wyoming"
   ]
  },
  {
   "cell_type": "code",
   "execution_count": null,
   "metadata": {},
   "outputs": [],
   "source": [
    "date = \n",
    "station = "
   ]
  },
  {
   "cell_type": "code",
   "execution_count": null,
   "metadata": {},
   "outputs": [],
   "source": [
    "df = "
   ]
  },
  {
   "cell_type": "markdown",
   "metadata": {},
   "source": [
    "## Pull out data from dataset variable\n",
    "\n",
    "The above function essentially gives us a Pandas DataFrame that has an assortment of different data"
   ]
  },
  {
   "cell_type": "code",
   "execution_count": null,
   "metadata": {},
   "outputs": [],
   "source": []
  },
  {
   "cell_type": "markdown",
   "metadata": {},
   "source": [
    "## Units!\n",
    "\n",
    "Units are exceedingly important in meteorology (and all sciences). With the file we have read in from the Wyoming Sounding archive, we also can get a dictionary of the unit values for each of the variables. Let's first just print out the unit values associated with each variable."
   ]
  },
  {
   "cell_type": "code",
   "execution_count": null,
   "metadata": {},
   "outputs": [],
   "source": []
  },
  {
   "cell_type": "markdown",
   "metadata": {},
   "source": [
    "## Pulling out data and attaching Units\n",
    "\n",
    "The dataset object is a standard format dictionary that many different data read functions produce. To access a variable you'll reference the dataset variable name (dataset) with selecting the variable from the directionary as a string.\n",
    "\n",
    "Use MetPy function (`pandas_dataframe_to_unit_arrays`) to pull data from a Pandas DataFrame and make numpy arrays with attached units for use in MetPy calculations."
   ]
  },
  {
   "cell_type": "code",
   "execution_count": null,
   "metadata": {},
   "outputs": [],
   "source": []
  },
  {
   "cell_type": "code",
   "execution_count": null,
   "metadata": {},
   "outputs": [],
   "source": []
  },
  {
   "cell_type": "code",
   "execution_count": null,
   "metadata": {},
   "outputs": [],
   "source": []
  },
  {
   "cell_type": "code",
   "execution_count": null,
   "metadata": {},
   "outputs": [],
   "source": [
    "# Only want to pull in data up to 100 mb, we can \n",
    "# use a boolean array to choose on the desired values\n",
    "\n",
    "\n",
    "# Subset pressure and read in other data to only 100 mb\n"
   ]
  },
  {
   "cell_type": "code",
   "execution_count": null,
   "metadata": {},
   "outputs": [],
   "source": []
  },
  {
   "cell_type": "markdown",
   "metadata": {},
   "source": [
    "## Plot Temperature vs. Height"
   ]
  },
  {
   "cell_type": "code",
   "execution_count": null,
   "metadata": {},
   "outputs": [],
   "source": []
  },
  {
   "cell_type": "markdown",
   "metadata": {},
   "source": [
    "## Output to a file\n",
    "\n",
    "It is not hard to write to a file, with a couple of simple steps we can accomplish the task.\n",
    "1. Open a file for writing using `open()` function and assign it a variable name.\n",
    "2. Use the variable name to use the `write()` method to write a single line. Must be a string format. Must manually put in a newline character `\\n`.\n",
    "3. Use a loop to print multiple lines of data a row at a time.\n",
    "4. When doen writing all material, use the `close()` method to formally close the file and write to disk."
   ]
  },
  {
   "cell_type": "code",
   "execution_count": null,
   "metadata": {},
   "outputs": [],
   "source": []
  },
  {
   "cell_type": "code",
   "execution_count": null,
   "metadata": {},
   "outputs": [],
   "source": []
  }
 ],
 "metadata": {
  "kernelspec": {
   "display_name": "Python 3 (ipykernel)",
   "language": "python",
   "name": "python3"
  },
  "language_info": {
   "codemirror_mode": {
    "name": "ipython",
    "version": 3
   },
   "file_extension": ".py",
   "mimetype": "text/x-python",
   "name": "python",
   "nbconvert_exporter": "python",
   "pygments_lexer": "ipython3",
   "version": "3.10.5"
  }
 },
 "nbformat": 4,
 "nbformat_minor": 4
}
