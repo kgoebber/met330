{
 "cells": [
  {
   "cell_type": "markdown",
   "id": "6c077726-f514-46de-ae5d-aab4b8d5efdc",
   "metadata": {},
   "source": [
    "# Working with Numpy Arrays\n",
    "\n",
    "In this notebook we'll cover reading data from a file into a Numpy array, separating out different parts of the array to different namespaces and reshaping some of the elements. Additionally, we'll cover using some of the basic statistical functions/methods associated with float and integer arrays and be able to find where max and min values occur within an array."
   ]
  },
  {
   "cell_type": "markdown",
   "id": "89b96ada-85bb-49da-b9a8-2b35d83e2d0d",
   "metadata": {
    "tags": []
   },
   "source": [
    "## Reading in data to Python\n",
    "It is difficult to easily talk about reading data from a file into a Python program simply because there are so many ways to do so! Depending on what and how you are reading in data from a file there will be a number of different methods to read the file in. There are simple read functions that are contained in the Numpy module, and we are going to use one today. In the future we are going to use some read functionality from a packaged called Pandas (https://pandas.pydata.org) that is in some ways built on top of the Numpy module and brings with it a whole lot of additional functionality. In this example we'll read in an ASCII (plain text) file that we can then use and manipulate to calculate or graph stuff to answer scientific questions! Specifically, the data that we are reading in is the North Atlantic Oscillation (NAO) data from 1950 to 2013."
   ]
  },
  {
   "cell_type": "code",
   "execution_count": null,
   "id": "eed8a023-1a40-47c1-a498-0a31ab87ef3e",
   "metadata": {},
   "outputs": [],
   "source": [
    "import numpy as np"
   ]
  },
  {
   "cell_type": "code",
   "execution_count": null,
   "id": "58a0f052-9976-417f-b757-bb08cc7d80a9",
   "metadata": {},
   "outputs": [],
   "source": [
    "data = np.loadtxt('/archive/courses/met330/nao.txt', skiprows=1)"
   ]
  },
  {
   "cell_type": "markdown",
   "id": "16691b96-3243-47a5-9971-281d77a4a175",
   "metadata": {},
   "source": [
    "In the command above you are using a function (```loadtxt```) from the numpy module (```np```) to read in a file (data.csv).\n",
    "\n",
    "How can I find out more about this function? Well, there are many ways, but two of the easiest would be to 1) google <span style=\"font-family:Courier\"> **numpy loadtxt** </span> or 2) in a new cell below type ```np.loadtxt?```. The second way will bring up the manual pages from the numpy module to a dialogue box at the bottom of your web browser. You can also put your cursor over the function and type shift, tab to get a dialogue box that contains the documentation for that particular function."
   ]
  },
  {
   "cell_type": "code",
   "execution_count": null,
   "id": "3f433b92-2bc9-4310-a658-4c87e28dc26b",
   "metadata": {},
   "outputs": [],
   "source": [
    "# So what does the data look like?\n"
   ]
  },
  {
   "cell_type": "code",
   "execution_count": null,
   "id": "85731e0b-07a4-47a4-9713-71ae4cf1db60",
   "metadata": {},
   "outputs": [],
   "source": [
    "# What is the shape of this array that we have read in?\n"
   ]
  },
  {
   "cell_type": "markdown",
   "id": "00e3814c-a757-46e4-ac3e-0c06a00423c7",
   "metadata": {},
   "source": [
    "## Separating Columns\n",
    "With multidimensional arrays, we can isolate different columns and rows into separate arrays. This might be advantageous for working with the data in you can ignore certain parts of the data during your analysis or allow you to work with them in different ways."
   ]
  },
  {
   "cell_type": "code",
   "execution_count": null,
   "id": "9de642b2-37d6-4a2e-8ed8-75e5f76eb3f6",
   "metadata": {},
   "outputs": [],
   "source": [
    "# Get the NAO data in its own array separate from the month column.\n",
    "nao_values = "
   ]
  },
  {
   "cell_type": "code",
   "execution_count": null,
   "id": "f8470ab6-951f-4dbe-b90c-2f13398dec18",
   "metadata": {},
   "outputs": [],
   "source": []
  },
  {
   "cell_type": "code",
   "execution_count": null,
   "id": "c453b8d3-07af-492e-baf0-53d7bf38e93a",
   "metadata": {},
   "outputs": [],
   "source": [
    "# Get the months/year data in its own array separate from the NAO data.\n"
   ]
  },
  {
   "cell_type": "code",
   "execution_count": null,
   "id": "ab855c47-a9a2-46f8-982d-04c89bb74683",
   "metadata": {},
   "outputs": [],
   "source": []
  },
  {
   "cell_type": "markdown",
   "id": "b39303f3-b090-464f-9ca7-d0ab47298cb9",
   "metadata": {},
   "source": [
    "## Reshape\n",
    "We've got a single column of data, but there is more inherent organization to this data that might be better to represent as a table instead. We can reshape an array by our known structure.\n"
   ]
  },
  {
   "cell_type": "code",
   "execution_count": null,
   "id": "1269f31d-7d44-4f1c-a186-4113eaf8b1fc",
   "metadata": {},
   "outputs": [],
   "source": [
    "nao_five_decades = "
   ]
  },
  {
   "cell_type": "code",
   "execution_count": null,
   "id": "54df87a5-38a6-4d22-b508-33c078d1807d",
   "metadata": {},
   "outputs": [],
   "source": [
    "\n"
   ]
  },
  {
   "cell_type": "markdown",
   "id": "ac2fac18-cc3b-4c03-b766-b3c053057626",
   "metadata": {
    "tags": []
   },
   "source": [
    "## Common Functions in Numpy\n",
    "Do you every compute averages? max? min?\n",
    "\n",
    "Numpy can help!\n",
    "\n",
    "Statistical Functions: http://docs.scipy.org/doc/numpy/reference/routines.statistics.html\n",
    "* `corrcoef`\n",
    "* `median`\n",
    "* `mean`\n",
    "* `average`\n",
    "* `nanmean`\n",
    "* `max`\n",
    "* `min`\n",
    "* `std`\n",
    "\n",
    "A number of these functions can also be called as methods on a Numpy data object.\n",
    "\n",
    "```python\n",
    "jan_avg = np.mean(data[::12, 1])\n",
    "jan_avg_method = data[::12, 1].mean()\n",
    "print(jan_avg)\n",
    "print(jan_avg_method)\n",
    "```\n",
    "Output:\n",
    "```\n",
    "0.12416666666666669\n",
    "0.12416666666666669\n",
    "```\n",
    "Note: The `average` function computes a weighted average (with default weights of 1 for all observations) and the `mean` function just computes the straight arithmatic mean of the array along an axis.\n",
    "\n",
    "Each of these Numpy functions can be computed over the entire array and return a single value, or over a particular axis to return the average for each row or column depending on which axis was chosen. To do this you would specify the keyword argument of `axis` and set it to the desired axis number (e.g., 0, 1, 2, etc.)"
   ]
  },
  {
   "cell_type": "code",
   "execution_count": null,
   "id": "4914cb3d-419e-4c2b-94bc-077294040ac5",
   "metadata": {},
   "outputs": [],
   "source": [
    "# Let's compute the average value of NAO for the month of January during the 1950s.\n",
    "# January is index value 0 (we want all rows from column 1)\n",
    "jan_avg = "
   ]
  },
  {
   "cell_type": "code",
   "execution_count": null,
   "id": "cc5bd2cb-ca5f-4220-93f9-92afb35171d6",
   "metadata": {},
   "outputs": [],
   "source": [
    "# June Average NAO for the 1950s\n"
   ]
  },
  {
   "cell_type": "code",
   "execution_count": null,
   "id": "679c5e75-4224-4465-ae31-b7f69a16a88f",
   "metadata": {},
   "outputs": [],
   "source": [
    "# Average over all of the months for the 1950s?\n"
   ]
  },
  {
   "cell_type": "code",
   "execution_count": null,
   "id": "ca17759a-2265-4868-aa80-9706993b3ff7",
   "metadata": {},
   "outputs": [],
   "source": [
    "# Now let's compute the max NAO value from the whole dataset\n",
    "max_nao_value = "
   ]
  },
  {
   "cell_type": "code",
   "execution_count": null,
   "id": "cc6b7828-429c-4dda-940f-cc6407421002",
   "metadata": {},
   "outputs": [],
   "source": [
    "# Minimum NAO value from the whole dataset\n"
   ]
  },
  {
   "cell_type": "markdown",
   "id": "e241a754-be98-4806-9c58-e6cd59576b47",
   "metadata": {},
   "source": [
    "## Finding Values in an Array\n",
    "\n",
    "Sometimes you want an efficient way to search an array for a particular value or values. The `np.where` function can use logical operations to identify indices that correspond to where the logical condition is True. The returned value is a tuple of arrays, so it will require a bit to get out individual index values.\n",
    "\n",
    "```python\n",
    "a = np.array([-2, -1, 0, 1, 2])\n",
    "print(np.where(a <= -1))\n",
    "```\n",
    "Output:\n",
    "```\n",
    "(array([0, 1],))\n",
    "```"
   ]
  },
  {
   "cell_type": "code",
   "execution_count": null,
   "id": "d6021173-7809-4372-8348-f7c950c9518a",
   "metadata": {},
   "outputs": [],
   "source": [
    "# So when did the maximum value occur?\n"
   ]
  },
  {
   "cell_type": "markdown",
   "id": "740de37d-db13-4446-83ed-60791e98d4df",
   "metadata": {},
   "source": [
    "## Exercise 1\n",
    "Find the minimum NAO that occurs between 1990-2010 and when it occurs."
   ]
  },
  {
   "cell_type": "code",
   "execution_count": null,
   "id": "64ee41f7-c0da-4e3a-9056-6358239759cf",
   "metadata": {},
   "outputs": [],
   "source": [
    "# Find the maximum that occurs between 1990 - 2010 and where it occurs\n"
   ]
  },
  {
   "cell_type": "markdown",
   "id": "3367d194-6d0e-4f37-9a24-4363bab70ef7",
   "metadata": {},
   "source": [
    "## Exercise 2\n",
    "Use the where function to find all of the elements where one of the following conditions are true:\n",
    "\n",
    "NAO >= 1.25\n",
    "\n",
    "NAO <= -1.25\n",
    "\n",
    "Note: The `and` condition will not work in this case. To assess the combination of two inequalities with Numpy arrays we need to exploit the mathematical operations related to boolean arrays.\n",
    "\n",
    "`True * True = True`\n",
    "\n",
    "`True * False = False`\n",
    "\n",
    "`False * False = False`\n",
    "\n",
    "`True + True = True`\n",
    "\n",
    "`True + False = True`\n",
    "\n",
    "`False + False = False`"
   ]
  },
  {
   "cell_type": "code",
   "execution_count": null,
   "id": "00ca8c42-2fa7-471c-9196-3f1967df1632",
   "metadata": {},
   "outputs": [],
   "source": [
    "# Multiple Conditions\n",
    "# Find all index values where NAO is >= 1.25 or <= -1.25\n"
   ]
  }
 ],
 "metadata": {
  "kernelspec": {
   "display_name": "Python 3 (ipykernel)",
   "language": "python",
   "name": "python3"
  },
  "language_info": {
   "codemirror_mode": {
    "name": "ipython",
    "version": 3
   },
   "file_extension": ".py",
   "mimetype": "text/x-python",
   "name": "python",
   "nbconvert_exporter": "python",
   "pygments_lexer": "ipython3",
   "version": "3.10.5"
  }
 },
 "nbformat": 4,
 "nbformat_minor": 5
}
