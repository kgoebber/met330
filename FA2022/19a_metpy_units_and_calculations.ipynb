{
 "cells": [
  {
   "cell_type": "markdown",
   "metadata": {},
   "source": [
    "# Working With Units (adapted from Metpy Units Tutorial)\n",
    "\n",
    "Early in our scientific careers we all learn about the importance of paying\n",
    "attention to units in our calculations. Unit conversions can still get the best\n",
    "of us and have caused more than one major technical disaster, including the\n",
    "crash and complete loss of the $327 million Mars Climate Orbiter.\n",
    "\n",
    "In MetPy, we use the [pint](https://pint.readthedocs.io/en/stable/developers_reference.html#module-pint)\n",
    "library and a custom unit registry to help prevent\n",
    "unit mistakes in calculations. That means that every quantity you pass to MetPy\n",
    "should have units attached, just like if you were doing the calculation on\n",
    "paper! This simplifies the MetPy API by eliminating the need to specify units\n",
    "various functions. Instead, only the final results need to be converted to desired units. For\n",
    "more information on unit support, see the documentation for\n",
    "[Pint](https://pint.readthedocs.io). Particular attention should be paid to the support\n",
    "for [temperature units](https://pint.readthedocs.io/en/latest/nonmult.html).\n",
    "\n",
    "In this notebook we'll show some examples of working with units and get you on your way to\n",
    "utilizing the computation functions in MetPy.\n"
   ]
  },
  {
   "cell_type": "markdown",
   "metadata": {},
   "source": [
    "## Getting Started\n",
    "To use units, the first step is to import the default MetPy units registry from the\n",
    ":mod:`~metpy.units` module:\n",
    "\n"
   ]
  },
  {
   "cell_type": "code",
   "execution_count": null,
   "metadata": {
    "collapsed": false,
    "jupyter": {
     "outputs_hidden": false
    }
   },
   "outputs": [],
   "source": [
    "import numpy as np\n",
    "\n",
    "import metpy.constants as mpconst\n",
    "from metpy.units import units"
   ]
  },
  {
   "cell_type": "markdown",
   "metadata": {},
   "source": [
    "The unit registry encapsulates all of the available units, as well as any pertinent settings.\n",
    "The registry also understands unit prefixes and suffixes; this allows the registry to\n",
    "understand ``'kilometer'`` and ``'meters'`` in addition to the base ``'meter'`` unit.\n",
    "\n",
    "In general, using units is only a small step on top of using the `numpy.ndarray`\n",
    "object.\n",
    "\n",
    "## Adding Units to Data\n",
    "The easiest way to attach units to an array (or integer, float, etc.) is to multiply by the\n",
    "units:\n",
    "\n"
   ]
  },
  {
   "cell_type": "code",
   "execution_count": null,
   "metadata": {
    "collapsed": false,
    "jupyter": {
     "outputs_hidden": false
    }
   },
   "outputs": [],
   "source": [
    "distance = "
   ]
  },
  {
   "cell_type": "markdown",
   "metadata": {},
   "source": [
    "It is also possible to directly construct a `pint.Quantity`, with a full units string:\n",
    "\n"
   ]
  },
  {
   "cell_type": "code",
   "execution_count": null,
   "metadata": {
    "collapsed": false,
    "jupyter": {
     "outputs_hidden": false
    }
   },
   "outputs": [],
   "source": [
    "time = "
   ]
  },
  {
   "cell_type": "markdown",
   "metadata": {},
   "source": [
    "Compound units can be constructed by the direct mathematical operations necessary:\n",
    "\n"
   ]
  },
  {
   "cell_type": "code",
   "execution_count": null,
   "metadata": {
    "collapsed": false,
    "jupyter": {
     "outputs_hidden": false
    }
   },
   "outputs": [],
   "source": []
  },
  {
   "cell_type": "markdown",
   "metadata": {},
   "source": [
    "This verbose syntax can be reduced by using the unit registry's support for parsing units:\n",
    "\n"
   ]
  },
  {
   "cell_type": "code",
   "execution_count": null,
   "metadata": {
    "collapsed": false,
    "jupyter": {
     "outputs_hidden": false
    }
   },
   "outputs": [],
   "source": []
  },
  {
   "cell_type": "markdown",
   "metadata": {},
   "source": [
    "## Operations With Units\n",
    "With units attached, it is possible to perform mathematical operations, resulting in the\n",
    "proper units:\n",
    "\n"
   ]
  },
  {
   "cell_type": "code",
   "execution_count": null,
   "metadata": {
    "collapsed": false,
    "jupyter": {
     "outputs_hidden": false
    }
   },
   "outputs": [],
   "source": [
    "print(distance / time)"
   ]
  },
  {
   "cell_type": "markdown",
   "metadata": {},
   "source": [
    "For multiplication and division, units can combine and cancel. For addition and subtraction,\n",
    "instead the operands must have compatible units. For instance, this works:\n",
    "\n"
   ]
  },
  {
   "cell_type": "code",
   "execution_count": null,
   "metadata": {
    "collapsed": false,
    "jupyter": {
     "outputs_hidden": false
    }
   },
   "outputs": [],
   "source": []
  },
  {
   "cell_type": "markdown",
   "metadata": {},
   "source": [
    "But for instance, `distance + time` would not work; instead it gives an error:\n",
    "\n",
    "`DimensionalityError: Cannot convert from 'meter' ([length]) to 'second' ([time])`\n",
    "\n",
    "Even if the units are not identical, as long as they are dimensionally equivalent, the\n",
    "operation can be performed:\n",
    "\n"
   ]
  },
  {
   "cell_type": "code",
   "execution_count": null,
   "metadata": {
    "collapsed": false,
    "jupyter": {
     "outputs_hidden": false
    }
   },
   "outputs": [],
   "source": []
  },
  {
   "cell_type": "markdown",
   "metadata": {},
   "source": [
    "## Converting Units\n",
    "\n",
    "Converting a `Quantity` between units can be accomplished by using the\n",
    "`Quantity.to` method call, which constructs a new `Quantity` in the\n",
    "desired units:\n",
    "\n"
   ]
  },
  {
   "cell_type": "code",
   "execution_count": null,
   "metadata": {
    "collapsed": false,
    "jupyter": {
     "outputs_hidden": false
    }
   },
   "outputs": [],
   "source": []
  },
  {
   "cell_type": "markdown",
   "metadata": {},
   "source": [
    "There is also the `Quantity.ito` method which performs the same operation\n",
    "in-place:\n",
    "\n"
   ]
  },
  {
   "cell_type": "code",
   "execution_count": null,
   "metadata": {
    "collapsed": false,
    "jupyter": {
     "outputs_hidden": false
    }
   },
   "outputs": [],
   "source": []
  },
  {
   "cell_type": "markdown",
   "metadata": {},
   "source": [
    "To simplify units, there is also the `Quantity.to_base_units` method,\n",
    "which converts a quantity to SI units, performing any needed cancellation:\n",
    "\n"
   ]
  },
  {
   "cell_type": "code",
   "execution_count": null,
   "metadata": {
    "collapsed": false,
    "jupyter": {
     "outputs_hidden": false
    }
   },
   "outputs": [],
   "source": [
    "Lf = "
   ]
  },
  {
   "cell_type": "markdown",
   "metadata": {},
   "source": [
    "`Quantity.to_base_units` can also be done in-place via the\n",
    "`Quantity.ito_base_units` method.\n",
    "\n",
    "By default Pint does not do any more than simple unit simplification, so when you perform\n",
    "operations you could get some seemingly odd results:\n",
    "\n"
   ]
  },
  {
   "cell_type": "code",
   "execution_count": null,
   "metadata": {
    "collapsed": false,
    "jupyter": {
     "outputs_hidden": false
    }
   },
   "outputs": [],
   "source": []
  },
  {
   "cell_type": "markdown",
   "metadata": {},
   "source": [
    "This is another place where `Quantity.to` comes in handy:\n",
    "\n"
   ]
  },
  {
   "cell_type": "code",
   "execution_count": null,
   "metadata": {
    "collapsed": false,
    "jupyter": {
     "outputs_hidden": false
    }
   },
   "outputs": [],
   "source": []
  },
  {
   "cell_type": "markdown",
   "metadata": {},
   "source": [
    "## Temperature\n",
    "Temperature units are actually relatively tricky (more like absolutely tricky as\n",
    "you'll see). Temperature is a non-multiplicative unit - they are in a system\n",
    "with a reference point. That means that not only is there a scaling factor, but\n",
    "also an offset. This makes the math and unit book-keeping a little more complex.\n",
    "Imagine adding 10 degrees Celsius to 100 degrees Celsius. Is the answer 110\n",
    "degrees Celsius or 383.15 degrees Celsius (283.15 K + 373.15 K)? That's why\n",
    "there are delta degrees units in the unit registry for offset units. For more\n",
    "examples and explanation you can watch MetPy Monday #13:\n",
    "https://www.youtube.com/watch?v=iveJCqxe3Z4.\n",
    "\n",
    "Let's take a look at how this works and fails:\n",
    "\n",
    "We would expect this to fail because we cannot add two offset units (and it does\n",
    "fail as an \"Ambiguous operation with offset unit\").\n",
    "\n",
    "`10 * units.degC + 5 * units.degC`\n",
    "\n",
    "On the other hand, we can subtract two offset quantities and get a delta. A delta unit is\n",
    "pint's way of representing a relative change in two offset units, indicating that this is\n",
    "not an absolute value of 5 degrees Celsius, but a relative change of 5 degrees Celsius.\n",
    "\n"
   ]
  },
  {
   "cell_type": "code",
   "execution_count": null,
   "metadata": {
    "collapsed": false,
    "jupyter": {
     "outputs_hidden": false
    }
   },
   "outputs": [],
   "source": []
  },
  {
   "cell_type": "markdown",
   "metadata": {},
   "source": [
    "We can add a delta to an offset unit as well since it is a relative change.\n",
    "\n"
   ]
  },
  {
   "cell_type": "code",
   "execution_count": null,
   "metadata": {
    "collapsed": false,
    "jupyter": {
     "outputs_hidden": false
    }
   },
   "outputs": [],
   "source": []
  },
  {
   "cell_type": "markdown",
   "metadata": {},
   "source": [
    "Absolute temperature scales like Kelvin and Rankine do not have an offset\n",
    "and therefore can be used in addition/subtraction without the need for a\n",
    "delta version of the unit.\n",
    "\n"
   ]
  },
  {
   "cell_type": "code",
   "execution_count": null,
   "metadata": {
    "collapsed": false,
    "jupyter": {
     "outputs_hidden": false
    }
   },
   "outputs": [],
   "source": []
  },
  {
   "cell_type": "code",
   "execution_count": null,
   "metadata": {
    "collapsed": false,
    "jupyter": {
     "outputs_hidden": false
    }
   },
   "outputs": [],
   "source": []
  },
  {
   "cell_type": "markdown",
   "metadata": {},
   "source": [
    "## Strip Units from Array\n",
    "\n",
    "Not everything currently handles the fact that there are units attached to arrays, so there is a method to get just the values of an array by appending *.magnitude* to the end of the variable name.\n",
    "\n",
    "This is called the manitude of the array and can be obtained with the following call:\n",
    "\n",
    "```<variable_name>.magnitude```\n",
    "\n",
    "or\n",
    "\n",
    "```<variable_name>.m```"
   ]
  },
  {
   "cell_type": "code",
   "execution_count": null,
   "metadata": {
    "tags": []
   },
   "outputs": [],
   "source": []
  },
  {
   "cell_type": "code",
   "execution_count": null,
   "metadata": {},
   "outputs": [],
   "source": []
  },
  {
   "cell_type": "markdown",
   "metadata": {},
   "source": [
    "## Common Mistakes\n",
    "There are a few common mistakes the new users often make. Be sure to check\n",
    "these when you're having issues.\n",
    "\n",
    "* Pressure units are `mbar` or `hPa` for common atmospheric measurements. The\n",
    "  unit `mb` is actually millibarns--a unit used in particle physics.\n",
    "* When using masked arrays, units must be multiplied on the left side. This\n",
    "  will be addressed in the future, but is a current limitation in the\n",
    "  ecosystem. The expected error will be\n",
    "  `AttributeError: 'MaskedArray' object has no attribute 'units'` or calculation\n",
    "  functions complaining about expecting a units and getting \"dimensionless\".\n",
    "\n"
   ]
  },
  {
   "cell_type": "markdown",
   "metadata": {},
   "source": [
    "## Meteorological Calculation with Units\n",
    "While there are many calculations that have been contributed to MetPy, there are plenty of calculations that we do that are not captured, but where we can use a combination of MetPy constants and units along with our knowledge of any needed equations to perform calculations in a Jupyter Notebook. Here we'll demonstrate a calculation of the Rossby 500-hPa wave speed common in synoptic meteorology."
   ]
  },
  {
   "cell_type": "markdown",
   "metadata": {},
   "source": [
    "### MetPy Constants\n",
    "We deal with a lot of constants in meteorology when doing calculations, whether that is Earth's radius ($R_e$), dry air gas constant ($R_d$), specific heat of air ($C_p$), etc. MetPy has captured and reference these values with units that can be utilized in calculations. For a full list of the available constants and to see their references go to:\n",
    "\n",
    "https://unidata.github.io/MetPy/latest/api/generated/metpy.constants.html"
   ]
  },
  {
   "cell_type": "code",
   "execution_count": null,
   "metadata": {},
   "outputs": [],
   "source": []
  },
  {
   "cell_type": "markdown",
   "metadata": {},
   "source": [
    "### Rossby Wave Speed Calculation\n",
    "\n",
    "Now let's do an example caluclation. We will calculate the speed of a 500-hPa Rossby wave (just think of a commone midlevel trough/ridge patter, that is the type of wave we are looking to estimate their movement speed.\n",
    "\n",
    "The equation for the speed of a Rossby wave is:\n",
    "\n",
    "$\\large c = U - \\beta(\\frac{\\lambda}{2\\pi})^2$\n",
    "\n",
    "where\n",
    "\n",
    "$\\large c$: is the Rossby wave speed (what we are looking to calculated)\n",
    "\n",
    "$\\large U$: is the upper-level wind speed (given by observations)\n",
    "\n",
    "$\\large \\beta$: is the gradient of Coriolis around a latitude (e.g., $~1.75*10^{-11}$ $m^{-1}$ $s^{-1}$ at 40N)\n",
    "\n",
    "$\\large \\beta = \\frac{df}{dy} = \\frac{2 \\Omega}{a}cos(\\phi)$: where $a$ is the radius of Earth = 6378 km and $\\Omega = 7.292*10^{-5} s^{-1}$\n",
    "\n",
    "$\\large \\lambda$: is the wavelength of the wave\n",
    "\n",
    "We can set up a series of variables with units attached and some MetPy constants to come up with our estimate of the speed of the Rossby wave."
   ]
  },
  {
   "cell_type": "code",
   "execution_count": null,
   "metadata": {},
   "outputs": [],
   "source": []
  },
  {
   "cell_type": "code",
   "execution_count": null,
   "metadata": {},
   "outputs": [],
   "source": []
  }
 ],
 "metadata": {
  "kernelspec": {
   "display_name": "Python 3 (ipykernel)",
   "language": "python",
   "name": "python3"
  },
  "language_info": {
   "codemirror_mode": {
    "name": "ipython",
    "version": 3
   },
   "file_extension": ".py",
   "mimetype": "text/x-python",
   "name": "python",
   "nbconvert_exporter": "python",
   "pygments_lexer": "ipython3",
   "version": "3.10.5"
  }
 },
 "nbformat": 4,
 "nbformat_minor": 4
}
