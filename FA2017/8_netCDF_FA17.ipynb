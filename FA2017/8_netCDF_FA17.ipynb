{
 "cells": [
  {
   "cell_type": "markdown",
   "metadata": {},
   "source": [
    "# NetCDF for Python\n",
    "A common format for meteorological data to come in is called netCDF or network Common Data Form. This format is designed to have sufficient metadata to know everything about the data that is contained within the file. Additionally, this format is exceptionally easy to read into a python program using netCDF4 module.\n",
    "\n",
    "This module was developed by an atmospheric scientist and is partially maintained and hosted by Unidata (the same folks to work on GEMPAK). But before we get started, we need to look a little bit more into this file format and how we can determine what is contained within a file."
   ]
  },
  {
   "cell_type": "markdown",
   "metadata": {},
   "source": [
    "## NetCDF File\n",
    "A netCDF file is \"is an interface to a library of data access functions for storing and retrieving data in the form of arrays\" (Unidata NetCDF Users' Guide). Basically it is a structure to store data of any type that has common functions to store and retrieve data. So can I just open the file like an ASCII (plain text) file? Unfortunately, no. NetCDF is a binary format; if you opened the file with gedit or vi, you wouldn't see much...kinda like opening a GEMPAK file with a similar program.\n",
    "\n",
    "There are some easy tools that you can use to open, read, and manipulate netCDF files, which are combined in a group call the NetCDF Operators (NCOs). One of the most useful is a command called <span style=font-family:Courier>**ncdump**</span>. This command allows us to easily read the header file (metadata) contained within the file. To do so you would issue the following command from a terminal window:\n",
    "\n",
    "<span style=font-family:Courier>ncdump -h *&lt;filename&gt;*</span>\n",
    "\n",
    "The cell below does this, using an exclamation point at the beginning runs that line as if it were on the terminal command line. So go ahead and run the line below and read through the output from the ncdump."
   ]
  },
  {
   "cell_type": "code",
   "execution_count": 1,
   "metadata": {},
   "outputs": [
    {
     "name": "stdout",
     "output_type": "stream",
     "text": [
      "netcdf air.mon.mean.plevs {\r\n",
      "dimensions:\r\n",
      "\tlevel = 17 ;\r\n",
      "\tlat = 73 ;\r\n",
      "\tlon = 144 ;\r\n",
      "\ttime = UNLIMITED ; // (813 currently)\r\n",
      "variables:\r\n",
      "\tfloat level(level) ;\r\n",
      "\t\tlevel:units = \"millibar\" ;\r\n",
      "\t\tlevel:long_name = \"Level\" ;\r\n",
      "\t\tlevel:positive = \"down\" ;\r\n",
      "\t\tlevel:GRIB_id = 100s ;\r\n",
      "\t\tlevel:GRIB_name = \"hPa\" ;\r\n",
      "\t\tlevel:actual_range = 1000.f, 10.f ;\r\n",
      "\t\tlevel:axis = \"Z\" ;\r\n",
      "\tfloat lat(lat) ;\r\n",
      "\t\tlat:units = \"degrees_north\" ;\r\n",
      "\t\tlat:actual_range = 90.f, -90.f ;\r\n",
      "\t\tlat:long_name = \"Latitude\" ;\r\n",
      "\t\tlat:standard_name = \"latitude\" ;\r\n",
      "\t\tlat:axis = \"Y\" ;\r\n",
      "\tfloat lon(lon) ;\r\n",
      "\t\tlon:units = \"degrees_east\" ;\r\n",
      "\t\tlon:long_name = \"Longitude\" ;\r\n",
      "\t\tlon:actual_range = 0.f, 357.5f ;\r\n",
      "\t\tlon:standard_name = \"longitude\" ;\r\n",
      "\t\tlon:axis = \"X\" ;\r\n",
      "\tdouble time(time) ;\r\n",
      "\t\ttime:long_name = \"Time\" ;\r\n",
      "\t\ttime:delta_t = \"0000-01-00 00:00:00\" ;\r\n",
      "\t\ttime:avg_period = \"0000-01-00 00:00:00\" ;\r\n",
      "\t\ttime:prev_avg_period = \"0000-00-01 00:00:00\" ;\r\n",
      "\t\ttime:standard_name = \"time\" ;\r\n",
      "\t\ttime:axis = \"T\" ;\r\n",
      "\t\ttime:units = \"hours since 1800-01-01 00:00:0.0\" ;\r\n",
      "\t\ttime:actual_range = 1297320., 1890480. ;\r\n",
      "\tfloat air(time, level, lat, lon) ;\r\n",
      "\t\tair:long_name = \"Monthly Mean of Air temperature\" ;\r\n",
      "\t\tair:units = \"degC\" ;\r\n",
      "\t\tair:precision = 2s ;\r\n",
      "\t\tair:least_significant_digit = 1s ;\r\n",
      "\t\tair:var_desc = \"Air Temperature\" ;\r\n",
      "\t\tair:level_desc = \"Multiple levels\" ;\r\n",
      "\t\tair:statistic = \"Mean\" ;\r\n",
      "\t\tair:parent_stat = \"Other\" ;\r\n",
      "\t\tair:missing_value = -9.96921e+36f ;\r\n",
      "\t\tair:valid_range = -200.f, 300.f ;\r\n",
      "\t\tair:dataset = \"NCEP Reanalysis Derived Products\" ;\r\n",
      "\t\tair:actual_range = -108.65f, 43.24001f ;\r\n",
      "\r\n",
      "// global attributes:\r\n",
      "\t\t:description = \" Data from NCEP initialized reanalysis (4x/day).  These are interpolated to pressure surfaces from model (sigma) surfaces.\" ;\r\n",
      "\t\t:platform = \"Model\" ;\r\n",
      "\t\t:Conventions = \"COARDS\" ;\r\n",
      "\t\t:references = \"http://www.esrl.noaa.gov/psd/data/gridded/data.ncep.reanalysis.derived.html\" ;\r\n",
      "\t\t:NCO = \"20121012\" ;\r\n",
      "\t\t:history = \"Mon Jul  5 21:45:36 1999: ncrcat air.mon.mean.nc /Datasets/ncep.reanalysis.derived/pressure/air.mon.mean.nc /dm/dmwork/nmc.rean.ingest/combinedMMs/air.mon.mean.nc\\n\",\r\n",
      "\t\t\t\"/home/hoop/crdc/cpreanjuke2farm/cpreanjuke2farm Tue Oct 17 20:07:08 1995 from air.85.nc\\n\",\r\n",
      "\t\t\t\"created 95/02/06 by Hoop (netCDF2.3)\\n\",\r\n",
      "\t\t\t\"Converted to chunked, deflated non-packed NetCDF4 2014/09\" ;\r\n",
      "\t\t:title = \"monthly mean air from the NCEP Reanalysis\" ;\r\n",
      "}\r\n"
     ]
    }
   ],
   "source": [
    "!/usr/bin/ncdump -h /home/kgoebber/met330/python/air.mon.mean.plevs.nc"
   ]
  },
  {
   "cell_type": "markdown",
   "metadata": {},
   "source": [
    "## Questions about the netCDF File\n",
    "* What kind of data is in the file?\n",
    "* What variables are contained in the file?\n",
    "* What are the dimensions of the variables?\n",
    "* What are the units of the variables?\n",
    "* What other information is contained in the header? Why is any of it important?"
   ]
  },
  {
   "cell_type": "markdown",
   "metadata": {},
   "source": [
    "## Getting netCDF data into a Python program\n",
    "So we have these files, we can get information about them from <span style=font-family:Courier>**ncdump**</span>, but how do we go about getting these data into our program?\n",
    "\n",
    "The netCDF4 Python module is our friend and makes it relatively easy, so in the cell below we will go ahead and import the module and make a call to link the dataset to the program."
   ]
  },
  {
   "cell_type": "code",
   "execution_count": 2,
   "metadata": {
    "collapsed": true
   },
   "outputs": [],
   "source": [
    "from netCDF4 import Dataset\n",
    "data = Dataset('/home/kgoebber/met330/python/air.mon.mean.plevs.nc', 'r')"
   ]
  },
  {
   "cell_type": "markdown",
   "metadata": {},
   "source": [
    "So the first line above imports a single function from the netCDF4 module called Dataset. Since that is the only function that we want to use, we can bring in just that function. We could always bring in more, but then we are using more computer memory when we don't need to, which will make our program run more efficiently.\n",
    "\n",
    "You also likely noticed that nothing apparent happened when executing the cell above (if everything worked properly!). What happened was that the file was linked to the handle **data** from which we can then read in data or metadata from this file.\n",
    "\n",
    "We'll now explore some of the different things we can get from or about this file in the cells below and to get us started just use the print function on the handle, data."
   ]
  },
  {
   "cell_type": "code",
   "execution_count": 9,
   "metadata": {},
   "outputs": [
    {
     "name": "stdout",
     "output_type": "stream",
     "text": [
      "17\n"
     ]
    }
   ],
   "source": [
    "print(data.dimensions['level'].size)"
   ]
  },
  {
   "cell_type": "markdown",
   "metadata": {},
   "source": [
    "What we have is a netCDF4 data object organized in the classic data format and we see some of the metadata that was at the end of the ncdump command. These are the global attributes of the file. These attributes can be accessed through the call to the handle (data) with a dot and then the attribute name (see below)."
   ]
  },
  {
   "cell_type": "code",
   "execution_count": 11,
   "metadata": {},
   "outputs": [
    {
     "name": "stdout",
     "output_type": "stream",
     "text": [
      "monthly mean air from the NCEP Reanalysis\n"
     ]
    }
   ],
   "source": [
    "print(data.title)"
   ]
  },
  {
   "cell_type": "code",
   "execution_count": 12,
   "metadata": {},
   "outputs": [
    {
     "name": "stdout",
     "output_type": "stream",
     "text": [
      "OrderedDict([('level', <class 'netCDF4._netCDF4.Variable'>\n",
      "float32 level(level)\n",
      "    units: millibar\n",
      "    long_name: Level\n",
      "    positive: down\n",
      "    GRIB_id: 100\n",
      "    GRIB_name: hPa\n",
      "    actual_range: [ 1000.    10.]\n",
      "    axis: Z\n",
      "unlimited dimensions: \n",
      "current shape = (17,)\n",
      "filling on, default _FillValue of 9.969209968386869e+36 used\n",
      "), ('lat', <class 'netCDF4._netCDF4.Variable'>\n",
      "float32 lat(lat)\n",
      "    units: degrees_north\n",
      "    actual_range: [ 90. -90.]\n",
      "    long_name: Latitude\n",
      "    standard_name: latitude\n",
      "    axis: Y\n",
      "unlimited dimensions: \n",
      "current shape = (73,)\n",
      "filling on, default _FillValue of 9.969209968386869e+36 used\n",
      "), ('lon', <class 'netCDF4._netCDF4.Variable'>\n",
      "float32 lon(lon)\n",
      "    units: degrees_east\n",
      "    long_name: Longitude\n",
      "    actual_range: [   0.   357.5]\n",
      "    standard_name: longitude\n",
      "    axis: X\n",
      "unlimited dimensions: \n",
      "current shape = (144,)\n",
      "filling on, default _FillValue of 9.969209968386869e+36 used\n",
      "), ('time', <class 'netCDF4._netCDF4.Variable'>\n",
      "float64 time(time)\n",
      "    long_name: Time\n",
      "    delta_t: 0000-01-00 00:00:00\n",
      "    avg_period: 0000-01-00 00:00:00\n",
      "    prev_avg_period: 0000-00-01 00:00:00\n",
      "    standard_name: time\n",
      "    axis: T\n",
      "    units: hours since 1800-01-01 00:00:0.0\n",
      "    actual_range: [ 1297320.  1890480.]\n",
      "unlimited dimensions: time\n",
      "current shape = (813,)\n",
      "filling on, default _FillValue of 9.969209968386869e+36 used\n",
      "), ('air', <class 'netCDF4._netCDF4.Variable'>\n",
      "float32 air(time, level, lat, lon)\n",
      "    long_name: Monthly Mean of Air temperature\n",
      "    units: degC\n",
      "    precision: 2\n",
      "    least_significant_digit: 1\n",
      "    var_desc: Air Temperature\n",
      "    level_desc: Multiple levels\n",
      "    statistic: Mean\n",
      "    parent_stat: Other\n",
      "    missing_value: -9.96921e+36\n",
      "    valid_range: [-200.  300.]\n",
      "    dataset: NCEP Reanalysis Derived Products\n",
      "    actual_range: [-108.64998627   43.24000549]\n",
      "unlimited dimensions: time\n",
      "current shape = (813, 17, 73, 144)\n",
      "filling on, default _FillValue of 9.969209968386869e+36 used\n",
      ")])\n"
     ]
    }
   ],
   "source": [
    "# A really informative attribute is the VARIABLES!\n",
    "print(data.variables)"
   ]
  },
  {
   "cell_type": "code",
   "execution_count": 13,
   "metadata": {},
   "outputs": [
    {
     "name": "stdout",
     "output_type": "stream",
     "text": [
      "['level', 'lat', 'lon', 'time', 'air']\n"
     ]
    }
   ],
   "source": [
    "# An easier to read list\n",
    "print(list(data.variables))"
   ]
  },
  {
   "cell_type": "code",
   "execution_count": 14,
   "metadata": {},
   "outputs": [
    {
     "name": "stdout",
     "output_type": "stream",
     "text": [
      "OrderedDict([('level', <class 'netCDF4._netCDF4.Dimension'>: name = 'level', size = 17\n",
      "), ('lat', <class 'netCDF4._netCDF4.Dimension'>: name = 'lat', size = 73\n",
      "), ('lon', <class 'netCDF4._netCDF4.Dimension'>: name = 'lon', size = 144\n",
      "), ('time', <class 'netCDF4._netCDF4.Dimension'> (unlimited): name = 'time', size = 813\n",
      ")])\n"
     ]
    }
   ],
   "source": [
    "# and the dimensions of the data\n",
    "print(data.dimensions)"
   ]
  },
  {
   "cell_type": "markdown",
   "metadata": {},
   "source": [
    "## Pulling the Air Temperature from the file\n",
    "If we want to use the air temperature that is contained within the file, then we use the handle and attribute to gain access to the variable 'air'."
   ]
  },
  {
   "cell_type": "code",
   "execution_count": 18,
   "metadata": {},
   "outputs": [
    {
     "name": "stdout",
     "output_type": "stream",
     "text": [
      "degC\n"
     ]
    }
   ],
   "source": [
    "air = data.variables['air']\n",
    "print(air.units)"
   ]
  },
  {
   "cell_type": "markdown",
   "metadata": {},
   "source": [
    "The above is still an object with a lot of information about the including the data, but is not just the data. The following cell will read in the air temperature data and store it in a variable name within our program called **airtemp**. Note how long it takes for the cell to operate. Up until this point we haven't actually read any data in, just metadata!"
   ]
  },
  {
   "cell_type": "code",
   "execution_count": 19,
   "metadata": {
    "collapsed": true
   },
   "outputs": [],
   "source": [
    "airtemp = data.variables['air'][:]\n",
    "airtemp = air[:]"
   ]
  },
  {
   "cell_type": "markdown",
   "metadata": {},
   "source": [
    "With the above command we bring in the air temperture data from the netCDF file and it is brought into our program as a numpy array, which means it will be easy to manipulate and we can readily get all types of infromation from or about the data with simple functions and methods.\n",
    "\n",
    "From the metadata in one of the above cells, we see that there are attributes associted with the variable air (e.g., long_name, units, precision, shape, etc.). We can access these attributes just like we could the global attributes of the whole file. For example, if we wanted to know the shape of the array, we would issue the following command."
   ]
  },
  {
   "cell_type": "code",
   "execution_count": 22,
   "metadata": {},
   "outputs": [
    {
     "name": "stdout",
     "output_type": "stream",
     "text": [
      "(813, 17, 73, 144)\n",
      "<class 'netCDF4._netCDF4.Variable'>\n",
      "float32 air(time, level, lat, lon)\n",
      "    long_name: Monthly Mean of Air temperature\n",
      "    units: degC\n",
      "    precision: 2\n",
      "    least_significant_digit: 1\n",
      "    var_desc: Air Temperature\n",
      "    level_desc: Multiple levels\n",
      "    statistic: Mean\n",
      "    parent_stat: Other\n",
      "    missing_value: -9.96921e+36\n",
      "    valid_range: [-200.  300.]\n",
      "    dataset: NCEP Reanalysis Derived Products\n",
      "    actual_range: [-108.64998627   43.24000549]\n",
      "unlimited dimensions: time\n",
      "current shape = (813, 17, 73, 144)\n",
      "filling on, default _FillValue of 9.969209968386869e+36 used\n",
      "\n"
     ]
    }
   ],
   "source": [
    "print(airtemp.shape)\n",
    "print(air)"
   ]
  },
  {
   "cell_type": "markdown",
   "metadata": {},
   "source": [
    "* How do we interpret this shape?\n",
    "* How many dimensions are there?\n",
    "* What order are they in?\n",
    "* How do we know?"
   ]
  },
  {
   "cell_type": "code",
   "execution_count": 21,
   "metadata": {},
   "outputs": [
    {
     "data": {
      "text/plain": [
       "(813, 17, 73, 144)"
      ]
     },
     "execution_count": 21,
     "metadata": {},
     "output_type": "execute_result"
    }
   ],
   "source": [
    "# Note - We can also get the shape from using the numpy module\n",
    "import numpy as np\n",
    "np.shape(airtemp)"
   ]
  },
  {
   "cell_type": "markdown",
   "metadata": {},
   "source": [
    "Let's also bring in some data for all of these dimensions, so that we can figure out where and when this data is valid."
   ]
  },
  {
   "cell_type": "code",
   "execution_count": 23,
   "metadata": {
    "collapsed": true
   },
   "outputs": [],
   "source": [
    "levs  = data.variables['level'][:]\n",
    "lats  = data.variables['lat'][:]\n",
    "lons  = data.variables['lon'][:]"
   ]
  },
  {
   "cell_type": "code",
   "execution_count": 24,
   "metadata": {},
   "outputs": [
    {
     "name": "stdout",
     "output_type": "stream",
     "text": [
      "[ 1000.   925.   850.   700.   600.   500.   400.   300.   250.   200.\n",
      "   150.   100.    70.    50.    30.    20.    10.]\n"
     ]
    }
   ],
   "source": [
    "# These are all of the pressure levels that we have air temperature data for...\n",
    "print(levs)"
   ]
  },
  {
   "cell_type": "code",
   "execution_count": 25,
   "metadata": {},
   "outputs": [
    {
     "name": "stdout",
     "output_type": "stream",
     "text": [
      "[ 90.   87.5  85.   82.5  80.   77.5  75.   72.5  70.   67.5  65.   62.5\n",
      "  60.   57.5  55.   52.5  50.   47.5  45.   42.5  40.   37.5  35.   32.5\n",
      "  30.   27.5  25.   22.5  20.   17.5  15.   12.5  10.    7.5   5.    2.5\n",
      "   0.   -2.5  -5.   -7.5 -10.  -12.5 -15.  -17.5 -20.  -22.5 -25.  -27.5\n",
      " -30.  -32.5 -35.  -37.5 -40.  -42.5 -45.  -47.5 -50.  -52.5 -55.  -57.5\n",
      " -60.  -62.5 -65.  -67.5 -70.  -72.5 -75.  -77.5 -80.  -82.5 -85.  -87.5\n",
      " -90. ]\n"
     ]
    }
   ],
   "source": [
    "# Latitudes are in degrees North; equator == 0\n",
    "print(lats)"
   ]
  },
  {
   "cell_type": "code",
   "execution_count": 26,
   "metadata": {},
   "outputs": [
    {
     "name": "stdout",
     "output_type": "stream",
     "text": [
      "[   0.     2.5    5.     7.5   10.    12.5   15.    17.5   20.    22.5\n",
      "   25.    27.5   30.    32.5   35.    37.5   40.    42.5   45.    47.5\n",
      "   50.    52.5   55.    57.5   60.    62.5   65.    67.5   70.    72.5\n",
      "   75.    77.5   80.    82.5   85.    87.5   90.    92.5   95.    97.5\n",
      "  100.   102.5  105.   107.5  110.   112.5  115.   117.5  120.   122.5\n",
      "  125.   127.5  130.   132.5  135.   137.5  140.   142.5  145.   147.5\n",
      "  150.   152.5  155.   157.5  160.   162.5  165.   167.5  170.   172.5\n",
      "  175.   177.5  180.   182.5  185.   187.5  190.   192.5  195.   197.5\n",
      "  200.   202.5  205.   207.5  210.   212.5  215.   217.5  220.   222.5\n",
      "  225.   227.5  230.   232.5  235.   237.5  240.   242.5  245.   247.5\n",
      "  250.   252.5  255.   257.5  260.   262.5  265.   267.5  270.   272.5\n",
      "  275.   277.5  280.   282.5  285.   287.5  290.   292.5  295.   297.5\n",
      "  300.   302.5  305.   307.5  310.   312.5  315.   317.5  320.   322.5\n",
      "  325.   327.5  330.   332.5  335.   337.5  340.   342.5  345.   347.5\n",
      "  350.   352.5  355.   357.5]\n"
     ]
    }
   ],
   "source": [
    "# Longitudes are in degrees East; Prime Meridian == 0, International Date line == 180\n",
    "print(lons)"
   ]
  },
  {
   "cell_type": "markdown",
   "metadata": {},
   "source": [
    "# The Time Variable\n",
    "The time variable is often one of the more problematic times because the units are not usually in an easily readable format. In the cell below we'll bring in the time variable metadata and have a look at what the units are, then we'll print out the time to see what the values look like."
   ]
  },
  {
   "cell_type": "code",
   "execution_count": 27,
   "metadata": {},
   "outputs": [
    {
     "name": "stdout",
     "output_type": "stream",
     "text": [
      "<class 'netCDF4._netCDF4.Variable'>\n",
      "float64 time(time)\n",
      "    long_name: Time\n",
      "    delta_t: 0000-01-00 00:00:00\n",
      "    avg_period: 0000-01-00 00:00:00\n",
      "    prev_avg_period: 0000-00-01 00:00:00\n",
      "    standard_name: time\n",
      "    axis: T\n",
      "    units: hours since 1800-01-01 00:00:0.0\n",
      "    actual_range: [ 1297320.  1890480.]\n",
      "unlimited dimensions: time\n",
      "current shape = (813,)\n",
      "filling on, default _FillValue of 9.969209968386869e+36 used\n",
      "\n"
     ]
    }
   ],
   "source": [
    "time = data.variables['time']\n",
    "print(time)"
   ]
  },
  {
   "cell_type": "code",
   "execution_count": 28,
   "metadata": {},
   "outputs": [
    {
     "name": "stdout",
     "output_type": "stream",
     "text": [
      "[ 1297320.  1298064.  1298760.  1299504.  1300224.  1300968.  1301688.\n",
      "  1302432.  1303176.  1303896.  1304640.  1305360.  1306104.  1306848.\n",
      "  1307520.  1308264.  1308984.  1309728.  1310448.  1311192.  1311936.\n",
      "  1312656.  1313400.  1314120.  1314864.  1315608.  1316280.  1317024.\n",
      "  1317744.  1318488.  1319208.  1319952.  1320696.  1321416.  1322160.\n",
      "  1322880.  1323624.  1324368.  1325040.  1325784.  1326504.  1327248.\n",
      "  1327968.  1328712.  1329456.  1330176.  1330920.  1331640.  1332384.\n",
      "  1333128.  1333824.  1334568.  1335288.  1336032.  1336752.  1337496.\n",
      "  1338240.  1338960.  1339704.  1340424.  1341168.  1341912.  1342584.\n",
      "  1343328.  1344048.  1344792.  1345512.  1346256.  1347000.  1347720.\n",
      "  1348464.  1349184.  1349928.  1350672.  1351344.  1352088.  1352808.\n",
      "  1353552.  1354272.  1355016.  1355760.  1356480.  1357224.  1357944.\n",
      "  1358688.  1359432.  1360104.  1360848.  1361568.  1362312.  1363032.\n",
      "  1363776.  1364520.  1365240.  1365984.  1366704.  1367448.  1368192.\n",
      "  1368888.  1369632.  1370352.  1371096.  1371816.  1372560.  1373304.\n",
      "  1374024.  1374768.  1375488.  1376232.  1376976.  1377648.  1378392.\n",
      "  1379112.  1379856.  1380576.  1381320.  1382064.  1382784.  1383528.\n",
      "  1384248.  1384992.  1385736.  1386408.  1387152.  1387872.  1388616.\n",
      "  1389336.  1390080.  1390824.  1391544.  1392288.  1393008.  1393752.\n",
      "  1394496.  1395168.  1395912.  1396632.  1397376.  1398096.  1398840.\n",
      "  1399584.  1400304.  1401048.  1401768.  1402512.  1403256.  1403952.\n",
      "  1404696.  1405416.  1406160.  1406880.  1407624.  1408368.  1409088.\n",
      "  1409832.  1410552.  1411296.  1412040.  1412712.  1413456.  1414176.\n",
      "  1414920.  1415640.  1416384.  1417128.  1417848.  1418592.  1419312.\n",
      "  1420056.  1420800.  1421472.  1422216.  1422936.  1423680.  1424400.\n",
      "  1425144.  1425888.  1426608.  1427352.  1428072.  1428816.  1429560.\n",
      "  1430232.  1430976.  1431696.  1432440.  1433160.  1433904.  1434648.\n",
      "  1435368.  1436112.  1436832.  1437576.  1438320.  1439016.  1439760.\n",
      "  1440480.  1441224.  1441944.  1442688.  1443432.  1444152.  1444896.\n",
      "  1445616.  1446360.  1447104.  1447776.  1448520.  1449240.  1449984.\n",
      "  1450704.  1451448.  1452192.  1452912.  1453656.  1454376.  1455120.\n",
      "  1455864.  1456536.  1457280.  1458000.  1458744.  1459464.  1460208.\n",
      "  1460952.  1461672.  1462416.  1463136.  1463880.  1464624.  1465296.\n",
      "  1466040.  1466760.  1467504.  1468224.  1468968.  1469712.  1470432.\n",
      "  1471176.  1471896.  1472640.  1473384.  1474080.  1474824.  1475544.\n",
      "  1476288.  1477008.  1477752.  1478496.  1479216.  1479960.  1480680.\n",
      "  1481424.  1482168.  1482840.  1483584.  1484304.  1485048.  1485768.\n",
      "  1486512.  1487256.  1487976.  1488720.  1489440.  1490184.  1490928.\n",
      "  1491600.  1492344.  1493064.  1493808.  1494528.  1495272.  1496016.\n",
      "  1496736.  1497480.  1498200.  1498944.  1499688.  1500360.  1501104.\n",
      "  1501824.  1502568.  1503288.  1504032.  1504776.  1505496.  1506240.\n",
      "  1506960.  1507704.  1508448.  1509144.  1509888.  1510608.  1511352.\n",
      "  1512072.  1512816.  1513560.  1514280.  1515024.  1515744.  1516488.\n",
      "  1517232.  1517904.  1518648.  1519368.  1520112.  1520832.  1521576.\n",
      "  1522320.  1523040.  1523784.  1524504.  1525248.  1525992.  1526664.\n",
      "  1527408.  1528128.  1528872.  1529592.  1530336.  1531080.  1531800.\n",
      "  1532544.  1533264.  1534008.  1534752.  1535424.  1536168.  1536888.\n",
      "  1537632.  1538352.  1539096.  1539840.  1540560.  1541304.  1542024.\n",
      "  1542768.  1543512.  1544208.  1544952.  1545672.  1546416.  1547136.\n",
      "  1547880.  1548624.  1549344.  1550088.  1550808.  1551552.  1552296.\n",
      "  1552968.  1553712.  1554432.  1555176.  1555896.  1556640.  1557384.\n",
      "  1558104.  1558848.  1559568.  1560312.  1561056.  1561728.  1562472.\n",
      "  1563192.  1563936.  1564656.  1565400.  1566144.  1566864.  1567608.\n",
      "  1568328.  1569072.  1569816.  1570488.  1571232.  1571952.  1572696.\n",
      "  1573416.  1574160.  1574904.  1575624.  1576368.  1577088.  1577832.\n",
      "  1578576.  1579272.  1580016.  1580736.  1581480.  1582200.  1582944.\n",
      "  1583688.  1584408.  1585152.  1585872.  1586616.  1587360.  1588032.\n",
      "  1588776.  1589496.  1590240.  1590960.  1591704.  1592448.  1593168.\n",
      "  1593912.  1594632.  1595376.  1596120.  1596792.  1597536.  1598256.\n",
      "  1599000.  1599720.  1600464.  1601208.  1601928.  1602672.  1603392.\n",
      "  1604136.  1604880.  1605552.  1606296.  1607016.  1607760.  1608480.\n",
      "  1609224.  1609968.  1610688.  1611432.  1612152.  1612896.  1613640.\n",
      "  1614336.  1615080.  1615800.  1616544.  1617264.  1618008.  1618752.\n",
      "  1619472.  1620216.  1620936.  1621680.  1622424.  1623096.  1623840.\n",
      "  1624560.  1625304.  1626024.  1626768.  1627512.  1628232.  1628976.\n",
      "  1629696.  1630440.  1631184.  1631856.  1632600.  1633320.  1634064.\n",
      "  1634784.  1635528.  1636272.  1636992.  1637736.  1638456.  1639200.\n",
      "  1639944.  1640616.  1641360.  1642080.  1642824.  1643544.  1644288.\n",
      "  1645032.  1645752.  1646496.  1647216.  1647960.  1648704.  1649400.\n",
      "  1650144.  1650864.  1651608.  1652328.  1653072.  1653816.  1654536.\n",
      "  1655280.  1656000.  1656744.  1657488.  1658160.  1658904.  1659624.\n",
      "  1660368.  1661088.  1661832.  1662576.  1663296.  1664040.  1664760.\n",
      "  1665504.  1666248.  1666920.  1667664.  1668384.  1669128.  1669848.\n",
      "  1670592.  1671336.  1672056.  1672800.  1673520.  1674264.  1675008.\n",
      "  1675680.  1676424.  1677144.  1677888.  1678608.  1679352.  1680096.\n",
      "  1680816.  1681560.  1682280.  1683024.  1683768.  1684464.  1685208.\n",
      "  1685928.  1686672.  1687392.  1688136.  1688880.  1689600.  1690344.\n",
      "  1691064.  1691808.  1692552.  1693224.  1693968.  1694688.  1695432.\n",
      "  1696152.  1696896.  1697640.  1698360.  1699104.  1699824.  1700568.\n",
      "  1701312.  1701984.  1702728.  1703448.  1704192.  1704912.  1705656.\n",
      "  1706400.  1707120.  1707864.  1708584.  1709328.  1710072.  1710744.\n",
      "  1711488.  1712208.  1712952.  1713672.  1714416.  1715160.  1715880.\n",
      "  1716624.  1717344.  1718088.  1718832.  1719528.  1720272.  1720992.\n",
      "  1721736.  1722456.  1723200.  1723944.  1724664.  1725408.  1726128.\n",
      "  1726872.  1727616.  1728288.  1729032.  1729752.  1730496.  1731216.\n",
      "  1731960.  1732704.  1733424.  1734168.  1734888.  1735632.  1736376.\n",
      "  1737048.  1737792.  1738512.  1739256.  1739976.  1740720.  1741464.\n",
      "  1742184.  1742928.  1743648.  1744392.  1745136.  1745808.  1746552.\n",
      "  1747272.  1748016.  1748736.  1749480.  1750224.  1750944.  1751688.\n",
      "  1752408.  1753152.  1753896.  1754592.  1755336.  1756056.  1756800.\n",
      "  1757520.  1758264.  1759008.  1759728.  1760472.  1761192.  1761936.\n",
      "  1762680.  1763352.  1764096.  1764816.  1765560.  1766280.  1767024.\n",
      "  1767768.  1768488.  1769232.  1769952.  1770696.  1771440.  1772112.\n",
      "  1772856.  1773576.  1774320.  1775040.  1775784.  1776528.  1777248.\n",
      "  1777992.  1778712.  1779456.  1780200.  1780872.  1781616.  1782336.\n",
      "  1783080.  1783800.  1784544.  1785288.  1786008.  1786752.  1787472.\n",
      "  1788216.  1788960.  1789656.  1790400.  1791120.  1791864.  1792584.\n",
      "  1793328.  1794072.  1794792.  1795536.  1796256.  1797000.  1797744.\n",
      "  1798416.  1799160.  1799880.  1800624.  1801344.  1802088.  1802832.\n",
      "  1803552.  1804296.  1805016.  1805760.  1806504.  1807176.  1807920.\n",
      "  1808640.  1809384.  1810104.  1810848.  1811592.  1812312.  1813056.\n",
      "  1813776.  1814520.  1815264.  1815936.  1816680.  1817400.  1818144.\n",
      "  1818864.  1819608.  1820352.  1821072.  1821816.  1822536.  1823280.\n",
      "  1824024.  1824720.  1825464.  1826184.  1826928.  1827648.  1828392.\n",
      "  1829136.  1829856.  1830600.  1831320.  1832064.  1832808.  1833480.\n",
      "  1834224.  1834944.  1835688.  1836408.  1837152.  1837896.  1838616.\n",
      "  1839360.  1840080.  1840824.  1841568.  1842240.  1842984.  1843704.\n",
      "  1844448.  1845168.  1845912.  1846656.  1847376.  1848120.  1848840.\n",
      "  1849584.  1850328.  1851000.  1851744.  1852464.  1853208.  1853928.\n",
      "  1854672.  1855416.  1856136.  1856880.  1857600.  1858344.  1859088.\n",
      "  1859784.  1860528.  1861248.  1861992.  1862712.  1863456.  1864200.\n",
      "  1864920.  1865664.  1866384.  1867128.  1867872.  1868544.  1869288.\n",
      "  1870008.  1870752.  1871472.  1872216.  1872960.  1873680.  1874424.\n",
      "  1875144.  1875888.  1876632.  1877304.  1878048.  1878768.  1879512.\n",
      "  1880232.  1880976.  1881720.  1882440.  1883184.  1883904.  1884648.\n",
      "  1885392.  1886064.  1886808.  1887528.  1888272.  1888992.  1889736.\n",
      "  1890480.]\n"
     ]
    }
   ],
   "source": [
    "print(time[:])"
   ]
  },
  {
   "cell_type": "markdown",
   "metadata": {},
   "source": [
    "YIKES! That doesn't look like a real time to me at all. That's likely becuase you don't know how many hours since 1 January 1800 looks like. Thankfully, we don't have to work out all of the details ourselves, we can use a function from netCDF4 called num2date to help us out. First we need to import the function, then we can use it!"
   ]
  },
  {
   "cell_type": "code",
   "execution_count": 35,
   "metadata": {},
   "outputs": [
    {
     "name": "stdout",
     "output_type": "stream",
     "text": [
      "2015-09-01 00:00:00\n"
     ]
    }
   ],
   "source": [
    "from netCDF4 import num2date, date2num\n",
    "vtimes = num2date(time[:],'hours since 1800-01-01 00:00:00.0')\n",
    "print(vtimes[-1])"
   ]
  },
  {
   "cell_type": "markdown",
   "metadata": {},
   "source": [
    "Wow, now that looks like a value that I can recognize.\n",
    "\n",
    "To go the other way, we need to use the datetime module to create an appropriate datetime object that we can then use date2num function from netCDF4 to get back the appropriate number of hours since 1/1/1800"
   ]
  },
  {
   "cell_type": "code",
   "execution_count": 40,
   "metadata": {},
   "outputs": [
    {
     "name": "stdout",
     "output_type": "stream",
     "text": [
      "1590240.0\n",
      "1890480.0\n"
     ]
    }
   ],
   "source": [
    "from datetime import datetime\n",
    "print(date2num(datetime(1981,6,1),time.units))\n",
    "print(time[-1])"
   ]
  },
  {
   "cell_type": "markdown",
   "metadata": {
    "collapsed": true
   },
   "source": [
    "## Fun Exercise\n",
    "\n",
    "Find the appropriate time index for the month you were born and compute the global average 850-hPa temperature."
   ]
  },
  {
   "cell_type": "code",
   "execution_count": null,
   "metadata": {
    "collapsed": true
   },
   "outputs": [],
   "source": []
  }
 ],
 "metadata": {
  "anaconda-cloud": {},
  "kernelspec": {
   "display_name": "Python 3",
   "language": "python",
   "name": "python3"
  },
  "language_info": {
   "codemirror_mode": {
    "name": "ipython",
    "version": 3
   },
   "file_extension": ".py",
   "mimetype": "text/x-python",
   "name": "python",
   "nbconvert_exporter": "python",
   "pygments_lexer": "ipython3",
   "version": "3.6.2"
  }
 },
 "nbformat": 4,
 "nbformat_minor": 1
}
