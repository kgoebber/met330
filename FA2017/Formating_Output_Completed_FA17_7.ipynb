{
 "cells": [
  {
   "cell_type": "markdown",
   "metadata": {},
   "source": [
    "# Formatted Output\n",
    "\n",
    "Formatted output is essential to making readable output that can be easily read by an end-user. There are a number of different ways to format output to the screen using print statements. There are other methods for writing output to a file, which we will leave to a later time."
   ]
  },
  {
   "cell_type": "code",
   "execution_count": 1,
   "metadata": {
    "collapsed": true
   },
   "outputs": [],
   "source": [
    "import numpy as np"
   ]
  },
  {
   "cell_type": "markdown",
   "metadata": {},
   "source": [
    "## Specifying Format\n",
    "\n",
    "Similar to Fortran we can specify different types of formats (strings, integers, floating points), but the syntax is a bit different. Let's start with a simple example of printing out the twelve months on one line"
   ]
  },
  {
   "cell_type": "code",
   "execution_count": 2,
   "metadata": {},
   "outputs": [
    {
     "name": "stdout",
     "output_type": "stream",
     "text": [
      "0       1         2         3         4         5         6\n",
      "12345679012345678901234567890123456789012345678901234567890\n",
      "-----------------------------------------------------------\n",
      " Jan  Feb  Mar  Apr  May  Jun  Jul  Aug  Sep  Oct  Nov  Dec\n"
     ]
    }
   ],
   "source": [
    "print('0       1         2         3         4         5         6')\n",
    "print('12345679012345678901234567890123456789012345678901234567890')\n",
    "print('-----------------------------------------------------------')\n",
    "print(' Jan  Feb  Mar  Apr  May  Jun  Jul  Aug  Sep  Oct  Nov  Dec')"
   ]
  },
  {
   "cell_type": "markdown",
   "metadata": {},
   "source": [
    "Each space and character length is the same, so you can literally control the formatting by how you type your print function.\n",
    "\n",
    "However, when you are wanting to print out numbers, we will likely want to print directly from arrays and use formats to help us print it exactly as we want the end-user to view it. There is great additional information at the following link if you are looking for supplementary material to what is contained in this lecture: http://www.python-course.eu/python3_formatted_output.php."
   ]
  },
  {
   "cell_type": "markdown",
   "metadata": {},
   "source": [
    "## Common Format Characters\n",
    "\n",
    "* %s is for string format\n",
    "\n",
    "* %d is for integer format\n",
    "\n",
    "* %f is for float format\n",
    "\n",
    "We can then modify them, just as in Fortran, by addition the character width before the format identifier\n",
    "\n",
    "* ```'%5.2f'``` would be a floating point number, five spaces of width, with two spaces after the decimal point\n",
    "\n",
    "* ```'%6d'``` would be an integer of six spaces in width\n",
    "\n",
    "We can also add a repetition to the front\n",
    "\n",
    "* ```5*'%5.2f'``` will generate five floating numbers in a row of width five and two after the decimal point\n",
    "\n",
    "Let's see how this would work for the months. I've gone ahead and printed out a couple of other lines to help highlight the width the print statement."
   ]
  },
  {
   "cell_type": "code",
   "execution_count": 2,
   "metadata": {},
   "outputs": [
    {
     "name": "stdout",
     "output_type": "stream",
     "text": [
      "0        1         2         3         4         5         6\n",
      "123456789012345678901234567890123456789012345678901234567890\n",
      "------------------------------------------------------------\n",
      "  Jan  Feb  Mar  Apr  May  Jun  Jul  Aug  Sep  Oct  Nov  Dec\n"
     ]
    }
   ],
   "source": [
    "print('0        1         2         3         4         5         6')\n",
    "print('123456789012345678901234567890123456789012345678901234567890')\n",
    "print('------------------------------------------------------------')\n",
    "print(12*'%5s' %('Jan','Feb','Mar','Apr','May','Jun',\n",
    "                 'Jul','Aug','Sep','Oct','Nov','Dec'))"
   ]
  },
  {
   "cell_type": "markdown",
   "metadata": {},
   "source": [
    "Notice how our five spaces times a total of twelve months gives us a total of 60 spaces.\n",
    "\n",
    "But what if we wanted to plot some numbers with these months, how would we go about accomplishing this task?\n",
    "\n",
    "First read in the data, subset to the portion of the data we want, then use format statements to get the desired result.\n",
    "\n",
    "To begin, lets just start by printing one year worth of data (e.g., 2001)"
   ]
  },
  {
   "cell_type": "code",
   "execution_count": 4,
   "metadata": {},
   "outputs": [
    {
     "name": "stdout",
     "output_type": "stream",
     "text": [
      "   Jan   Feb   Mar   Apr   May   Jun   Jul   Aug   Sep   Oct   Nov   Dec\n",
      "  0.25  0.45 -1.26  0.00 -0.02 -0.20 -0.25 -0.07 -0.65 -0.24  0.63 -0.83 \n"
     ]
    }
   ],
   "source": [
    "nao_data = np.loadtxt('nao.txt', skiprows=1)\n",
    "nao_2001_2010 = nao_data[51:61,1:]\n",
    "years = nao_data[51:61,0]\n",
    "print(12*'%6s' %('Jan','Feb','Mar','Apr','May','Jun',\n",
    "                 'Jul','Aug','Sep','Oct','Nov','Dec'))\n",
    "#print('%6.2f %5.2f %5.2f %5.2f %5.2f %5.2f %5.2f %5.2f %5.2f %5.2f %5.2f %5.2f'\n",
    "#      % tuple(nao_2001_2010[0,:]))\n",
    "print(('%6.2f '+11*'%5.2f ') % tuple(nao_2001_2010[0,:]))\n",
    "# Note that the space included in the quotations is a part of the format!"
   ]
  },
  {
   "cell_type": "markdown",
   "metadata": {},
   "source": [
    "Now lets printout multiple years and include the years in our printout."
   ]
  },
  {
   "cell_type": "code",
   "execution_count": 5,
   "metadata": {},
   "outputs": [
    {
     "name": "stdout",
     "output_type": "stream",
     "text": [
      "       Jan    Feb    Mar    Apr    May    Jun    Jul    Aug    Sep    Oct    Nov    Dec\n",
      "2001   0.25   0.45  -1.26   0.00  -0.02  -0.20  -0.25  -0.07  -0.65  -0.24   0.63  -0.83 \n",
      "2002   0.44   1.10   0.69   1.18  -0.22   0.38   0.62   0.38  -0.70  -2.28  -0.18  -0.94 \n",
      "2003   0.16   0.62   0.32  -0.18   0.01  -0.07   0.13  -0.07   0.01  -1.26   0.86   0.64 \n",
      "2004  -0.29  -0.14   1.02   1.15   0.19  -0.89   1.13  -0.48   0.38  -1.10   0.73   1.21 \n",
      "2005   1.52  -0.06  -1.83  -0.30  -1.25  -0.05  -0.51   0.37   0.63  -0.98  -0.31  -0.44 \n",
      "2006   1.27  -0.51  -1.28   1.24  -1.14   0.84   0.90  -1.73  -1.62  -2.24   0.44   1.34 \n",
      "2007   0.22  -0.47   1.44   0.17   0.66  -1.31  -0.58  -0.14   0.72   0.45   0.58   0.34 \n",
      "2008   0.89   0.73   0.08  -1.07  -1.73  -1.39  -1.27  -1.16   1.02  -0.04  -0.32  -0.28 \n",
      "2009  -0.01   0.06   0.57  -0.20   1.68  -1.21  -2.15  -0.19   1.51  -1.03  -0.02  -1.93 \n",
      "2010  -1.11  -1.98  -0.88  -0.72  -1.49  -0.82  -0.42  -1.22  -0.79  -0.93  -1.62  -1.85 \n"
     ]
    }
   ],
   "source": [
    "print(('%10s'+11*'%7s') % ('Jan','Feb','Mar','Apr','May','Jun',\n",
    "                           'Jul','Aug','Sep','Oct','Nov','Dec'))\n",
    "for j in range(10):\n",
    "    print('%4d ' % (years[j]),end='')\n",
    "    print(('%6.2f '+11*'%6.2f ') % tuple(nao_2001_2010[j,:]))"
   ]
  },
  {
   "cell_type": "markdown",
   "metadata": {},
   "source": [
    "We can also break down our array into many different smaller arrays. For example, lets take our nao.txt data, which was previously read in as nao_data and separate each column into a different 1D array. We'll have a total of 13 different arrays one for each month and an additional array for the years.\n",
    "\n",
    "Then we can print each array individually using our format statements."
   ]
  },
  {
   "cell_type": "code",
   "execution_count": 6,
   "metadata": {},
   "outputs": [
    {
     "name": "stdout",
     "output_type": "stream",
     "text": [
      "       Jan    Feb    Mar    Apr    May    Jun    Jul    Aug    Sep    Oct    Nov    Dec\n",
      "1950   0.92   0.40  -0.36   0.73  -0.59  -0.06  -1.26  -0.05   0.25   0.85  -1.26  -1.02\n",
      "1951   0.08   0.70  -1.02  -0.22  -0.59  -1.64   1.37  -0.22  -1.36   1.87  -0.39   1.32\n",
      "1952   0.93  -0.83  -1.49   1.01  -1.12  -0.40  -0.09  -0.28  -0.54  -0.73  -1.13  -0.43\n",
      "1953   0.33  -0.49  -0.04  -1.67  -0.66   1.09   0.40  -0.71  -0.35   1.32   1.04  -0.47\n",
      "1954   0.37   0.74  -0.83   1.34  -0.09  -0.25  -0.60  -1.90  -0.44   0.60   0.40   0.69\n",
      "1955  -1.84  -1.12  -0.53  -0.42  -0.34  -1.10   1.76   1.07   0.32  -1.47  -1.29   0.17\n",
      "1956  -0.22  -1.12  -0.05  -1.06   2.21   0.10  -0.75  -1.37   0.24   0.88   0.51   0.10\n",
      "1957   1.05   0.11  -1.26   0.49  -0.79  -0.72  -1.19  -0.55  -1.66   1.32   0.73   0.12\n",
      "1958  -0.54  -1.06  -1.96   0.37  -0.24  -1.38  -1.73  -1.56  -0.07   0.16   1.64  -0.70\n",
      "1959  -0.87   0.68  -0.15   0.36   0.39   0.40   0.74   0.06   0.88   0.89   0.41   0.44\n",
      "1960  -1.29  -1.89  -0.50   1.36   0.45  -0.21   0.35  -1.40   0.39  -1.73  -0.51   0.06\n",
      "1961   0.41   0.45   0.55  -1.55  -0.36   0.86  -0.39   0.90   1.24   0.51  -0.62  -1.48\n",
      "1962   0.61   0.55  -2.47   0.99  -0.10   0.16  -2.47   0.14  -0.37   0.41  -0.23  -1.32\n",
      "1963  -2.12  -0.96  -0.43  -1.35   2.16  -0.43  -0.77  -0.64   1.79   0.94  -1.27  -1.92\n",
      "1964  -0.95  -1.43  -1.20   0.36   0.52   1.29   1.90  -1.77   0.20   0.74  -0.01  -0.15\n",
      "1965  -0.12  -1.55  -1.51   0.72  -0.62   0.29   0.32   0.45   0.37   0.38  -1.66   1.37\n",
      "1966  -1.74  -1.39   0.56  -0.75   0.22   1.05   0.32  -1.76  -0.45  -0.68  -0.04   0.72\n",
      "1967  -0.89   0.19   1.51   0.18  -0.99   1.40   0.41   1.44   0.93   0.07   0.60  -0.45\n",
      "1968   0.13  -1.29   0.40  -1.08  -1.76   0.33  -0.80  -0.66  -1.92  -2.30  -0.93  -1.40\n",
      "1969  -0.83  -1.55  -1.56   1.53   0.55   0.55   0.57  -1.45   2.07   0.66  -0.96  -0.28\n",
      "1970  -1.50   0.64  -0.96  -1.30   1.14   1.55   0.10   0.10  -0.09  -0.92  -0.60  -1.20\n",
      "1971  -1.13   0.24  -0.84  -0.24   0.50  -1.57   0.24   1.55   0.39   0.58  -0.20   0.60\n",
      "1972   0.27   0.32   0.72  -0.22   0.95   0.88   0.18   1.32  -0.12   1.09   0.54   0.19\n",
      "1973   0.04   0.85   0.30  -0.54  -0.44   0.39   0.57  -0.06  -0.30  -1.24  -0.93   0.32\n",
      "1974   1.34  -0.14  -0.03   0.51  -0.24  -0.14  -0.76  -0.64   0.82   0.49  -0.54   1.50\n",
      "1975   0.58  -0.62  -0.61  -1.60  -0.52  -0.84   1.55  -0.26   1.56  -0.54   0.41   0.00\n",
      "1976  -0.25   0.93   0.75   0.26   0.96   0.80  -0.32   1.92  -1.29  -0.08   0.17  -1.60\n",
      "1977  -1.04  -0.49  -0.81   0.65  -0.86  -0.57  -0.45  -0.28   0.37   0.52  -0.07  -1.00\n",
      "1978   0.66  -2.20   0.70  -1.17   1.08   1.38  -1.14   0.64   0.46   1.93   3.04  -1.57\n",
      "1979  -1.38  -0.67   0.78  -1.71  -1.03   1.60   0.83   0.96   1.01  -0.30   0.53   1.00\n",
      "1980  -0.75   0.05  -0.31   1.29  -1.50  -0.37  -0.42  -2.24   0.66  -1.77  -0.37   0.78\n",
      "1981   0.37   0.92  -1.19   0.36   0.20  -0.45   0.05   0.39  -1.45  -1.35  -0.38  -0.02\n",
      "1982  -0.89   1.15   1.15   0.10  -0.53  -1.63   1.15   0.26   1.76  -0.74   1.60   1.78\n",
      "1983   1.59  -0.53   0.95  -0.85  -0.07   0.99   1.19   1.61  -1.12   0.65  -0.98   0.29\n",
      "1984   1.66   0.72  -0.37  -0.28   0.54  -0.42  -0.07   1.15   0.17  -0.07  -0.06   0.00\n",
      "1985  -1.61  -0.49   0.20   0.32  -0.49  -0.80   1.22  -0.48  -0.52   0.90  -0.67   0.22\n",
      "1986   1.11  -1.00   1.71  -0.59   0.85   1.22   0.12  -1.09  -1.12   1.55   2.29   0.99\n",
      "1987  -1.15  -0.73   0.14   2.00   0.98  -1.82   0.52  -0.83  -1.22   0.14   0.18   0.32\n",
      "1988   1.02   0.76  -0.17  -1.17   0.63   0.88  -0.35   0.04  -0.99  -1.08  -0.34   0.61\n",
      "1989   1.17   2.00   1.85   0.28   1.38  -0.27   0.97   0.01   2.05  -0.03   0.16  -1.15\n",
      "1990   1.04   1.41   1.46   2.00  -1.53  -0.02   0.53   0.97   1.06   0.23  -0.24   0.22\n",
      "1991   0.86   1.04  -0.20   0.29   0.08  -0.82  -0.49   1.23   0.48  -0.19   0.48   0.46\n",
      "1992  -0.13   1.07   0.87   1.86   2.63   0.20   0.16   0.85  -0.44  -1.76   1.19   0.47\n",
      "1993   1.60   0.50   0.67   0.97  -0.78  -0.59  -3.18   0.12  -0.57  -0.71   2.56   1.56\n",
      "1994   1.04   0.46   1.26   1.14  -0.57   1.52   1.31   0.38  -1.32  -0.97   0.64   2.02\n",
      "1995   0.93   1.14   1.25  -0.85  -1.49   0.13  -0.22   0.69   0.31   0.19  -1.38  -1.67\n",
      "1996  -0.12  -0.07  -0.24  -0.17  -1.06   0.56   0.67   1.02  -0.86  -0.33  -0.56  -1.41\n",
      "1997  -0.49   1.70   1.46  -1.02  -0.28  -1.47   0.34   0.83   0.61  -1.70  -0.90  -0.96\n",
      "1998   0.39  -0.11   0.87  -0.68  -1.32  -2.72  -0.48  -0.02  -2.00  -0.29  -0.28   0.87\n",
      "1999   0.77   0.29   0.23  -0.95   0.92   1.12  -0.90   0.39   0.36   0.20   0.65   1.61\n",
      "2000   0.60   1.70   0.77  -0.03   1.58  -0.03  -1.03  -0.29  -0.21   0.92  -0.92  -0.58\n",
      "2001   0.25   0.45  -1.26   0.00  -0.02  -0.20  -0.25  -0.07  -0.65  -0.24   0.63  -0.83\n",
      "2002   0.44   1.10   0.69   1.18  -0.22   0.38   0.62   0.38  -0.70  -2.28  -0.18  -0.94\n",
      "2003   0.16   0.62   0.32  -0.18   0.01  -0.07   0.13  -0.07   0.01  -1.26   0.86   0.64\n",
      "2004  -0.29  -0.14   1.02   1.15   0.19  -0.89   1.13  -0.48   0.38  -1.10   0.73   1.21\n",
      "2005   1.52  -0.06  -1.83  -0.30  -1.25  -0.05  -0.51   0.37   0.63  -0.98  -0.31  -0.44\n",
      "2006   1.27  -0.51  -1.28   1.24  -1.14   0.84   0.90  -1.73  -1.62  -2.24   0.44   1.34\n",
      "2007   0.22  -0.47   1.44   0.17   0.66  -1.31  -0.58  -0.14   0.72   0.45   0.58   0.34\n",
      "2008   0.89   0.73   0.08  -1.07  -1.73  -1.39  -1.27  -1.16   1.02  -0.04  -0.32  -0.28\n",
      "2009  -0.01   0.06   0.57  -0.20   1.68  -1.21  -2.15  -0.19   1.51  -1.03  -0.02  -1.93\n",
      "2010  -1.11  -1.98  -0.88  -0.72  -1.49  -0.82  -0.42  -1.22  -0.79  -0.93  -1.62  -1.85\n",
      "2011  -0.88   0.70   0.61   2.48  -0.06  -1.28  -1.51  -1.35   0.54   0.39   1.36   2.52\n",
      "2012   1.17   0.42   1.27   0.47  -0.91  -2.53  -1.32  -0.98  -0.59  -2.06  -0.58   0.17\n",
      "2013   0.35  -0.45  -1.61   0.69   0.57   0.52   0.67   0.97   0.24  -9.99  -9.99  -9.99\n"
     ]
    }
   ],
   "source": [
    "years = nao_data[:,0]\n",
    "jan_data = nao_data[:,1]\n",
    "feb_data = nao_data[:,2]\n",
    "mar_data = nao_data[:,3]\n",
    "apr_data = nao_data[:,4]\n",
    "may_data = nao_data[:,5]\n",
    "jun_data = nao_data[:,6]\n",
    "jul_data = nao_data[:,7]\n",
    "aug_data = nao_data[:,8]\n",
    "sep_data = nao_data[:,9]\n",
    "oct_data = nao_data[:,10]\n",
    "nov_data = nao_data[:,11]\n",
    "dec_data = nao_data[:,12]\n",
    "\n",
    "print(('%10s'+11*'%7s') % ('Jan','Feb','Mar','Apr','May','Jun',\n",
    "                           'Jul','Aug','Sep','Oct','Nov','Dec'))\n",
    "for j in range(64):\n",
    "    print('%4d %6.2f %6.2f %6.2f %6.2f %6.2f %6.2f %6.2f %6.2f %6.2f %6.2f %6.2f %6.2f' \n",
    "          % (years[j],jan_data[j],feb_data[j],mar_data[j],\n",
    "                      apr_data[j],may_data[j],jun_data[j],\n",
    "                      jul_data[j],aug_data[j],sep_data[j],\n",
    "                      oct_data[j],nov_data[j],dec_data[j]))"
   ]
  },
  {
   "cell_type": "code",
   "execution_count": null,
   "metadata": {
    "collapsed": true
   },
   "outputs": [],
   "source": []
  }
 ],
 "metadata": {
  "anaconda-cloud": {},
  "kernelspec": {
   "display_name": "Python [conda env:py35]",
   "language": "python",
   "name": "conda-env-py35-py"
  },
  "language_info": {
   "codemirror_mode": {
    "name": "ipython",
    "version": 3
   },
   "file_extension": ".py",
   "mimetype": "text/x-python",
   "name": "python",
   "nbconvert_exporter": "python",
   "pygments_lexer": "ipython3",
   "version": "3.5.4"
  }
 },
 "nbformat": 4,
 "nbformat_minor": 1
}
