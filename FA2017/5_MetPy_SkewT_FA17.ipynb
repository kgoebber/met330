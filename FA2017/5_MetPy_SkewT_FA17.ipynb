{
 "cells": [
  {
   "cell_type": "markdown",
   "metadata": {},
   "source": [
    "# MetPy\n",
    "\n",
    "Another newer module is currently being developed at Unidata, in conjunction with folks from all over the meteorological field, that is designed for doing specific meteorological calculations and plots. Today we are going to use the MetPy module to plot a skewT, and see some of the calculations that can be done as a part of the module.\n",
    "\n",
    "There are currently three different parts of MetPy\n",
    "- constants\n",
    " * Earth\n",
    " * Water\n",
    " * Dry Air\n",
    " * General Meteorology Constants\n",
    "- units\n",
    "- io\n",
    " * CDM\n",
    " * File Formats\n",
    "- calc\n",
    " * Basic Calculations\n",
    " * Kinematic Calculations\n",
    " * Thermodynamic Calculations\n",
    " * Turbulence Time Series Calculations\n",
    "- plots\n",
    " * Skew-T\n",
    " * Station Plots\n",
    " * Colortables\n",
    "    \n",
    "The latest information can be found on the github site\n",
    "\n",
    "http://metpy.readthedocs.io/en/stable/\n",
    "\n",
    "Examples:\n",
    "\n",
    "http://metpy.readthedocs.io/en/stable/examples/index.html\n"
   ]
  },
  {
   "cell_type": "markdown",
   "metadata": {},
   "source": [
    "## SkewT Plot with Python\n",
    "\n",
    "Let's make a Skew-T plot in Python using MetPy. We'll need a few modules including numpy, matplotlib, and MetPy.\n",
    "\n",
    "We will read in data generated from the University of Wyoming and slightly modified\n",
    "\n",
    "http://weather.uwyo.edu/upperair/sounding.html\n",
    "\n",
    "The main difference between the output from this site and reading them in below is removing/modifying lines that have missing data. Remove lines at pressures below 100 mb that contain missing data; put in a missing value for levels below 100 mb (e.g., -999)."
   ]
  },
  {
   "cell_type": "code",
   "execution_count": null,
   "metadata": {
    "scrolled": false
   },
   "outputs": [],
   "source": [
    "import numpy as np\n",
    "import matplotlib.pylab as plt\n",
    "from datetime import datetime, timezone\n",
    "from metpy.io import get_upper_air_data\n",
    "import metpy.calc as mcalc\n",
    "from metpy.plots import SkewT\n",
    "from metpy.units import units"
   ]
  },
  {
   "cell_type": "markdown",
   "metadata": {},
   "source": [
    "MetPy has a remote data access function to retrieve data from either the Wyoming historical sounding collection or the Iowa State archive. The examples we'll do below use the Wyoming (which is the default for metpy) site for our historical balloon data.\n",
    "\n",
    "We are going to read in data from 11 January 2005 at 12 UTC during an extreme warm frontal passage in Oklahoma."
   ]
  },
  {
   "cell_type": "markdown",
   "metadata": {},
   "source": [
    "## Time in Python\n",
    "\n",
    "datetime module (https://docs.python.org/3/library/datetime.html)\n",
    "\n",
    "datetime string format (https://docs.python.org/3/library/datetime.html#strftime-and-strptime-behavior)\n",
    "* similar to Linux date function\n",
    "* `%Y` is year\n",
    "* `%m` is numeric month\n",
    "* `%d` is numeric day\n",
    "* `%H` is hour\n",
    "* `%M` is minute"
   ]
  },
  {
   "cell_type": "code",
   "execution_count": null,
   "metadata": {},
   "outputs": [],
   "source": [
    "# Pull time from computer\n",
    "d = datetime.utcnow()\n",
    "print(d)\n",
    "\n",
    "# Specify format of date obtained from computer\n",
    "print(d.strftime('%Y %m %d %H %M'))\n",
    "\n",
    "# Save pieces to different variables\n",
    "\n"
   ]
  },
  {
   "cell_type": "code",
   "execution_count": null,
   "metadata": {},
   "outputs": [],
   "source": [
    "# Construct a datetime object\n",
    "mybday = datetime(1981,6,20,2,59)\n",
    "print(mybday.toordinal()) # Gives day since 1/1/1 of the date object\n",
    "\n"
   ]
  },
  {
   "cell_type": "markdown",
   "metadata": {},
   "source": [
    "## Get Sounding Data\n",
    "\n",
    "Use datetime object to get data from wyoming sounding archive"
   ]
  },
  {
   "cell_type": "code",
   "execution_count": null,
   "metadata": {},
   "outputs": [],
   "source": [
    "dataset = get_upper_air_data(datetime(2005, 1, 11, 12), 'OUN', source='wyoming')"
   ]
  },
  {
   "cell_type": "markdown",
   "metadata": {},
   "source": [
    "## Pull out data from dataset variable\n",
    "\n",
    "The above function essentially gives us a dictionary that has an assortment of different data"
   ]
  },
  {
   "cell_type": "code",
   "execution_count": null,
   "metadata": {},
   "outputs": [],
   "source": [
    "print(list(dataset.variables))"
   ]
  },
  {
   "cell_type": "markdown",
   "metadata": {},
   "source": [
    "## Pulling out data\n",
    "\n",
    "The dataset object is a standard format dictionary that many different data read functions produce. To access a variable you'll reference the dataset variable name (dataset) with selecting the variable from the directionary as a string.\n",
    "\n",
    "```python\n",
    "dataset.variables['pressure'][:]\n",
    "```"
   ]
  },
  {
   "cell_type": "code",
   "execution_count": null,
   "metadata": {},
   "outputs": [],
   "source": [
    "# Get all of the pressure data from the dataset\n",
    "p = dataset.variables['pressure'][:]\n",
    "\n",
    "# Only want to pull in data up to 100 mb, so find\n",
    "# the index value from the 100 mb level\n",
    "ip100 = np.where(p.magnitude==100.)[0][0]+1\n",
    "\n",
    "# Subset pressure and read in other data to only 100 mb\n"
   ]
  },
  {
   "cell_type": "markdown",
   "metadata": {},
   "source": [
    "## Units in MetPy\n",
    "\n",
    "MetPy has a units class that allows you to attach the appropriate units to an array and make easy converstions to different units when needed."
   ]
  },
  {
   "cell_type": "code",
   "execution_count": null,
   "metadata": {},
   "outputs": [],
   "source": []
  },
  {
   "cell_type": "markdown",
   "metadata": {},
   "source": [
    "Not everything currently handles the fact that there are units attached to arrays, so there is a method to get just the values of an array by appending *.magnitude* to the end of the variable name."
   ]
  },
  {
   "cell_type": "code",
   "execution_count": null,
   "metadata": {},
   "outputs": [],
   "source": []
  },
  {
   "cell_type": "markdown",
   "metadata": {},
   "source": [
    "## Plotting the Skew-T\n",
    "\n",
    "MetPy has the ability to make a few specialty plots (with matplotlib as a backend). The skew-T plots are relatively easy to do with only a few lines to plot the key variables and lines on the plot."
   ]
  },
  {
   "cell_type": "code",
   "execution_count": null,
   "metadata": {
    "scrolled": false
   },
   "outputs": [],
   "source": [
    "%matplotlib inline\n",
    "# Change default to be better for skew-T\n",
    "fig = plt.figure(figsize=(9, 9))\n",
    "skew = SkewT(fig)\n",
    "\n",
    "# Plot the data using normal plotting functions, in this case using\n",
    "# log scaling in Y, as dictated by the typical meteorological plot\n"
   ]
  },
  {
   "cell_type": "markdown",
   "metadata": {},
   "source": [
    "## Thermodynamic Calculations\n",
    "\n",
    "MetPy has in increasing number of available calculations that can be performed on sounding data.\n",
    "\n",
    "* Lifted Index\n",
    "* LCL\n",
    "* LFC\n",
    "* EL\n",
    "* CAPE\n",
    "* CIN\n",
    "\n",
    "Documentation of MetPy calculations at https://unidata.github.io/MetPy/latest/api/generated/metpy.calc.html\n",
    "\n"
   ]
  },
  {
   "cell_type": "code",
   "execution_count": null,
   "metadata": {},
   "outputs": [],
   "source": [
    "#from metpy.calc import potential_temperature\n"
   ]
  },
  {
   "cell_type": "code",
   "execution_count": null,
   "metadata": {},
   "outputs": [],
   "source": [
    "# Calculate full parcel profile and add to plot as black line\n",
    "# Requires that the variables have associated units\n"
   ]
  },
  {
   "cell_type": "markdown",
   "metadata": {},
   "source": [
    "Now lets read in a different dataset from 4 May 1999 at 00 UTC"
   ]
  },
  {
   "cell_type": "code",
   "execution_count": null,
   "metadata": {},
   "outputs": [],
   "source": [
    "dataset2 = get_upper_air_data(datetime(1999, 5, 4, 0), 'OUN', source='wyoming')\n",
    "\n"
   ]
  },
  {
   "cell_type": "code",
   "execution_count": null,
   "metadata": {},
   "outputs": [],
   "source": [
    "# Here is some code to read in a local Wyoming file that has been slightly modified.\n",
    "#p2, T2, Td2, direc2, spd2 = np.genfromtxt('KOUN_1999050318_raob.txt', usecols=(0, 2, 3, 6, 7),\n",
    "#                                          unpack=True, skip_header=7, missing_values=-999, usemask=True)\n",
    "#u2, v2 = metcalc.get_wind_components(spd2, np.deg2rad(direc2))"
   ]
  },
  {
   "cell_type": "code",
   "execution_count": null,
   "metadata": {},
   "outputs": [],
   "source": [
    "# Change default to be better for skew-T\n",
    "fig = plt.figure(figsize=(9, 9))\n",
    "skew = SkewT(fig,rotation=45)\n",
    "\n"
   ]
  },
  {
   "cell_type": "markdown",
   "metadata": {
    "collapsed": true
   },
   "source": [
    "## Problem #1\n",
    "\n",
    "Plot a sounding for today from a location of your choice! You may want to use the RAP site for the three-letter identifier for the U.S. Sounding sites.\n",
    "\n",
    "http://weather.rap.ucar.edu/upper\n"
   ]
  },
  {
   "cell_type": "code",
   "execution_count": null,
   "metadata": {},
   "outputs": [],
   "source": []
  }
 ],
 "metadata": {
  "anaconda-cloud": {},
  "kernelspec": {
   "display_name": "Python [conda root]",
   "language": "python",
   "name": "conda-root-py"
  },
  "language_info": {
   "codemirror_mode": {
    "name": "ipython",
    "version": 3
   },
   "file_extension": ".py",
   "mimetype": "text/x-python",
   "name": "python",
   "nbconvert_exporter": "python",
   "pygments_lexer": "ipython3",
   "version": "3.5.4"
  }
 },
 "nbformat": 4,
 "nbformat_minor": 1
}
