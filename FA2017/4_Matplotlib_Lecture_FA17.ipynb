{
 "cells": [
  {
   "cell_type": "markdown",
   "metadata": {},
   "source": [
    "# Making plots with Matplotlib\n",
    "Previously we used a Python module to help us in creating and using arrays called numpy. Now we desire to use a different module to create plots using Python. The most common module is matplotlib, which is based on Matlab plotting techniques. We will first create a plot using simple examples and work our way up to using values stored in arrays and plotting them.\n",
    "\n",
    "There is plenty of online documentation for matplotlib and it can be found at http://matplotlib.org/, specifically there are a lot of examples of various types of plots and those are located at http://matplotlib.org/gallery.html .\n",
    "\n",
    "The way to really learn Python, or any computing language is to just do. Find examples, or create examples for yourself and make changes like adding a title. Some common functions of pylab:\n",
    "\n",
    "<span style=\"font-family:Courier\">plt.figure &nbsp;&nbsp;&nbsp;</span> set figure numbers for making multiple figures in one script <br>\n",
    "<span style=\"font-family:Courier\">plt.title\t&nbsp;&nbsp;&nbsp;&nbsp;</span>\tput a title on the figure <br>\n",
    "<span style=\"font-family:Courier\">plt.scatter &nbsp;&nbsp;</span>\tcreate a scatter plot of x, y values instead of line graph <br>\n",
    "<span style=\"font-family:Courier\">plt.hist &nbsp;&nbsp;&nbsp;&nbsp;&nbsp;</span>\tcreate a histogram (bar graph) <br>\n",
    "<span style=\"font-family:Courier\">plt.text &nbsp;&nbsp;&nbsp;&nbsp;&nbsp;</span>\tadd text to the figure at a specified location <br>\n",
    "<span style=\"font-family:Courier\">plt.legend &nbsp;&nbsp;&nbsp;</span>\tadd a legend to the figure <br>\n",
    "\n",
    "An example modified from the matplotlib website, which uses numpy to create an array and then plots them using pylab. \n",
    "\n",
    "The most straightforward plot would be a simple x-y plot. "
   ]
  },
  {
   "cell_type": "code",
   "execution_count": null,
   "metadata": {},
   "outputs": [],
   "source": [
    "%matplotlib inline\n",
    "import matplotlib.pyplot as plt\n",
    "\n",
    "x = [1,2,3,4,5,6,7,8,9,10]\n",
    "y = [35,34,33,36,39,45,49,52,55,60]\n",
    "\n",
    "\n",
    "#plt.savefig('pyplot_test_image.png', dpi=150)"
   ]
  },
  {
   "cell_type": "markdown",
   "metadata": {},
   "source": [
    "The first line imports the pylab portion of the matplotlib module and calls it plt. We then set up two different one dimensional arrays x and y. We then use the pylab module (plt) to plot, set the axis, and axis labels. Finally, we show the image at the end. You could also save the image using the commented out line after the plt.show().\n",
    "\n",
    "Pretty simple!\n",
    "\n",
    "Go ahead and change the x array to be times. The observations were taken every hour beginning at 12 UTC and going to 21 UTC. Change the x array, and anything else that you could need to to reflect that change.\n"
   ]
  },
  {
   "cell_type": "markdown",
   "metadata": {},
   "source": [
    "## Plotting $y=x^2$\n",
    "We can use numpy to create an array of values, then compute a functions value for that entire array, then plot it up."
   ]
  },
  {
   "cell_type": "code",
   "execution_count": null,
   "metadata": {},
   "outputs": [],
   "source": [
    "import numpy as np\n",
    "import matplotlib.pyplot as plt\n",
    "\n",
    "x = np.linspace(-5.0, 5.0, 1000)\n",
    "y = x**2\n",
    "\n",
    "plt.plot(x, y, 'k')\n",
    "plt.title('Quadratic Function')\n",
    "plt.text(3, 20, r'$y = x^2$')\n",
    "plt.xlabel('x**2')\n",
    "plt.ylabel('y')\n",
    "\n",
    "# Tweak spacing to prevent clipping of ylabel\n",
    "plt.subplots_adjust(left=0.15)\n",
    "plt.grid()\n",
    "plt.show()\n",
    "#plt.savefig('quadratic_plot.png',dpi=150)"
   ]
  },
  {
   "cell_type": "markdown",
   "metadata": {},
   "source": [
    "So <span style=\"font-family:Courier\">np.linspace(-5.0,5.0,100)</span> creates a 100 element 1-D array from -5 to 5\n",
    "\n",
    "In the end, your x and y values are just like columns in an excel spreadsheet that you use to then make an x-y plot.\n",
    "\n",
    "Change the function for y in some way (and make any other changes as necessary) to create a different type of plot. You can also change the linestyle, line color, add markers, etc. Use the matplotlib website to try making changes.\n",
    "\n",
    "1) What if you only had ten points for the x-array?\n",
    "\n",
    "2) What if you had 1000 points for the x-array?\n",
    "\n",
    "3) What does the <span style=\"font-family:Courier\">sin(x)</span> function look like?"
   ]
  },
  {
   "cell_type": "markdown",
   "metadata": {},
   "source": [
    "## NAO Example\n",
    "\n",
    "Now lets make some plots with the NAO data we previously worked with.\n",
    "\n",
    "1. make a plot of NAO data for the year you were born\n",
    "2. plot all of the years in one continuous line from 2001 thourgh 2010. To accomplish the second part, you will need to figure out how to reduce (or ravel) a 2-D array to a 1-D array.\n"
   ]
  },
  {
   "cell_type": "code",
   "execution_count": null,
   "metadata": {},
   "outputs": [],
   "source": [
    "import numpy as np\n",
    "nao_data = np.genfromtxt('/home/kgoebber/met330/nao.txt', skip_header=1, missing_values='-99.99', usemask=True)\n"
   ]
  },
  {
   "cell_type": "code",
   "execution_count": null,
   "metadata": {},
   "outputs": [],
   "source": []
  },
  {
   "cell_type": "markdown",
   "metadata": {},
   "source": [
    "## Ravel Data Array for plotting\n",
    "Flattening an array means that we are attempting to reduce its dimensionality. For example, here we have a 2D array that we want to make into a 1D array for plotting. We can use the `ravel()` method that is attached to our array data."
   ]
  },
  {
   "cell_type": "code",
   "execution_count": null,
   "metadata": {},
   "outputs": [],
   "source": [
    "# Ravel the data\n"
   ]
  },
  {
   "cell_type": "code",
   "execution_count": null,
   "metadata": {},
   "outputs": [],
   "source": [
    "# Plot the data\n"
   ]
  },
  {
   "cell_type": "markdown",
   "metadata": {},
   "source": [
    "## Plotting with missing data\n",
    "\n",
    "There may be times when you run across data that has missing times, or levels, but you still want to be able to plot a continuous line. Luckily, numpy has some functions that can help with masking our arrays (which we previously talked about) and compressing them to create the ability to plot a continuous line.\n",
    "\n",
    "Let's get started with making a new subset of our data and setting a years worth of data as missing."
   ]
  },
  {
   "cell_type": "code",
   "execution_count": null,
   "metadata": {},
   "outputs": [],
   "source": [
    "nao_subset = nao_data[51:61,1:]\n",
    "\n",
    "# Set a year to missing value for illustrative purposes\n",
    "nao_subset[4,:] = -99.99\n",
    "print('Original Subset')\n",
    "print(nao_subset)"
   ]
  },
  {
   "cell_type": "markdown",
   "metadata": {},
   "source": [
    "## Masking the missing data\n",
    "Now we want to use our ability to mask missing values (essentially setting them to not a number). So we are setting our missing value as -9.99, which is what it is in our original dataset."
   ]
  },
  {
   "cell_type": "code",
   "execution_count": null,
   "metadata": {},
   "outputs": [],
   "source": [
    "# Mask the missing values\n",
    "nao_subset_masked = np.ma.masked_array(nao_subset,mask=(nao_subset==-99.99))\n",
    "print('Masked Subset')\n",
    "print(nao_subset_masked)"
   ]
  },
  {
   "cell_type": "code",
   "execution_count": null,
   "metadata": {},
   "outputs": [],
   "source": [
    "# Ravel the 2D array to a 1D array\n",
    "print('Ravelled Array for plotting')\n",
    "nao_sub_mask_flat = nao_subset_masked.ravel()\n",
    "print(nao_sub_mask_flat)"
   ]
  },
  {
   "cell_type": "markdown",
   "metadata": {},
   "source": [
    "So now we have 10 years worth of data (120 months) in a single 1D array that is now ready for plotting!"
   ]
  },
  {
   "cell_type": "code",
   "execution_count": null,
   "metadata": {},
   "outputs": [],
   "source": [
    "# Set some x-values for plotting\n",
    "x = range(120)\n",
    "\n",
    "plt.plot(x,nao_sub_mask_flat)\n",
    "plt.ylabel('NAO')\n",
    "plt.xlabel('Month')\n",
    "plt.xticks(range(0,121,12),[2001,2002,2003,2004,2005,\n",
    "                            2006,2007,2008,2009,2010,2011])\n",
    "plt.show()"
   ]
  },
  {
   "cell_type": "markdown",
   "metadata": {},
   "source": [
    "Nice! But we have a gap in the data in 2005...what can we do if we wanted to mind the gap?\n",
    "\n",
    "We need to compress both our x-values and our y-values!"
   ]
  },
  {
   "cell_type": "code",
   "execution_count": null,
   "metadata": {},
   "outputs": [],
   "source": [
    "x = range(120)\n",
    "# The following line will use the mask (basically an array of True/False values)\n",
    "#  from our masked nao variable (nao_sub_mask_flat) to provide the same mask\n",
    "#  to our x array values\n",
    "x_masked = np.ma.masked_array(x,nao_sub_mask_flat.mask)\n",
    "\n",
    "plt.plot(np.ma.compressed(x_masked),np.ma.compressed(nao_sub_mask_flat))\n",
    "plt.ylabel('NAO')\n",
    "plt.xlabel('Month')\n",
    "plt.xticks(range(0,121,12),[2001,2002,2003,2004,2005,\n",
    "                            2006,2007,2008,2009,2010])\n",
    "plt.show()"
   ]
  },
  {
   "cell_type": "markdown",
   "metadata": {},
   "source": [
    "And now we have bridged the gap between the known data points. We probably wouldn't want to bridge this gap in reality, but it offers a nice example with the dataset that we have been working with."
   ]
  }
 ],
 "metadata": {
  "anaconda-cloud": {},
  "kernelspec": {
   "display_name": "Python [conda env:py35]",
   "language": "python",
   "name": "conda-env-py35-py"
  },
  "language_info": {
   "codemirror_mode": {
    "name": "ipython",
    "version": 3
   },
   "file_extension": ".py",
   "mimetype": "text/x-python",
   "name": "python",
   "nbconvert_exporter": "python",
   "pygments_lexer": "ipython3",
   "version": "3.5.4"
  }
 },
 "nbformat": 4,
 "nbformat_minor": 1
}
