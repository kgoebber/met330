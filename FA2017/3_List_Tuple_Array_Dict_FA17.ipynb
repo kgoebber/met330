{
 "cells": [
  {
   "cell_type": "markdown",
   "metadata": {},
   "source": [
    "## Lists vs. Tuple\n",
    "\n",
    "Python doesn't have a true array object. The closest thing to an array is a Python List (which are sometimes called array-like objects). Many of their properties are the same, but there are some notable differences depending on what you are trying to do. There are two ways to define a list, 1) using square brackets or 2) using the list function `list()`. For example the following two are equivalent,\n",
    "\n",
    "```python\n",
    "a = [1,2,3,4,5]\n",
    "\n",
    "a = list(1,2,3,4,5)\n",
    "```\n",
    "\n",
    "Lists are mutable objects, meaning that you can redefine individual elements.\n",
    "\n",
    "Another array-like object in Python is the Tuple. Tuples are different than lists in that they are immutable objects, meaning they can't be changed once assigned. Tuples can also be defined in two different ways, 1) using parentheses or 2) using the tuple function `tuple()`. For example, the following two tuple assignments are equivalent,\n",
    "\n",
    "```python\n",
    "b = (10,20,30,40,50)\n",
    "\n",
    "b = tuple(10,20,30,40,50)\n",
    "```"
   ]
  },
  {
   "cell_type": "code",
   "execution_count": null,
   "metadata": {},
   "outputs": [],
   "source": [
    "# A list\n"
   ]
  },
  {
   "cell_type": "code",
   "execution_count": null,
   "metadata": {},
   "outputs": [],
   "source": [
    "# Try a reassignment of a tuple object\n"
   ]
  },
  {
   "cell_type": "code",
   "execution_count": null,
   "metadata": {},
   "outputs": [],
   "source": [
    "# A tuple\n"
   ]
  },
  {
   "cell_type": "code",
   "execution_count": null,
   "metadata": {},
   "outputs": [],
   "source": [
    "# Try a reassignment of a tuple object\n"
   ]
  },
  {
   "cell_type": "markdown",
   "metadata": {},
   "source": [
    "Both lists and tuples can contain different data types in the same variable. This can be adventageous at times."
   ]
  },
  {
   "cell_type": "code",
   "execution_count": null,
   "metadata": {},
   "outputs": [],
   "source": []
  },
  {
   "cell_type": "markdown",
   "metadata": {},
   "source": [
    "## List and Tuple Methods\n",
    "\n",
    "### List Object\n",
    "There are a number of methods that are available for list objects including: ```append(), copy(), count(), index()```.\n",
    "\n",
    "### Tuple Object\n",
    "There are only two methods available for the tuple object: ```count(), index()```"
   ]
  },
  {
   "cell_type": "code",
   "execution_count": null,
   "metadata": {},
   "outputs": [],
   "source": [
    "# List append method\n"
   ]
  },
  {
   "cell_type": "code",
   "execution_count": null,
   "metadata": {},
   "outputs": [],
   "source": [
    "# Tuple index method\n"
   ]
  },
  {
   "cell_type": "markdown",
   "metadata": {},
   "source": [
    "### Beware of Math with Lists and Tuples\n",
    "\n",
    "Math works VERY differently! A multiplication creates that number of copies within the list or tuple."
   ]
  },
  {
   "cell_type": "code",
   "execution_count": null,
   "metadata": {},
   "outputs": [],
   "source": [
    "# Multiple a list or tuple by 2\n"
   ]
  },
  {
   "cell_type": "markdown",
   "metadata": {},
   "source": [
    "## Multi-dimensional Lists and Tuples\n",
    "\n",
    "2D Lists are accessed in an odd way - not exactly like a normal 2D array."
   ]
  },
  {
   "cell_type": "code",
   "execution_count": null,
   "metadata": {},
   "outputs": [],
   "source": [
    "list2D = [[1,2,3,4,5],[6,7,8,9,10]]\n"
   ]
  },
  {
   "cell_type": "markdown",
   "metadata": {},
   "source": [
    "## Numpy Arrays\n",
    "\n",
    "True arrays are available in the NumPy module. This is built on the C programming language and is built to have \"fast\" array operations. You've already been introduced to this module, but there is a simple method that will take a list and make it into a numpy array, from which you'll have normal array behavior. Just beware that NumPy will require that your array all have the same data type."
   ]
  },
  {
   "cell_type": "code",
   "execution_count": null,
   "metadata": {},
   "outputs": [],
   "source": [
    "import numpy as np\n",
    "\n",
    "a_array = np.array(list2D)\n",
    "print(a_array)\n",
    "print(a_array[0,3])"
   ]
  },
  {
   "cell_type": "code",
   "execution_count": null,
   "metadata": {},
   "outputs": [],
   "source": [
    "print(list2D*2)\n",
    "print(a_array*5)"
   ]
  },
  {
   "cell_type": "markdown",
   "metadata": {},
   "source": [
    "## Dictionaries\n",
    "\n",
    "Python has the ability to create a mappable data structure, which is called a dictionary. The main way you'll encounter them is through many different data read methods. For example, you saw one with the ```get_upperair_data()``` read function from MetPy. The great thing about a dictionary is that you are able to reference data with a string (or name) as opposed to just an index value. This is very powerful for keeping track of a number of different arrays within a \"dataset\".\n",
    "\n",
    "A dictionary is defined in one of two ways, 1) with curly brackets or 2) the ```dict()``` function."
   ]
  },
  {
   "cell_type": "code",
   "execution_count": null,
   "metadata": {},
   "outputs": [],
   "source": [
    "# The following two dictionaries are equivalent\n",
    "hours = list(range(24))\n",
    "data1 = {'times':hours,'stn':['VPZ','GYY','ORD','MDW','RFD']}\n",
    "data2 = dict(times=hours,stn=['VPZ','GYY','ORD','MDW','RFD'])\n",
    "print(data1)\n",
    "print(data1==data2)"
   ]
  },
  {
   "cell_type": "code",
   "execution_count": null,
   "metadata": {},
   "outputs": [],
   "source": [
    "print(data1['stn'])"
   ]
  },
  {
   "cell_type": "code",
   "execution_count": null,
   "metadata": {},
   "outputs": [],
   "source": []
  }
 ],
 "metadata": {
  "anaconda-cloud": {},
  "kernelspec": {
   "display_name": "Python [conda env:py35]",
   "language": "python",
   "name": "conda-env-py35-py"
  },
  "language_info": {
   "codemirror_mode": {
    "name": "ipython",
    "version": 3
   },
   "file_extension": ".py",
   "mimetype": "text/x-python",
   "name": "python",
   "nbconvert_exporter": "python",
   "pygments_lexer": "ipython3",
   "version": "3.5.4"
  }
 },
 "nbformat": 4,
 "nbformat_minor": 2
}
