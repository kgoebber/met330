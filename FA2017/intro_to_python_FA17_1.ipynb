{
 "cells": [
  {
   "cell_type": "markdown",
   "metadata": {
    "nbpresent": {
     "id": "c23ee487-d6e2-4432-b942-55c32107af6c"
    },
    "slideshow": {
     "slide_type": "slide"
    }
   },
   "source": [
    "# Introduction to Python"
   ]
  },
  {
   "cell_type": "code",
   "execution_count": null,
   "metadata": {},
   "outputs": [],
   "source": []
  },
  {
   "cell_type": "markdown",
   "metadata": {
    "nbpresent": {
     "id": "0571a447-0782-46ea-bd4a-ffa63650a50c"
    },
    "slideshow": {
     "slide_type": "subslide"
    }
   },
   "source": [
    "** Python is a read language**\n",
    "* NOT compiled!\n",
    "* The typed psuedo-code that you write is interpreted and run directly\n",
    "\n",
    "** Object Oriented**\n",
    "* Object-oriented programming (OOP) is a programming paradigm based on the concept of \"objects\", which are data structures that contain data, in the form of fields, often known as attributes; and code, in the form of procedures, often known as methods. – Defn. from Wikipedia\n",
    "\n",
    "* We won’t write objected oriented stuff, but we will use it extensively!\n"
   ]
  },
  {
   "cell_type": "markdown",
   "metadata": {
    "nbpresent": {
     "id": "ed5817fc-77f2-4121-83a3-3fe88ddcee2f"
    },
    "slideshow": {
     "slide_type": "subslide"
    }
   },
   "source": [
    "** Base python is small **\n",
    "\n",
    "** Lots of modules to complete high level tasks **\n",
    "* numpy, scipy, matplotlib, cartopy, netcdf4, pandas, xray, pyart, r2py, scikit-image, scikit-learn\n",
    "\n",
    "* Need to import modules to use their methods with your data objects (this is that whole object-oriented programming bit)\n",
    "\n",
    "* You can think of modules as large groups of very useful functions or subprograms\n"
   ]
  },
  {
   "cell_type": "markdown",
   "metadata": {
    "nbpresent": {
     "id": "24377631-6634-467e-bf4d-416bf1323573"
    },
    "slideshow": {
     "slide_type": "subslide"
    }
   },
   "source": [
    "** Indented language**\n",
    "* must abide by different levels of indentation in order for program to be interpreted correctly\n",
    "\n",
    "** Community based development**\n",
    "* modules developed by people for free\n",
    "common repository: github\n",
    "\n",
    "** Python on your own computer**\n",
    "* I recommend the Anaconda distribution available at https://store.continuum.io/cshop/anaconda/\n"
   ]
  },
  {
   "cell_type": "markdown",
   "metadata": {
    "nbpresent": {
     "id": "8ebbab1e-8f94-4831-b762-936a337aa391"
    },
    "slideshow": {
     "slide_type": "slide"
    }
   },
   "source": [
    "## Python in WxCenter\n",
    "\n",
    "** Python 3.6 (Anaconda dist.) **\n",
    "- If you install the same version on a personal computer with necessary modules, code *should* work on both\n",
    "\n",
    "** Lots of modules including **\n",
    "- numpy\n",
    "- scipy\n",
    "- netcdf4\n",
    "- matplotlib\n",
    "- cartopy\n",
    "- metpy\n",
    "- siphon\n"
   ]
  },
  {
   "cell_type": "markdown",
   "metadata": {
    "nbpresent": {
     "id": "39891456-e05e-44cb-aaf1-dd083f6bc57b"
    },
    "slideshow": {
     "slide_type": "slide"
    }
   },
   "source": [
    "## Python as a Shell\n",
    "Open a terminal window and type\n",
    "```python\n",
    "python\n",
    "```\n",
    "\n",
    "To get out of this shell type\n",
    "```csh\n",
    "<ctrl>-d\n",
    "```\n",
    "You can use this to test various pieces of python\n"
   ]
  },
  {
   "cell_type": "markdown",
   "metadata": {
    "nbpresent": {
     "id": "24b33931-cd79-4233-a3c7-b458874740ad"
    },
    "slideshow": {
     "slide_type": "subslide"
    }
   },
   "source": [
    "## Jupyter Notebook\n",
    "Open a terminal window and type\n",
    "```python\n",
    "jupyter notebook\n",
    "```\n",
    "This is a browser based development platform\n",
    "We’ll use this throughout the remainder of the semester\n",
    "\n",
    "You can also use this to test various pieces of python\n"
   ]
  },
  {
   "cell_type": "markdown",
   "metadata": {
    "nbpresent": {
     "id": "2d0afcac-ac14-4728-8ef0-5a2aff4925bb"
    },
    "slideshow": {
     "slide_type": "slide"
    }
   },
   "source": [
    "## Declare Variables\n",
    "\n",
    "\n",
    "* Nope, no need\n",
    "* However\n",
    "  * If you read something from a file it will be input as a string\n",
    "  * May need to convert to integers and floats (real)\n",
    "```python\n",
    "str(temp) makes temp a string\n",
    "int(temp) makes temp an integer\n",
    "float(temp) makes temp a real (float32)\n",
    "```"
   ]
  },
  {
   "cell_type": "markdown",
   "metadata": {
    "nbpresent": {
     "id": "919e2267-05bf-48b9-92a6-fe6593f22b05"
    },
    "slideshow": {
     "slide_type": "subslide"
    }
   },
   "source": [
    "## Mathematical Functions\n",
    "\n",
    "### Same as Fortran\n",
    "* Addition (+)\n",
    "* Subtraction (-)\n",
    "* Division (/)\n",
    "* Multiplication (*)\n",
    "* Exponentiation (**)\n",
    "\n",
    "Order of operations the same as well\n",
    "\n",
    "Floats and Integers work as Reals and Integers in Fortran\n"
   ]
  },
  {
   "cell_type": "markdown",
   "metadata": {
    "nbpresent": {
     "id": "b460430e-4e9f-41e0-9b91-cf09d80867f1"
    },
    "slideshow": {
     "slide_type": "subslide"
    }
   },
   "source": [
    "** NOTE:**\n",
    "In Python3, integer division will yield a real in return\n",
    "\n",
    "In Fortran\n",
    "- 5/9 = 0\n",
    "\n",
    "In Python3\n",
    "- 5/9 = 0.5555555555555556"
   ]
  },
  {
   "cell_type": "markdown",
   "metadata": {
    "nbpresent": {
     "id": "42b88980-3797-42f9-a491-0de5e8eda02d"
    },
    "slideshow": {
     "slide_type": "subslide"
    }
   },
   "source": [
    "## Assign Variables\n",
    "### Same as Fortran\n",
    "```python\n",
    "TMPC = 24\n",
    "TMPF = (9./5.)*TMPC + 32\n",
    "\n",
    "# Output to the screen\n",
    "print(TMPF)\n",
    "print('The temperature in Fahrenheit is '+str(TMPF))\n",
    "```\n",
    "** NOTE:**\n",
    "To compose the string in the second print statement, we needed to convert the variable TMPF to a string from its implied type of real."
   ]
  },
  {
   "cell_type": "markdown",
   "metadata": {
    "nbpresent": {
     "id": "f07b2ce3-0d35-4e21-8273-151fa9fe0cef"
    },
    "slideshow": {
     "slide_type": "slide"
    }
   },
   "source": [
    "## Commandline Reading\n",
    "\n",
    "In Fortran we had a simple read statement;\n",
    "```fortran\n",
    "print *, “Input your first name: “\n",
    "read(*,*) firstname\n",
    "```\n",
    "In python we need to use the function input()\n",
    "```python\n",
    "firstname = input('Input your first name: ')\n",
    "```\n",
    "In a way, it combines the two lines into one.\n"
   ]
  },
  {
   "cell_type": "markdown",
   "metadata": {
    "nbpresent": {
     "id": "d2893da2-75ca-47f2-9639-d80efd4c4934"
    },
    "slideshow": {
     "slide_type": "subslide"
    }
   },
   "source": [
    "## Let's do some examples!"
   ]
  },
  {
   "cell_type": "markdown",
   "metadata": {
    "nbpresent": {
     "id": "bfbe211f-e1fa-4601-b623-bd514bdc98be"
    },
    "slideshow": {
     "slide_type": "fragment"
    }
   },
   "source": [
    "To run a python script, type the following in a terminal window in the location the script is in\n",
    "```csh\n",
    "python <filename>\n",
    "```\n",
    "For example,\n",
    "```csh\n",
    "python read_commandline.py\n",
    "```"
   ]
  },
  {
   "cell_type": "markdown",
   "metadata": {
    "nbpresent": {
     "id": "395efd02-3aa7-4d35-907c-f22ebbd10569"
    },
    "slideshow": {
     "slide_type": "subslide"
    }
   },
   "source": [
    "Open the **read_age.py** example"
   ]
  },
  {
   "cell_type": "markdown",
   "metadata": {
    "nbpresent": {
     "id": "e5deb65e-b5b2-4533-b5e3-78afbed4df6d"
    },
    "slideshow": {
     "slide_type": "slide"
    }
   },
   "source": [
    "## Logical Operators\n",
    "<pre>\n",
    "\n",
    "<b>Fortran     Python</b>\n",
    " .GT.          >\n",
    " .GE.         >= \n",
    " .LT.          < \n",
    " .LE.         <= \n",
    " .EQ.         == \n",
    " .NE.         != \n",
    " .AND.         & \n",
    " .OR.          | \n",
    "\n",
    "</pre>"
   ]
  },
  {
   "cell_type": "markdown",
   "metadata": {
    "nbpresent": {
     "id": "d0d797b9-5088-43e9-bd2d-d847a069ad0a"
    },
    "slideshow": {
     "slide_type": "slide"
    }
   },
   "source": [
    "## IF/THEN"
   ]
  },
  {
   "cell_type": "markdown",
   "metadata": {
    "nbpresent": {
     "id": "ab319b78-787e-42d4-a6bb-b72ef2162465"
    },
    "slideshow": {
     "slide_type": "subslide"
    }
   },
   "source": [
    "**FORTRAN CODE**\n",
    "\n",
    "IF/THEN Statement\n",
    "\n",
    "```fortran\n",
    "a = 5\n",
    "b = 10\n",
    "\n",
    "if (a .LT. b) then\n",
    "    print *, a\n",
    "else\n",
    "    print *, b\n",
    "endif\n",
    "```"
   ]
  },
  {
   "cell_type": "code",
   "execution_count": 6,
   "metadata": {
    "nbpresent": {
     "id": "16f55919-781c-46f4-9de6-2d683e8a485c"
    },
    "slideshow": {
     "slide_type": "subslide"
    }
   },
   "outputs": [
    {
     "name": "stdout",
     "output_type": "stream",
     "text": [
      "10\n",
      "61\n",
      "This is the end of our script\n"
     ]
    }
   ],
   "source": [
    "#IF/THEN in Python\n",
    "a=51\n",
    "b = 10\n",
    "\n",
    "if (a < b):\n",
    "    if (a < 5*b):\n",
    "        print(\"Something\")\n",
    "    print(a)\n",
    "elif (a == b):\n",
    "    print(a*b)\n",
    "else:\n",
    "    print(b)\n",
    "    print(a+10)\n",
    "    \n",
    "print('This is the end of our script')"
   ]
  },
  {
   "cell_type": "markdown",
   "metadata": {
    "nbpresent": {
     "id": "5dec07e6-0200-4724-a8a8-702eb4b8cb12"
    },
    "slideshow": {
     "slide_type": "slide"
    }
   },
   "source": [
    "## Looping"
   ]
  },
  {
   "cell_type": "markdown",
   "metadata": {
    "nbpresent": {
     "id": "13b0a6fb-75e5-4680-b9ce-70c470450fc2"
    },
    "slideshow": {
     "slide_type": "subslide"
    }
   },
   "source": [
    "** FORTRAN Looping **\n",
    "```fortran\n",
    "do i=0,9,1\n",
    "    print *, I\n",
    "end do\n",
    "\n",
    "a = 5\n",
    "b = 10\n",
    "do while (a .LT. b)\n",
    "\tprint *, a\n",
    "    a = a + 1\n",
    "end do\n",
    "```"
   ]
  },
  {
   "cell_type": "markdown",
   "metadata": {
    "nbpresent": {
     "id": "bfff5862-5f90-4652-85a7-71be8acdfd7c"
    },
    "slideshow": {
     "slide_type": "slide"
    }
   },
   "source": [
    "## Let's begin with a simple looping function, which is a for loop in Python\n",
    "\n",
    "The structure of the loop is:\n",
    "```python\n",
    "for variable_name in [alist]:\n",
    "    statement(s) to loop over\n",
    "```\n",
    "There is no endfor statement. Python knowns where the end is by the unindention of a line. <br>\n",
    "\n",
    "**NOTE:** Python is a indented language, so everything within the loop must be indented the same amount."
   ]
  },
  {
   "cell_type": "code",
   "execution_count": 9,
   "metadata": {
    "nbpresent": {
     "id": "6537c97e-a8aa-44b9-834e-90db91d597c4"
    },
    "slideshow": {
     "slide_type": "subslide"
    }
   },
   "outputs": [
    {
     "name": "stdout",
     "output_type": "stream",
     "text": [
      "In Loop 0\n",
      "In Loop 1\n",
      "Out of loop!\n"
     ]
    }
   ],
   "source": [
    "#for i in range(2):\n",
    "for i in (0,1):\n",
    "    print(\"In Loop \"+str(i))\n",
    "\n",
    "print(\"Out of loop!\")"
   ]
  },
  {
   "cell_type": "markdown",
   "metadata": {
    "nbpresent": {
     "id": "8b0671c3-eace-468d-a7af-3c9686df8012"
    },
    "slideshow": {
     "slide_type": "subslide"
    }
   },
   "source": [
    "But what is this list and how is range(10) a list?"
   ]
  },
  {
   "cell_type": "code",
   "execution_count": 11,
   "metadata": {
    "nbpresent": {
     "id": "e03c0acc-e991-40a5-885e-db8554c7c92d"
    },
    "slideshow": {
     "slide_type": "subslide"
    }
   },
   "outputs": [
    {
     "name": "stdout",
     "output_type": "stream",
     "text": [
      "But what is range(10)?\n",
      "range(0, 10)\n",
      "It's a simple list (array) of 10 values beginning \n",
      "with the standard base of zero.\n",
      "\n"
     ]
    }
   ],
   "source": [
    "print(\"But what is range(10)?\")\n",
    "print((range(10)))\n",
    "print(\"It's a simple list (array) of 10 values beginning \\n\"\\\n",
    "      \"with the standard base of zero.\\n\")"
   ]
  },
  {
   "cell_type": "markdown",
   "metadata": {
    "nbpresent": {
     "id": "56b6210f-aa30-4914-bece-ea03c2defe83"
    },
    "slideshow": {
     "slide_type": "subslide"
    }
   },
   "source": [
    "A simple list in Python works just like a single dimensional array!\n",
    "\n",
    "For example, lets set range(10) equal to a variable and see how we can call elements of the list."
   ]
  },
  {
   "cell_type": "code",
   "execution_count": 15,
   "metadata": {
    "nbpresent": {
     "id": "39c49a92-cb7e-4d47-8be8-48e88b67d858"
    },
    "slideshow": {
     "slide_type": "subslide"
    }
   },
   "outputs": [
    {
     "name": "stdout",
     "output_type": "stream",
     "text": [
      "[0, 1, 2, 3, 4, 5, 6, 7, 8, 9]\n",
      "0\n",
      "5\n",
      "[0, 1, 2, 3, 4, 5, 6, 7, 8, 9]\n"
     ]
    }
   ],
   "source": [
    "x = list(range(10))\n",
    "print(list(x))\n",
    "print(x[0])\n",
    "print(x[5])\n",
    "print(x)"
   ]
  },
  {
   "cell_type": "markdown",
   "metadata": {
    "nbpresent": {
     "id": "b78e8bb4-7a93-4d58-9b09-bb089b4ac2d4"
    },
    "slideshow": {
     "slide_type": "subslide"
    }
   },
   "source": [
    "** Now let's specify how we loop with range **\n",
    "\n",
    "Run the cell below, then change the values over which you are looping. For example, start with -5 and go to 5."
   ]
  },
  {
   "cell_type": "code",
   "execution_count": 9,
   "metadata": {
    "nbpresent": {
     "id": "87bb2883-9a7d-4622-9e9f-2150621bf4d7"
    },
    "slideshow": {
     "slide_type": "fragment"
    }
   },
   "outputs": [
    {
     "name": "stdout",
     "output_type": "stream",
     "text": [
      "-5\n",
      "-4\n",
      "-3\n",
      "-2\n",
      "-1\n",
      "Note: The final number in the range that was specified \n",
      "was NOT used. There is no 10 in the output.\n",
      "\n",
      "-1\n"
     ]
    }
   ],
   "source": [
    "for i in range(-5,0):\n",
    "    print(i)\n",
    "print(\"Note: The final number in the range that was specified \\n\"\n",
    "      \"was NOT used. There is no 10 in the output.\\n\")\n",
    "print(i)"
   ]
  },
  {
   "cell_type": "markdown",
   "metadata": {
    "nbpresent": {
     "id": "6833bc38-07c6-469d-909a-6bc0dcced6f3"
    },
    "slideshow": {
     "slide_type": "subslide"
    }
   },
   "source": [
    "The way that python works when you are specifying some sort of range, whether within the range function itself or within an array, it is **inclusive** of the first element and **exclusive** of the last.\n",
    "\n",
    "So what does that mean?\n",
    "\n",
    "(10,20) -> 10, 11, 12, 13, 14, 15, 16, 17, 18, 19 --> in math that would be written as [10,20)"
   ]
  },
  {
   "cell_type": "markdown",
   "metadata": {
    "slideshow": {
     "slide_type": "slide"
    }
   },
   "source": [
    "## Looping over specified list\n",
    "We can set out own list, as in the example below with the variable temp."
   ]
  },
  {
   "cell_type": "code",
   "execution_count": 4,
   "metadata": {
    "slideshow": {
     "slide_type": "subslide"
    }
   },
   "outputs": [
    {
     "name": "stdout",
     "output_type": "stream",
     "text": [
      "19\n",
      "26\n",
      "5\n",
      "Kevin\n",
      "3\n",
      "22.2\n",
      "100\n"
     ]
    }
   ],
   "source": [
    "temp = [19,26,5,'Kevin',3,22.2,100]\n",
    "for j in temp:\n",
    "    print(j)"
   ]
  },
  {
   "cell_type": "markdown",
   "metadata": {
    "nbpresent": {
     "id": "cf2319f4-a6fe-4d8b-94c2-6f140686103e"
    },
    "slideshow": {
     "slide_type": "subslide"
    }
   },
   "source": [
    "However, we are not relegated to using numbers for our looping!"
   ]
  },
  {
   "cell_type": "code",
   "execution_count": 6,
   "metadata": {
    "nbpresent": {
     "id": "2e9fbe17-5626-40d5-979f-fb1265c44c99"
    },
    "slideshow": {
     "slide_type": "slide"
    }
   },
   "outputs": [
    {
     "name": "stdout",
     "output_type": "stream",
     "text": [
      "Kevin\n",
      "Matt\n",
      "Tyler\n",
      "Linus\n",
      "True\n"
     ]
    }
   ],
   "source": [
    "names = ['Kevin','Matt','Tyler','Linus']\n",
    "for item in names:\n",
    "    print(item)\n",
    "\n",
    "print('Kevin' in names)"
   ]
  },
  {
   "cell_type": "code",
   "execution_count": 7,
   "metadata": {
    "nbpresent": {
     "id": "bcea78ca-84aa-4739-b4f9-4e33216c5840"
    },
    "slideshow": {
     "slide_type": "slide"
    }
   },
   "outputs": [
    {
     "name": "stdout",
     "output_type": "stream",
     "text": [
      "V\n",
      "a\n",
      "l\n",
      "p\n",
      "a\n",
      "r\n",
      "a\n",
      "i\n",
      "s\n",
      "o\n",
      " \n",
      "U\n",
      "n\n",
      "i\n",
      "v\n",
      "e\n",
      "r\n",
      "s\n",
      "i\n",
      "t\n",
      "y\n"
     ]
    }
   ],
   "source": [
    "name = 'Valparaiso University'\n",
    "for letters in name:\n",
    "    print(letters)"
   ]
  },
  {
   "cell_type": "markdown",
   "metadata": {
    "nbpresent": {
     "id": "3d6ab4e1-9340-46b7-998b-e28db94ac125"
    },
    "slideshow": {
     "slide_type": "slide"
    }
   },
   "source": [
    "## While Loops\n",
    "We also have the option of a while loop in Python, which is very similar to the Fortran version. The loop will continue until the logic statement is false."
   ]
  },
  {
   "cell_type": "code",
   "execution_count": 10,
   "metadata": {
    "nbpresent": {
     "id": "68c9136a-119d-4baa-834a-dfb276b39b15"
    },
    "slideshow": {
     "slide_type": "subslide"
    }
   },
   "outputs": [
    {
     "name": "stdout",
     "output_type": "stream",
     "text": [
      "0\n",
      "1\n",
      "2\n",
      "3\n",
      "I am out of the loop because m is now 4\n"
     ]
    }
   ],
   "source": [
    "# We initialize m to be zero and that means \n",
    "# that m is an integer in this case.\n",
    "m = 0\n",
    "while (m < 4):\n",
    "    print(m)\n",
    "    m+=1\n",
    "print(\"I am out of the loop because m is now \"+str(m))\n"
   ]
  },
  {
   "cell_type": "code",
   "execution_count": null,
   "metadata": {
    "nbpresent": {
     "id": "a4f606ab-0b50-4be2-b84d-1b4256cf5df6"
    }
   },
   "outputs": [],
   "source": []
  }
 ],
 "metadata": {
  "anaconda-cloud": {},
  "celltoolbar": "Slideshow",
  "kernelspec": {
   "display_name": "Python [conda root]",
   "language": "python",
   "name": "conda-root-py"
  },
  "language_info": {
   "codemirror_mode": {
    "name": "ipython",
    "version": 3
   },
   "file_extension": ".py",
   "mimetype": "text/x-python",
   "name": "python",
   "nbconvert_exporter": "python",
   "pygments_lexer": "ipython3",
   "version": "3.5.4"
  },
  "nbpresent": {
   "slides": {
    "0bf7faf1-8d99-448b-a9fb-f8d53e933796": {
     "id": "0bf7faf1-8d99-448b-a9fb-f8d53e933796",
     "layout": "treemap",
     "prev": "6c950c29-ea9f-4d3c-81d1-80642bfa5679",
     "regions": {
      "310c8cd7-ba5d-41e9-a2b2-0dec2af0400e": {
       "attrs": {
        "height": 1,
        "treemap:weight": 1,
        "width": 1,
        "x": 0,
        "y": 0
       },
       "content": {
        "cell": "cf2319f4-a6fe-4d8b-94c2-6f140686103e",
        "part": "whole"
       },
       "id": "310c8cd7-ba5d-41e9-a2b2-0dec2af0400e"
      }
     }
    },
    "176b5064-7d9a-4b1d-b618-30cacbed7913": {
     "id": "176b5064-7d9a-4b1d-b618-30cacbed7913",
     "layout": "treemap",
     "prev": "cdf1ceae-0de9-45be-b488-b78d283d6341",
     "regions": {
      "c3ab5b74-b52b-4898-bf5f-a34d839ab0dd": {
       "attrs": {
        "height": 1,
        "treemap:weight": 1,
        "width": 1,
        "x": 0,
        "y": 0
       },
       "content": {
        "cell": "e5deb65e-b5b2-4533-b5e3-78afbed4df6d",
        "part": "whole"
       },
       "id": "c3ab5b74-b52b-4898-bf5f-a34d839ab0dd"
      }
     }
    },
    "1b230d2c-77db-4dc7-815f-24b20b43b1f3": {
     "id": "1b230d2c-77db-4dc7-815f-24b20b43b1f3",
     "layout": "treemap",
     "prev": "9353f3b6-1d77-4ef9-9b8c-8a578f24a670",
     "regions": {
      "a9145657-45cd-4a17-8ec0-323e6fd62b7a": {
       "attrs": {
        "height": 1,
        "treemap:weight": 1,
        "width": 1,
        "x": 0,
        "y": 0
       },
       "content": {
        "cell": "87bb2883-9a7d-4622-9e9f-2150621bf4d7",
        "part": "whole"
       },
       "id": "a9145657-45cd-4a17-8ec0-323e6fd62b7a"
      }
     }
    },
    "25cac0c9-a1ea-44f6-ac4f-ec594218a941": {
     "id": "25cac0c9-a1ea-44f6-ac4f-ec594218a941",
     "layout": "treemap",
     "prev": "9855b460-30dd-4d10-a325-1f0b249ce123",
     "regions": {
      "7be52109-1c46-437e-ba22-00563d9168d1": {
       "attrs": {
        "height": 1,
        "treemap:weight": 1,
        "width": 1,
        "x": 0,
        "y": 0
       },
       "content": {
        "cell": "56b6210f-aa30-4914-bece-ea03c2defe83",
        "part": "whole"
       },
       "id": "7be52109-1c46-437e-ba22-00563d9168d1"
      }
     }
    },
    "2d920f49-c954-4ca0-8492-a375ed4aab41": {
     "id": "2d920f49-c954-4ca0-8492-a375ed4aab41",
     "layout": "treemap",
     "prev": "4b80695e-d0d9-46e2-be52-d3d2b9b97b2d",
     "regions": {
      "b7ab6edb-6982-4f78-93fb-55264feeb07b": {
       "attrs": {
        "height": 1,
        "treemap:weight": 1,
        "width": 1,
        "x": 0,
        "y": 0
       },
       "content": {
        "cell": "ab319b78-787e-42d4-a6bb-b72ef2162465",
        "part": "whole"
       },
       "id": "b7ab6edb-6982-4f78-93fb-55264feeb07b"
      }
     }
    },
    "3d8cc37c-401b-4342-b296-d2b13250a6aa": {
     "id": "3d8cc37c-401b-4342-b296-d2b13250a6aa",
     "layout": "treemap",
     "prev": "834489c0-bcc3-45ab-a3cd-90ecf3020971",
     "regions": {
      "7eac8415-e0bb-4d1b-a5fe-c2ba92ea36ad": {
       "attrs": {
        "height": 1,
        "treemap:weight": 1,
        "width": 1,
        "x": 0,
        "y": 0
       },
       "content": {
        "cell": "24377631-6634-467e-bf4d-416bf1323573",
        "part": "whole"
       },
       "id": "7eac8415-e0bb-4d1b-a5fe-c2ba92ea36ad"
      }
     }
    },
    "3e89dcfb-92ce-41a4-b1b2-eacc81f19d29": {
     "id": "3e89dcfb-92ce-41a4-b1b2-eacc81f19d29",
     "prev": "9f6d3a2d-5fd3-4336-9425-6eb1d08de135",
     "regions": {
      "b1eba3f2-eb92-48aa-9f4d-aa6089c1281b": {
       "attrs": {
        "height": 1,
        "width": 1,
        "x": 0,
        "y": 0
       },
       "content": {
        "cell": "c23ee487-d6e2-4432-b942-55c32107af6c",
        "part": "source"
       },
       "id": "b1eba3f2-eb92-48aa-9f4d-aa6089c1281b"
      }
     }
    },
    "4b80695e-d0d9-46e2-be52-d3d2b9b97b2d": {
     "id": "4b80695e-d0d9-46e2-be52-d3d2b9b97b2d",
     "layout": "treemap",
     "prev": "176b5064-7d9a-4b1d-b618-30cacbed7913",
     "regions": {
      "989e8d0e-7bf5-47ea-b098-263ea98e2b30": {
       "attrs": {
        "height": 1,
        "treemap:weight": 1,
        "width": 1,
        "x": 0,
        "y": 0
       },
       "content": {
        "cell": "d0d797b9-5088-43e9-bd2d-d847a069ad0a",
        "part": "whole"
       },
       "id": "989e8d0e-7bf5-47ea-b098-263ea98e2b30"
      }
     }
    },
    "5d715f7b-4233-4b36-92bb-ea64b6958a43": {
     "id": "5d715f7b-4233-4b36-92bb-ea64b6958a43",
     "layout": "treemap",
     "prev": "6bac5221-4e1a-4327-8379-77964314dde1",
     "regions": {
      "ab977ea4-485c-4057-8190-68ab908ce1f7": {
       "attrs": {
        "height": 1,
        "treemap:weight": 1,
        "width": 1,
        "x": 0,
        "y": 0
       },
       "content": {
        "cell": "13b0a6fb-75e5-4680-b9ce-70c470450fc2",
        "part": "whole"
       },
       "id": "ab977ea4-485c-4057-8190-68ab908ce1f7"
      }
     }
    },
    "5ef6bd32-5865-46b3-a42f-af0eb70bc147": {
     "id": "5ef6bd32-5865-46b3-a42f-af0eb70bc147",
     "layout": "treemap",
     "prev": "95a1a0a7-e2bf-4c12-9507-b8d0ca598c3e",
     "regions": {
      "e27ee299-fcbd-41a7-b22d-e7b4dd39b986": {
       "attrs": {
        "height": 1,
        "treemap:weight": 1,
        "width": 1,
        "x": 0,
        "y": 0
       },
       "content": {
        "cell": "39891456-e05e-44cb-aaf1-dd083f6bc57b",
        "part": "whole"
       },
       "id": "e27ee299-fcbd-41a7-b22d-e7b4dd39b986"
      }
     }
    },
    "6700d164-3663-47c5-afcb-f375ee97e82a": {
     "id": "6700d164-3663-47c5-afcb-f375ee97e82a",
     "layout": "treemap",
     "prev": "9940399b-4c7f-4e89-89b3-b881bd2deabb",
     "regions": {
      "841229b3-8c3b-4bec-badb-c236f49e12ec": {
       "attrs": {
        "height": 1,
        "treemap:weight": 1,
        "width": 1,
        "x": 0,
        "y": 0
       },
       "content": {
        "cell": "a4f606ab-0b50-4be2-b84d-1b4256cf5df6",
        "part": "whole"
       },
       "id": "841229b3-8c3b-4bec-badb-c236f49e12ec"
      }
     }
    },
    "6bac5221-4e1a-4327-8379-77964314dde1": {
     "id": "6bac5221-4e1a-4327-8379-77964314dde1",
     "layout": "treemap",
     "prev": "a95f346c-ddc8-4c0d-91a4-77724522d777",
     "regions": {
      "ecd40593-39c3-4421-8810-eccce99fc781": {
       "attrs": {
        "height": 1,
        "treemap:weight": 1,
        "width": 1,
        "x": 0,
        "y": 0
       },
       "content": {
        "cell": "5dec07e6-0200-4724-a8a8-702eb4b8cb12",
        "part": "whole"
       },
       "id": "ecd40593-39c3-4421-8810-eccce99fc781"
      }
     }
    },
    "6baccb13-a733-4cf7-88ea-5bbb2602d212": {
     "id": "6baccb13-a733-4cf7-88ea-5bbb2602d212",
     "layout": "treemap",
     "prev": "899bfc06-bddb-4ea9-8c35-a0bb6e6b1950",
     "regions": {
      "47397a8a-0e35-42a0-b54c-3eadcdd061b3": {
       "attrs": {
        "height": 1,
        "treemap:weight": 1,
        "width": 1,
        "x": 0,
        "y": 0
       },
       "content": {
        "cell": "b460430e-4e9f-41e0-9b91-cf09d80867f1",
        "part": "whole"
       },
       "id": "47397a8a-0e35-42a0-b54c-3eadcdd061b3"
      }
     }
    },
    "6c950c29-ea9f-4d3c-81d1-80642bfa5679": {
     "id": "6c950c29-ea9f-4d3c-81d1-80642bfa5679",
     "layout": "treemap",
     "prev": "85ffc072-6a42-46a8-aeb9-eafb7a662582",
     "regions": {}
    },
    "6cf95647-010e-4f28-a7e1-e623fac6d222": {
     "id": "6cf95647-010e-4f28-a7e1-e623fac6d222",
     "layout": "treemap",
     "prev": "c6fc5fad-af61-4457-9f73-980d22c49444",
     "regions": {
      "203af803-5d5f-42ee-b454-a239237f82c6": {
       "attrs": {
        "height": 1,
        "treemap:weight": 1,
        "width": 1,
        "x": 0,
        "y": 0
       },
       "content": {
        "cell": "6537c97e-a8aa-44b9-834e-90db91d597c4",
        "part": "whole"
       },
       "id": "203af803-5d5f-42ee-b454-a239237f82c6"
      }
     }
    },
    "6f4c85b1-14da-422c-8e24-f190a9ce14bc": {
     "id": "6f4c85b1-14da-422c-8e24-f190a9ce14bc",
     "layout": "treemap",
     "prev": "6cf95647-010e-4f28-a7e1-e623fac6d222",
     "regions": {
      "9459bf07-d766-4c70-bd9c-62d5c9f83208": {
       "attrs": {
        "height": 1,
        "treemap:weight": 1,
        "width": 1,
        "x": 0,
        "y": 0
       },
       "content": {
        "cell": "8b0671c3-eace-468d-a7af-3c9686df8012",
        "part": "whole"
       },
       "id": "9459bf07-d766-4c70-bd9c-62d5c9f83208"
      }
     }
    },
    "74c8af1b-aaff-4a08-b8f6-1cdcf7eb8f0b": {
     "id": "74c8af1b-aaff-4a08-b8f6-1cdcf7eb8f0b",
     "layout": "treemap",
     "prev": "5ef6bd32-5865-46b3-a42f-af0eb70bc147",
     "regions": {
      "78b6fd64-fca0-419c-ada9-a4f5803a4412": {
       "attrs": {
        "height": 1,
        "treemap:weight": 1,
        "width": 1,
        "x": 0,
        "y": 0
       },
       "content": {
        "cell": "24b33931-cd79-4233-a3c7-b458874740ad",
        "part": "whole"
       },
       "id": "78b6fd64-fca0-419c-ada9-a4f5803a4412"
      }
     }
    },
    "7b66aa93-0a30-4592-bd66-c1f861493594": {
     "id": "7b66aa93-0a30-4592-bd66-c1f861493594",
     "layout": "treemap",
     "prev": "c7275568-dbc3-4dd5-bf5e-6e73af07b555",
     "regions": {
      "5f0fcee4-3d80-4de9-a041-dec26dff168f": {
       "attrs": {
        "height": 1,
        "treemap:weight": 1,
        "width": 1,
        "x": 0,
        "y": 0
       },
       "content": {
        "cell": "3d6ab4e1-9340-46b7-998b-e28db94ac125",
        "part": "whole"
       },
       "id": "5f0fcee4-3d80-4de9-a041-dec26dff168f"
      }
     }
    },
    "834489c0-bcc3-45ab-a3cd-90ecf3020971": {
     "id": "834489c0-bcc3-45ab-a3cd-90ecf3020971",
     "layout": "treemap",
     "prev": "afb5d004-a86c-4b0c-9b77-bf5bc2428537",
     "regions": {
      "9a14b66e-4da3-4f82-b0c9-1c73b28ea474": {
       "attrs": {
        "height": 1,
        "treemap:weight": 1,
        "width": 1,
        "x": 0,
        "y": 0
       },
       "content": {
        "cell": "ed5817fc-77f2-4121-83a3-3fe88ddcee2f",
        "part": "whole"
       },
       "id": "9a14b66e-4da3-4f82-b0c9-1c73b28ea474"
      }
     },
     "theme": "e4924e00-6c78-4775-ad39-c54f5f257fa5"
    },
    "85ffc072-6a42-46a8-aeb9-eafb7a662582": {
     "id": "85ffc072-6a42-46a8-aeb9-eafb7a662582",
     "layout": "treemap",
     "prev": "1b230d2c-77db-4dc7-815f-24b20b43b1f3",
     "regions": {
      "1c37299a-c098-49ff-b5c4-4afc3b6c0529": {
       "attrs": {
        "height": 1,
        "treemap:weight": 1,
        "width": 1,
        "x": 0,
        "y": 0
       },
       "content": {
        "cell": "6833bc38-07c6-469d-909a-6bc0dcced6f3",
        "part": "whole"
       },
       "id": "1c37299a-c098-49ff-b5c4-4afc3b6c0529"
      }
     }
    },
    "899bfc06-bddb-4ea9-8c35-a0bb6e6b1950": {
     "id": "899bfc06-bddb-4ea9-8c35-a0bb6e6b1950",
     "layout": "treemap",
     "prev": "d737f4c7-60b8-4886-b5e9-cec1642ce18e",
     "regions": {
      "89e279c8-9b85-494b-b21d-51c7c210a48c": {
       "attrs": {
        "height": 1,
        "treemap:weight": 1,
        "width": 1,
        "x": 0,
        "y": 0
       },
       "content": {
        "cell": "919e2267-05bf-48b9-92a6-fe6593f22b05",
        "part": "whole"
       },
       "id": "89e279c8-9b85-494b-b21d-51c7c210a48c"
      }
     }
    },
    "9353f3b6-1d77-4ef9-9b8c-8a578f24a670": {
     "id": "9353f3b6-1d77-4ef9-9b8c-8a578f24a670",
     "layout": "treemap",
     "prev": "ba6d3ab7-3c60-4d1e-a8bc-852dd09a4a21",
     "regions": {
      "b7457541-e0e5-4f53-9681-48a4d66a9aab": {
       "attrs": {
        "height": 1,
        "treemap:weight": 1,
        "width": 1,
        "x": 0,
        "y": 0
       },
       "content": {
        "cell": "b78e8bb4-7a93-4d58-9b09-bb089b4ac2d4",
        "part": "whole"
       },
       "id": "b7457541-e0e5-4f53-9681-48a4d66a9aab"
      }
     }
    },
    "93d6a310-b99e-430b-92a7-90d2fdcc155b": {
     "id": "93d6a310-b99e-430b-92a7-90d2fdcc155b",
     "layout": "treemap",
     "prev": "6baccb13-a733-4cf7-88ea-5bbb2602d212",
     "regions": {
      "510c3798-03b5-48be-99b1-93ecf6d4dc5e": {
       "attrs": {
        "height": 1,
        "treemap:weight": 1,
        "width": 1,
        "x": 0,
        "y": 0
       },
       "content": {
        "cell": "42b88980-3797-42f9-a491-0de5e8eda02d",
        "part": "whole"
       },
       "id": "510c3798-03b5-48be-99b1-93ecf6d4dc5e"
      }
     }
    },
    "95a1a0a7-e2bf-4c12-9507-b8d0ca598c3e": {
     "id": "95a1a0a7-e2bf-4c12-9507-b8d0ca598c3e",
     "layout": "treemap",
     "prev": "3d8cc37c-401b-4342-b296-d2b13250a6aa",
     "regions": {
      "a48e885c-1abe-44eb-9bda-cb338fc93029": {
       "attrs": {
        "height": 1,
        "pad": 0.01,
        "treemap:weight": 1,
        "width": 1,
        "x": 0,
        "y": 0
       },
       "content": {
        "cell": "8ebbab1e-8f94-4831-b762-936a337aa391",
        "part": "whole"
       },
       "height": 0.99,
       "id": "a48e885c-1abe-44eb-9bda-cb338fc93029",
       "width": 0.99,
       "y": 0.005
      }
     }
    },
    "9855b460-30dd-4d10-a325-1f0b249ce123": {
     "id": "9855b460-30dd-4d10-a325-1f0b249ce123",
     "layout": "treemap",
     "prev": "6f4c85b1-14da-422c-8e24-f190a9ce14bc",
     "regions": {
      "da71a3ca-372d-4f9f-bd5d-d9e743c0879e": {
       "attrs": {
        "height": 1,
        "treemap:weight": 1,
        "width": 1,
        "x": 0,
        "y": 0
       },
       "content": {
        "cell": "e03c0acc-e991-40a5-885e-db8554c7c92d",
        "part": "whole"
       },
       "id": "da71a3ca-372d-4f9f-bd5d-d9e743c0879e"
      }
     }
    },
    "9940399b-4c7f-4e89-89b3-b881bd2deabb": {
     "id": "9940399b-4c7f-4e89-89b3-b881bd2deabb",
     "layout": "treemap",
     "prev": "7b66aa93-0a30-4592-bd66-c1f861493594",
     "regions": {
      "8058913d-e838-47cf-a75a-4af57a94d066": {
       "attrs": {
        "height": 1,
        "treemap:weight": 1,
        "width": 1,
        "x": 0,
        "y": 0
       },
       "content": {
        "cell": "68c9136a-119d-4baa-834a-dfb276b39b15",
        "part": "whole"
       },
       "id": "8058913d-e838-47cf-a75a-4af57a94d066"
      }
     }
    },
    "9f6d3a2d-5fd3-4336-9425-6eb1d08de135": {
     "id": "9f6d3a2d-5fd3-4336-9425-6eb1d08de135",
     "layout": "treemap",
     "prev": null,
     "regions": {
      "c8949fff-b873-47ff-ab3c-e61186f4d76c": {
       "attrs": {
        "height": 1,
        "treemap:weight": 1,
        "width": 1,
        "x": 0,
        "y": 0
       },
       "content": {
        "cell": "c23ee487-d6e2-4432-b942-55c32107af6c",
        "part": "source"
       },
       "id": "c8949fff-b873-47ff-ab3c-e61186f4d76c"
      }
     },
     "theme": "472dbb9f-3926-4a70-9e4e-1e759077088b"
    },
    "a0983b28-c37b-4b37-9c72-38b4d7268472": {
     "id": "a0983b28-c37b-4b37-9c72-38b4d7268472",
     "layout": "treemap",
     "prev": "ed255cb5-015c-46e3-b88c-a134e5fc9ab1",
     "regions": {
      "08179ea7-d19d-4f20-a51c-2f9461797085": {
       "attrs": {
        "height": 1,
        "treemap:weight": 1,
        "width": 1,
        "x": 0,
        "y": 0
       },
       "content": {
        "cell": "d2893da2-75ca-47f2-9639-d80efd4c4934",
        "part": "whole"
       },
       "id": "08179ea7-d19d-4f20-a51c-2f9461797085"
      }
     }
    },
    "a8c39e71-aa72-4fa8-87b1-9e30992acb96": {
     "id": "a8c39e71-aa72-4fa8-87b1-9e30992acb96",
     "layout": "treemap",
     "prev": "a0983b28-c37b-4b37-9c72-38b4d7268472",
     "regions": {
      "750b8cc3-2eb9-4446-be61-42e9e4c6ccca": {
       "attrs": {
        "height": 1,
        "treemap:weight": 1,
        "width": 1,
        "x": 0,
        "y": 0
       },
       "content": {
        "cell": "bfbe211f-e1fa-4601-b623-bd514bdc98be",
        "part": "whole"
       },
       "id": "750b8cc3-2eb9-4446-be61-42e9e4c6ccca"
      }
     }
    },
    "a95f346c-ddc8-4c0d-91a4-77724522d777": {
     "id": "a95f346c-ddc8-4c0d-91a4-77724522d777",
     "layout": "treemap",
     "prev": "2d920f49-c954-4ca0-8492-a375ed4aab41",
     "regions": {
      "31cc0dc7-a395-4e9f-ae21-b590bc707143": {
       "attrs": {
        "height": 1,
        "treemap:weight": 1,
        "width": 1,
        "x": 0,
        "y": 0
       },
       "content": {
        "cell": "16f55919-781c-46f4-9de6-2d683e8a485c",
        "part": "whole"
       },
       "id": "31cc0dc7-a395-4e9f-ae21-b590bc707143"
      }
     }
    },
    "afb5d004-a86c-4b0c-9b77-bf5bc2428537": {
     "id": "afb5d004-a86c-4b0c-9b77-bf5bc2428537",
     "layout": "treemap",
     "prev": "3e89dcfb-92ce-41a4-b1b2-eacc81f19d29",
     "regions": {
      "56da022c-1fca-4444-921b-42441a1daddf": {
       "attrs": {
        "height": 1,
        "treemap:weight": 1,
        "width": 1,
        "x": 0,
        "y": 0
       },
       "content": {
        "cell": "0571a447-0782-46ea-bd4a-ffa63650a50c",
        "part": "source"
       },
       "id": "56da022c-1fca-4444-921b-42441a1daddf"
      }
     }
    },
    "ba6d3ab7-3c60-4d1e-a8bc-852dd09a4a21": {
     "id": "ba6d3ab7-3c60-4d1e-a8bc-852dd09a4a21",
     "layout": "treemap",
     "prev": "25cac0c9-a1ea-44f6-ac4f-ec594218a941",
     "regions": {
      "ca490e27-85f0-44f9-820d-13ac3ffe938d": {
       "attrs": {
        "height": 1,
        "treemap:weight": 1,
        "width": 1,
        "x": 0,
        "y": 0
       },
       "content": {
        "cell": "39c49a92-cb7e-4d47-8be8-48e88b67d858",
        "part": "whole"
       },
       "id": "ca490e27-85f0-44f9-820d-13ac3ffe938d"
      }
     }
    },
    "c6fc5fad-af61-4457-9f73-980d22c49444": {
     "id": "c6fc5fad-af61-4457-9f73-980d22c49444",
     "layout": "treemap",
     "prev": "5d715f7b-4233-4b36-92bb-ea64b6958a43",
     "regions": {
      "74ac2914-6524-463c-a970-c015b8c9882e": {
       "attrs": {
        "height": 1,
        "treemap:weight": 1,
        "width": 1,
        "x": 0,
        "y": 0
       },
       "content": {
        "cell": "bfff5862-5f90-4652-85a7-71be8acdfd7c",
        "part": "whole"
       },
       "id": "74ac2914-6524-463c-a970-c015b8c9882e"
      }
     }
    },
    "c7275568-dbc3-4dd5-bf5e-6e73af07b555": {
     "id": "c7275568-dbc3-4dd5-bf5e-6e73af07b555",
     "layout": "treemap",
     "prev": "d5cea092-0ad1-4333-9cfd-1853687288f8",
     "regions": {
      "7d8fa0f8-f84c-4687-8307-7dad2ed5ed1d": {
       "attrs": {
        "height": 1,
        "treemap:weight": 1,
        "width": 1,
        "x": 0,
        "y": 0
       },
       "content": {
        "cell": "bcea78ca-84aa-4739-b4f9-4e33216c5840",
        "part": "whole"
       },
       "id": "7d8fa0f8-f84c-4687-8307-7dad2ed5ed1d"
      }
     }
    },
    "cdf1ceae-0de9-45be-b488-b78d283d6341": {
     "id": "cdf1ceae-0de9-45be-b488-b78d283d6341",
     "layout": "treemap",
     "prev": "a8c39e71-aa72-4fa8-87b1-9e30992acb96",
     "regions": {
      "079afae5-cb92-4575-a065-a05af9988183": {
       "attrs": {
        "height": 1,
        "treemap:weight": 1,
        "width": 1,
        "x": 0,
        "y": 0
       },
       "content": {
        "cell": "395efd02-3aa7-4d35-907c-f22ebbd10569",
        "part": "whole"
       },
       "id": "079afae5-cb92-4575-a065-a05af9988183"
      }
     }
    },
    "d5cea092-0ad1-4333-9cfd-1853687288f8": {
     "id": "d5cea092-0ad1-4333-9cfd-1853687288f8",
     "layout": "treemap",
     "prev": "0bf7faf1-8d99-448b-a9fb-f8d53e933796",
     "regions": {
      "7aa14344-6e5f-4785-8260-7774310b903b": {
       "attrs": {
        "height": 1,
        "treemap:weight": 1,
        "width": 1,
        "x": 0,
        "y": 0
       },
       "content": {
        "cell": "2e9fbe17-5626-40d5-979f-fb1265c44c99",
        "part": "whole"
       },
       "id": "7aa14344-6e5f-4785-8260-7774310b903b"
      }
     }
    },
    "d737f4c7-60b8-4886-b5e9-cec1642ce18e": {
     "id": "d737f4c7-60b8-4886-b5e9-cec1642ce18e",
     "layout": "treemap",
     "prev": "74c8af1b-aaff-4a08-b8f6-1cdcf7eb8f0b",
     "regions": {
      "90546550-c419-4211-a1a8-36e1aa7f67b3": {
       "attrs": {
        "height": 1,
        "treemap:weight": 1,
        "width": 1,
        "x": 0,
        "y": 0
       },
       "content": {
        "cell": "2d0afcac-ac14-4728-8ef0-5a2aff4925bb",
        "part": "whole"
       },
       "id": "90546550-c419-4211-a1a8-36e1aa7f67b3"
      }
     }
    },
    "ed255cb5-015c-46e3-b88c-a134e5fc9ab1": {
     "id": "ed255cb5-015c-46e3-b88c-a134e5fc9ab1",
     "layout": "treemap",
     "prev": "93d6a310-b99e-430b-92a7-90d2fdcc155b",
     "regions": {
      "924066cc-7073-4aac-9980-8e59bb7337ce": {
       "attrs": {
        "height": 1,
        "treemap:weight": 1,
        "width": 1,
        "x": 0,
        "y": 0
       },
       "content": {
        "cell": "f07b2ce3-0d35-4e21-8273-151fa9fe0cef",
        "part": "whole"
       },
       "id": "924066cc-7073-4aac-9980-8e59bb7337ce"
      }
     }
    }
   },
   "themes": {
    "default": "8bf74276-1842-4f57-a157-46e2faf5514d",
    "theme": {
     "8bf74276-1842-4f57-a157-46e2faf5514d": {
      "id": "8bf74276-1842-4f57-a157-46e2faf5514d",
      "palette": {
       "19cc588f-0593-49c9-9f4b-e4d7cc113b1c": {
        "id": "19cc588f-0593-49c9-9f4b-e4d7cc113b1c",
        "rgb": [
         252,
         252,
         252
        ]
       },
       "31af15d2-7e15-44c5-ab5e-e04b16a89eff": {
        "id": "31af15d2-7e15-44c5-ab5e-e04b16a89eff",
        "rgb": [
         68,
         68,
         68
        ]
       },
       "50f92c45-a630-455b-aec3-788680ec7410": {
        "id": "50f92c45-a630-455b-aec3-788680ec7410",
        "rgb": [
         155,
         177,
         192
        ]
       },
       "c5cc3653-2ee1-402a-aba2-7caae1da4f6c": {
        "id": "c5cc3653-2ee1-402a-aba2-7caae1da4f6c",
        "rgb": [
         43,
         126,
         184
        ]
       },
       "efa7f048-9acb-414c-8b04-a26811511a21": {
        "id": "efa7f048-9acb-414c-8b04-a26811511a21",
        "rgb": [
         25.118061674008803,
         73.60176211453744,
         107.4819383259912
        ]
       }
      },
      "rules": {
       "blockquote": {
        "color": "50f92c45-a630-455b-aec3-788680ec7410"
       },
       "code": {
        "font-family": "Anonymous Pro"
       },
       "h1": {
        "color": "c5cc3653-2ee1-402a-aba2-7caae1da4f6c",
        "font-family": "Lato",
        "font-size": 8
       },
       "h2": {
        "color": "c5cc3653-2ee1-402a-aba2-7caae1da4f6c",
        "font-family": "Lato",
        "font-size": 6
       },
       "h3": {
        "color": "50f92c45-a630-455b-aec3-788680ec7410",
        "font-family": "Lato",
        "font-size": 5.5
       },
       "h4": {
        "color": "c5cc3653-2ee1-402a-aba2-7caae1da4f6c",
        "font-family": "Lato",
        "font-size": 5
       },
       "h5": {
        "font-family": "Lato"
       },
       "h6": {
        "font-family": "Lato"
       },
       "h7": {
        "font-family": "Lato"
       },
       "pre": {
        "font-family": "Anonymous Pro",
        "font-size": 4
       }
      },
      "text-base": {
       "font-family": "Merriweather",
       "font-size": 4
      }
     }
    }
   }
  }
 },
 "nbformat": 4,
 "nbformat_minor": 1
}
