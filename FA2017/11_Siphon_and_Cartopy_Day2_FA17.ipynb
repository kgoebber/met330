{
 "cells": [
  {
   "cell_type": "markdown",
   "metadata": {},
   "source": [
    "# Siphon (another Unidata product)\n",
    "\n",
    "There is more than one way to remotely access data through Python scripts. We have previously used NetCDF4 to gain access to data from a remote webserver, however, we needed to know exact index values to subset the data. A newer tool, called Siphon and currently developed at Unidata (those same folks who brought us GEMPAK), will allow us to more easily access remote data through its querying methods.\n",
    "\n",
    "https://unidata.github.io/siphon/latest/\n",
    "\n",
    "We are going to use Siphon to access the most current GFS model output and from that data we will plot 850-hPa heights over the globe!"
   ]
  },
  {
   "cell_type": "code",
   "execution_count": null,
   "metadata": {},
   "outputs": [],
   "source": [
    "%matplotlib inline\n",
    "import numpy as np\n",
    "import matplotlib.pyplot as plt\n",
    "import cartopy.crs as ccrs\n",
    "import cartopy.feature as cfeature\n",
    "import scipy.ndimage as ndimage\n",
    "from datetime import datetime, timedelta, timezone\n",
    "from netCDF4 import num2date\n",
    "from siphon.catalog import TDSCatalog\n",
    "from siphon.ncss import NCSS"
   ]
  },
  {
   "cell_type": "markdown",
   "metadata": {},
   "source": [
    "The key to Siphon is developing the query to get just the data that you need and accesses data on a THREDDS Data Server (TDS). A TDS is a web service to host data that has been developed at Unidata and there are many meteorological datasets hosted on THREDDS servers that you can access using Siphon. To learn more about THREDDS, please follow this link\n",
    "\n",
    "http://www.unidata.ucar.edu/software/thredds/current/tds/catalog/\n",
    "\n",
    "If you are looking for a dataset that you want to access using Siphon, you'll want to find the web address to the THREDDS catalogue that contains your dataset. Some example THREDDS sites are\n",
    "\n",
    "http://thredds.ucar.edu/thredds/catalog.html <br>\n",
    "http://www.esrl.noaa.gov/psd/thredds/dodsC/Datasets/ncep.reanalysis/catalog.html <br>\n",
    "http://www.esrl.noaa.gov/psd/thredds/dodsC/Datasets/NARR/catalog.html <br>\n",
    "http://www.esrl.noaa.gov/psd/thredds/dodsC/Datasets/20thC_ReanV2/catalog.html <br>\n",
    "http://nomads.ncdc.noaa.gov/thredds/catalog/gfs-003-anl/catalog.html <br>\n",
    "http://nomads.ncdc.noaa.gov/thredds/catalog/namanl/catalog.html <br>\n",
    "http://nomads.ncdc.noaa.gov/thredds/catalog/ruc130anl/catalog.html\n",
    "\n",
    "Notice that below, we will need to change the \"html\" to \"xml\" as the function TDSCatalog will parse the xml page."
   ]
  },
  {
   "cell_type": "code",
   "execution_count": null,
   "metadata": {},
   "outputs": [],
   "source": [
    "# Latest GFS Dataset\n",
    "cat = TDSCatalog('')\n",
    "latest_ds = list(cat.datasets.values())[0]"
   ]
  },
  {
   "cell_type": "markdown",
   "metadata": {},
   "source": [
    "So what is contained in this variable **latest_ds**?"
   ]
  },
  {
   "cell_type": "code",
   "execution_count": null,
   "metadata": {},
   "outputs": [],
   "source": [
    "for x in (latest_ds.access_urls):\n",
    "    print(x,latest_ds.access_urls[x], sep=': ')"
   ]
  },
  {
   "cell_type": "markdown",
   "metadata": {},
   "source": [
    "These are the different web address (URLs) to obtain the data. For Siphon we are wanting to use the netCDFSubset service, so we'll want to use **'NetcdfSubset'** to access the data through our Siphon query.\n",
    "\n",
    "To begin we need to call the appropriate Siphon function for the NetCDF Subset Service (NCSS) and feed it the appropriate web address. Then we'll need to build the query to go out and appropriately subset the data and bring it into the program.\n",
    "\n",
    "But how do you determine what you can subset on? See the website...\n",
    "\n",
    "http://thredds.ucar.edu/thredds/catalog/grib/NCEP/GFS/Global_0p5deg/catalog.html"
   ]
  },
  {
   "cell_type": "code",
   "execution_count": null,
   "metadata": {},
   "outputs": [],
   "source": [
    "# Setting up the correct link to the data located somewhere on the WWW\n",
    "print(latest_ds.access_urls['NetcdfSubset'])\n",
    "ncss = NCSS(latest_ds.access_urls['NetcdfSubset'])\n",
    "\n",
    "# We can subset on a number of different aspects \n",
    "# of the data: time, lat/lon, variable, etc.\n",
    "# First initiate the query\n",
    "\n",
    "\n",
    "# Now let's build the query for Latest GFS Run, \n",
    "# we want all of the times from the\n",
    "# latest GFS run and accept them in netCDF-4 convension\n",
    "\n",
    "\n",
    "# Now lets subset and only bring in the Geopotential Height data\n",
    "\n",
    "\n",
    "# Let's not bring in the whole globe, but just a subset over the U.S.\n",
    "# Set the lat/lon box for the data you want to pull in.\n",
    "# lonlat_box(north_lat,south_lat,east_lon,west_lon)\n",
    "#query.add_lonlat().lonlat_box(-140,-50,10,70)\n",
    "\n",
    "\n",
    "# Now specify the desired level 50000 = 50000 Pa = 500 hPa\n",
    "\n",
    "\n",
    "# Actually getting the data\n",
    "data = ncss.get_data(query)"
   ]
  },
  {
   "cell_type": "markdown",
   "metadata": {},
   "source": [
    "So what did our query garner us?"
   ]
  },
  {
   "cell_type": "code",
   "execution_count": null,
   "metadata": {},
   "outputs": [],
   "source": [
    "print(list(data.variables),\"\\n\")\n",
    "print(data)"
   ]
  },
  {
   "cell_type": "markdown",
   "metadata": {},
   "source": [
    "* How many variables do we have?\n",
    "* What are the shapes of the variable arrays?\n",
    "\n",
    "In our one query we are able to bring in all of the necessary data to be able to plot our desired quantity, the 500-hPa geopotential heights. But what does this look like?\n",
    "\n",
    "Since we asked for the data in netCDF4 format, we can interact with it just like we would if we had a local netCDF file that we read in using the netCDF4 module.\n",
    "\n",
    "To access our variables, we just need to make the proper object call, for example\n",
    "\n",
    "data.variables['Geopotential_height_isobaric']"
   ]
  },
  {
   "cell_type": "code",
   "execution_count": null,
   "metadata": {
    "scrolled": true
   },
   "outputs": [],
   "source": [
    "print(\"The shape of the Geopotential height array\", \n",
    "      data.variables['Geopotential_height_isobaric'].shape,\"\\n\")\n",
    "\n",
    "# Get the name of the dimensions because grib is stupid\n",
    "dtime = data.variables['Geopotential_height_isobaric'].dimensions[0]\n",
    "dlev = data.variables['Geopotential_height_isobaric'].dimensions[1]\n",
    "\n",
    "print(\"The time is in Forecast Hours\")\n",
    "print(data.variables[dtime].units)\n",
    "print(data.variables[dtime][:],\"\\n\")\n",
    "print(\"We only have one level (since that is all we specified in our query)\")\n",
    "print(data.variables[dlev][:],\"\\n\")\n",
    "print(\"Latitudes \",data.variables['lat'][:],\"\\n\")\n",
    "print(\"Longitudes \",data.variables['lon'][:])"
   ]
  },
  {
   "cell_type": "markdown",
   "metadata": {},
   "source": [
    "Let's now save this data to variable names that will be easier to work with..."
   ]
  },
  {
   "cell_type": "code",
   "execution_count": null,
   "metadata": {},
   "outputs": [],
   "source": [
    "hght_850 = \n",
    "temp_850 = \n",
    "\n",
    "# Get the dimension data\n",
    "lats = \n",
    "lons = \n",
    "levs = \n",
    "time = \n",
    "vtimes = "
   ]
  },
  {
   "cell_type": "markdown",
   "metadata": {},
   "source": [
    "## Use Cartopy to Plot 850-hPa Heights\n",
    "\n",
    "Same process as with other datasets, we just obtained our data through a different method."
   ]
  },
  {
   "cell_type": "code",
   "execution_count": null,
   "metadata": {},
   "outputs": [],
   "source": [
    "# Make a grid of lat/lon values to use for plotting with Cartopy.\n",
    "# The function meshgrid will create a two dimensional array from \n",
    "#     two 1D arrays for lats/lons\n",
    "# Basically defining what the latitude and longitude value \n",
    "#     is at every grid point\n",
    "clons, clats = np.meshgrid(lons, lats)\n",
    "print(clons)\n",
    "print(clons.shape)\n",
    "print(clats)\n",
    "print(clats.shape)"
   ]
  },
  {
   "cell_type": "code",
   "execution_count": null,
   "metadata": {},
   "outputs": [],
   "source": [
    "# Set map projection\n",
    "mapcrs = ccrs.PlateCarree()\n",
    "\n",
    "# Set up and plot figure\n",
    "fig=plt.figure(1,figsize=(17.,11.))\n",
    "\n",
    "# Set up the axes to plot on\n",
    "ax = fig.add_subplot(111,projection=mapcrs)\n",
    "\n",
    "# Set up the contour interval for temperature\n",
    "# np.arange(min,max,interval)\n",
    "cint = np.arange(0,4000,30)\n",
    "\n",
    "# Do the contouring\n",
    "# contour(x,y,variable,contour levels, line color, line width, line style)\n",
    "cs = ax.contour(clons,clats,hght_850,cint,colors='k',\n",
    "                linewidths=1.0,linestyles='solid')\n",
    "\n",
    "# Label the contours\n",
    "# clabel(contour handle, aspects of how the contour label will appear)\n",
    "ax.clabel(cs, fontsize=10, inline=1, inline_spacing=5, fmt='%i',\n",
    "          rightside_up=True, use_clabeltext=True)\n",
    "\n",
    "# Plot the coastlines\n",
    "ax.coastlines('50m',edgecolor='black',linewidth=0.75)\n",
    "\n",
    "# Plot some titles\n",
    "plt.title('850-hPa Geopotential Heights (m)',loc='left')\n",
    "plt.title('VALID: %s' %(vtimes[0]),loc='right')\n",
    "\n",
    "plt.show()"
   ]
  },
  {
   "cell_type": "markdown",
   "metadata": {},
   "source": [
    "## Cyclic Points\n",
    "Notice the very thin line that is missing from the image above, this is because we are trying to plot global data and we are missing the cyclic point that will allow us to connect the last data point to the first data point.\n",
    "\n",
    "There is a function within Cartopy Utilities (util) that will allow us to easily add this point to a dataset."
   ]
  },
  {
   "cell_type": "code",
   "execution_count": null,
   "metadata": {
    "scrolled": false
   },
   "outputs": [],
   "source": [
    "import cartopy.util as cutil\n",
    "\n",
    "# To add the cyclic point to one array\n",
    "#lonsc = cutil.add_cyclic_point(lons)\n",
    "\n",
    "# To add the cyclic point to the data array and the coordinate \n",
    "hght_850c, lonsc = \n",
    "\n",
    "# Comparing the shape of the lons array from the lonsc (cyclic) array\n",
    "print(lons[-2:])\n",
    "print(lons.shape)\n",
    "print(lonsc[-2:])\n",
    "print(lonsc.shape)"
   ]
  },
  {
   "cell_type": "code",
   "execution_count": null,
   "metadata": {},
   "outputs": [],
   "source": [
    "# Reset the grid with the cyclic data points\n",
    "clons, clats = np.meshgrid(lonsc, lats)\n",
    "print(clons.shape)\n",
    "print(clats.shape)"
   ]
  },
  {
   "cell_type": "markdown",
   "metadata": {},
   "source": [
    "### Map with Cyclic Data\n",
    "Re-create the image from above, but now using the cyclic data so that we don't have a gap.\n",
    "\n",
    "Beware of the clabel as it will produce some errors...use inline=False"
   ]
  },
  {
   "cell_type": "code",
   "execution_count": null,
   "metadata": {},
   "outputs": [],
   "source": [
    "# Set map projection\n",
    "mapcrs = ccrs.PlateCarree()\n",
    "\n",
    "# Set up and plot figure\n",
    "fig=plt.figure(1,figsize=(17.,11.))\n",
    "\n",
    "# Set up the axes to plot on\n",
    "ax = fig.add_subplot(111,projection=mapcrs)\n",
    "\n",
    "# Set up the contour interval for temperature\n",
    "# np.arange(min,max,interval)\n",
    "cint = np.arange(0,4000,30)\n",
    "\n",
    "# Do the contouring\n",
    "# contour(x,y,variable,contour levels, line color, line width, line style)\n",
    "cs = ax.contour(clons,clats,hght_850c,cint,colors='k',\n",
    "                linewidths=1.0,linestyles='solid')\n",
    "\n",
    "# Label the contours\n",
    "# clabel(contour handle, aspects of how the contour label will appear)\n",
    "t1 = ax.clabel(cs,inline=True,fmt='%d',use_clabeltext=True)\n",
    "#for t in t1:\n",
    "#    t.set_bbox(dict(fc='white',ec='none',pad=1))\n",
    "               \n",
    "# Plot the coastlines\n",
    "ax.coastlines('50m',edgecolor='black',linewidth=0.75)\n",
    "\n",
    "# Plot some titles\n",
    "plt.title('850-hPa Geopotential Height (m)',loc='left')\n",
    "plt.title('VALID: %s' %(vtimes[0]),loc='right')\n",
    "\n",
    "plt.show()"
   ]
  },
  {
   "cell_type": "markdown",
   "metadata": {},
   "source": [
    "## Colormaps\n",
    "So far we have used the jet colormap, which is really not a very good colormap for a number of reasons. There are a number of different color maps that you could use, some of which are very useful for anomaly maps (diverging color maps). You can check out the different maps at http://matplotlib.org/examples/color/colormaps_reference.html\n",
    "\n",
    "But how do we call these different maps?\n",
    "\n",
    "In contourf or pcolormesh you can define a colormap with the keyword cmap. To access any of the color maps given at the reference above you would use the following\n",
    "\n",
    "cmap = 'coolwarm'\n",
    "\n",
    "cmap = 'hot'\n",
    "\n",
    "or if you wanted one of the colormaps, but in reverse order you just add an underscore r (_r) to the name\n",
    "\n",
    "cmap = 'gist_rainbow_r'"
   ]
  },
  {
   "cell_type": "markdown",
   "metadata": {},
   "source": [
    "### Plotting Colorfill Map of 850-hPa Temperatures\n",
    "Re-create the image from above, but now using the cyclic data 850-hPa temperatures."
   ]
  },
  {
   "cell_type": "code",
   "execution_count": null,
   "metadata": {},
   "outputs": [],
   "source": [
    "temp_850c = cutil.add_cyclic_point(temp_850)\n",
    "print(temp_850c)"
   ]
  },
  {
   "cell_type": "code",
   "execution_count": null,
   "metadata": {},
   "outputs": [],
   "source": [
    "# Set map projection\n",
    "mapcrs = ccrs.PlateCarree()\n",
    "\n",
    "# Set up and plot figure\n",
    "fig=plt.figure(2,figsize=(17.,12.))\n",
    "\n",
    "# Set up the axes to plot on\n",
    "ax = fig.add_subplot(111,projection=mapcrs)\n",
    "\n",
    "# Set up map extent (whole globe in this case)\n",
    "ax.set_extent([180,-180,-90,90],ccrs.Geodetic())\n",
    "\n",
    "# Set up the contour interval for temperature\n",
    "# np.arange(min,max,interval)\n",
    "cint = np.arange(-30,31,2)\n",
    "\n",
    "# Filled color contours\n",
    "cf = ax.contourf(clons,clats,temp_850c-273.15,cint,cmap='coolwarm',extend='both')\n",
    "# Set the colorbar to plot below the image\n",
    "cbar = plt.colorbar(cf,orientation='horizontal',extend='both',\n",
    "                    aspect=65,pad=0,extendrect='True')\n",
    "\n",
    "# Regular contours\n",
    "cs2 = ax.contour(clons,clats,temp_850c-273.15,cint,colors='k',\n",
    "                 linewidths=1.0,linestyles='dotted')\n",
    "# Set the contour labels\n",
    "t1 = ax.clabel(cs2,inline=False,fmt='%d',use_clabeltext=True)\n",
    "#for t in t1:\n",
    "#    t.set_bbox(dict(fc='white',ec='none',pad=1))\n",
    "\n",
    "# Plot some coastlines\n",
    "ax.coastlines('50m',edgecolor='black',linewidth=0.75)\n",
    "\n",
    "# Plot some titles\n",
    "plt.title('850-hPa Temperature (C)',loc='left')\n",
    "plt.title('VALID: %s' %(vtimes[0]),loc='right')\n",
    "\n",
    "plt.show()"
   ]
  },
  {
   "cell_type": "markdown",
   "metadata": {},
   "source": [
    "### In-class Problem #1\n",
    "Re-create the image from above, but create a raster style image using pcolormesh.\n",
    "\n",
    "Look up matplotlib pcolormesh to figure out how to create an image using that function instead of the contour or contourf functions."
   ]
  },
  {
   "cell_type": "code",
   "execution_count": null,
   "metadata": {},
   "outputs": [],
   "source": []
  }
 ],
 "metadata": {
  "anaconda-cloud": {},
  "kernelspec": {
   "display_name": "Python [default]",
   "language": "python",
   "name": "python3"
  },
  "language_info": {
   "codemirror_mode": {
    "name": "ipython",
    "version": 3
   },
   "file_extension": ".py",
   "mimetype": "text/x-python",
   "name": "python",
   "nbconvert_exporter": "python",
   "pygments_lexer": "ipython3",
   "version": "3.6.3"
  }
 },
 "nbformat": 4,
 "nbformat_minor": 1
}
