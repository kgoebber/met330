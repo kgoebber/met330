{
 "cells": [
  {
   "cell_type": "markdown",
   "metadata": {},
   "source": [
    "# Arrays in Python using the Numpy Module\n",
    "The power of python lies within the use of community built modules that lay on top of the core python programming language. These modules are abstract code designed to maximize the usefulness of OOP tools by providing advanced functions and methods to the objects in a program.\n",
    "\n",
    "Numpy is a key module used in meteorology as it deals well (and quickly) with array manipulations. This notebook will introduce you to the numpy module and many of its useful functions, as well as continuing to develop your python language skills.\n",
    "\n",
    "First thing is to copy over a text file that we will use throughout todays lecture. It is located in <span style=\"font-family:Courier\">**/home/kgoebber/met330/python**</span> and is called <span style=\"font-family:Courier\">**nao.txt**</span>."
   ]
  },
  {
   "cell_type": "markdown",
   "metadata": {},
   "source": [
    "## Importing modules\n",
    "In order to use a module within your program you need to first tell the computer to bring it in! The way that this happens is with an import statement. However, it is common to give the module a handle, so that any similar named functions (e.g., a maximum function) that are in different modules, don't overlap!\n",
    "\n",
    "An example of an import statement for numpy is below. The common practice is to call the handle for the numpy module 'np'."
   ]
  },
  {
   "cell_type": "code",
   "execution_count": null,
   "metadata": {
    "collapsed": true,
    "jupyter": {
     "outputs_hidden": true
    }
   },
   "outputs": [],
   "source": [
    "import numpy as np"
   ]
  },
  {
   "cell_type": "markdown",
   "metadata": {},
   "source": [
    "If you have run the above cell, it appears that nothing has happened, but actually a lot has. You have just imported all of the functions that are contained within the numpy module, sitting in the background ready for you to get to work on some data!"
   ]
  },
  {
   "cell_type": "markdown",
   "metadata": {},
   "source": [
    "## Reading in data to Python\n",
    "It is difficult to easily talk about reading data from a file into a Python program simply because there are so many ways to do so! In this example we'll use the numpy module to help us read in an ASCII (plain text) file that we can then use and manipulate to calculate or graph stuff to answer scientific questions!"
   ]
  },
  {
   "cell_type": "code",
   "execution_count": null,
   "metadata": {
    "collapsed": true,
    "jupyter": {
     "outputs_hidden": true
    }
   },
   "outputs": [],
   "source": [
    "nao_data = np.loadtxt('nao.txt', skiprows=1)"
   ]
  },
  {
   "cell_type": "markdown",
   "metadata": {},
   "source": [
    "In the command above you are using a function (loadtxt) from the numpy module (np) to read in a file (nao.txt), skipping the first row (skiprows=1), and upacking the data.\n",
    "\n",
    "How can I find out more about this function? Well, there are many ways, but two of the easiest would be to 1) google <span style=\"font-family:Courier\"> **numpy loadtxt** </span> or 2) in a new cell below type <span style=\"font-family:Courier\"> **np.loadtxt?** </span>. The second way will bring up the manual pages from the numpy module to a dialogue box at the bottom of your web browser."
   ]
  },
  {
   "cell_type": "code",
   "execution_count": null,
   "metadata": {},
   "outputs": [],
   "source": [
    "# So what does the data look like?\n"
   ]
  },
  {
   "cell_type": "code",
   "execution_count": null,
   "metadata": {},
   "outputs": [],
   "source": [
    "# More elegant printing\n",
    "for row in range(64):\n",
    "    print(('%4d '+12*'%5.1f') % tuple(nao_data[row,:]))\n",
    "\n",
    "# The first part of the print statement is a \n",
    "#   format statement (more on that later).\n",
    "# Then we have to convert the 1D array to a tuple for the print function\n",
    "#   this basically makes the 1D array into a simple list that can then\n",
    "#   be printed."
   ]
  },
  {
   "cell_type": "markdown",
   "metadata": {},
   "source": [
    "## Working with Data with Numpys help\n",
    "\n",
    "While seeing the data printed out is great, its hard to determine how the data is actually stored. Luckily for us, numpy has some great functions that we can use to investigate the arrays. One of the most helpful is the function called <span style=\"font-family:Courier\">**shape**</span>. Execute the following link to see what the command yields."
   ]
  },
  {
   "cell_type": "code",
   "execution_count": null,
   "metadata": {},
   "outputs": [],
   "source": []
  },
  {
   "cell_type": "markdown",
   "metadata": {},
   "source": [
    "The <span style=\"font-family:Courier\">**shape**</span> function gives us a tuple value that tells us about the shape of the array [row,col] (or the number of index values for each element of the array). In this case how many rows and columns. So similar to Fortran, numpy reads the data into an array where the first element is the row index and the second is the column index.\n",
    "\n",
    "But we don't have to print out the whole array at one time. We can slice and dice the data any way that we desire using an array call and telling the program what element(s) we want out of our array.\n",
    "\n",
    "### NOTE: Python uses zero-based arrays\n",
    "This is done because the number line actually goes from zero to nine [0,1,2,3,4,5,6,7,8,9] and **_not_** [1,2,3,4,5,6,7,8,9,10]\n",
    "\n",
    "So.... <br> <span style=\"font-family:Courier\">\n",
    "1st element -> 0 <br>\n",
    "2nd element -> 1 <br>\n",
    "3rd element -> 2 <br>\n",
    ". <br>\n",
    ". <br>\n",
    ". <br>\n",
    "nth element -> n-1 <br> </span>"
   ]
  },
  {
   "cell_type": "code",
   "execution_count": null,
   "metadata": {},
   "outputs": [],
   "source": [
    "# So lets get just all of the years, which are in the first column\n",
    "# We specify all rows with the colon (:) and the particular row with \n",
    "#  the appropriate element number (0)\n"
   ]
  },
  {
   "cell_type": "code",
   "execution_count": null,
   "metadata": {},
   "outputs": [],
   "source": [
    "# What if we wanted all of the nao values for the first year?\n",
    "# Put in the proper array call below to get just the 1950 data.\n",
    "# nao_data[rows,cols]\n"
   ]
  },
  {
   "cell_type": "markdown",
   "metadata": {},
   "source": [
    "## Array range operation\n",
    "We can also specify a range of values to use, instead of all or just a single element. However, we must note the Python behavior for this action (which we already saw in a previous lecture with the range function. To summarize:\n",
    "\n",
    "<span style=\"font-family:Courier\">\n",
    "[0:2] is 0, 1    ->  mathematically we would write the set of numbers as [0,2) <br>\n",
    "[0:3] is 0, 1, 2 ->  mathematically we would write the set of numbers as [0,3) <br>\n",
    "[1:4] is 1, 2, 3 ->  mathematically we would write the set of numbers as [1,4) <br>\n",
    "</span>\n",
    "\n",
    "This can be used in one or both (or for however many elements) that the array contains.\n",
    "\n",
    "So lets construct an array call that looks for the months June, July, and August for 1960 - 1980"
   ]
  },
  {
   "cell_type": "code",
   "execution_count": null,
   "metadata": {},
   "outputs": [],
   "source": [
    "# This example extracts 1950 - 1959 for all months\n",
    "\n",
    "\n",
    "# Note: Not putting a number before or after the colon will result \n",
    "#       in using the first or last values in the dataset, respectively."
   ]
  },
  {
   "cell_type": "markdown",
   "metadata": {},
   "source": [
    "## Common Functions in numpy\n",
    "Do you every compute averages? sums? max? min?\n",
    "\n",
    "Numpy can help!\n",
    "\n",
    "Mathematical Functions: http://docs.scipy.org/doc/numpy/reference/routines.math.html <br>\n",
    "\n",
    "Statistical Functions: http://docs.scipy.org/doc/numpy/reference/routines.statistics.html <br>"
   ]
  },
  {
   "cell_type": "code",
   "execution_count": null,
   "metadata": {},
   "outputs": [],
   "source": [
    "# Let's compute the average value of NAO for the month of January.\n",
    "# January is index value 1 (column 2)\n"
   ]
  },
  {
   "cell_type": "code",
   "execution_count": null,
   "metadata": {},
   "outputs": [],
   "source": [
    "# Now let's compute the max NAO value in the dataset\n",
    "# NOTE: we want to exclude the year, so we want to ignore the \n",
    "#       first column and begin with index value 1 (for column 2)\n"
   ]
  },
  {
   "cell_type": "code",
   "execution_count": null,
   "metadata": {},
   "outputs": [],
   "source": [
    "# So now we have a value, but when did this occur?\n"
   ]
  },
  {
   "cell_type": "code",
   "execution_count": null,
   "metadata": {},
   "outputs": [],
   "source": [
    "\n"
   ]
  },
  {
   "cell_type": "code",
   "execution_count": null,
   "metadata": {},
   "outputs": [],
   "source": [
    "# Find the minimum that occurs between 1990 - 2010 and where it occurs\n"
   ]
  },
  {
   "cell_type": "markdown",
   "metadata": {},
   "source": [
    "### Find a minimum (or maximum) with missing values\n",
    "This is not a trival problem. If you missing value is -999 or +999, the max and min function will find those values, even though that is not what you were intending. What needs to happen is to remove those values and leave a blank (or masked value)\n",
    "\n",
    "The numpy function for a masked array is\n",
    "```python\n",
    "np.ma.masked_array\n",
    "```\n",
    "See the cell below to see how this works for the NAO data, where we need to remove the -9.99 values with blanks. Note: The blanks appear as dashes when printed out."
   ]
  },
  {
   "cell_type": "code",
   "execution_count": null,
   "metadata": {},
   "outputs": [],
   "source": [
    "# Find the minimum to occur in the NAO dataset that is not a -9.99\n",
    "# This is not as trivial as the previous problem, you'll need a \n",
    "#  masked array to accomplish this task\n",
    "\n",
    "# What is a masked array?\n",
    "print(nao_values[63,:])\n",
    "ma_nao = np.ma.masked_array(nao_values, mask=(nao_values==-9.99))\n",
    "print(ma_nao[63,:])"
   ]
  },
  {
   "cell_type": "code",
   "execution_count": null,
   "metadata": {},
   "outputs": [],
   "source": [
    "print(np.min(nao_values[63,:]))"
   ]
  },
  {
   "cell_type": "code",
   "execution_count": null,
   "metadata": {},
   "outputs": [],
   "source": [
    "print(np.min(ma_nao[63,:]))"
   ]
  }
 ],
 "metadata": {
  "anaconda-cloud": {},
  "kernelspec": {
   "display_name": "Python 3 (ipykernel)",
   "language": "python",
   "name": "python3"
  },
  "language_info": {
   "codemirror_mode": {
    "name": "ipython",
    "version": 3
   },
   "file_extension": ".py",
   "mimetype": "text/x-python",
   "name": "python",
   "nbconvert_exporter": "python",
   "pygments_lexer": "ipython3",
   "version": "3.8.6"
  }
 },
 "nbformat": 4,
 "nbformat_minor": 4
}
