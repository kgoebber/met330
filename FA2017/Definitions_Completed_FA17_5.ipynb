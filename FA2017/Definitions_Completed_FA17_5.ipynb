{
 "cells": [
  {
   "cell_type": "markdown",
   "metadata": {},
   "source": [
    "# Definitions (functions and subroutines)\n",
    "\n",
    "With all of the modules that we have been using this semester you have been utilizing the functionality of python definitions. A definition is the ability to write a generic function that you can use more than once in a program without having write it multiple times in the same program (or write in multiple different programs.\n",
    "\n",
    "Today we'll begin with some simple examples of how to write your own functions, then we'll move on to a great example that will help us find index values for various lat/lon points and then we'll talk about how to create and load a scripts that contains lots of common functions for you!"
   ]
  },
  {
   "cell_type": "markdown",
   "metadata": {},
   "source": [
    "## Writing a definition\n",
    "\n",
    "A common thing to write up in a definition would be a unit coversion or simple mathematical calculation. For example, we can write a definition to calculate the area of a square. In that case the required mathematical function is\n",
    "\n",
    "area = length * width\n",
    "\n",
    "So let's write a definition to calculate that area."
   ]
  },
  {
   "cell_type": "code",
   "execution_count": 1,
   "metadata": {
    "collapsed": true
   },
   "outputs": [],
   "source": [
    "def area_rect(l,w):\n",
    "    '''This function calculates the area of a rectangular object using\n",
    "           area = length * width\n",
    "           l is the length\n",
    "           w is the width\n",
    "           \n",
    "           returns area\n",
    "    '''\n",
    "    area = l*w\n",
    "    return area"
   ]
  },
  {
   "cell_type": "markdown",
   "metadata": {},
   "source": [
    "Let's break that definition down a little\n",
    "\n",
    "**def** is the keyword for declaring a definition (e.g., function or subroutine)\n",
    "\n",
    "**area_rect** is the actual name of the function that you would use in your program to calculate the area\n",
    "\n",
    "**(l,w)** are the inputs for the function. You can feed the function particular values like 8 and 4 or a variable that represents a length and width of a rectangle.\n",
    "\n",
    "The **:** works similarly to the colon in the for loop and if statement. Everything after the colon should be indented so that python interprets it to be a part of the definition.\n",
    "\n",
    "The three quote marks defines the doc string that explains what the function is and how it works. If you were to type area_rect? into a cell you would get back that doc string.\n",
    "\n",
    "**area = l * w ** is the actual calculation being performed in the definition\n",
    "\n",
    "**return area** is what gets returned to the main program."
   ]
  },
  {
   "cell_type": "code",
   "execution_count": null,
   "metadata": {
    "collapsed": true
   },
   "outputs": [],
   "source": [
    "area_rect?"
   ]
  },
  {
   "cell_type": "markdown",
   "metadata": {},
   "source": [
    "So once you have run the cell that contains the function it is defined for our use in this IPython Notebook. But it is just generic code, sitting there, not really doing anything. We need to call it and feed it some values for it to do work and offer some output."
   ]
  },
  {
   "cell_type": "code",
   "execution_count": 2,
   "metadata": {},
   "outputs": [
    {
     "name": "stdout",
     "output_type": "stream",
     "text": [
      "32\n"
     ]
    }
   ],
   "source": [
    "print(area_rect(8,4))"
   ]
  },
  {
   "cell_type": "code",
   "execution_count": 3,
   "metadata": {},
   "outputs": [
    {
     "name": "stdout",
     "output_type": "stream",
     "text": [
      "45.0\n"
     ]
    }
   ],
   "source": [
    "length = 9.\n",
    "width = 5.\n",
    "a = area_rect(length,width)\n",
    "print(a)"
   ]
  },
  {
   "cell_type": "markdown",
   "metadata": {},
   "source": [
    "The variables that you feed into the function do not have to be the same as what they are called in the function. Actually, you are better served by them NOT being the same. Mainly so you don't confuse yourself as to what is the value of a particular variable at any given point in your program.\n",
    "\n",
    "Interestingly enough you could feed an array into the length and/or width and it would give you out an array of areas."
   ]
  },
  {
   "cell_type": "code",
   "execution_count": 4,
   "metadata": {},
   "outputs": [
    {
     "name": "stdout",
     "output_type": "stream",
     "text": [
      "(15,)\n",
      "[15 28 39 48 55 60 63 64 63 60 55 48 39 28 15]\n"
     ]
    }
   ],
   "source": [
    "import numpy as np\n",
    "length = np.arange(1,16)\n",
    "width = np.arange(15,0,-1)\n",
    "b = area_rect(length,width)\n",
    "print(b.shape)\n",
    "print(b)"
   ]
  },
  {
   "cell_type": "markdown",
   "metadata": {},
   "source": [
    "## More complex function\n",
    "\n",
    "We have needed to find the index value corresponding to a particular latitude or longitude a couple of times this semester. This is the perfect example of something you may want to write a function to help you determine, mainly so that you can write the function once and then just use it anytime you need it.\n",
    "\n",
    "We'll begin by putting a previous example of finding a longitude index value for a given longitude value in degrees and then work on constructing a function from there."
   ]
  },
  {
   "cell_type": "code",
   "execution_count": 5,
   "metadata": {},
   "outputs": [
    {
     "name": "stdout",
     "output_type": "stream",
     "text": [
      "60 150.0\n"
     ]
    }
   ],
   "source": [
    "lats = np.loadtxt('lat.dat')\n",
    "lons = np.loadtxt('lon.dat')\n",
    "\n",
    "# Do the same for longitude\n",
    "dlon = np.abs(lons - 151.2)\n",
    "ilon = np.where(dlon == np.min(dlon))[0][0]\n",
    "print(ilon,lons[ilon])"
   ]
  },
  {
   "cell_type": "code",
   "execution_count": 6,
   "metadata": {
    "collapsed": true
   },
   "outputs": [],
   "source": [
    "def lat_lon_index(L,value):\n",
    "    '''This function will determine which index value of the \n",
    "       given array corresponds to the closest grid point to \n",
    "       the desired latitude or longitude point.\n",
    "    \n",
    "       L is the array values of latitude or longitude from the gridded data\n",
    "       L must be in degrees East from 0 - 360 for NCEP/NCAR reanalysis data\n",
    "       \n",
    "       value is the latitude or longitude value of the point \n",
    "       that you want to find the closest gridpoint\n",
    "       \n",
    "       returns the index value of the array element of the \n",
    "       closest value to the given input lat/lon\n",
    "    '''\n",
    "    dL = np.abs(L - value)\n",
    "    return np.where(dL == np.min(dL))[0][0]"
   ]
  },
  {
   "cell_type": "markdown",
   "metadata": {},
   "source": [
    "You can make this function a lot more sophisticated with conducting some checks or incorporating a keyword for whether you are searching for a latitude or longitude, but this is at least a start and a good example of how you can use a function to help you accomplish your tasks."
   ]
  },
  {
   "cell_type": "code",
   "execution_count": 7,
   "metadata": {},
   "outputs": [
    {
     "name": "stdout",
     "output_type": "stream",
     "text": [
      "60 150.0\n"
     ]
    }
   ],
   "source": [
    "ilon = lat_lon_index(lons,151.2)\n",
    "print(ilon,lons[ilon])"
   ]
  },
  {
   "cell_type": "code",
   "execution_count": 8,
   "metadata": {},
   "outputs": [
    {
     "name": "stdout",
     "output_type": "stream",
     "text": [
      "50 -35.0\n"
     ]
    }
   ],
   "source": [
    "ilat = lat_lon_index(lats,-34)\n",
    "print(ilat,lats[ilat])"
   ]
  },
  {
   "cell_type": "markdown",
   "metadata": {},
   "source": [
    "Let's see how we could really use this function to a great advantage with an example from the previous class. We were trying to define a box that would subset the NCEP/NCAR reanalysis data to be just over the CONUS, but we needed to determine what those index values would be for the lower-left (LL) and upper-right (UR) coordinate values. I gave the following:\n",
    "\n",
    "**Actual Lat/Lon Values**\n",
    "\n",
    "LLlon = -130 <br>\n",
    "LLlat = 20 <br>\n",
    "URlon = -60 <br>\n",
    "URlat = 60 <br>\n",
    "\n",
    "**Corresponding index values**\n",
    "\n",
    "iLLlon = 92 <br>\n",
    "iLLlat = 28 <br>\n",
    "iURlon = 120 <br>\n",
    "iURlat = 12 <br>\n",
    "\n",
    "In the next cell use the previously defined function to find the index values given the actual lat/lon values"
   ]
  },
  {
   "cell_type": "code",
   "execution_count": 9,
   "metadata": {},
   "outputs": [
    {
     "name": "stdout",
     "output_type": "stream",
     "text": [
      "92 28\n",
      "120 12\n"
     ]
    }
   ],
   "source": [
    "# Here are the actual lat/lon values\n",
    "LLlon = -130\n",
    "LLlat = 20\n",
    "URlon = -60\n",
    "URlat = 60\n",
    "\n",
    "# Write some function calls here\n",
    "iLLlon = lat_lon_index(lons,LLlon+360)\n",
    "iLLlat = lat_lon_index(lats,LLlat)\n",
    "iURlon = lat_lon_index(lons,URlon+360)\n",
    "iURlat = lat_lon_index(lats,URlat)\n",
    "print(iLLlon,iLLlat)\n",
    "print(iURlon,iURlat)"
   ]
  },
  {
   "cell_type": "markdown",
   "metadata": {},
   "source": [
    "## Two Dimensional lat and lon arrays\n",
    "\n",
    "It is a more difficult process for finding the closest grid point when the lat and lon arrays are two dimensional. Below is a function that I have written to calculate the distance between the desired point and every single grid point within the array to ultimately find the array element that has the smallest distance from the desired point.\n",
    "\n",
    "First, let's make some 2D lat and lon arrays"
   ]
  },
  {
   "cell_type": "code",
   "execution_count": 10,
   "metadata": {
    "collapsed": true
   },
   "outputs": [],
   "source": [
    "clons, clats = np.meshgrid(lons,lats)"
   ]
  },
  {
   "cell_type": "code",
   "execution_count": 11,
   "metadata": {
    "collapsed": true
   },
   "outputs": [],
   "source": [
    "# Find lat_lon_index for a 2D lat/lon array\n",
    "def lat_lon_2D_index(y,x,lat1,lon1):\n",
    "    '''This function calculates the distance from a desired \n",
    "    lat/lon point to each element of a 2D array of lat/lon values,\n",
    "    typically from model output, and determines the index value \n",
    "    corresponding to the nearest lat/lon grid point.\n",
    "    \n",
    "    x = longitude array\n",
    "    y = latitude array\n",
    "    lon1 = longitude point (signle value)\n",
    "    lat1 = latitude point (single value)\n",
    "    \n",
    "    Returns the two index values for nearest lat, lon \n",
    "    point on grid for grids (y,x)\n",
    "    \n",
    "    Equations for variable distiance between longitudes from\n",
    "    http://andrew.hedges.name/experiments/haversine/'''\n",
    "    \n",
    "    R = 6373.*1000.  # Earth's Radius in meters\n",
    "    rad = np.pi/180.\n",
    "    x1 = np.ones(x.shape)*lon1\n",
    "    y1 = np.ones(y.shape)*lat1\n",
    "    dlon = np.abs(x-x1)\n",
    "    dlat = np.abs(y-y1)\n",
    "    a = (np.sin(rad*dlat/2.))**2 + \n",
    "         np.cos(rad*y1) * np.cos(rad*y) * (np.sin(rad*dlon/2.))**2 \n",
    "    c = 2 * np.arctan2( np.sqrt(a), np.sqrt(1-a) ) \n",
    "    d = R * c\n",
    "    print(d.shape)\n",
    "    return np.unravel_index(d.argmin(), d.shape)"
   ]
  },
  {
   "cell_type": "code",
   "execution_count": 12,
   "metadata": {},
   "outputs": [
    {
     "name": "stdout",
     "output_type": "stream",
     "text": [
      "(73, 144)\n",
      "(73, 144)\n",
      "92 28\n",
      "120 12\n"
     ]
    }
   ],
   "source": [
    "# Here are the actual lat/lon values\n",
    "LLlon = -130\n",
    "LLlat = 20\n",
    "URlon = -60\n",
    "URlat = 60\n",
    "\n",
    "# Write some function calls here\n",
    "iLLlat,iLLlon = lat_lon_2D_index(clats,clons,LLlat,LLlon)\n",
    "iURlat,iURlon = lat_lon_2D_index(clats,clons,URlat,URlon)\n",
    "\n",
    "print(iLLlon,iLLlat)\n",
    "print(iURlon,iURlat)"
   ]
  },
  {
   "cell_type": "markdown",
   "metadata": {},
   "source": [
    "## Temp Converstion Function\n",
    "\n",
    "Now that you know how functions work, go ahead and write your own function to convert temperatures in Fahrenheit to Celsius"
   ]
  },
  {
   "cell_type": "code",
   "execution_count": 13,
   "metadata": {
    "collapsed": true
   },
   "outputs": [],
   "source": [
    "def tmpf2tmpc(temp):\n",
    "    '''\n",
    "    This function converts a temperature in Fahrenheit to Celsius\n",
    "    \n",
    "    tc = (5/9)*(tf - 32)\n",
    "    '''\n",
    "    tmpc = (5./9.)*(temp - 32)\n",
    "    return tmpc"
   ]
  },
  {
   "cell_type": "code",
   "execution_count": 14,
   "metadata": {},
   "outputs": [
    {
     "name": "stdout",
     "output_type": "stream",
     "text": [
      "10.0\n"
     ]
    }
   ],
   "source": [
    "print(tmpf2tmpc(50))"
   ]
  },
  {
   "cell_type": "markdown",
   "metadata": {},
   "source": [
    "## Collecting Functions\n",
    "\n",
    "You can collect some of your most commonly used functions in a python script and import it just like you do modules like numpy, matplotlib, and netCDF4. Those modules are simply sophisticated groups of classes and functions that are installed on your system.\n",
    "\n",
    "If you had a python script that contained your own functions called \"myfuncs.py\" you can import it into any script or ipython notebook with the following import call\n",
    "\n",
    "**import myfuncs**\n",
    "\n",
    "provided that the myfuncs.py file is located in the directory you are working in or running the script from. You could also place a copy where all of your modules reside, then you wouldn't have to worry about having it in your working directory, but that is a bit beyond us at this point."
   ]
  },
  {
   "cell_type": "code",
   "execution_count": null,
   "metadata": {
    "collapsed": true
   },
   "outputs": [],
   "source": []
  }
 ],
 "metadata": {
  "anaconda-cloud": {},
  "kernelspec": {
   "display_name": "Python [conda env:py35]",
   "language": "python",
   "name": "conda-env-py35-py"
  },
  "language_info": {
   "codemirror_mode": {
    "name": "ipython",
    "version": 3
   },
   "file_extension": ".py",
   "mimetype": "text/x-python",
   "name": "python",
   "nbconvert_exporter": "python",
   "pygments_lexer": "ipython3",
   "version": "3.5.3"
  }
 },
 "nbformat": 4,
 "nbformat_minor": 1
}
