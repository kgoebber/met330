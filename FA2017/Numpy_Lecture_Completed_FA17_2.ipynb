{
 "cells": [
  {
   "cell_type": "markdown",
   "metadata": {},
   "source": [
    "# Arrays in Python using the Numpy Module\n",
    "The power of python lies within the use of community built modules that lay on top of the core python programming language. These modules are abstract code designed to maximize the usefulness of OOP tools by providing advanced functions and methods to the objects in a program.\n",
    "\n",
    "Numpy is a key module used in meteorology as it deals well (and quickly) with array manipulations. This notebook will introduce you to the numpy module and many of its useful functions, as well as continuing to develop your python language skills.\n",
    "\n",
    "First thing is to copy over a text file that we will use throughout todays lecture. It is located in <span style=\"font-family:Courier\">**/home/kgoebber/met330/python**</span> and is called <span style=\"font-family:Courier\">**nao.txt**</span>."
   ]
  },
  {
   "cell_type": "markdown",
   "metadata": {},
   "source": [
    "## Importing modules\n",
    "In order to use a module within your program you need to first tell the computer to bring it in! The way that this happens is with an import statement. However, it is common to give the module a handle, so that any similar named functions (e.g., a maximum function) that are in different modules, don't overlap!\n",
    "\n",
    "An example of an import statement for numpy is below. The common practice is to call the handle for the numpy module 'np'."
   ]
  },
  {
   "cell_type": "code",
   "execution_count": 1,
   "metadata": {
    "collapsed": true
   },
   "outputs": [],
   "source": [
    "import numpy as np"
   ]
  },
  {
   "cell_type": "markdown",
   "metadata": {},
   "source": [
    "If you have run the above cell, it appears that nothing has happened, but actually a lot has. You have just imported all of the functions that are contained within the numpy module, sitting in the background ready for you to get to work on some data!"
   ]
  },
  {
   "cell_type": "markdown",
   "metadata": {},
   "source": [
    "## Reading in data to Python\n",
    "It is difficult to easily talk about reading data from a file into a Python program simply because there are so many ways to do so! In this example we'll use the numpy module to help us read in an ASCII (plain text) file that we can then use and manipulate to calculate or graph stuff to answer scientific questions!"
   ]
  },
  {
   "cell_type": "code",
   "execution_count": 2,
   "metadata": {},
   "outputs": [],
   "source": [
    "nao_data = np.loadtxt('nao.txt', skiprows=1)"
   ]
  },
  {
   "cell_type": "markdown",
   "metadata": {},
   "source": [
    "In the command above you are using a function (loadtxt) from the numpy module (np) to read in a file (nao.txt), skipping the first row (skiprows=1), and upacking the data.\n",
    "\n",
    "How can I find out more about this function? Well, there are many ways, but two of the easiest would be to 1) google <span style=\"font-family:Courier\"> **numpy loadtxt** </span> or 2) in a new cell below type <span style=\"font-family:Courier\"> **np.loadtxt?** </span>. The second way will bring up the manual pages from the numpy module to a dialogue box at the bottom of your web browser."
   ]
  },
  {
   "cell_type": "code",
   "execution_count": 3,
   "metadata": {},
   "outputs": [
    {
     "name": "stdout",
     "output_type": "stream",
     "text": [
      "[[  1.95000000e+03   9.20000000e-01   4.00000000e-01  -3.60000000e-01\n",
      "    7.30000000e-01  -5.90000000e-01  -6.00000000e-02  -1.26000000e+00\n",
      "   -5.00000000e-02   2.50000000e-01   8.50000000e-01  -1.26000000e+00\n",
      "   -1.02000000e+00]\n",
      " [  1.95100000e+03   8.00000000e-02   7.00000000e-01  -1.02000000e+00\n",
      "   -2.20000000e-01  -5.90000000e-01  -1.64000000e+00   1.37000000e+00\n",
      "   -2.20000000e-01  -1.36000000e+00   1.87000000e+00  -3.90000000e-01\n",
      "    1.32000000e+00]\n",
      " [  1.95200000e+03   9.30000000e-01  -8.30000000e-01  -1.49000000e+00\n",
      "    1.01000000e+00  -1.12000000e+00  -4.00000000e-01  -9.00000000e-02\n",
      "   -2.80000000e-01  -5.40000000e-01  -7.30000000e-01  -1.13000000e+00\n",
      "   -4.30000000e-01]\n",
      " [  1.95300000e+03   3.30000000e-01  -4.90000000e-01  -4.00000000e-02\n",
      "   -1.67000000e+00  -6.60000000e-01   1.09000000e+00   4.00000000e-01\n",
      "   -7.10000000e-01  -3.50000000e-01   1.32000000e+00   1.04000000e+00\n",
      "   -4.70000000e-01]\n",
      " [  1.95400000e+03   3.70000000e-01   7.40000000e-01  -8.30000000e-01\n",
      "    1.34000000e+00  -9.00000000e-02  -2.50000000e-01  -6.00000000e-01\n",
      "   -1.90000000e+00  -4.40000000e-01   6.00000000e-01   4.00000000e-01\n",
      "    6.90000000e-01]\n",
      " [  1.95500000e+03  -1.84000000e+00  -1.12000000e+00  -5.30000000e-01\n",
      "   -4.20000000e-01  -3.40000000e-01  -1.10000000e+00   1.76000000e+00\n",
      "    1.07000000e+00   3.20000000e-01  -1.47000000e+00  -1.29000000e+00\n",
      "    1.70000000e-01]\n",
      " [  1.95600000e+03  -2.20000000e-01  -1.12000000e+00  -5.00000000e-02\n",
      "   -1.06000000e+00   2.21000000e+00   1.00000000e-01  -7.50000000e-01\n",
      "   -1.37000000e+00   2.40000000e-01   8.80000000e-01   5.10000000e-01\n",
      "    1.00000000e-01]\n",
      " [  1.95700000e+03   1.05000000e+00   1.10000000e-01  -1.26000000e+00\n",
      "    4.90000000e-01  -7.90000000e-01  -7.20000000e-01  -1.19000000e+00\n",
      "   -5.50000000e-01  -1.66000000e+00   1.32000000e+00   7.30000000e-01\n",
      "    1.20000000e-01]\n",
      " [  1.95800000e+03  -5.40000000e-01  -1.06000000e+00  -1.96000000e+00\n",
      "    3.70000000e-01  -2.40000000e-01  -1.38000000e+00  -1.73000000e+00\n",
      "   -1.56000000e+00  -7.00000000e-02   1.60000000e-01   1.64000000e+00\n",
      "   -7.00000000e-01]\n",
      " [  1.95900000e+03  -8.70000000e-01   6.80000000e-01  -1.50000000e-01\n",
      "    3.60000000e-01   3.90000000e-01   4.00000000e-01   7.40000000e-01\n",
      "    6.00000000e-02   8.80000000e-01   8.90000000e-01   4.10000000e-01\n",
      "    4.40000000e-01]\n",
      " [  1.96000000e+03  -1.29000000e+00  -1.89000000e+00  -5.00000000e-01\n",
      "    1.36000000e+00   4.50000000e-01  -2.10000000e-01   3.50000000e-01\n",
      "   -1.40000000e+00   3.90000000e-01  -1.73000000e+00  -5.10000000e-01\n",
      "    6.00000000e-02]\n",
      " [  1.96100000e+03   4.10000000e-01   4.50000000e-01   5.50000000e-01\n",
      "   -1.55000000e+00  -3.60000000e-01   8.60000000e-01  -3.90000000e-01\n",
      "    9.00000000e-01   1.24000000e+00   5.10000000e-01  -6.20000000e-01\n",
      "   -1.48000000e+00]\n",
      " [  1.96200000e+03   6.10000000e-01   5.50000000e-01  -2.47000000e+00\n",
      "    9.90000000e-01  -1.00000000e-01   1.60000000e-01  -2.47000000e+00\n",
      "    1.40000000e-01  -3.70000000e-01   4.10000000e-01  -2.30000000e-01\n",
      "   -1.32000000e+00]\n",
      " [  1.96300000e+03  -2.12000000e+00  -9.60000000e-01  -4.30000000e-01\n",
      "   -1.35000000e+00   2.16000000e+00  -4.30000000e-01  -7.70000000e-01\n",
      "   -6.40000000e-01   1.79000000e+00   9.40000000e-01  -1.27000000e+00\n",
      "   -1.92000000e+00]\n",
      " [  1.96400000e+03  -9.50000000e-01  -1.43000000e+00  -1.20000000e+00\n",
      "    3.60000000e-01   5.20000000e-01   1.29000000e+00   1.90000000e+00\n",
      "   -1.77000000e+00   2.00000000e-01   7.40000000e-01  -1.00000000e-02\n",
      "   -1.50000000e-01]\n",
      " [  1.96500000e+03  -1.20000000e-01  -1.55000000e+00  -1.51000000e+00\n",
      "    7.20000000e-01  -6.20000000e-01   2.90000000e-01   3.20000000e-01\n",
      "    4.50000000e-01   3.70000000e-01   3.80000000e-01  -1.66000000e+00\n",
      "    1.37000000e+00]\n",
      " [  1.96600000e+03  -1.74000000e+00  -1.39000000e+00   5.60000000e-01\n",
      "   -7.50000000e-01   2.20000000e-01   1.05000000e+00   3.20000000e-01\n",
      "   -1.76000000e+00  -4.50000000e-01  -6.80000000e-01  -4.00000000e-02\n",
      "    7.20000000e-01]\n",
      " [  1.96700000e+03  -8.90000000e-01   1.90000000e-01   1.51000000e+00\n",
      "    1.80000000e-01  -9.90000000e-01   1.40000000e+00   4.10000000e-01\n",
      "    1.44000000e+00   9.30000000e-01   7.00000000e-02   6.00000000e-01\n",
      "   -4.50000000e-01]\n",
      " [  1.96800000e+03   1.30000000e-01  -1.29000000e+00   4.00000000e-01\n",
      "   -1.08000000e+00  -1.76000000e+00   3.30000000e-01  -8.00000000e-01\n",
      "   -6.60000000e-01  -1.92000000e+00  -2.30000000e+00  -9.30000000e-01\n",
      "   -1.40000000e+00]\n",
      " [  1.96900000e+03  -8.30000000e-01  -1.55000000e+00  -1.56000000e+00\n",
      "    1.53000000e+00   5.50000000e-01   5.50000000e-01   5.70000000e-01\n",
      "   -1.45000000e+00   2.07000000e+00   6.60000000e-01  -9.60000000e-01\n",
      "   -2.80000000e-01]\n",
      " [  1.97000000e+03  -1.50000000e+00   6.40000000e-01  -9.60000000e-01\n",
      "   -1.30000000e+00   1.14000000e+00   1.55000000e+00   1.00000000e-01\n",
      "    1.00000000e-01  -9.00000000e-02  -9.20000000e-01  -6.00000000e-01\n",
      "   -1.20000000e+00]\n",
      " [  1.97100000e+03  -1.13000000e+00   2.40000000e-01  -8.40000000e-01\n",
      "   -2.40000000e-01   5.00000000e-01  -1.57000000e+00   2.40000000e-01\n",
      "    1.55000000e+00   3.90000000e-01   5.80000000e-01  -2.00000000e-01\n",
      "    6.00000000e-01]\n",
      " [  1.97200000e+03   2.70000000e-01   3.20000000e-01   7.20000000e-01\n",
      "   -2.20000000e-01   9.50000000e-01   8.80000000e-01   1.80000000e-01\n",
      "    1.32000000e+00  -1.20000000e-01   1.09000000e+00   5.40000000e-01\n",
      "    1.90000000e-01]\n",
      " [  1.97300000e+03   4.00000000e-02   8.50000000e-01   3.00000000e-01\n",
      "   -5.40000000e-01  -4.40000000e-01   3.90000000e-01   5.70000000e-01\n",
      "   -6.00000000e-02  -3.00000000e-01  -1.24000000e+00  -9.30000000e-01\n",
      "    3.20000000e-01]\n",
      " [  1.97400000e+03   1.34000000e+00  -1.40000000e-01  -3.00000000e-02\n",
      "    5.10000000e-01  -2.40000000e-01  -1.40000000e-01  -7.60000000e-01\n",
      "   -6.40000000e-01   8.20000000e-01   4.90000000e-01  -5.40000000e-01\n",
      "    1.50000000e+00]\n",
      " [  1.97500000e+03   5.80000000e-01  -6.20000000e-01  -6.10000000e-01\n",
      "   -1.60000000e+00  -5.20000000e-01  -8.40000000e-01   1.55000000e+00\n",
      "   -2.60000000e-01   1.56000000e+00  -5.40000000e-01   4.10000000e-01\n",
      "    0.00000000e+00]\n",
      " [  1.97600000e+03  -2.50000000e-01   9.30000000e-01   7.50000000e-01\n",
      "    2.60000000e-01   9.60000000e-01   8.00000000e-01  -3.20000000e-01\n",
      "    1.92000000e+00  -1.29000000e+00  -8.00000000e-02   1.70000000e-01\n",
      "   -1.60000000e+00]\n",
      " [  1.97700000e+03  -1.04000000e+00  -4.90000000e-01  -8.10000000e-01\n",
      "    6.50000000e-01  -8.60000000e-01  -5.70000000e-01  -4.50000000e-01\n",
      "   -2.80000000e-01   3.70000000e-01   5.20000000e-01  -7.00000000e-02\n",
      "   -1.00000000e+00]\n",
      " [  1.97800000e+03   6.60000000e-01  -2.20000000e+00   7.00000000e-01\n",
      "   -1.17000000e+00   1.08000000e+00   1.38000000e+00  -1.14000000e+00\n",
      "    6.40000000e-01   4.60000000e-01   1.93000000e+00   3.04000000e+00\n",
      "   -1.57000000e+00]\n",
      " [  1.97900000e+03  -1.38000000e+00  -6.70000000e-01   7.80000000e-01\n",
      "   -1.71000000e+00  -1.03000000e+00   1.60000000e+00   8.30000000e-01\n",
      "    9.60000000e-01   1.01000000e+00  -3.00000000e-01   5.30000000e-01\n",
      "    1.00000000e+00]\n",
      " [  1.98000000e+03  -7.50000000e-01   5.00000000e-02  -3.10000000e-01\n",
      "    1.29000000e+00  -1.50000000e+00  -3.70000000e-01  -4.20000000e-01\n",
      "   -2.24000000e+00   6.60000000e-01  -1.77000000e+00  -3.70000000e-01\n",
      "    7.80000000e-01]\n",
      " [  1.98100000e+03   3.70000000e-01   9.20000000e-01  -1.19000000e+00\n",
      "    3.60000000e-01   2.00000000e-01  -4.50000000e-01   5.00000000e-02\n",
      "    3.90000000e-01  -1.45000000e+00  -1.35000000e+00  -3.80000000e-01\n",
      "   -2.00000000e-02]\n",
      " [  1.98200000e+03  -8.90000000e-01   1.15000000e+00   1.15000000e+00\n",
      "    1.00000000e-01  -5.30000000e-01  -1.63000000e+00   1.15000000e+00\n",
      "    2.60000000e-01   1.76000000e+00  -7.40000000e-01   1.60000000e+00\n",
      "    1.78000000e+00]\n",
      " [  1.98300000e+03   1.59000000e+00  -5.30000000e-01   9.50000000e-01\n",
      "   -8.50000000e-01  -7.00000000e-02   9.90000000e-01   1.19000000e+00\n",
      "    1.61000000e+00  -1.12000000e+00   6.50000000e-01  -9.80000000e-01\n",
      "    2.90000000e-01]\n",
      " [  1.98400000e+03   1.66000000e+00   7.20000000e-01  -3.70000000e-01\n",
      "   -2.80000000e-01   5.40000000e-01  -4.20000000e-01  -7.00000000e-02\n",
      "    1.15000000e+00   1.70000000e-01  -7.00000000e-02  -6.00000000e-02\n",
      "    0.00000000e+00]\n",
      " [  1.98500000e+03  -1.61000000e+00  -4.90000000e-01   2.00000000e-01\n",
      "    3.20000000e-01  -4.90000000e-01  -8.00000000e-01   1.22000000e+00\n",
      "   -4.80000000e-01  -5.20000000e-01   9.00000000e-01  -6.70000000e-01\n",
      "    2.20000000e-01]\n",
      " [  1.98600000e+03   1.11000000e+00  -1.00000000e+00   1.71000000e+00\n",
      "   -5.90000000e-01   8.50000000e-01   1.22000000e+00   1.20000000e-01\n",
      "   -1.09000000e+00  -1.12000000e+00   1.55000000e+00   2.29000000e+00\n",
      "    9.90000000e-01]\n",
      " [  1.98700000e+03  -1.15000000e+00  -7.30000000e-01   1.40000000e-01\n",
      "    2.00000000e+00   9.80000000e-01  -1.82000000e+00   5.20000000e-01\n",
      "   -8.30000000e-01  -1.22000000e+00   1.40000000e-01   1.80000000e-01\n",
      "    3.20000000e-01]\n",
      " [  1.98800000e+03   1.02000000e+00   7.60000000e-01  -1.70000000e-01\n",
      "   -1.17000000e+00   6.30000000e-01   8.80000000e-01  -3.50000000e-01\n",
      "    4.00000000e-02  -9.90000000e-01  -1.08000000e+00  -3.40000000e-01\n",
      "    6.10000000e-01]\n",
      " [  1.98900000e+03   1.17000000e+00   2.00000000e+00   1.85000000e+00\n",
      "    2.80000000e-01   1.38000000e+00  -2.70000000e-01   9.70000000e-01\n",
      "    1.00000000e-02   2.05000000e+00  -3.00000000e-02   1.60000000e-01\n",
      "   -1.15000000e+00]\n",
      " [  1.99000000e+03   1.04000000e+00   1.41000000e+00   1.46000000e+00\n",
      "    2.00000000e+00  -1.53000000e+00  -2.00000000e-02   5.30000000e-01\n",
      "    9.70000000e-01   1.06000000e+00   2.30000000e-01  -2.40000000e-01\n",
      "    2.20000000e-01]\n",
      " [  1.99100000e+03   8.60000000e-01   1.04000000e+00  -2.00000000e-01\n",
      "    2.90000000e-01   8.00000000e-02  -8.20000000e-01  -4.90000000e-01\n",
      "    1.23000000e+00   4.80000000e-01  -1.90000000e-01   4.80000000e-01\n",
      "    4.60000000e-01]\n",
      " [  1.99200000e+03  -1.30000000e-01   1.07000000e+00   8.70000000e-01\n",
      "    1.86000000e+00   2.63000000e+00   2.00000000e-01   1.60000000e-01\n",
      "    8.50000000e-01  -4.40000000e-01  -1.76000000e+00   1.19000000e+00\n",
      "    4.70000000e-01]\n",
      " [  1.99300000e+03   1.60000000e+00   5.00000000e-01   6.70000000e-01\n",
      "    9.70000000e-01  -7.80000000e-01  -5.90000000e-01  -3.18000000e+00\n",
      "    1.20000000e-01  -5.70000000e-01  -7.10000000e-01   2.56000000e+00\n",
      "    1.56000000e+00]\n",
      " [  1.99400000e+03   1.04000000e+00   4.60000000e-01   1.26000000e+00\n",
      "    1.14000000e+00  -5.70000000e-01   1.52000000e+00   1.31000000e+00\n",
      "    3.80000000e-01  -1.32000000e+00  -9.70000000e-01   6.40000000e-01\n",
      "    2.02000000e+00]\n",
      " [  1.99500000e+03   9.30000000e-01   1.14000000e+00   1.25000000e+00\n",
      "   -8.50000000e-01  -1.49000000e+00   1.30000000e-01  -2.20000000e-01\n",
      "    6.90000000e-01   3.10000000e-01   1.90000000e-01  -1.38000000e+00\n",
      "   -1.67000000e+00]\n",
      " [  1.99600000e+03  -1.20000000e-01  -7.00000000e-02  -2.40000000e-01\n",
      "   -1.70000000e-01  -1.06000000e+00   5.60000000e-01   6.70000000e-01\n",
      "    1.02000000e+00  -8.60000000e-01  -3.30000000e-01  -5.60000000e-01\n",
      "   -1.41000000e+00]\n",
      " [  1.99700000e+03  -4.90000000e-01   1.70000000e+00   1.46000000e+00\n",
      "   -1.02000000e+00  -2.80000000e-01  -1.47000000e+00   3.40000000e-01\n",
      "    8.30000000e-01   6.10000000e-01  -1.70000000e+00  -9.00000000e-01\n",
      "   -9.60000000e-01]\n",
      " [  1.99800000e+03   3.90000000e-01  -1.10000000e-01   8.70000000e-01\n",
      "   -6.80000000e-01  -1.32000000e+00  -2.72000000e+00  -4.80000000e-01\n",
      "   -2.00000000e-02  -2.00000000e+00  -2.90000000e-01  -2.80000000e-01\n",
      "    8.70000000e-01]\n",
      " [  1.99900000e+03   7.70000000e-01   2.90000000e-01   2.30000000e-01\n",
      "   -9.50000000e-01   9.20000000e-01   1.12000000e+00  -9.00000000e-01\n",
      "    3.90000000e-01   3.60000000e-01   2.00000000e-01   6.50000000e-01\n",
      "    1.61000000e+00]\n",
      " [  2.00000000e+03   6.00000000e-01   1.70000000e+00   7.70000000e-01\n",
      "   -3.00000000e-02   1.58000000e+00  -3.00000000e-02  -1.03000000e+00\n",
      "   -2.90000000e-01  -2.10000000e-01   9.20000000e-01  -9.20000000e-01\n",
      "   -5.80000000e-01]\n",
      " [  2.00100000e+03   2.50000000e-01   4.50000000e-01  -1.26000000e+00\n",
      "    0.00000000e+00  -2.00000000e-02  -2.00000000e-01  -2.50000000e-01\n",
      "   -7.00000000e-02  -6.50000000e-01  -2.40000000e-01   6.30000000e-01\n",
      "   -8.30000000e-01]\n",
      " [  2.00200000e+03   4.40000000e-01   1.10000000e+00   6.90000000e-01\n",
      "    1.18000000e+00  -2.20000000e-01   3.80000000e-01   6.20000000e-01\n",
      "    3.80000000e-01  -7.00000000e-01  -2.28000000e+00  -1.80000000e-01\n",
      "   -9.40000000e-01]\n",
      " [  2.00300000e+03   1.60000000e-01   6.20000000e-01   3.20000000e-01\n",
      "   -1.80000000e-01   1.00000000e-02  -7.00000000e-02   1.30000000e-01\n",
      "   -7.00000000e-02   1.00000000e-02  -1.26000000e+00   8.60000000e-01\n",
      "    6.40000000e-01]\n",
      " [  2.00400000e+03  -2.90000000e-01  -1.40000000e-01   1.02000000e+00\n",
      "    1.15000000e+00   1.90000000e-01  -8.90000000e-01   1.13000000e+00\n",
      "   -4.80000000e-01   3.80000000e-01  -1.10000000e+00   7.30000000e-01\n",
      "    1.21000000e+00]\n",
      " [  2.00500000e+03   1.52000000e+00  -6.00000000e-02  -1.83000000e+00\n",
      "   -3.00000000e-01  -1.25000000e+00  -5.00000000e-02  -5.10000000e-01\n",
      "    3.70000000e-01   6.30000000e-01  -9.80000000e-01  -3.10000000e-01\n",
      "   -4.40000000e-01]\n",
      " [  2.00600000e+03   1.27000000e+00  -5.10000000e-01  -1.28000000e+00\n",
      "    1.24000000e+00  -1.14000000e+00   8.40000000e-01   9.00000000e-01\n",
      "   -1.73000000e+00  -1.62000000e+00  -2.24000000e+00   4.40000000e-01\n",
      "    1.34000000e+00]\n",
      " [  2.00700000e+03   2.20000000e-01  -4.70000000e-01   1.44000000e+00\n",
      "    1.70000000e-01   6.60000000e-01  -1.31000000e+00  -5.80000000e-01\n",
      "   -1.40000000e-01   7.20000000e-01   4.50000000e-01   5.80000000e-01\n",
      "    3.40000000e-01]\n",
      " [  2.00800000e+03   8.90000000e-01   7.30000000e-01   8.00000000e-02\n",
      "   -1.07000000e+00  -1.73000000e+00  -1.39000000e+00  -1.27000000e+00\n",
      "   -1.16000000e+00   1.02000000e+00  -4.00000000e-02  -3.20000000e-01\n",
      "   -2.80000000e-01]\n",
      " [  2.00900000e+03  -1.00000000e-02   6.00000000e-02   5.70000000e-01\n",
      "   -2.00000000e-01   1.68000000e+00  -1.21000000e+00  -2.15000000e+00\n",
      "   -1.90000000e-01   1.51000000e+00  -1.03000000e+00  -2.00000000e-02\n",
      "   -1.93000000e+00]\n",
      " [  2.01000000e+03  -1.11000000e+00  -1.98000000e+00  -8.80000000e-01\n",
      "   -7.20000000e-01  -1.49000000e+00  -8.20000000e-01  -4.20000000e-01\n",
      "   -1.22000000e+00  -7.90000000e-01  -9.30000000e-01  -1.62000000e+00\n",
      "   -1.85000000e+00]\n",
      " [  2.01100000e+03  -8.80000000e-01   7.00000000e-01   6.10000000e-01\n",
      "    2.48000000e+00  -6.00000000e-02  -1.28000000e+00  -1.51000000e+00\n",
      "   -1.35000000e+00   5.40000000e-01   3.90000000e-01   1.36000000e+00\n",
      "    2.52000000e+00]\n",
      " [  2.01200000e+03   1.17000000e+00   4.20000000e-01   1.27000000e+00\n",
      "    4.70000000e-01  -9.10000000e-01  -2.53000000e+00  -1.32000000e+00\n",
      "   -9.80000000e-01  -5.90000000e-01  -2.06000000e+00  -5.80000000e-01\n",
      "    1.70000000e-01]\n",
      " [  2.01300000e+03   3.50000000e-01  -4.50000000e-01  -1.61000000e+00\n",
      "    6.90000000e-01   5.70000000e-01   5.20000000e-01   6.70000000e-01\n",
      "    9.70000000e-01   2.40000000e-01  -9.99000000e+00  -9.99000000e+00\n",
      "   -9.99000000e+00]]\n"
     ]
    }
   ],
   "source": [
    "# So what does the data look like?\n",
    "print(nao_data)"
   ]
  },
  {
   "cell_type": "code",
   "execution_count": 4,
   "metadata": {},
   "outputs": [
    {
     "name": "stdout",
     "output_type": "stream",
     "text": [
      "1950   0.9  0.4 -0.4  0.7 -0.6 -0.1 -1.3 -0.1  0.2  0.8 -1.3 -1.0\n",
      "1951   0.1  0.7 -1.0 -0.2 -0.6 -1.6  1.4 -0.2 -1.4  1.9 -0.4  1.3\n",
      "1952   0.9 -0.8 -1.5  1.0 -1.1 -0.4 -0.1 -0.3 -0.5 -0.7 -1.1 -0.4\n",
      "1953   0.3 -0.5 -0.0 -1.7 -0.7  1.1  0.4 -0.7 -0.3  1.3  1.0 -0.5\n",
      "1954   0.4  0.7 -0.8  1.3 -0.1 -0.2 -0.6 -1.9 -0.4  0.6  0.4  0.7\n",
      "1955  -1.8 -1.1 -0.5 -0.4 -0.3 -1.1  1.8  1.1  0.3 -1.5 -1.3  0.2\n",
      "1956  -0.2 -1.1 -0.1 -1.1  2.2  0.1 -0.8 -1.4  0.2  0.9  0.5  0.1\n",
      "1957   1.1  0.1 -1.3  0.5 -0.8 -0.7 -1.2 -0.6 -1.7  1.3  0.7  0.1\n",
      "1958  -0.5 -1.1 -2.0  0.4 -0.2 -1.4 -1.7 -1.6 -0.1  0.2  1.6 -0.7\n",
      "1959  -0.9  0.7 -0.1  0.4  0.4  0.4  0.7  0.1  0.9  0.9  0.4  0.4\n",
      "1960  -1.3 -1.9 -0.5  1.4  0.5 -0.2  0.3 -1.4  0.4 -1.7 -0.5  0.1\n",
      "1961   0.4  0.5  0.6 -1.6 -0.4  0.9 -0.4  0.9  1.2  0.5 -0.6 -1.5\n",
      "1962   0.6  0.6 -2.5  1.0 -0.1  0.2 -2.5  0.1 -0.4  0.4 -0.2 -1.3\n",
      "1963  -2.1 -1.0 -0.4 -1.4  2.2 -0.4 -0.8 -0.6  1.8  0.9 -1.3 -1.9\n",
      "1964  -0.9 -1.4 -1.2  0.4  0.5  1.3  1.9 -1.8  0.2  0.7 -0.0 -0.1\n",
      "1965  -0.1 -1.6 -1.5  0.7 -0.6  0.3  0.3  0.5  0.4  0.4 -1.7  1.4\n",
      "1966  -1.7 -1.4  0.6 -0.8  0.2  1.1  0.3 -1.8 -0.5 -0.7 -0.0  0.7\n",
      "1967  -0.9  0.2  1.5  0.2 -1.0  1.4  0.4  1.4  0.9  0.1  0.6 -0.5\n",
      "1968   0.1 -1.3  0.4 -1.1 -1.8  0.3 -0.8 -0.7 -1.9 -2.3 -0.9 -1.4\n",
      "1969  -0.8 -1.6 -1.6  1.5  0.6  0.6  0.6 -1.4  2.1  0.7 -1.0 -0.3\n",
      "1970  -1.5  0.6 -1.0 -1.3  1.1  1.6  0.1  0.1 -0.1 -0.9 -0.6 -1.2\n",
      "1971  -1.1  0.2 -0.8 -0.2  0.5 -1.6  0.2  1.6  0.4  0.6 -0.2  0.6\n",
      "1972   0.3  0.3  0.7 -0.2  0.9  0.9  0.2  1.3 -0.1  1.1  0.5  0.2\n",
      "1973   0.0  0.8  0.3 -0.5 -0.4  0.4  0.6 -0.1 -0.3 -1.2 -0.9  0.3\n",
      "1974   1.3 -0.1 -0.0  0.5 -0.2 -0.1 -0.8 -0.6  0.8  0.5 -0.5  1.5\n",
      "1975   0.6 -0.6 -0.6 -1.6 -0.5 -0.8  1.6 -0.3  1.6 -0.5  0.4  0.0\n",
      "1976  -0.2  0.9  0.8  0.3  1.0  0.8 -0.3  1.9 -1.3 -0.1  0.2 -1.6\n",
      "1977  -1.0 -0.5 -0.8  0.7 -0.9 -0.6 -0.5 -0.3  0.4  0.5 -0.1 -1.0\n",
      "1978   0.7 -2.2  0.7 -1.2  1.1  1.4 -1.1  0.6  0.5  1.9  3.0 -1.6\n",
      "1979  -1.4 -0.7  0.8 -1.7 -1.0  1.6  0.8  1.0  1.0 -0.3  0.5  1.0\n",
      "1980  -0.8  0.1 -0.3  1.3 -1.5 -0.4 -0.4 -2.2  0.7 -1.8 -0.4  0.8\n",
      "1981   0.4  0.9 -1.2  0.4  0.2 -0.5  0.1  0.4 -1.4 -1.4 -0.4 -0.0\n",
      "1982  -0.9  1.1  1.1  0.1 -0.5 -1.6  1.1  0.3  1.8 -0.7  1.6  1.8\n",
      "1983   1.6 -0.5  0.9 -0.8 -0.1  1.0  1.2  1.6 -1.1  0.7 -1.0  0.3\n",
      "1984   1.7  0.7 -0.4 -0.3  0.5 -0.4 -0.1  1.1  0.2 -0.1 -0.1  0.0\n",
      "1985  -1.6 -0.5  0.2  0.3 -0.5 -0.8  1.2 -0.5 -0.5  0.9 -0.7  0.2\n",
      "1986   1.1 -1.0  1.7 -0.6  0.8  1.2  0.1 -1.1 -1.1  1.6  2.3  1.0\n",
      "1987  -1.1 -0.7  0.1  2.0  1.0 -1.8  0.5 -0.8 -1.2  0.1  0.2  0.3\n",
      "1988   1.0  0.8 -0.2 -1.2  0.6  0.9 -0.3  0.0 -1.0 -1.1 -0.3  0.6\n",
      "1989   1.2  2.0  1.9  0.3  1.4 -0.3  1.0  0.0  2.0 -0.0  0.2 -1.1\n",
      "1990   1.0  1.4  1.5  2.0 -1.5 -0.0  0.5  1.0  1.1  0.2 -0.2  0.2\n",
      "1991   0.9  1.0 -0.2  0.3  0.1 -0.8 -0.5  1.2  0.5 -0.2  0.5  0.5\n",
      "1992  -0.1  1.1  0.9  1.9  2.6  0.2  0.2  0.8 -0.4 -1.8  1.2  0.5\n",
      "1993   1.6  0.5  0.7  1.0 -0.8 -0.6 -3.2  0.1 -0.6 -0.7  2.6  1.6\n",
      "1994   1.0  0.5  1.3  1.1 -0.6  1.5  1.3  0.4 -1.3 -1.0  0.6  2.0\n",
      "1995   0.9  1.1  1.2 -0.8 -1.5  0.1 -0.2  0.7  0.3  0.2 -1.4 -1.7\n",
      "1996  -0.1 -0.1 -0.2 -0.2 -1.1  0.6  0.7  1.0 -0.9 -0.3 -0.6 -1.4\n",
      "1997  -0.5  1.7  1.5 -1.0 -0.3 -1.5  0.3  0.8  0.6 -1.7 -0.9 -1.0\n",
      "1998   0.4 -0.1  0.9 -0.7 -1.3 -2.7 -0.5 -0.0 -2.0 -0.3 -0.3  0.9\n",
      "1999   0.8  0.3  0.2 -0.9  0.9  1.1 -0.9  0.4  0.4  0.2  0.7  1.6\n",
      "2000   0.6  1.7  0.8 -0.0  1.6 -0.0 -1.0 -0.3 -0.2  0.9 -0.9 -0.6\n",
      "2001   0.2  0.5 -1.3  0.0 -0.0 -0.2 -0.2 -0.1 -0.7 -0.2  0.6 -0.8\n",
      "2002   0.4  1.1  0.7  1.2 -0.2  0.4  0.6  0.4 -0.7 -2.3 -0.2 -0.9\n",
      "2003   0.2  0.6  0.3 -0.2  0.0 -0.1  0.1 -0.1  0.0 -1.3  0.9  0.6\n",
      "2004  -0.3 -0.1  1.0  1.1  0.2 -0.9  1.1 -0.5  0.4 -1.1  0.7  1.2\n",
      "2005   1.5 -0.1 -1.8 -0.3 -1.2 -0.1 -0.5  0.4  0.6 -1.0 -0.3 -0.4\n",
      "2006   1.3 -0.5 -1.3  1.2 -1.1  0.8  0.9 -1.7 -1.6 -2.2  0.4  1.3\n",
      "2007   0.2 -0.5  1.4  0.2  0.7 -1.3 -0.6 -0.1  0.7  0.5  0.6  0.3\n",
      "2008   0.9  0.7  0.1 -1.1 -1.7 -1.4 -1.3 -1.2  1.0 -0.0 -0.3 -0.3\n",
      "2009  -0.0  0.1  0.6 -0.2  1.7 -1.2 -2.1 -0.2  1.5 -1.0 -0.0 -1.9\n",
      "2010  -1.1 -2.0 -0.9 -0.7 -1.5 -0.8 -0.4 -1.2 -0.8 -0.9 -1.6 -1.9\n",
      "2011  -0.9  0.7  0.6  2.5 -0.1 -1.3 -1.5 -1.4  0.5  0.4  1.4  2.5\n",
      "2012   1.2  0.4  1.3  0.5 -0.9 -2.5 -1.3 -1.0 -0.6 -2.1 -0.6  0.2\n",
      "2013   0.3 -0.5 -1.6  0.7  0.6  0.5  0.7  1.0  0.2-10.0-10.0-10.0\n"
     ]
    }
   ],
   "source": [
    "# More elegant printing\n",
    "for row in range(64):\n",
    "    print(('%4d '+12*'%5.1f') % tuple(nao_data[row,:]))\n",
    "\n",
    "# The first part of the print statement is a \n",
    "#   format statement (more on that later).\n",
    "# Then we have to convert the 1D array to a tuple for the print function\n",
    "#   this basically makes the 1D array into a simple list that can then\n",
    "#   be printed."
   ]
  },
  {
   "cell_type": "markdown",
   "metadata": {},
   "source": [
    "## Working with Data with Numpys help\n",
    "\n",
    "While seeing the data printed out is great, its hard to determine how the data is actually stored. Luckily for us, numpy has some great functions that we can use to investigate the arrays. One of the most helpful is the function called <span style=\"font-family:Courier\">**shape**</span>. Execute the following link to see what the command yields."
   ]
  },
  {
   "cell_type": "code",
   "execution_count": 5,
   "metadata": {},
   "outputs": [
    {
     "name": "stdout",
     "output_type": "stream",
     "text": [
      "(64, 13)\n",
      "(64, 13)\n"
     ]
    }
   ],
   "source": [
    "nao_shape = np.shape(nao_data)\n",
    "print(nao_shape)\n",
    "# or\n",
    "print(nao_data.shape) # This is the object-oriented programming method"
   ]
  },
  {
   "cell_type": "markdown",
   "metadata": {},
   "source": [
    "The <span style=\"font-family:Courier\">**shape**</span> function gives us a tuple value that tells us about the shape of the array [row,col] (or the number of index values for each element of the array). In this case how many rows and columns. So similar to Fortran, numpy reads the data into an array where the first element is the row index and the second is the column index.\n",
    "\n",
    "But we don't have to print out the whole array at one time. We can slice and dice the data any way that we desire using an array call and telling the program what element(s) we want out of our array.\n",
    "\n",
    "### NOTE: Python uses zero-based arrays\n",
    "This is done because the number line actually goes from zero to nine [0,1,2,3,4,5,6,7,8,9] and **_not_** [1,2,3,4,5,6,7,8,9,10]\n",
    "\n",
    "So.... <br> <span style=\"font-family:Courier\">\n",
    "1st element -> 0 <br>\n",
    "2nd element -> 1 <br>\n",
    "3rd element -> 2 <br>\n",
    ". <br>\n",
    ". <br>\n",
    ". <br>\n",
    "nth element -> n-1 <br> </span>"
   ]
  },
  {
   "cell_type": "code",
   "execution_count": 6,
   "metadata": {},
   "outputs": [
    {
     "name": "stdout",
     "output_type": "stream",
     "text": [
      "[ 1950.  1951.  1952.  1953.  1954.  1955.  1956.  1957.  1958.  1959.\n",
      "  1960.  1961.  1962.  1963.  1964.  1965.  1966.  1967.  1968.  1969.\n",
      "  1970.  1971.  1972.  1973.  1974.  1975.  1976.  1977.  1978.  1979.\n",
      "  1980.  1981.  1982.  1983.  1984.  1985.  1986.  1987.  1988.  1989.\n",
      "  1990.  1991.  1992.  1993.  1994.  1995.  1996.  1997.  1998.  1999.\n",
      "  2000.  2001.  2002.  2003.  2004.  2005.  2006.  2007.  2008.  2009.\n",
      "  2010.  2011.  2012.  2013.]\n"
     ]
    }
   ],
   "source": [
    "# So lets get just all of the years, which are in the first column\n",
    "# We specify all rows with the colon (:) and the particular row with \n",
    "#  the appropriate element number (0)\n",
    "# naodata[rows,cols]\n",
    "print(nao_data[:,0])"
   ]
  },
  {
   "cell_type": "code",
   "execution_count": 7,
   "metadata": {},
   "outputs": [
    {
     "name": "stdout",
     "output_type": "stream",
     "text": [
      "[ 0.92  0.4  -0.36  0.73 -0.59 -0.06 -1.26 -0.05  0.25  0.85 -1.26 -1.02]\n"
     ]
    }
   ],
   "source": [
    "# What if we wanted all of the nao values for the first year?\n",
    "# Put in the proper array call below to get just the 1950 data.\n",
    "# nao_data[rows,cols]\n",
    "print(nao_data[0,1:])"
   ]
  },
  {
   "cell_type": "markdown",
   "metadata": {},
   "source": [
    "## Array range operation\n",
    "We can also specify a range of values to use, instead of all or just a single element. However, we must note the Python behavior for this action (which we already saw in a previous lecture with the range function. To summarize:\n",
    "\n",
    "<span style=\"font-family:Courier\">\n",
    "[0:2] is 0, 1    ->  mathematically we would write the set of numbers as [0,2) <br>\n",
    "[0:3] is 0, 1, 2 ->  mathematically we would write the set of numbers as [0,3) <br>\n",
    "[1:4] is 1, 2, 3 ->  mathematically we would write the set of numbers as [1,4) <br>\n",
    "</span>\n",
    "\n",
    "This can be used in one or both (or for however many elements) that the array contains.\n",
    "\n",
    "So lets construct an array call that looks for the months June, July, and August for 1960 - 1980"
   ]
  },
  {
   "cell_type": "code",
   "execution_count": 8,
   "metadata": {},
   "outputs": [
    {
     "name": "stdout",
     "output_type": "stream",
     "text": [
      "[[ 0.92  0.4  -0.36  0.73 -0.59 -0.06 -1.26 -0.05  0.25  0.85 -1.26 -1.02]\n",
      " [ 0.08  0.7  -1.02 -0.22 -0.59 -1.64  1.37 -0.22 -1.36  1.87 -0.39  1.32]\n",
      " [ 0.93 -0.83 -1.49  1.01 -1.12 -0.4  -0.09 -0.28 -0.54 -0.73 -1.13 -0.43]\n",
      " [ 0.33 -0.49 -0.04 -1.67 -0.66  1.09  0.4  -0.71 -0.35  1.32  1.04 -0.47]\n",
      " [ 0.37  0.74 -0.83  1.34 -0.09 -0.25 -0.6  -1.9  -0.44  0.6   0.4   0.69]\n",
      " [-1.84 -1.12 -0.53 -0.42 -0.34 -1.1   1.76  1.07  0.32 -1.47 -1.29  0.17]\n",
      " [-0.22 -1.12 -0.05 -1.06  2.21  0.1  -0.75 -1.37  0.24  0.88  0.51  0.1 ]\n",
      " [ 1.05  0.11 -1.26  0.49 -0.79 -0.72 -1.19 -0.55 -1.66  1.32  0.73  0.12]\n",
      " [-0.54 -1.06 -1.96  0.37 -0.24 -1.38 -1.73 -1.56 -0.07  0.16  1.64 -0.7 ]\n",
      " [-0.87  0.68 -0.15  0.36  0.39  0.4   0.74  0.06  0.88  0.89  0.41  0.44]]\n"
     ]
    }
   ],
   "source": [
    "# This example extracts 1950 - 1959 for all months\n",
    "print(nao_data[0:10,1:])\n",
    "# Note: Not putting a number before or after the colon will result \n",
    "#       in using the first or last values in the dataset, respectively."
   ]
  },
  {
   "cell_type": "markdown",
   "metadata": {
    "collapsed": true
   },
   "source": [
    "## Common Functions in numpy\n",
    "Do you every compute averages? sums? max? min?\n",
    "\n",
    "Numpy can help!\n",
    "\n",
    "Mathematical Functions: http://docs.scipy.org/doc/numpy/reference/routines.math.html <br>\n",
    "\n",
    "Statistical Functions: http://docs.scipy.org/doc/numpy/reference/routines.statistics.html <br>"
   ]
  },
  {
   "cell_type": "code",
   "execution_count": 9,
   "metadata": {},
   "outputs": [
    {
     "name": "stdout",
     "output_type": "stream",
     "text": [
      "0.0625\n"
     ]
    }
   ],
   "source": [
    "# Let's compute the average value of NAO for the month of January.\n",
    "# January is index value 1 (column 2)\n",
    "jan_data = nao_data[:,1]\n",
    "jan_mean = np.mean(jan_data)\n",
    "print(jan_mean)"
   ]
  },
  {
   "cell_type": "code",
   "execution_count": 10,
   "metadata": {},
   "outputs": [
    {
     "name": "stdout",
     "output_type": "stream",
     "text": [
      "3.04\n"
     ]
    }
   ],
   "source": [
    "# Now let's compute the max NAO value in the dataset\n",
    "# NOTE: we want to exclude the year, so we want to ignore the \n",
    "#       first column and begin with index value 1 (for column 2)\n",
    "nao_values = nao_data[:,1:13]\n",
    "max_nao_value = np.max(nao_values)\n",
    "print(max_nao_value)"
   ]
  },
  {
   "cell_type": "code",
   "execution_count": 11,
   "metadata": {},
   "outputs": [
    {
     "name": "stdout",
     "output_type": "stream",
     "text": [
      "28\n",
      "11\n"
     ]
    }
   ],
   "source": [
    "# So now we have a value, but when did this occur?\n",
    "row,col = np.where(nao_data == 3.04)\n",
    "print(row[0])\n",
    "print(col[0])"
   ]
  },
  {
   "cell_type": "code",
   "execution_count": 12,
   "metadata": {},
   "outputs": [
    {
     "name": "stdout",
     "output_type": "stream",
     "text": [
      "1978.0\n",
      "3.04\n"
     ]
    }
   ],
   "source": [
    "# So an NAO value of 3.04 occured in Nov. 1978 as row 28 == 1978 \n",
    "#   and column 11 refers to Nov.\n",
    "print(nao_data[row[0],0])\n",
    "print(nao_data[row[0],col[0]])"
   ]
  },
  {
   "cell_type": "code",
   "execution_count": 13,
   "metadata": {},
   "outputs": [
    {
     "name": "stdout",
     "output_type": "stream",
     "text": [
      "-3.18\n",
      "(array([43]), array([7]))\n"
     ]
    }
   ],
   "source": [
    "# Find the minimum that occurs between 1990 - 2010 and where it occurs\n",
    "min_nao_value = np.min(nao_values[40:50,:])\n",
    "print(min_nao_value)\n",
    "print(np.where(nao_data == min_nao_value))"
   ]
  },
  {
   "cell_type": "markdown",
   "metadata": {},
   "source": [
    "### Find a minimum (or maximum) with missing values\n",
    "This is not a trival problem. If you missing value is -999 or +999, the max and min function will find those values, even though that is not what you were intending. What needs to happen is to remove those values and leave a blank (or masked value)\n",
    "\n",
    "The numpy function for a masked array is\n",
    "```python\n",
    "np.ma.masked_array\n",
    "```\n",
    "See the cell below to see how this works for the NAO data, where we need to remove the -9.99 values with blanks. Note: The blanks appear as dashes when printed out."
   ]
  },
  {
   "cell_type": "code",
   "execution_count": 14,
   "metadata": {},
   "outputs": [
    {
     "name": "stdout",
     "output_type": "stream",
     "text": [
      "[ 0.35 -0.45 -1.61  0.69  0.57  0.52  0.67  0.97  0.24 -9.99 -9.99 -9.99]\n",
      "[0.35 -0.45 -1.61 0.69 0.57 0.52 0.67 0.97 0.24 -- -- --]\n"
     ]
    }
   ],
   "source": [
    "# Find the minimum to occur in the NAO dataset that is not a -9.99\n",
    "# This is not as trivial as the previous problem, you'll need a \n",
    "#  masked array to accomplish this task\n",
    "\n",
    "# What is a masked array?\n",
    "print(nao_values[63,:])\n",
    "ma_nao = np.ma.masked_array(nao_values, mask=(nao_values==-9.99))\n",
    "print(ma_nao[63,:])"
   ]
  },
  {
   "cell_type": "code",
   "execution_count": 15,
   "metadata": {},
   "outputs": [
    {
     "name": "stdout",
     "output_type": "stream",
     "text": [
      "-9.99\n"
     ]
    }
   ],
   "source": [
    "print(np.min(nao_values[63,:]))"
   ]
  },
  {
   "cell_type": "code",
   "execution_count": 16,
   "metadata": {},
   "outputs": [
    {
     "name": "stdout",
     "output_type": "stream",
     "text": [
      "-1.61\n"
     ]
    }
   ],
   "source": [
    "print(np.min(ma_nao[63,:]))"
   ]
  }
 ],
 "metadata": {
  "anaconda-cloud": {},
  "kernelspec": {
   "display_name": "Python [conda env:py35]",
   "language": "python",
   "name": "conda-env-py35-py"
  },
  "language_info": {
   "codemirror_mode": {
    "name": "ipython",
    "version": 3
   },
   "file_extension": ".py",
   "mimetype": "text/x-python",
   "name": "python",
   "nbconvert_exporter": "python",
   "pygments_lexer": "ipython3",
   "version": "3.5.3"
  }
 },
 "nbformat": 4,
 "nbformat_minor": 1
}
