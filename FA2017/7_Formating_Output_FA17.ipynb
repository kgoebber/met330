{
 "cells": [
  {
   "cell_type": "markdown",
   "metadata": {},
   "source": [
    "# Formatted Output\n",
    "\n",
    "Formatted output is essential to making readable output that can be easily read by an end-user. There are a number of different ways to format output to the screen using print statements. There are other methods for writing output to a file, which we will leave to a later time."
   ]
  },
  {
   "cell_type": "code",
   "execution_count": null,
   "metadata": {},
   "outputs": [],
   "source": [
    "import numpy as np"
   ]
  },
  {
   "cell_type": "markdown",
   "metadata": {},
   "source": [
    "## Specifying Format\n",
    "\n",
    "Similar to Fortran we can specify different types of formats (strings, integers, floating points), but the syntax is a bit different. Let's start with a simple example of printing out the twelve months on one line"
   ]
  },
  {
   "cell_type": "code",
   "execution_count": null,
   "metadata": {},
   "outputs": [],
   "source": [
    "print('0       1         2         3         4         5         6')\n",
    "print('12345679012345678901234567890123456789012345678901234567890')\n",
    "print('-----------------------------------------------------------')\n",
    "print(' Jan  Feb  Mar  Apr  May  Jun  Jul  Aug  Sep  Oct  Nov  Dec')"
   ]
  },
  {
   "cell_type": "markdown",
   "metadata": {},
   "source": [
    "Each space and character length is the same, so you can literally control the formatting by how you type your print function.\n",
    "\n",
    "However, when you are wanting to print out numbers, we will likely want to print directly from arrays and use formats to help us print it exactly as we want the end-user to view it. There is great additional information at the following link if you are looking for supplementary material to what is contained in this lecture: http://www.python-course.eu/python3_formatted_output.php."
   ]
  },
  {
   "cell_type": "markdown",
   "metadata": {},
   "source": [
    "## Common Format Characters\n",
    "\n",
    "* %s is for string format\n",
    "\n",
    "* %d is for integer format\n",
    "\n",
    "* %f is for float format\n",
    "\n",
    "We can then modify them, just as in Fortran, by addition the character width before the format identifier\n",
    "\n",
    "* ```'%5.2f'``` would be a floating point number, five spaces of width, with two spaces after the decimal point\n",
    "\n",
    "* ```'%6d'``` would be an integer of six spaces in width\n",
    "\n",
    "We can also add a repetition to the front\n",
    "\n",
    "* ```5*'%5.2f'``` will generate five floating numbers in a row of width five and two after the decimal point\n",
    "\n",
    "Let's see how this would work for the months. I've gone ahead and printed out a couple of other lines to help highlight the width the print statement."
   ]
  },
  {
   "cell_type": "code",
   "execution_count": null,
   "metadata": {},
   "outputs": [],
   "source": [
    "print('0        1         2         3         4         5         6')\n",
    "print('123456789012345678901234567890123456789012345678901234567890')\n",
    "print('------------------------------------------------------------')\n"
   ]
  },
  {
   "cell_type": "markdown",
   "metadata": {},
   "source": [
    "Notice how our five spaces times a total of twelve months gives us a total of 60 spaces.\n",
    "\n",
    "But what if we wanted to plot some numbers with these months, how would we go about accomplishing this task?\n",
    "\n",
    "First read in the data, subset to the portion of the data we want, then use format statements to get the desired result.\n",
    "\n",
    "To begin, lets just start by printing one year worth of data (e.g., 2001)"
   ]
  },
  {
   "cell_type": "code",
   "execution_count": null,
   "metadata": {},
   "outputs": [],
   "source": [
    "nao_data = np.loadtxt('nao.txt', skiprows=1)\n",
    "nao_2001_2010 = nao_data[51:61,1:]\n",
    "years = nao_data[51:61,0]\n"
   ]
  },
  {
   "cell_type": "markdown",
   "metadata": {},
   "source": [
    "Now lets printout multiple years and include the years in our printout."
   ]
  },
  {
   "cell_type": "code",
   "execution_count": null,
   "metadata": {},
   "outputs": [],
   "source": []
  },
  {
   "cell_type": "markdown",
   "metadata": {},
   "source": [
    "We can also break down our array into many different smaller arrays. For example, lets take our nao.txt data, which was previously read in as nao_data and separate each column into a different 1D array. We'll have a total of 13 different arrays one for each month and an additional array for the years.\n",
    "\n",
    "Then we can print each array individually using our format statements."
   ]
  },
  {
   "cell_type": "code",
   "execution_count": null,
   "metadata": {},
   "outputs": [],
   "source": [
    "years = nao_data[:,0]\n",
    "jan_data = nao_data[:,1]\n",
    "feb_data = nao_data[:,2]\n",
    "mar_data = nao_data[:,3]\n",
    "apr_data = nao_data[:,4]\n",
    "may_data = nao_data[:,5]\n",
    "jun_data = nao_data[:,6]\n",
    "jul_data = nao_data[:,7]\n",
    "aug_data = nao_data[:,8]\n",
    "sep_data = nao_data[:,9]\n",
    "oct_data = nao_data[:,10]\n",
    "nov_data = nao_data[:,11]\n",
    "dec_data = nao_data[:,12]\n",
    "\n",
    "print(('%10s'+11*'%7s') % ('Jan','Feb','Mar','Apr','May','Jun',\n",
    "                           'Jul','Aug','Sep','Oct','Nov','Dec'))\n",
    "for j in range(64):\n",
    "    print('%4d %6.2f %6.2f %6.2f %6.2f %6.2f %6.2f %6.2f %6.2f %6.2f %6.2f %6.2f %6.2f' \n",
    "          % (years[j],jan_data[j],feb_data[j],mar_data[j],\n",
    "                      apr_data[j],may_data[j],jun_data[j],\n",
    "                      jul_data[j],aug_data[j],sep_data[j],\n",
    "                      oct_data[j],nov_data[j],dec_data[j]))"
   ]
  },
  {
   "cell_type": "code",
   "execution_count": null,
   "metadata": {},
   "outputs": [],
   "source": []
  }
 ],
 "metadata": {
  "anaconda-cloud": {},
  "kernelspec": {
   "display_name": "Python [conda env:py35]",
   "language": "python",
   "name": "conda-env-py35-py"
  },
  "language_info": {
   "codemirror_mode": {
    "name": "ipython",
    "version": 3
   },
   "file_extension": ".py",
   "mimetype": "text/x-python",
   "name": "python",
   "nbconvert_exporter": "python",
   "pygments_lexer": "ipython3",
   "version": "3.5.4"
  }
 },
 "nbformat": 4,
 "nbformat_minor": 1
}
